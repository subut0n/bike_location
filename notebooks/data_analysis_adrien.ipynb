{
 "cells": [
  {
   "cell_type": "markdown",
   "metadata": {},
   "source": [
    "# Analyse du Data set : Bike Sharing Demand"
   ]
  },
  {
   "cell_type": "code",
   "execution_count": 1,
   "metadata": {},
   "outputs": [],
   "source": [
    "import pandas as pd \n",
    "import numpy as np\n",
    "import seaborn as sns\n",
    "import matplotlib.pyplot as plt\n",
    "import plotly.express as px"
   ]
  },
  {
   "cell_type": "code",
   "execution_count": 2,
   "metadata": {},
   "outputs": [],
   "source": [
    "df = pd.read_csv('../csv/train.csv')"
   ]
  },
  {
   "cell_type": "markdown",
   "metadata": {},
   "source": [
    "**datetime** - hourly date + timestamp  \n",
    "\n",
    "**season** -  1 = spring, 2 = summer, 3 = fall, 4 = winter \n",
    "\n",
    "**holiday** - whether the day is considered a holiday\n",
    "\n",
    "**workingday** - whether the day is neither a weekend nor holiday\n",
    "\n",
    "**weather** - 1: Clear, Few clouds, Partly cloudy, Partly cloudy\n",
    "\n",
    "2: Mist + Cloudy, Mist + Broken clouds, Mist + Few clouds, Mist\n",
    "\n",
    "3: Light Snow, Light Rain + Thunderstorm + Scattered clouds, Light Rain + Scattered clouds\n",
    "\n",
    "4: Heavy Rain + Ice Pallets + Thunderstorm + Mist, Snow + Fog \n",
    "\n",
    "**temp** - temperature in Celsius\n",
    "\n",
    "**atemp** - \"feels like\" temperature in Celsius\n",
    "\n",
    "**humidity** - relative humidity\n",
    "\n",
    "**windspeed** - wind speed\n",
    "\n",
    "**casual** - number of non-registered user rentals initiated\n",
    "\n",
    "**registered** - number of registered user rentals initiated\n",
    "\n",
    "**count** - number of total rentals"
   ]
  },
  {
   "cell_type": "code",
   "execution_count": 3,
   "metadata": {},
   "outputs": [
    {
     "data": {
      "text/html": [
       "<div>\n",
       "<style scoped>\n",
       "    .dataframe tbody tr th:only-of-type {\n",
       "        vertical-align: middle;\n",
       "    }\n",
       "\n",
       "    .dataframe tbody tr th {\n",
       "        vertical-align: top;\n",
       "    }\n",
       "\n",
       "    .dataframe thead th {\n",
       "        text-align: right;\n",
       "    }\n",
       "</style>\n",
       "<table border=\"1\" class=\"dataframe\">\n",
       "  <thead>\n",
       "    <tr style=\"text-align: right;\">\n",
       "      <th></th>\n",
       "      <th>datetime</th>\n",
       "      <th>season</th>\n",
       "      <th>holiday</th>\n",
       "      <th>workingday</th>\n",
       "      <th>weather</th>\n",
       "      <th>temp</th>\n",
       "      <th>atemp</th>\n",
       "      <th>humidity</th>\n",
       "      <th>windspeed</th>\n",
       "      <th>casual</th>\n",
       "      <th>registered</th>\n",
       "      <th>count</th>\n",
       "    </tr>\n",
       "  </thead>\n",
       "  <tbody>\n",
       "    <tr>\n",
       "      <th>0</th>\n",
       "      <td>2011-01-01 00:00:00</td>\n",
       "      <td>1</td>\n",
       "      <td>0</td>\n",
       "      <td>0</td>\n",
       "      <td>1</td>\n",
       "      <td>9.84</td>\n",
       "      <td>14.395</td>\n",
       "      <td>81</td>\n",
       "      <td>0.0</td>\n",
       "      <td>3</td>\n",
       "      <td>13</td>\n",
       "      <td>16</td>\n",
       "    </tr>\n",
       "    <tr>\n",
       "      <th>1</th>\n",
       "      <td>2011-01-01 01:00:00</td>\n",
       "      <td>1</td>\n",
       "      <td>0</td>\n",
       "      <td>0</td>\n",
       "      <td>1</td>\n",
       "      <td>9.02</td>\n",
       "      <td>13.635</td>\n",
       "      <td>80</td>\n",
       "      <td>0.0</td>\n",
       "      <td>8</td>\n",
       "      <td>32</td>\n",
       "      <td>40</td>\n",
       "    </tr>\n",
       "    <tr>\n",
       "      <th>2</th>\n",
       "      <td>2011-01-01 02:00:00</td>\n",
       "      <td>1</td>\n",
       "      <td>0</td>\n",
       "      <td>0</td>\n",
       "      <td>1</td>\n",
       "      <td>9.02</td>\n",
       "      <td>13.635</td>\n",
       "      <td>80</td>\n",
       "      <td>0.0</td>\n",
       "      <td>5</td>\n",
       "      <td>27</td>\n",
       "      <td>32</td>\n",
       "    </tr>\n",
       "    <tr>\n",
       "      <th>3</th>\n",
       "      <td>2011-01-01 03:00:00</td>\n",
       "      <td>1</td>\n",
       "      <td>0</td>\n",
       "      <td>0</td>\n",
       "      <td>1</td>\n",
       "      <td>9.84</td>\n",
       "      <td>14.395</td>\n",
       "      <td>75</td>\n",
       "      <td>0.0</td>\n",
       "      <td>3</td>\n",
       "      <td>10</td>\n",
       "      <td>13</td>\n",
       "    </tr>\n",
       "    <tr>\n",
       "      <th>4</th>\n",
       "      <td>2011-01-01 04:00:00</td>\n",
       "      <td>1</td>\n",
       "      <td>0</td>\n",
       "      <td>0</td>\n",
       "      <td>1</td>\n",
       "      <td>9.84</td>\n",
       "      <td>14.395</td>\n",
       "      <td>75</td>\n",
       "      <td>0.0</td>\n",
       "      <td>0</td>\n",
       "      <td>1</td>\n",
       "      <td>1</td>\n",
       "    </tr>\n",
       "  </tbody>\n",
       "</table>\n",
       "</div>"
      ],
      "text/plain": [
       "              datetime  season  holiday  workingday  weather  temp   atemp  \\\n",
       "0  2011-01-01 00:00:00       1        0           0        1  9.84  14.395   \n",
       "1  2011-01-01 01:00:00       1        0           0        1  9.02  13.635   \n",
       "2  2011-01-01 02:00:00       1        0           0        1  9.02  13.635   \n",
       "3  2011-01-01 03:00:00       1        0           0        1  9.84  14.395   \n",
       "4  2011-01-01 04:00:00       1        0           0        1  9.84  14.395   \n",
       "\n",
       "   humidity  windspeed  casual  registered  count  \n",
       "0        81        0.0       3          13     16  \n",
       "1        80        0.0       8          32     40  \n",
       "2        80        0.0       5          27     32  \n",
       "3        75        0.0       3          10     13  \n",
       "4        75        0.0       0           1      1  "
      ]
     },
     "execution_count": 3,
     "metadata": {},
     "output_type": "execute_result"
    }
   ],
   "source": [
    "df.head()"
   ]
  },
  {
   "cell_type": "code",
   "execution_count": 4,
   "metadata": {},
   "outputs": [
    {
     "data": {
      "text/html": [
       "<div>\n",
       "<style scoped>\n",
       "    .dataframe tbody tr th:only-of-type {\n",
       "        vertical-align: middle;\n",
       "    }\n",
       "\n",
       "    .dataframe tbody tr th {\n",
       "        vertical-align: top;\n",
       "    }\n",
       "\n",
       "    .dataframe thead th {\n",
       "        text-align: right;\n",
       "    }\n",
       "</style>\n",
       "<table border=\"1\" class=\"dataframe\">\n",
       "  <thead>\n",
       "    <tr style=\"text-align: right;\">\n",
       "      <th></th>\n",
       "      <th>season</th>\n",
       "      <th>holiday</th>\n",
       "      <th>workingday</th>\n",
       "      <th>weather</th>\n",
       "      <th>temp</th>\n",
       "      <th>atemp</th>\n",
       "      <th>humidity</th>\n",
       "      <th>windspeed</th>\n",
       "      <th>casual</th>\n",
       "      <th>registered</th>\n",
       "      <th>count</th>\n",
       "    </tr>\n",
       "  </thead>\n",
       "  <tbody>\n",
       "    <tr>\n",
       "      <th>count</th>\n",
       "      <td>10886.000000</td>\n",
       "      <td>10886.000000</td>\n",
       "      <td>10886.000000</td>\n",
       "      <td>10886.000000</td>\n",
       "      <td>10886.00000</td>\n",
       "      <td>10886.000000</td>\n",
       "      <td>10886.000000</td>\n",
       "      <td>10886.000000</td>\n",
       "      <td>10886.000000</td>\n",
       "      <td>10886.000000</td>\n",
       "      <td>10886.000000</td>\n",
       "    </tr>\n",
       "    <tr>\n",
       "      <th>mean</th>\n",
       "      <td>2.506614</td>\n",
       "      <td>0.028569</td>\n",
       "      <td>0.680875</td>\n",
       "      <td>1.418427</td>\n",
       "      <td>20.23086</td>\n",
       "      <td>23.655084</td>\n",
       "      <td>61.886460</td>\n",
       "      <td>12.799395</td>\n",
       "      <td>36.021955</td>\n",
       "      <td>155.552177</td>\n",
       "      <td>191.574132</td>\n",
       "    </tr>\n",
       "    <tr>\n",
       "      <th>std</th>\n",
       "      <td>1.116174</td>\n",
       "      <td>0.166599</td>\n",
       "      <td>0.466159</td>\n",
       "      <td>0.633839</td>\n",
       "      <td>7.79159</td>\n",
       "      <td>8.474601</td>\n",
       "      <td>19.245033</td>\n",
       "      <td>8.164537</td>\n",
       "      <td>49.960477</td>\n",
       "      <td>151.039033</td>\n",
       "      <td>181.144454</td>\n",
       "    </tr>\n",
       "    <tr>\n",
       "      <th>min</th>\n",
       "      <td>1.000000</td>\n",
       "      <td>0.000000</td>\n",
       "      <td>0.000000</td>\n",
       "      <td>1.000000</td>\n",
       "      <td>0.82000</td>\n",
       "      <td>0.760000</td>\n",
       "      <td>0.000000</td>\n",
       "      <td>0.000000</td>\n",
       "      <td>0.000000</td>\n",
       "      <td>0.000000</td>\n",
       "      <td>1.000000</td>\n",
       "    </tr>\n",
       "    <tr>\n",
       "      <th>25%</th>\n",
       "      <td>2.000000</td>\n",
       "      <td>0.000000</td>\n",
       "      <td>0.000000</td>\n",
       "      <td>1.000000</td>\n",
       "      <td>13.94000</td>\n",
       "      <td>16.665000</td>\n",
       "      <td>47.000000</td>\n",
       "      <td>7.001500</td>\n",
       "      <td>4.000000</td>\n",
       "      <td>36.000000</td>\n",
       "      <td>42.000000</td>\n",
       "    </tr>\n",
       "    <tr>\n",
       "      <th>50%</th>\n",
       "      <td>3.000000</td>\n",
       "      <td>0.000000</td>\n",
       "      <td>1.000000</td>\n",
       "      <td>1.000000</td>\n",
       "      <td>20.50000</td>\n",
       "      <td>24.240000</td>\n",
       "      <td>62.000000</td>\n",
       "      <td>12.998000</td>\n",
       "      <td>17.000000</td>\n",
       "      <td>118.000000</td>\n",
       "      <td>145.000000</td>\n",
       "    </tr>\n",
       "    <tr>\n",
       "      <th>75%</th>\n",
       "      <td>4.000000</td>\n",
       "      <td>0.000000</td>\n",
       "      <td>1.000000</td>\n",
       "      <td>2.000000</td>\n",
       "      <td>26.24000</td>\n",
       "      <td>31.060000</td>\n",
       "      <td>77.000000</td>\n",
       "      <td>16.997900</td>\n",
       "      <td>49.000000</td>\n",
       "      <td>222.000000</td>\n",
       "      <td>284.000000</td>\n",
       "    </tr>\n",
       "    <tr>\n",
       "      <th>max</th>\n",
       "      <td>4.000000</td>\n",
       "      <td>1.000000</td>\n",
       "      <td>1.000000</td>\n",
       "      <td>4.000000</td>\n",
       "      <td>41.00000</td>\n",
       "      <td>45.455000</td>\n",
       "      <td>100.000000</td>\n",
       "      <td>56.996900</td>\n",
       "      <td>367.000000</td>\n",
       "      <td>886.000000</td>\n",
       "      <td>977.000000</td>\n",
       "    </tr>\n",
       "  </tbody>\n",
       "</table>\n",
       "</div>"
      ],
      "text/plain": [
       "             season       holiday    workingday       weather         temp  \\\n",
       "count  10886.000000  10886.000000  10886.000000  10886.000000  10886.00000   \n",
       "mean       2.506614      0.028569      0.680875      1.418427     20.23086   \n",
       "std        1.116174      0.166599      0.466159      0.633839      7.79159   \n",
       "min        1.000000      0.000000      0.000000      1.000000      0.82000   \n",
       "25%        2.000000      0.000000      0.000000      1.000000     13.94000   \n",
       "50%        3.000000      0.000000      1.000000      1.000000     20.50000   \n",
       "75%        4.000000      0.000000      1.000000      2.000000     26.24000   \n",
       "max        4.000000      1.000000      1.000000      4.000000     41.00000   \n",
       "\n",
       "              atemp      humidity     windspeed        casual    registered  \\\n",
       "count  10886.000000  10886.000000  10886.000000  10886.000000  10886.000000   \n",
       "mean      23.655084     61.886460     12.799395     36.021955    155.552177   \n",
       "std        8.474601     19.245033      8.164537     49.960477    151.039033   \n",
       "min        0.760000      0.000000      0.000000      0.000000      0.000000   \n",
       "25%       16.665000     47.000000      7.001500      4.000000     36.000000   \n",
       "50%       24.240000     62.000000     12.998000     17.000000    118.000000   \n",
       "75%       31.060000     77.000000     16.997900     49.000000    222.000000   \n",
       "max       45.455000    100.000000     56.996900    367.000000    886.000000   \n",
       "\n",
       "              count  \n",
       "count  10886.000000  \n",
       "mean     191.574132  \n",
       "std      181.144454  \n",
       "min        1.000000  \n",
       "25%       42.000000  \n",
       "50%      145.000000  \n",
       "75%      284.000000  \n",
       "max      977.000000  "
      ]
     },
     "execution_count": 4,
     "metadata": {},
     "output_type": "execute_result"
    }
   ],
   "source": [
    "df.describe()"
   ]
  },
  {
   "cell_type": "code",
   "execution_count": 5,
   "metadata": {},
   "outputs": [
    {
     "data": {
      "text/plain": [
       "(10886, 12)"
      ]
     },
     "execution_count": 5,
     "metadata": {},
     "output_type": "execute_result"
    }
   ],
   "source": [
    "df.shape"
   ]
  },
  {
   "cell_type": "code",
   "execution_count": 6,
   "metadata": {},
   "outputs": [
    {
     "data": {
      "text/plain": [
       "datetime      False\n",
       "season        False\n",
       "holiday       False\n",
       "workingday    False\n",
       "weather       False\n",
       "temp          False\n",
       "atemp         False\n",
       "humidity      False\n",
       "windspeed     False\n",
       "casual        False\n",
       "registered    False\n",
       "count         False\n",
       "dtype: bool"
      ]
     },
     "execution_count": 6,
     "metadata": {},
     "output_type": "execute_result"
    }
   ],
   "source": [
    "df.isna().any()"
   ]
  },
  {
   "cell_type": "code",
   "execution_count": 7,
   "metadata": {},
   "outputs": [
    {
     "name": "stdout",
     "output_type": "stream",
     "text": [
      "<class 'pandas.core.frame.DataFrame'>\n",
      "RangeIndex: 10886 entries, 0 to 10885\n",
      "Data columns (total 12 columns):\n",
      " #   Column      Non-Null Count  Dtype  \n",
      "---  ------      --------------  -----  \n",
      " 0   datetime    10886 non-null  object \n",
      " 1   season      10886 non-null  int64  \n",
      " 2   holiday     10886 non-null  int64  \n",
      " 3   workingday  10886 non-null  int64  \n",
      " 4   weather     10886 non-null  int64  \n",
      " 5   temp        10886 non-null  float64\n",
      " 6   atemp       10886 non-null  float64\n",
      " 7   humidity    10886 non-null  int64  \n",
      " 8   windspeed   10886 non-null  float64\n",
      " 9   casual      10886 non-null  int64  \n",
      " 10  registered  10886 non-null  int64  \n",
      " 11  count       10886 non-null  int64  \n",
      "dtypes: float64(3), int64(8), object(1)\n",
      "memory usage: 1020.7+ KB\n"
     ]
    }
   ],
   "source": [
    "df.info()"
   ]
  },
  {
   "cell_type": "code",
   "execution_count": 8,
   "metadata": {},
   "outputs": [],
   "source": [
    "df['dates'] = pd.to_datetime(df['datetime']).dt.date\n",
    "df['months'] = pd.to_datetime(df['datetime']).dt.month\n",
    "df['hours'] = pd.to_datetime(df['datetime']).dt.hour"
   ]
  },
  {
   "cell_type": "code",
   "execution_count": 9,
   "metadata": {},
   "outputs": [],
   "source": [
    "years= ['2010', '2011', '2012']\n",
    "spring = ['03-21', '06-21']\n",
    "summer = ['06-21', '09-21']\n",
    "fall = ['09-21', '12-21']\n",
    "winter = ['12-21', '03-21']\n",
    "seasons = [spring, summer, fall, winter]\n",
    "for year in years:\n",
    "    compteur = 0\n",
    "    for season in seasons:\n",
    "        compteur += 1\n",
    "        start = year + '-' + season[0]\n",
    "        if season[1] != '03-21':\n",
    "            end = year + '-' + season[1]\n",
    "        else:\n",
    "            end = str(int(year)+1) + '-' + season[1]\n",
    "        df.loc[((df['dates'] >= pd.to_datetime(start)) & (df['dates'] < pd.to_datetime(end))), 'season'] = compteur"
   ]
  },
  {
   "cell_type": "code",
   "execution_count": 10,
   "metadata": {},
   "outputs": [
    {
     "name": "stdout",
     "output_type": "stream",
     "text": [
      "<class 'pandas.core.frame.DataFrame'>\n",
      "RangeIndex: 10886 entries, 0 to 10885\n",
      "Data columns (total 15 columns):\n",
      " #   Column      Non-Null Count  Dtype         \n",
      "---  ------      --------------  -----         \n",
      " 0   datetime    10886 non-null  datetime64[ns]\n",
      " 1   season      10886 non-null  int64         \n",
      " 2   holiday     10886 non-null  int64         \n",
      " 3   workingday  10886 non-null  int64         \n",
      " 4   weather     10886 non-null  int64         \n",
      " 5   temp        10886 non-null  float64       \n",
      " 6   atemp       10886 non-null  float64       \n",
      " 7   humidity    10886 non-null  int64         \n",
      " 8   windspeed   10886 non-null  float64       \n",
      " 9   casual      10886 non-null  int64         \n",
      " 10  registered  10886 non-null  int64         \n",
      " 11  count       10886 non-null  int64         \n",
      " 12  dates       10886 non-null  object        \n",
      " 13  months      10886 non-null  int64         \n",
      " 14  hours       10886 non-null  int64         \n",
      "dtypes: datetime64[ns](1), float64(3), int64(10), object(1)\n",
      "memory usage: 1.2+ MB\n"
     ]
    }
   ],
   "source": [
    "df[\"datetime\"] = pd.to_datetime(df[\"datetime\"], format=\"%Y-%m-%d %H:%M:%S\")\n",
    "df.info()"
   ]
  },
  {
   "cell_type": "code",
   "execution_count": 11,
   "metadata": {},
   "outputs": [],
   "source": [
    "# samedi : 2011-01-01 (= 6)\n",
    "df['days'] = (df['dates'] - df['dates'].min()).dt.days + 6\n",
    "df['week_days'] = df['days'] % 7\n",
    "df[df['week_days'] == 0] = 7\n",
    "df = df.drop('days', axis=1)"
   ]
  },
  {
   "cell_type": "code",
   "execution_count": 12,
   "metadata": {},
   "outputs": [],
   "source": [
    "# Heat index (indice de chaleur) ; en degré celsius\n",
    "c1 = -42.379\n",
    "c2 = 2.04901523\n",
    "c3 = 10.14333127\n",
    "c4 = -0.22475541\n",
    "c5 = -6.83783e-3\n",
    "c6 = -5.481717e-2\n",
    "c7 = 1.22874e-3\n",
    "c8 = 8.5282e-4\n",
    "c9 = -1.99e-6\n",
    "T = 1.8*df['temp']+32\n",
    "R = df['humidity']\n",
    "df['HI'] = c1 + c2*T + c3*R + c4*T*R + c5*pow(T,2) + c6*pow(R,2) + c7*pow(T,2)*R + c8*T*pow(R,2) + c9*pow(T,2)*pow(R,2)\n",
    "# Reconversion de HI en degrés celsius\n",
    "df['HI'] = (df['HI'] - 32)*(5/9)\n",
    "# df.loc[df['temp'] < 14, 'HI'] = df['temp']"
   ]
  },
  {
   "cell_type": "code",
   "execution_count": 13,
   "metadata": {},
   "outputs": [
    {
     "data": {
      "text/plain": [
       "<AxesSubplot:xlabel='atemp', ylabel='temp'>"
      ]
     },
     "execution_count": 13,
     "metadata": {},
     "output_type": "execute_result"
    },
    {
     "data": {
      "image/png": "[encoded data removed]",
      "text/plain": [
       "<Figure size 720x576 with 1 Axes>"
      ]
     },
     "metadata": {
      "needs_background": "light"
     },
     "output_type": "display_data"
    }
   ],
   "source": [
    "plt.figure(figsize=(10,8))\n",
    "sns.scatterplot(x='atemp', y='temp', hue='humidity', data=df)"
   ]
  },
  {
   "cell_type": "code",
   "execution_count": 14,
   "metadata": {},
   "outputs": [],
   "source": [
    "# des données aberrantes à supprimer\n",
    "df = df[~((df['temp'] > 20) & (df['atemp'] < 18))]"
   ]
  },
  {
   "cell_type": "code",
   "execution_count": 15,
   "metadata": {},
   "outputs": [
    {
     "data": {
      "image/png": "[encoded data removed]",
      "text/plain": [
       "<Figure size 2160x1440 with 16 Axes>"
      ]
     },
     "metadata": {
      "needs_background": "light"
     },
     "output_type": "display_data"
    }
   ],
   "source": [
    "df.hist(figsize=(30,20))\n",
    "plt.show()"
   ]
  },
  {
   "cell_type": "code",
   "execution_count": 16,
   "metadata": {},
   "outputs": [
    {
     "data": {
      "image/png": "[encoded data removed]",
      "text/plain": [
       "<Figure size 1440x720 with 2 Axes>"
      ]
     },
     "metadata": {
      "needs_background": "light"
     },
     "output_type": "display_data"
    }
   ],
   "source": [
    "plt.figure(figsize=(20,10))\n",
    "sns.heatmap(np.abs(df.corr()[['count']].sort_values('count', ascending=False)), annot=True)\n",
    "plt.show()"
   ]
  },
  {
   "cell_type": "code",
   "execution_count": 17,
   "metadata": {},
   "outputs": [
    {
     "data": {
      "text/plain": [
       "Text(0, 0.5, 'count')"
      ]
     },
     "execution_count": 17,
     "metadata": {},
     "output_type": "execute_result"
    },
    {
     "data": {
      "image/png": "[encoded data removed]",
      "text/plain": [
       "<Figure size 1440x720 with 1 Axes>"
      ]
     },
     "metadata": {
      "needs_background": "light"
     },
     "output_type": "display_data"
    }
   ],
   "source": [
    "df.groupby('temp').mean()['count'].plot.bar(figsize=(20,10))\n",
    "plt.title(\"Relation entre la temperature et le nombre d'utilisation\")\n",
    "plt.ylabel(\"count\")"
   ]
  },
  {
   "cell_type": "code",
   "execution_count": 18,
   "metadata": {},
   "outputs": [
    {
     "data": {
      "text/plain": [
       "Text(0, 0.5, 'count')"
      ]
     },
     "execution_count": 18,
     "metadata": {},
     "output_type": "execute_result"
    },
    {
     "data": {
      "image/png": "[encoded data removed]",
      "text/plain": [
       "<Figure size 1440x720 with 1 Axes>"
      ]
     },
     "metadata": {
      "needs_background": "light"
     },
     "output_type": "display_data"
    }
   ],
   "source": [
    "df.groupby('atemp').mean()['count'].plot.bar(figsize=(20,10))\n",
    "plt.title(\"Relation entre la temperature ressentie et le nombre d'utilisation\")\n",
    "plt.ylabel(\"count\")"
   ]
  },
  {
   "cell_type": "code",
   "execution_count": 19,
   "metadata": {},
   "outputs": [
    {
     "data": {
      "text/plain": [
       "Text(0, 0.5, 'count')"
      ]
     },
     "execution_count": 19,
     "metadata": {},
     "output_type": "execute_result"
    },
    {
     "data": {
      "image/png": "[encoded data removed]",
      "text/plain": [
       "<Figure size 1440x720 with 1 Axes>"
      ]
     },
     "metadata": {
      "needs_background": "light"
     },
     "output_type": "display_data"
    }
   ],
   "source": [
    "df.groupby('humidity').mean()['count'].plot.bar(figsize=(20,10))\n",
    "plt.title(\"Relation entre la taux d'humidite et le nombre d'utilisation\")\n",
    "plt.ylabel(\"count\")"
   ]
  },
  {
   "cell_type": "code",
   "execution_count": 20,
   "metadata": {},
   "outputs": [
    {
     "data": {
      "text/plain": [
       "Text(0, 0.5, 'count')"
      ]
     },
     "execution_count": 20,
     "metadata": {},
     "output_type": "execute_result"
    },
    {
     "data": {
      "image/png": "[encoded data removed]",
      "text/plain": [
       "<Figure size 1440x720 with 1 Axes>"
      ]
     },
     "metadata": {
      "needs_background": "light"
     },
     "output_type": "display_data"
    }
   ],
   "source": [
    "df.groupby('weather').mean()['count'].plot.bar(figsize=(20,10))\n",
    "plt.title(\"Relation entre la temps et le nombre d'utilisation\")\n",
    "plt.ylabel(\"count\")"
   ]
  },
  {
   "cell_type": "code",
   "execution_count": 21,
   "metadata": {},
   "outputs": [
    {
     "data": {
      "text/plain": [
       "Text(0, 0.5, 'count')"
      ]
     },
     "execution_count": 21,
     "metadata": {},
     "output_type": "execute_result"
    },
    {
     "data": {
      "image/png": "[encoded data removed]",
      "text/plain": [
       "<Figure size 1440x720 with 1 Axes>"
      ]
     },
     "metadata": {
      "needs_background": "light"
     },
     "output_type": "display_data"
    }
   ],
   "source": [
    "df.groupby('hours').mean()['count'].plot.bar(figsize=(20,10))\n",
    "plt.title(\"Relation entre l'heure et le nombre d'utilisation\")\n",
    "plt.ylabel(\"count\")"
   ]
  },
  {
   "cell_type": "code",
   "execution_count": 22,
   "metadata": {},
   "outputs": [
    {
     "data": {
      "text/plain": [
       "Text(0, 0.5, 'count')"
      ]
     },
     "execution_count": 22,
     "metadata": {},
     "output_type": "execute_result"
    },
    {
     "data": {
      "image/png": "[encoded data removed]",
      "text/plain": [
       "<Figure size 1440x720 with 1 Axes>"
      ]
     },
     "metadata": {
      "needs_background": "light"
     },
     "output_type": "display_data"
    }
   ],
   "source": [
    "df.groupby('hours').mean()['casual'].plot.bar(figsize=(20,10))\n",
    "plt.title(\"Relation entre l'heure et le nombre d'utilisation des casuals\")\n",
    "plt.ylabel(\"count\")"
   ]
  },
  {
   "cell_type": "code",
   "execution_count": 23,
   "metadata": {},
   "outputs": [
    {
     "data": {
      "text/plain": [
       "Text(0, 0.5, 'count')"
      ]
     },
     "execution_count": 23,
     "metadata": {},
     "output_type": "execute_result"
    },
    {
     "data": {
      "image/png": "[encoded data removed]",
      "text/plain": [
       "<Figure size 1440x720 with 1 Axes>"
      ]
     },
     "metadata": {
      "needs_background": "light"
     },
     "output_type": "display_data"
    }
   ],
   "source": [
    "df.groupby('hours').mean()['registered'].plot.bar(figsize=(20,10))\n",
    "plt.title(\"Relation entre l'heure et le nombre d'utilisation des abonnes\")\n",
    "plt.ylabel(\"count\")"
   ]
  },
  {
   "cell_type": "code",
   "execution_count": 24,
   "metadata": {},
   "outputs": [
    {
     "data": {
      "text/plain": [
       "Text(0, 0.5, 'count')"
      ]
     },
     "execution_count": 24,
     "metadata": {},
     "output_type": "execute_result"
    },
    {
     "data": {
      "image/png": "[encoded data removed]",
      "text/plain": [
       "<Figure size 1440x720 with 1 Axes>"
      ]
     },
     "metadata": {
      "needs_background": "light"
     },
     "output_type": "display_data"
    }
   ],
   "source": [
    "df.groupby('windspeed').mean()['casual'].plot.bar(figsize=(20,10))\n",
    "plt.title(\"Relation entre l'heure' et le nombre d'utilisation\")\n",
    "plt.ylabel(\"count\")"
   ]
  },
  {
   "cell_type": "code",
   "execution_count": 25,
   "metadata": {},
   "outputs": [
    {
     "data": {
      "text/plain": [
       "Text(0, 0.5, 'count')"
      ]
     },
     "execution_count": 25,
     "metadata": {},
     "output_type": "execute_result"
    },
    {
     "data": {
      "image/png": "[encoded data removed]",
      "text/plain": [
       "<Figure size 1440x720 with 1 Axes>"
      ]
     },
     "metadata": {
      "needs_background": "light"
     },
     "output_type": "display_data"
    }
   ],
   "source": [
    "df.groupby('windspeed').mean()['registered'].plot.bar(figsize=(20,10))\n",
    "plt.title(\"Relation entre l'heure' et le nombre d'utilisation\")\n",
    "plt.ylabel(\"count\")"
   ]
  },
  {
   "cell_type": "code",
   "execution_count": 26,
   "metadata": {},
   "outputs": [],
   "source": [
    "df = df.drop('datetime', axis=1)"
   ]
  },
  {
   "cell_type": "markdown",
   "metadata": {},
   "source": [
    "## Modele test"
   ]
  },
  {
   "cell_type": "code",
   "execution_count": 27,
   "metadata": {},
   "outputs": [],
   "source": [
    "from sklearn.preprocessing import StandardScaler, RobustScaler, MinMaxScaler, PolynomialFeatures, OneHotEncoder, LabelEncoder\n",
    "from sklearn.pipeline import make_pipeline\n",
    "from sklearn.compose import make_column_transformer\n",
    "from sklearn.linear_model import LinearRegression\n",
    "from sklearn.ensemble import RandomForestRegressor\n",
    "from sklearn.svm import SVR\n",
    "from sklearn.model_selection import train_test_split, cross_val_score\n",
    "from sklearn.metrics import r2_score, mean_squared_error"
   ]
  },
  {
   "cell_type": "code",
   "execution_count": 28,
   "metadata": {},
   "outputs": [
    {
     "data": {
      "text/html": [
       "<div>\n",
       "<style scoped>\n",
       "    .dataframe tbody tr th:only-of-type {\n",
       "        vertical-align: middle;\n",
       "    }\n",
       "\n",
       "    .dataframe tbody tr th {\n",
       "        vertical-align: top;\n",
       "    }\n",
       "\n",
       "    .dataframe thead th {\n",
       "        text-align: right;\n",
       "    }\n",
       "</style>\n",
       "<table border=\"1\" class=\"dataframe\">\n",
       "  <thead>\n",
       "    <tr style=\"text-align: right;\">\n",
       "      <th></th>\n",
       "      <th>season</th>\n",
       "      <th>holiday</th>\n",
       "      <th>workingday</th>\n",
       "      <th>weather</th>\n",
       "      <th>temp</th>\n",
       "      <th>atemp</th>\n",
       "      <th>humidity</th>\n",
       "      <th>windspeed</th>\n",
       "      <th>months</th>\n",
       "      <th>hours</th>\n",
       "      <th>week_days</th>\n",
       "      <th>HI</th>\n",
       "    </tr>\n",
       "  </thead>\n",
       "  <tbody>\n",
       "    <tr>\n",
       "      <th>0</th>\n",
       "      <td>4</td>\n",
       "      <td>0</td>\n",
       "      <td>0</td>\n",
       "      <td>1</td>\n",
       "      <td>9.84</td>\n",
       "      <td>14.395</td>\n",
       "      <td>81</td>\n",
       "      <td>0.0000</td>\n",
       "      <td>1</td>\n",
       "      <td>0</td>\n",
       "      <td>6</td>\n",
       "      <td>32.985168</td>\n",
       "    </tr>\n",
       "    <tr>\n",
       "      <th>1</th>\n",
       "      <td>4</td>\n",
       "      <td>0</td>\n",
       "      <td>0</td>\n",
       "      <td>1</td>\n",
       "      <td>9.02</td>\n",
       "      <td>13.635</td>\n",
       "      <td>80</td>\n",
       "      <td>0.0000</td>\n",
       "      <td>1</td>\n",
       "      <td>1</td>\n",
       "      <td>6</td>\n",
       "      <td>35.686332</td>\n",
       "    </tr>\n",
       "    <tr>\n",
       "      <th>2</th>\n",
       "      <td>4</td>\n",
       "      <td>0</td>\n",
       "      <td>0</td>\n",
       "      <td>1</td>\n",
       "      <td>9.02</td>\n",
       "      <td>13.635</td>\n",
       "      <td>80</td>\n",
       "      <td>0.0000</td>\n",
       "      <td>1</td>\n",
       "      <td>2</td>\n",
       "      <td>6</td>\n",
       "      <td>35.686332</td>\n",
       "    </tr>\n",
       "    <tr>\n",
       "      <th>3</th>\n",
       "      <td>4</td>\n",
       "      <td>0</td>\n",
       "      <td>0</td>\n",
       "      <td>1</td>\n",
       "      <td>9.84</td>\n",
       "      <td>14.395</td>\n",
       "      <td>75</td>\n",
       "      <td>0.0000</td>\n",
       "      <td>1</td>\n",
       "      <td>3</td>\n",
       "      <td>6</td>\n",
       "      <td>35.312264</td>\n",
       "    </tr>\n",
       "    <tr>\n",
       "      <th>4</th>\n",
       "      <td>4</td>\n",
       "      <td>0</td>\n",
       "      <td>0</td>\n",
       "      <td>1</td>\n",
       "      <td>9.84</td>\n",
       "      <td>14.395</td>\n",
       "      <td>75</td>\n",
       "      <td>0.0000</td>\n",
       "      <td>1</td>\n",
       "      <td>4</td>\n",
       "      <td>6</td>\n",
       "      <td>35.312264</td>\n",
       "    </tr>\n",
       "    <tr>\n",
       "      <th>...</th>\n",
       "      <td>...</td>\n",
       "      <td>...</td>\n",
       "      <td>...</td>\n",
       "      <td>...</td>\n",
       "      <td>...</td>\n",
       "      <td>...</td>\n",
       "      <td>...</td>\n",
       "      <td>...</td>\n",
       "      <td>...</td>\n",
       "      <td>...</td>\n",
       "      <td>...</td>\n",
       "      <td>...</td>\n",
       "    </tr>\n",
       "    <tr>\n",
       "      <th>10881</th>\n",
       "      <td>3</td>\n",
       "      <td>0</td>\n",
       "      <td>1</td>\n",
       "      <td>1</td>\n",
       "      <td>15.58</td>\n",
       "      <td>19.695</td>\n",
       "      <td>50</td>\n",
       "      <td>26.0027</td>\n",
       "      <td>12</td>\n",
       "      <td>19</td>\n",
       "      <td>3</td>\n",
       "      <td>28.300528</td>\n",
       "    </tr>\n",
       "    <tr>\n",
       "      <th>10882</th>\n",
       "      <td>3</td>\n",
       "      <td>0</td>\n",
       "      <td>1</td>\n",
       "      <td>1</td>\n",
       "      <td>14.76</td>\n",
       "      <td>17.425</td>\n",
       "      <td>57</td>\n",
       "      <td>15.0013</td>\n",
       "      <td>12</td>\n",
       "      <td>20</td>\n",
       "      <td>3</td>\n",
       "      <td>29.039963</td>\n",
       "    </tr>\n",
       "    <tr>\n",
       "      <th>10883</th>\n",
       "      <td>3</td>\n",
       "      <td>0</td>\n",
       "      <td>1</td>\n",
       "      <td>1</td>\n",
       "      <td>13.94</td>\n",
       "      <td>15.910</td>\n",
       "      <td>61</td>\n",
       "      <td>15.0013</td>\n",
       "      <td>12</td>\n",
       "      <td>21</td>\n",
       "      <td>3</td>\n",
       "      <td>29.830135</td>\n",
       "    </tr>\n",
       "    <tr>\n",
       "      <th>10884</th>\n",
       "      <td>3</td>\n",
       "      <td>0</td>\n",
       "      <td>1</td>\n",
       "      <td>1</td>\n",
       "      <td>13.94</td>\n",
       "      <td>17.425</td>\n",
       "      <td>61</td>\n",
       "      <td>6.0032</td>\n",
       "      <td>12</td>\n",
       "      <td>22</td>\n",
       "      <td>3</td>\n",
       "      <td>29.830135</td>\n",
       "    </tr>\n",
       "    <tr>\n",
       "      <th>10885</th>\n",
       "      <td>3</td>\n",
       "      <td>0</td>\n",
       "      <td>1</td>\n",
       "      <td>1</td>\n",
       "      <td>13.12</td>\n",
       "      <td>16.665</td>\n",
       "      <td>66</td>\n",
       "      <td>8.9981</td>\n",
       "      <td>12</td>\n",
       "      <td>23</td>\n",
       "      <td>3</td>\n",
       "      <td>30.412929</td>\n",
       "    </tr>\n",
       "  </tbody>\n",
       "</table>\n",
       "<p>10862 rows × 12 columns</p>\n",
       "</div>"
      ],
      "text/plain": [
       "       season  holiday  workingday  weather   temp   atemp  humidity  \\\n",
       "0           4        0           0        1   9.84  14.395        81   \n",
       "1           4        0           0        1   9.02  13.635        80   \n",
       "2           4        0           0        1   9.02  13.635        80   \n",
       "3           4        0           0        1   9.84  14.395        75   \n",
       "4           4        0           0        1   9.84  14.395        75   \n",
       "...       ...      ...         ...      ...    ...     ...       ...   \n",
       "10881       3        0           1        1  15.58  19.695        50   \n",
       "10882       3        0           1        1  14.76  17.425        57   \n",
       "10883       3        0           1        1  13.94  15.910        61   \n",
       "10884       3        0           1        1  13.94  17.425        61   \n",
       "10885       3        0           1        1  13.12  16.665        66   \n",
       "\n",
       "       windspeed  months  hours  week_days         HI  \n",
       "0         0.0000       1      0          6  32.985168  \n",
       "1         0.0000       1      1          6  35.686332  \n",
       "2         0.0000       1      2          6  35.686332  \n",
       "3         0.0000       1      3          6  35.312264  \n",
       "4         0.0000       1      4          6  35.312264  \n",
       "...          ...     ...    ...        ...        ...  \n",
       "10881    26.0027      12     19          3  28.300528  \n",
       "10882    15.0013      12     20          3  29.039963  \n",
       "10883    15.0013      12     21          3  29.830135  \n",
       "10884     6.0032      12     22          3  29.830135  \n",
       "10885     8.9981      12     23          3  30.412929  \n",
       "\n",
       "[10862 rows x 12 columns]"
      ]
     },
     "execution_count": 28,
     "metadata": {},
     "output_type": "execute_result"
    }
   ],
   "source": [
    "#Choix des features pour X et la target y\n",
    "y = df['count']\n",
    "X = df.drop(['count','casual','registered','dates'], axis = 1)\n",
    "\n",
    "#On decoupe notre X et train test avec train_test_split \n",
    "X_train, X_test, y_train, y_test = train_test_split(X, y ,test_size=0.2,random_state=5)\n",
    "#Apercu de X\n",
    "X"
   ]
  },
  {
   "cell_type": "code",
   "execution_count": 29,
   "metadata": {},
   "outputs": [
    {
     "data": {
      "text/plain": [
       "0.8646587861201693"
      ]
     },
     "execution_count": 29,
     "metadata": {},
     "output_type": "execute_result"
    }
   ],
   "source": [
    "#Model: Random Forest\n",
    "forest=RandomForestRegressor(n_estimators=20,\n",
    "                             max_depth=10,\n",
    "                             criterion='mse',\n",
    "                            )\n",
    "\n",
    "#Features et pipelines\n",
    "scaled_features = ['temp', 'atemp', 'humidity', 'windspeed', 'hours', 'HI'] \n",
    "scaled_pipeline = make_pipeline(RobustScaler()) \n",
    "encoded_features = ['season','weather','workingday', 'holiday', 'week_days']\n",
    "encoded_pipeline = make_pipeline(OneHotEncoder())\n",
    "\n",
    "\n",
    "#preprocessing et main pipeline\n",
    "preprocessing = make_column_transformer((scaled_pipeline, scaled_features),(encoded_pipeline, encoded_features))\n",
    "model = make_pipeline(preprocessing, forest)\n",
    "\n",
    "#fit et score\n",
    "model.fit(X_train, y_train)\n",
    "model.score(X_test, y_test)"
   ]
  },
  {
   "cell_type": "code",
   "execution_count": 30,
   "metadata": {},
   "outputs": [
    {
     "data": {
      "text/html": [
       "<div>\n",
       "<style scoped>\n",
       "    .dataframe tbody tr th:only-of-type {\n",
       "        vertical-align: middle;\n",
       "    }\n",
       "\n",
       "    .dataframe tbody tr th {\n",
       "        vertical-align: top;\n",
       "    }\n",
       "\n",
       "    .dataframe thead th {\n",
       "        text-align: right;\n",
       "    }\n",
       "</style>\n",
       "<table border=\"1\" class=\"dataframe\">\n",
       "  <thead>\n",
       "    <tr style=\"text-align: right;\">\n",
       "      <th></th>\n",
       "      <th>season</th>\n",
       "      <th>holiday</th>\n",
       "      <th>workingday</th>\n",
       "      <th>weather</th>\n",
       "      <th>temp</th>\n",
       "      <th>atemp</th>\n",
       "      <th>humidity</th>\n",
       "      <th>windspeed</th>\n",
       "      <th>casual</th>\n",
       "      <th>registered</th>\n",
       "      <th>count</th>\n",
       "      <th>dates</th>\n",
       "      <th>months</th>\n",
       "      <th>hours</th>\n",
       "      <th>week_days</th>\n",
       "      <th>HI</th>\n",
       "    </tr>\n",
       "  </thead>\n",
       "  <tbody>\n",
       "    <tr>\n",
       "      <th>0</th>\n",
       "      <td>4</td>\n",
       "      <td>0</td>\n",
       "      <td>0</td>\n",
       "      <td>1</td>\n",
       "      <td>9.84</td>\n",
       "      <td>14.395</td>\n",
       "      <td>81</td>\n",
       "      <td>0.0</td>\n",
       "      <td>3</td>\n",
       "      <td>13</td>\n",
       "      <td>16</td>\n",
       "      <td>2011-01-01</td>\n",
       "      <td>1</td>\n",
       "      <td>0</td>\n",
       "      <td>6</td>\n",
       "      <td>32.985168</td>\n",
       "    </tr>\n",
       "  </tbody>\n",
       "</table>\n",
       "</div>"
      ],
      "text/plain": [
       "   season  holiday  workingday  weather  temp   atemp  humidity  windspeed  \\\n",
       "0       4        0           0        1  9.84  14.395        81        0.0   \n",
       "\n",
       "   casual  registered  count       dates  months  hours  week_days         HI  \n",
       "0       3          13     16  2011-01-01       1      0          6  32.985168  "
      ]
     },
     "execution_count": 30,
     "metadata": {},
     "output_type": "execute_result"
    }
   ],
   "source": [
    "df.head(1)"
   ]
  },
  {
   "cell_type": "code",
   "execution_count": 31,
   "metadata": {},
   "outputs": [
    {
     "name": "stderr",
     "output_type": "stream",
     "text": [
      "/opt/anaconda3/envs/ML_env0/lib/python3.6/site-packages/pycaret/loggers/mlflow_logger.py:14: FutureWarning:\n",
      "\n",
      "MLflow support for Python 3.6 is deprecated and will be dropped in an upcoming release. At that point, existing Python 3.6 workflows that use MLflow will continue to work without modification, but Python 3.6 users will no longer get access to the latest MLflow features and bugfixes. We recommend that you upgrade to Python 3.7 or newer.\n",
      "\n"
     ]
    }
   ],
   "source": [
    "from pycaret.regression import *"
   ]
  },
  {
   "cell_type": "code",
   "execution_count": 32,
   "metadata": {},
   "outputs": [],
   "source": [
    "df_pycaret = df.drop(['casual','registered', 'dates'], axis=1)"
   ]
  },
  {
   "cell_type": "code",
   "execution_count": 33,
   "metadata": {},
   "outputs": [
    {
     "data": {
      "text/html": [
       "<div>\n",
       "<style scoped>\n",
       "    .dataframe tbody tr th:only-of-type {\n",
       "        vertical-align: middle;\n",
       "    }\n",
       "\n",
       "    .dataframe tbody tr th {\n",
       "        vertical-align: top;\n",
       "    }\n",
       "\n",
       "    .dataframe thead th {\n",
       "        text-align: right;\n",
       "    }\n",
       "</style>\n",
       "<table border=\"1\" class=\"dataframe\">\n",
       "  <thead>\n",
       "    <tr style=\"text-align: right;\">\n",
       "      <th></th>\n",
       "      <th>season</th>\n",
       "      <th>holiday</th>\n",
       "      <th>workingday</th>\n",
       "      <th>weather</th>\n",
       "      <th>temp</th>\n",
       "      <th>atemp</th>\n",
       "      <th>humidity</th>\n",
       "      <th>windspeed</th>\n",
       "      <th>count</th>\n",
       "      <th>months</th>\n",
       "      <th>hours</th>\n",
       "      <th>week_days</th>\n",
       "      <th>HI</th>\n",
       "    </tr>\n",
       "  </thead>\n",
       "  <tbody>\n",
       "    <tr>\n",
       "      <th>0</th>\n",
       "      <td>4</td>\n",
       "      <td>0</td>\n",
       "      <td>0</td>\n",
       "      <td>1</td>\n",
       "      <td>9.84</td>\n",
       "      <td>14.395</td>\n",
       "      <td>81</td>\n",
       "      <td>0.0000</td>\n",
       "      <td>16</td>\n",
       "      <td>1</td>\n",
       "      <td>0</td>\n",
       "      <td>6</td>\n",
       "      <td>32.985168</td>\n",
       "    </tr>\n",
       "    <tr>\n",
       "      <th>1</th>\n",
       "      <td>4</td>\n",
       "      <td>0</td>\n",
       "      <td>0</td>\n",
       "      <td>1</td>\n",
       "      <td>9.02</td>\n",
       "      <td>13.635</td>\n",
       "      <td>80</td>\n",
       "      <td>0.0000</td>\n",
       "      <td>40</td>\n",
       "      <td>1</td>\n",
       "      <td>1</td>\n",
       "      <td>6</td>\n",
       "      <td>35.686332</td>\n",
       "    </tr>\n",
       "    <tr>\n",
       "      <th>2</th>\n",
       "      <td>4</td>\n",
       "      <td>0</td>\n",
       "      <td>0</td>\n",
       "      <td>1</td>\n",
       "      <td>9.02</td>\n",
       "      <td>13.635</td>\n",
       "      <td>80</td>\n",
       "      <td>0.0000</td>\n",
       "      <td>32</td>\n",
       "      <td>1</td>\n",
       "      <td>2</td>\n",
       "      <td>6</td>\n",
       "      <td>35.686332</td>\n",
       "    </tr>\n",
       "    <tr>\n",
       "      <th>3</th>\n",
       "      <td>4</td>\n",
       "      <td>0</td>\n",
       "      <td>0</td>\n",
       "      <td>1</td>\n",
       "      <td>9.84</td>\n",
       "      <td>14.395</td>\n",
       "      <td>75</td>\n",
       "      <td>0.0000</td>\n",
       "      <td>13</td>\n",
       "      <td>1</td>\n",
       "      <td>3</td>\n",
       "      <td>6</td>\n",
       "      <td>35.312264</td>\n",
       "    </tr>\n",
       "    <tr>\n",
       "      <th>4</th>\n",
       "      <td>4</td>\n",
       "      <td>0</td>\n",
       "      <td>0</td>\n",
       "      <td>1</td>\n",
       "      <td>9.84</td>\n",
       "      <td>14.395</td>\n",
       "      <td>75</td>\n",
       "      <td>0.0000</td>\n",
       "      <td>1</td>\n",
       "      <td>1</td>\n",
       "      <td>4</td>\n",
       "      <td>6</td>\n",
       "      <td>35.312264</td>\n",
       "    </tr>\n",
       "    <tr>\n",
       "      <th>...</th>\n",
       "      <td>...</td>\n",
       "      <td>...</td>\n",
       "      <td>...</td>\n",
       "      <td>...</td>\n",
       "      <td>...</td>\n",
       "      <td>...</td>\n",
       "      <td>...</td>\n",
       "      <td>...</td>\n",
       "      <td>...</td>\n",
       "      <td>...</td>\n",
       "      <td>...</td>\n",
       "      <td>...</td>\n",
       "      <td>...</td>\n",
       "    </tr>\n",
       "    <tr>\n",
       "      <th>10881</th>\n",
       "      <td>3</td>\n",
       "      <td>0</td>\n",
       "      <td>1</td>\n",
       "      <td>1</td>\n",
       "      <td>15.58</td>\n",
       "      <td>19.695</td>\n",
       "      <td>50</td>\n",
       "      <td>26.0027</td>\n",
       "      <td>336</td>\n",
       "      <td>12</td>\n",
       "      <td>19</td>\n",
       "      <td>3</td>\n",
       "      <td>28.300528</td>\n",
       "    </tr>\n",
       "    <tr>\n",
       "      <th>10882</th>\n",
       "      <td>3</td>\n",
       "      <td>0</td>\n",
       "      <td>1</td>\n",
       "      <td>1</td>\n",
       "      <td>14.76</td>\n",
       "      <td>17.425</td>\n",
       "      <td>57</td>\n",
       "      <td>15.0013</td>\n",
       "      <td>241</td>\n",
       "      <td>12</td>\n",
       "      <td>20</td>\n",
       "      <td>3</td>\n",
       "      <td>29.039963</td>\n",
       "    </tr>\n",
       "    <tr>\n",
       "      <th>10883</th>\n",
       "      <td>3</td>\n",
       "      <td>0</td>\n",
       "      <td>1</td>\n",
       "      <td>1</td>\n",
       "      <td>13.94</td>\n",
       "      <td>15.910</td>\n",
       "      <td>61</td>\n",
       "      <td>15.0013</td>\n",
       "      <td>168</td>\n",
       "      <td>12</td>\n",
       "      <td>21</td>\n",
       "      <td>3</td>\n",
       "      <td>29.830135</td>\n",
       "    </tr>\n",
       "    <tr>\n",
       "      <th>10884</th>\n",
       "      <td>3</td>\n",
       "      <td>0</td>\n",
       "      <td>1</td>\n",
       "      <td>1</td>\n",
       "      <td>13.94</td>\n",
       "      <td>17.425</td>\n",
       "      <td>61</td>\n",
       "      <td>6.0032</td>\n",
       "      <td>129</td>\n",
       "      <td>12</td>\n",
       "      <td>22</td>\n",
       "      <td>3</td>\n",
       "      <td>29.830135</td>\n",
       "    </tr>\n",
       "    <tr>\n",
       "      <th>10885</th>\n",
       "      <td>3</td>\n",
       "      <td>0</td>\n",
       "      <td>1</td>\n",
       "      <td>1</td>\n",
       "      <td>13.12</td>\n",
       "      <td>16.665</td>\n",
       "      <td>66</td>\n",
       "      <td>8.9981</td>\n",
       "      <td>88</td>\n",
       "      <td>12</td>\n",
       "      <td>23</td>\n",
       "      <td>3</td>\n",
       "      <td>30.412929</td>\n",
       "    </tr>\n",
       "  </tbody>\n",
       "</table>\n",
       "<p>10862 rows × 13 columns</p>\n",
       "</div>"
      ],
      "text/plain": [
       "       season  holiday  workingday  weather   temp   atemp  humidity  \\\n",
       "0           4        0           0        1   9.84  14.395        81   \n",
       "1           4        0           0        1   9.02  13.635        80   \n",
       "2           4        0           0        1   9.02  13.635        80   \n",
       "3           4        0           0        1   9.84  14.395        75   \n",
       "4           4        0           0        1   9.84  14.395        75   \n",
       "...       ...      ...         ...      ...    ...     ...       ...   \n",
       "10881       3        0           1        1  15.58  19.695        50   \n",
       "10882       3        0           1        1  14.76  17.425        57   \n",
       "10883       3        0           1        1  13.94  15.910        61   \n",
       "10884       3        0           1        1  13.94  17.425        61   \n",
       "10885       3        0           1        1  13.12  16.665        66   \n",
       "\n",
       "       windspeed  count  months  hours  week_days         HI  \n",
       "0         0.0000     16       1      0          6  32.985168  \n",
       "1         0.0000     40       1      1          6  35.686332  \n",
       "2         0.0000     32       1      2          6  35.686332  \n",
       "3         0.0000     13       1      3          6  35.312264  \n",
       "4         0.0000      1       1      4          6  35.312264  \n",
       "...          ...    ...     ...    ...        ...        ...  \n",
       "10881    26.0027    336      12     19          3  28.300528  \n",
       "10882    15.0013    241      12     20          3  29.039963  \n",
       "10883    15.0013    168      12     21          3  29.830135  \n",
       "10884     6.0032    129      12     22          3  29.830135  \n",
       "10885     8.9981     88      12     23          3  30.412929  \n",
       "\n",
       "[10862 rows x 13 columns]"
      ]
     },
     "execution_count": 33,
     "metadata": {},
     "output_type": "execute_result"
    }
   ],
   "source": [
    "df_pycaret"
   ]
  },
  {
   "cell_type": "code",
   "execution_count": 34,
   "metadata": {},
   "outputs": [
    {
     "data": {
      "text/html": [
       "<style  type=\"text/css\" >\n",
       "#T_5831a812_aaa5_11ec_9ed0_228e18620e52row42_col1{\n",
       "            background-color:  lightgreen;\n",
       "        }</style><table id=\"T_5831a812_aaa5_11ec_9ed0_228e18620e52\" ><thead>    <tr>        <th class=\"blank level0\" ></th>        <th class=\"col_heading level0 col0\" >Description</th>        <th class=\"col_heading level0 col1\" >Value</th>    </tr></thead><tbody>\n",
       "                <tr>\n",
       "                        <th id=\"T_5831a812_aaa5_11ec_9ed0_228e18620e52level0_row0\" class=\"row_heading level0 row0\" >0</th>\n",
       "                        <td id=\"T_5831a812_aaa5_11ec_9ed0_228e18620e52row0_col0\" class=\"data row0 col0\" >session_id</td>\n",
       "                        <td id=\"T_5831a812_aaa5_11ec_9ed0_228e18620e52row0_col1\" class=\"data row0 col1\" >3006</td>\n",
       "            </tr>\n",
       "            <tr>\n",
       "                        <th id=\"T_5831a812_aaa5_11ec_9ed0_228e18620e52level0_row1\" class=\"row_heading level0 row1\" >1</th>\n",
       "                        <td id=\"T_5831a812_aaa5_11ec_9ed0_228e18620e52row1_col0\" class=\"data row1 col0\" >Target</td>\n",
       "                        <td id=\"T_5831a812_aaa5_11ec_9ed0_228e18620e52row1_col1\" class=\"data row1 col1\" >count</td>\n",
       "            </tr>\n",
       "            <tr>\n",
       "                        <th id=\"T_5831a812_aaa5_11ec_9ed0_228e18620e52level0_row2\" class=\"row_heading level0 row2\" >2</th>\n",
       "                        <td id=\"T_5831a812_aaa5_11ec_9ed0_228e18620e52row2_col0\" class=\"data row2 col0\" >Original Data</td>\n",
       "                        <td id=\"T_5831a812_aaa5_11ec_9ed0_228e18620e52row2_col1\" class=\"data row2 col1\" >(10862, 13)</td>\n",
       "            </tr>\n",
       "            <tr>\n",
       "                        <th id=\"T_5831a812_aaa5_11ec_9ed0_228e18620e52level0_row3\" class=\"row_heading level0 row3\" >3</th>\n",
       "                        <td id=\"T_5831a812_aaa5_11ec_9ed0_228e18620e52row3_col0\" class=\"data row3 col0\" >Missing Values</td>\n",
       "                        <td id=\"T_5831a812_aaa5_11ec_9ed0_228e18620e52row3_col1\" class=\"data row3 col1\" >False</td>\n",
       "            </tr>\n",
       "            <tr>\n",
       "                        <th id=\"T_5831a812_aaa5_11ec_9ed0_228e18620e52level0_row4\" class=\"row_heading level0 row4\" >4</th>\n",
       "                        <td id=\"T_5831a812_aaa5_11ec_9ed0_228e18620e52row4_col0\" class=\"data row4 col0\" >Numeric Features</td>\n",
       "                        <td id=\"T_5831a812_aaa5_11ec_9ed0_228e18620e52row4_col1\" class=\"data row4 col1\" >12</td>\n",
       "            </tr>\n",
       "            <tr>\n",
       "                        <th id=\"T_5831a812_aaa5_11ec_9ed0_228e18620e52level0_row5\" class=\"row_heading level0 row5\" >5</th>\n",
       "                        <td id=\"T_5831a812_aaa5_11ec_9ed0_228e18620e52row5_col0\" class=\"data row5 col0\" >Categorical Features</td>\n",
       "                        <td id=\"T_5831a812_aaa5_11ec_9ed0_228e18620e52row5_col1\" class=\"data row5 col1\" >0</td>\n",
       "            </tr>\n",
       "            <tr>\n",
       "                        <th id=\"T_5831a812_aaa5_11ec_9ed0_228e18620e52level0_row6\" class=\"row_heading level0 row6\" >6</th>\n",
       "                        <td id=\"T_5831a812_aaa5_11ec_9ed0_228e18620e52row6_col0\" class=\"data row6 col0\" >Ordinal Features</td>\n",
       "                        <td id=\"T_5831a812_aaa5_11ec_9ed0_228e18620e52row6_col1\" class=\"data row6 col1\" >False</td>\n",
       "            </tr>\n",
       "            <tr>\n",
       "                        <th id=\"T_5831a812_aaa5_11ec_9ed0_228e18620e52level0_row7\" class=\"row_heading level0 row7\" >7</th>\n",
       "                        <td id=\"T_5831a812_aaa5_11ec_9ed0_228e18620e52row7_col0\" class=\"data row7 col0\" >High Cardinality Features</td>\n",
       "                        <td id=\"T_5831a812_aaa5_11ec_9ed0_228e18620e52row7_col1\" class=\"data row7 col1\" >False</td>\n",
       "            </tr>\n",
       "            <tr>\n",
       "                        <th id=\"T_5831a812_aaa5_11ec_9ed0_228e18620e52level0_row8\" class=\"row_heading level0 row8\" >8</th>\n",
       "                        <td id=\"T_5831a812_aaa5_11ec_9ed0_228e18620e52row8_col0\" class=\"data row8 col0\" >High Cardinality Method</td>\n",
       "                        <td id=\"T_5831a812_aaa5_11ec_9ed0_228e18620e52row8_col1\" class=\"data row8 col1\" >None</td>\n",
       "            </tr>\n",
       "            <tr>\n",
       "                        <th id=\"T_5831a812_aaa5_11ec_9ed0_228e18620e52level0_row9\" class=\"row_heading level0 row9\" >9</th>\n",
       "                        <td id=\"T_5831a812_aaa5_11ec_9ed0_228e18620e52row9_col0\" class=\"data row9 col0\" >Transformed Train Set</td>\n",
       "                        <td id=\"T_5831a812_aaa5_11ec_9ed0_228e18620e52row9_col1\" class=\"data row9 col1\" >(7603, 12)</td>\n",
       "            </tr>\n",
       "            <tr>\n",
       "                        <th id=\"T_5831a812_aaa5_11ec_9ed0_228e18620e52level0_row10\" class=\"row_heading level0 row10\" >10</th>\n",
       "                        <td id=\"T_5831a812_aaa5_11ec_9ed0_228e18620e52row10_col0\" class=\"data row10 col0\" >Transformed Test Set</td>\n",
       "                        <td id=\"T_5831a812_aaa5_11ec_9ed0_228e18620e52row10_col1\" class=\"data row10 col1\" >(3259, 12)</td>\n",
       "            </tr>\n",
       "            <tr>\n",
       "                        <th id=\"T_5831a812_aaa5_11ec_9ed0_228e18620e52level0_row11\" class=\"row_heading level0 row11\" >11</th>\n",
       "                        <td id=\"T_5831a812_aaa5_11ec_9ed0_228e18620e52row11_col0\" class=\"data row11 col0\" >Shuffle Train-Test</td>\n",
       "                        <td id=\"T_5831a812_aaa5_11ec_9ed0_228e18620e52row11_col1\" class=\"data row11 col1\" >True</td>\n",
       "            </tr>\n",
       "            <tr>\n",
       "                        <th id=\"T_5831a812_aaa5_11ec_9ed0_228e18620e52level0_row12\" class=\"row_heading level0 row12\" >12</th>\n",
       "                        <td id=\"T_5831a812_aaa5_11ec_9ed0_228e18620e52row12_col0\" class=\"data row12 col0\" >Stratify Train-Test</td>\n",
       "                        <td id=\"T_5831a812_aaa5_11ec_9ed0_228e18620e52row12_col1\" class=\"data row12 col1\" >False</td>\n",
       "            </tr>\n",
       "            <tr>\n",
       "                        <th id=\"T_5831a812_aaa5_11ec_9ed0_228e18620e52level0_row13\" class=\"row_heading level0 row13\" >13</th>\n",
       "                        <td id=\"T_5831a812_aaa5_11ec_9ed0_228e18620e52row13_col0\" class=\"data row13 col0\" >Fold Generator</td>\n",
       "                        <td id=\"T_5831a812_aaa5_11ec_9ed0_228e18620e52row13_col1\" class=\"data row13 col1\" >KFold</td>\n",
       "            </tr>\n",
       "            <tr>\n",
       "                        <th id=\"T_5831a812_aaa5_11ec_9ed0_228e18620e52level0_row14\" class=\"row_heading level0 row14\" >14</th>\n",
       "                        <td id=\"T_5831a812_aaa5_11ec_9ed0_228e18620e52row14_col0\" class=\"data row14 col0\" >Fold Number</td>\n",
       "                        <td id=\"T_5831a812_aaa5_11ec_9ed0_228e18620e52row14_col1\" class=\"data row14 col1\" >10</td>\n",
       "            </tr>\n",
       "            <tr>\n",
       "                        <th id=\"T_5831a812_aaa5_11ec_9ed0_228e18620e52level0_row15\" class=\"row_heading level0 row15\" >15</th>\n",
       "                        <td id=\"T_5831a812_aaa5_11ec_9ed0_228e18620e52row15_col0\" class=\"data row15 col0\" >CPU Jobs</td>\n",
       "                        <td id=\"T_5831a812_aaa5_11ec_9ed0_228e18620e52row15_col1\" class=\"data row15 col1\" >-1</td>\n",
       "            </tr>\n",
       "            <tr>\n",
       "                        <th id=\"T_5831a812_aaa5_11ec_9ed0_228e18620e52level0_row16\" class=\"row_heading level0 row16\" >16</th>\n",
       "                        <td id=\"T_5831a812_aaa5_11ec_9ed0_228e18620e52row16_col0\" class=\"data row16 col0\" >Use GPU</td>\n",
       "                        <td id=\"T_5831a812_aaa5_11ec_9ed0_228e18620e52row16_col1\" class=\"data row16 col1\" >False</td>\n",
       "            </tr>\n",
       "            <tr>\n",
       "                        <th id=\"T_5831a812_aaa5_11ec_9ed0_228e18620e52level0_row17\" class=\"row_heading level0 row17\" >17</th>\n",
       "                        <td id=\"T_5831a812_aaa5_11ec_9ed0_228e18620e52row17_col0\" class=\"data row17 col0\" >Log Experiment</td>\n",
       "                        <td id=\"T_5831a812_aaa5_11ec_9ed0_228e18620e52row17_col1\" class=\"data row17 col1\" >False</td>\n",
       "            </tr>\n",
       "            <tr>\n",
       "                        <th id=\"T_5831a812_aaa5_11ec_9ed0_228e18620e52level0_row18\" class=\"row_heading level0 row18\" >18</th>\n",
       "                        <td id=\"T_5831a812_aaa5_11ec_9ed0_228e18620e52row18_col0\" class=\"data row18 col0\" >Experiment Name</td>\n",
       "                        <td id=\"T_5831a812_aaa5_11ec_9ed0_228e18620e52row18_col1\" class=\"data row18 col1\" >reg-default-name</td>\n",
       "            </tr>\n",
       "            <tr>\n",
       "                        <th id=\"T_5831a812_aaa5_11ec_9ed0_228e18620e52level0_row19\" class=\"row_heading level0 row19\" >19</th>\n",
       "                        <td id=\"T_5831a812_aaa5_11ec_9ed0_228e18620e52row19_col0\" class=\"data row19 col0\" >USI</td>\n",
       "                        <td id=\"T_5831a812_aaa5_11ec_9ed0_228e18620e52row19_col1\" class=\"data row19 col1\" >1f27</td>\n",
       "            </tr>\n",
       "            <tr>\n",
       "                        <th id=\"T_5831a812_aaa5_11ec_9ed0_228e18620e52level0_row20\" class=\"row_heading level0 row20\" >20</th>\n",
       "                        <td id=\"T_5831a812_aaa5_11ec_9ed0_228e18620e52row20_col0\" class=\"data row20 col0\" >Imputation Type</td>\n",
       "                        <td id=\"T_5831a812_aaa5_11ec_9ed0_228e18620e52row20_col1\" class=\"data row20 col1\" >simple</td>\n",
       "            </tr>\n",
       "            <tr>\n",
       "                        <th id=\"T_5831a812_aaa5_11ec_9ed0_228e18620e52level0_row21\" class=\"row_heading level0 row21\" >21</th>\n",
       "                        <td id=\"T_5831a812_aaa5_11ec_9ed0_228e18620e52row21_col0\" class=\"data row21 col0\" >Iterative Imputation Iteration</td>\n",
       "                        <td id=\"T_5831a812_aaa5_11ec_9ed0_228e18620e52row21_col1\" class=\"data row21 col1\" >None</td>\n",
       "            </tr>\n",
       "            <tr>\n",
       "                        <th id=\"T_5831a812_aaa5_11ec_9ed0_228e18620e52level0_row22\" class=\"row_heading level0 row22\" >22</th>\n",
       "                        <td id=\"T_5831a812_aaa5_11ec_9ed0_228e18620e52row22_col0\" class=\"data row22 col0\" >Numeric Imputer</td>\n",
       "                        <td id=\"T_5831a812_aaa5_11ec_9ed0_228e18620e52row22_col1\" class=\"data row22 col1\" >mean</td>\n",
       "            </tr>\n",
       "            <tr>\n",
       "                        <th id=\"T_5831a812_aaa5_11ec_9ed0_228e18620e52level0_row23\" class=\"row_heading level0 row23\" >23</th>\n",
       "                        <td id=\"T_5831a812_aaa5_11ec_9ed0_228e18620e52row23_col0\" class=\"data row23 col0\" >Iterative Imputation Numeric Model</td>\n",
       "                        <td id=\"T_5831a812_aaa5_11ec_9ed0_228e18620e52row23_col1\" class=\"data row23 col1\" >None</td>\n",
       "            </tr>\n",
       "            <tr>\n",
       "                        <th id=\"T_5831a812_aaa5_11ec_9ed0_228e18620e52level0_row24\" class=\"row_heading level0 row24\" >24</th>\n",
       "                        <td id=\"T_5831a812_aaa5_11ec_9ed0_228e18620e52row24_col0\" class=\"data row24 col0\" >Categorical Imputer</td>\n",
       "                        <td id=\"T_5831a812_aaa5_11ec_9ed0_228e18620e52row24_col1\" class=\"data row24 col1\" >constant</td>\n",
       "            </tr>\n",
       "            <tr>\n",
       "                        <th id=\"T_5831a812_aaa5_11ec_9ed0_228e18620e52level0_row25\" class=\"row_heading level0 row25\" >25</th>\n",
       "                        <td id=\"T_5831a812_aaa5_11ec_9ed0_228e18620e52row25_col0\" class=\"data row25 col0\" >Iterative Imputation Categorical Model</td>\n",
       "                        <td id=\"T_5831a812_aaa5_11ec_9ed0_228e18620e52row25_col1\" class=\"data row25 col1\" >None</td>\n",
       "            </tr>\n",
       "            <tr>\n",
       "                        <th id=\"T_5831a812_aaa5_11ec_9ed0_228e18620e52level0_row26\" class=\"row_heading level0 row26\" >26</th>\n",
       "                        <td id=\"T_5831a812_aaa5_11ec_9ed0_228e18620e52row26_col0\" class=\"data row26 col0\" >Unknown Categoricals Handling</td>\n",
       "                        <td id=\"T_5831a812_aaa5_11ec_9ed0_228e18620e52row26_col1\" class=\"data row26 col1\" >least_frequent</td>\n",
       "            </tr>\n",
       "            <tr>\n",
       "                        <th id=\"T_5831a812_aaa5_11ec_9ed0_228e18620e52level0_row27\" class=\"row_heading level0 row27\" >27</th>\n",
       "                        <td id=\"T_5831a812_aaa5_11ec_9ed0_228e18620e52row27_col0\" class=\"data row27 col0\" >Normalize</td>\n",
       "                        <td id=\"T_5831a812_aaa5_11ec_9ed0_228e18620e52row27_col1\" class=\"data row27 col1\" >False</td>\n",
       "            </tr>\n",
       "            <tr>\n",
       "                        <th id=\"T_5831a812_aaa5_11ec_9ed0_228e18620e52level0_row28\" class=\"row_heading level0 row28\" >28</th>\n",
       "                        <td id=\"T_5831a812_aaa5_11ec_9ed0_228e18620e52row28_col0\" class=\"data row28 col0\" >Normalize Method</td>\n",
       "                        <td id=\"T_5831a812_aaa5_11ec_9ed0_228e18620e52row28_col1\" class=\"data row28 col1\" >None</td>\n",
       "            </tr>\n",
       "            <tr>\n",
       "                        <th id=\"T_5831a812_aaa5_11ec_9ed0_228e18620e52level0_row29\" class=\"row_heading level0 row29\" >29</th>\n",
       "                        <td id=\"T_5831a812_aaa5_11ec_9ed0_228e18620e52row29_col0\" class=\"data row29 col0\" >Transformation</td>\n",
       "                        <td id=\"T_5831a812_aaa5_11ec_9ed0_228e18620e52row29_col1\" class=\"data row29 col1\" >False</td>\n",
       "            </tr>\n",
       "            <tr>\n",
       "                        <th id=\"T_5831a812_aaa5_11ec_9ed0_228e18620e52level0_row30\" class=\"row_heading level0 row30\" >30</th>\n",
       "                        <td id=\"T_5831a812_aaa5_11ec_9ed0_228e18620e52row30_col0\" class=\"data row30 col0\" >Transformation Method</td>\n",
       "                        <td id=\"T_5831a812_aaa5_11ec_9ed0_228e18620e52row30_col1\" class=\"data row30 col1\" >None</td>\n",
       "            </tr>\n",
       "            <tr>\n",
       "                        <th id=\"T_5831a812_aaa5_11ec_9ed0_228e18620e52level0_row31\" class=\"row_heading level0 row31\" >31</th>\n",
       "                        <td id=\"T_5831a812_aaa5_11ec_9ed0_228e18620e52row31_col0\" class=\"data row31 col0\" >PCA</td>\n",
       "                        <td id=\"T_5831a812_aaa5_11ec_9ed0_228e18620e52row31_col1\" class=\"data row31 col1\" >False</td>\n",
       "            </tr>\n",
       "            <tr>\n",
       "                        <th id=\"T_5831a812_aaa5_11ec_9ed0_228e18620e52level0_row32\" class=\"row_heading level0 row32\" >32</th>\n",
       "                        <td id=\"T_5831a812_aaa5_11ec_9ed0_228e18620e52row32_col0\" class=\"data row32 col0\" >PCA Method</td>\n",
       "                        <td id=\"T_5831a812_aaa5_11ec_9ed0_228e18620e52row32_col1\" class=\"data row32 col1\" >None</td>\n",
       "            </tr>\n",
       "            <tr>\n",
       "                        <th id=\"T_5831a812_aaa5_11ec_9ed0_228e18620e52level0_row33\" class=\"row_heading level0 row33\" >33</th>\n",
       "                        <td id=\"T_5831a812_aaa5_11ec_9ed0_228e18620e52row33_col0\" class=\"data row33 col0\" >PCA Components</td>\n",
       "                        <td id=\"T_5831a812_aaa5_11ec_9ed0_228e18620e52row33_col1\" class=\"data row33 col1\" >None</td>\n",
       "            </tr>\n",
       "            <tr>\n",
       "                        <th id=\"T_5831a812_aaa5_11ec_9ed0_228e18620e52level0_row34\" class=\"row_heading level0 row34\" >34</th>\n",
       "                        <td id=\"T_5831a812_aaa5_11ec_9ed0_228e18620e52row34_col0\" class=\"data row34 col0\" >Ignore Low Variance</td>\n",
       "                        <td id=\"T_5831a812_aaa5_11ec_9ed0_228e18620e52row34_col1\" class=\"data row34 col1\" >False</td>\n",
       "            </tr>\n",
       "            <tr>\n",
       "                        <th id=\"T_5831a812_aaa5_11ec_9ed0_228e18620e52level0_row35\" class=\"row_heading level0 row35\" >35</th>\n",
       "                        <td id=\"T_5831a812_aaa5_11ec_9ed0_228e18620e52row35_col0\" class=\"data row35 col0\" >Combine Rare Levels</td>\n",
       "                        <td id=\"T_5831a812_aaa5_11ec_9ed0_228e18620e52row35_col1\" class=\"data row35 col1\" >False</td>\n",
       "            </tr>\n",
       "            <tr>\n",
       "                        <th id=\"T_5831a812_aaa5_11ec_9ed0_228e18620e52level0_row36\" class=\"row_heading level0 row36\" >36</th>\n",
       "                        <td id=\"T_5831a812_aaa5_11ec_9ed0_228e18620e52row36_col0\" class=\"data row36 col0\" >Rare Level Threshold</td>\n",
       "                        <td id=\"T_5831a812_aaa5_11ec_9ed0_228e18620e52row36_col1\" class=\"data row36 col1\" >None</td>\n",
       "            </tr>\n",
       "            <tr>\n",
       "                        <th id=\"T_5831a812_aaa5_11ec_9ed0_228e18620e52level0_row37\" class=\"row_heading level0 row37\" >37</th>\n",
       "                        <td id=\"T_5831a812_aaa5_11ec_9ed0_228e18620e52row37_col0\" class=\"data row37 col0\" >Numeric Binning</td>\n",
       "                        <td id=\"T_5831a812_aaa5_11ec_9ed0_228e18620e52row37_col1\" class=\"data row37 col1\" >False</td>\n",
       "            </tr>\n",
       "            <tr>\n",
       "                        <th id=\"T_5831a812_aaa5_11ec_9ed0_228e18620e52level0_row38\" class=\"row_heading level0 row38\" >38</th>\n",
       "                        <td id=\"T_5831a812_aaa5_11ec_9ed0_228e18620e52row38_col0\" class=\"data row38 col0\" >Remove Outliers</td>\n",
       "                        <td id=\"T_5831a812_aaa5_11ec_9ed0_228e18620e52row38_col1\" class=\"data row38 col1\" >False</td>\n",
       "            </tr>\n",
       "            <tr>\n",
       "                        <th id=\"T_5831a812_aaa5_11ec_9ed0_228e18620e52level0_row39\" class=\"row_heading level0 row39\" >39</th>\n",
       "                        <td id=\"T_5831a812_aaa5_11ec_9ed0_228e18620e52row39_col0\" class=\"data row39 col0\" >Outliers Threshold</td>\n",
       "                        <td id=\"T_5831a812_aaa5_11ec_9ed0_228e18620e52row39_col1\" class=\"data row39 col1\" >None</td>\n",
       "            </tr>\n",
       "            <tr>\n",
       "                        <th id=\"T_5831a812_aaa5_11ec_9ed0_228e18620e52level0_row40\" class=\"row_heading level0 row40\" >40</th>\n",
       "                        <td id=\"T_5831a812_aaa5_11ec_9ed0_228e18620e52row40_col0\" class=\"data row40 col0\" >Remove Multicollinearity</td>\n",
       "                        <td id=\"T_5831a812_aaa5_11ec_9ed0_228e18620e52row40_col1\" class=\"data row40 col1\" >False</td>\n",
       "            </tr>\n",
       "            <tr>\n",
       "                        <th id=\"T_5831a812_aaa5_11ec_9ed0_228e18620e52level0_row41\" class=\"row_heading level0 row41\" >41</th>\n",
       "                        <td id=\"T_5831a812_aaa5_11ec_9ed0_228e18620e52row41_col0\" class=\"data row41 col0\" >Multicollinearity Threshold</td>\n",
       "                        <td id=\"T_5831a812_aaa5_11ec_9ed0_228e18620e52row41_col1\" class=\"data row41 col1\" >None</td>\n",
       "            </tr>\n",
       "            <tr>\n",
       "                        <th id=\"T_5831a812_aaa5_11ec_9ed0_228e18620e52level0_row42\" class=\"row_heading level0 row42\" >42</th>\n",
       "                        <td id=\"T_5831a812_aaa5_11ec_9ed0_228e18620e52row42_col0\" class=\"data row42 col0\" >Remove Perfect Collinearity</td>\n",
       "                        <td id=\"T_5831a812_aaa5_11ec_9ed0_228e18620e52row42_col1\" class=\"data row42 col1\" >True</td>\n",
       "            </tr>\n",
       "            <tr>\n",
       "                        <th id=\"T_5831a812_aaa5_11ec_9ed0_228e18620e52level0_row43\" class=\"row_heading level0 row43\" >43</th>\n",
       "                        <td id=\"T_5831a812_aaa5_11ec_9ed0_228e18620e52row43_col0\" class=\"data row43 col0\" >Clustering</td>\n",
       "                        <td id=\"T_5831a812_aaa5_11ec_9ed0_228e18620e52row43_col1\" class=\"data row43 col1\" >False</td>\n",
       "            </tr>\n",
       "            <tr>\n",
       "                        <th id=\"T_5831a812_aaa5_11ec_9ed0_228e18620e52level0_row44\" class=\"row_heading level0 row44\" >44</th>\n",
       "                        <td id=\"T_5831a812_aaa5_11ec_9ed0_228e18620e52row44_col0\" class=\"data row44 col0\" >Clustering Iteration</td>\n",
       "                        <td id=\"T_5831a812_aaa5_11ec_9ed0_228e18620e52row44_col1\" class=\"data row44 col1\" >None</td>\n",
       "            </tr>\n",
       "            <tr>\n",
       "                        <th id=\"T_5831a812_aaa5_11ec_9ed0_228e18620e52level0_row45\" class=\"row_heading level0 row45\" >45</th>\n",
       "                        <td id=\"T_5831a812_aaa5_11ec_9ed0_228e18620e52row45_col0\" class=\"data row45 col0\" >Polynomial Features</td>\n",
       "                        <td id=\"T_5831a812_aaa5_11ec_9ed0_228e18620e52row45_col1\" class=\"data row45 col1\" >False</td>\n",
       "            </tr>\n",
       "            <tr>\n",
       "                        <th id=\"T_5831a812_aaa5_11ec_9ed0_228e18620e52level0_row46\" class=\"row_heading level0 row46\" >46</th>\n",
       "                        <td id=\"T_5831a812_aaa5_11ec_9ed0_228e18620e52row46_col0\" class=\"data row46 col0\" >Polynomial Degree</td>\n",
       "                        <td id=\"T_5831a812_aaa5_11ec_9ed0_228e18620e52row46_col1\" class=\"data row46 col1\" >None</td>\n",
       "            </tr>\n",
       "            <tr>\n",
       "                        <th id=\"T_5831a812_aaa5_11ec_9ed0_228e18620e52level0_row47\" class=\"row_heading level0 row47\" >47</th>\n",
       "                        <td id=\"T_5831a812_aaa5_11ec_9ed0_228e18620e52row47_col0\" class=\"data row47 col0\" >Trignometry Features</td>\n",
       "                        <td id=\"T_5831a812_aaa5_11ec_9ed0_228e18620e52row47_col1\" class=\"data row47 col1\" >False</td>\n",
       "            </tr>\n",
       "            <tr>\n",
       "                        <th id=\"T_5831a812_aaa5_11ec_9ed0_228e18620e52level0_row48\" class=\"row_heading level0 row48\" >48</th>\n",
       "                        <td id=\"T_5831a812_aaa5_11ec_9ed0_228e18620e52row48_col0\" class=\"data row48 col0\" >Polynomial Threshold</td>\n",
       "                        <td id=\"T_5831a812_aaa5_11ec_9ed0_228e18620e52row48_col1\" class=\"data row48 col1\" >None</td>\n",
       "            </tr>\n",
       "            <tr>\n",
       "                        <th id=\"T_5831a812_aaa5_11ec_9ed0_228e18620e52level0_row49\" class=\"row_heading level0 row49\" >49</th>\n",
       "                        <td id=\"T_5831a812_aaa5_11ec_9ed0_228e18620e52row49_col0\" class=\"data row49 col0\" >Group Features</td>\n",
       "                        <td id=\"T_5831a812_aaa5_11ec_9ed0_228e18620e52row49_col1\" class=\"data row49 col1\" >False</td>\n",
       "            </tr>\n",
       "            <tr>\n",
       "                        <th id=\"T_5831a812_aaa5_11ec_9ed0_228e18620e52level0_row50\" class=\"row_heading level0 row50\" >50</th>\n",
       "                        <td id=\"T_5831a812_aaa5_11ec_9ed0_228e18620e52row50_col0\" class=\"data row50 col0\" >Feature Selection</td>\n",
       "                        <td id=\"T_5831a812_aaa5_11ec_9ed0_228e18620e52row50_col1\" class=\"data row50 col1\" >False</td>\n",
       "            </tr>\n",
       "            <tr>\n",
       "                        <th id=\"T_5831a812_aaa5_11ec_9ed0_228e18620e52level0_row51\" class=\"row_heading level0 row51\" >51</th>\n",
       "                        <td id=\"T_5831a812_aaa5_11ec_9ed0_228e18620e52row51_col0\" class=\"data row51 col0\" >Feature Selection Method</td>\n",
       "                        <td id=\"T_5831a812_aaa5_11ec_9ed0_228e18620e52row51_col1\" class=\"data row51 col1\" >classic</td>\n",
       "            </tr>\n",
       "            <tr>\n",
       "                        <th id=\"T_5831a812_aaa5_11ec_9ed0_228e18620e52level0_row52\" class=\"row_heading level0 row52\" >52</th>\n",
       "                        <td id=\"T_5831a812_aaa5_11ec_9ed0_228e18620e52row52_col0\" class=\"data row52 col0\" >Features Selection Threshold</td>\n",
       "                        <td id=\"T_5831a812_aaa5_11ec_9ed0_228e18620e52row52_col1\" class=\"data row52 col1\" >None</td>\n",
       "            </tr>\n",
       "            <tr>\n",
       "                        <th id=\"T_5831a812_aaa5_11ec_9ed0_228e18620e52level0_row53\" class=\"row_heading level0 row53\" >53</th>\n",
       "                        <td id=\"T_5831a812_aaa5_11ec_9ed0_228e18620e52row53_col0\" class=\"data row53 col0\" >Feature Interaction</td>\n",
       "                        <td id=\"T_5831a812_aaa5_11ec_9ed0_228e18620e52row53_col1\" class=\"data row53 col1\" >False</td>\n",
       "            </tr>\n",
       "            <tr>\n",
       "                        <th id=\"T_5831a812_aaa5_11ec_9ed0_228e18620e52level0_row54\" class=\"row_heading level0 row54\" >54</th>\n",
       "                        <td id=\"T_5831a812_aaa5_11ec_9ed0_228e18620e52row54_col0\" class=\"data row54 col0\" >Feature Ratio</td>\n",
       "                        <td id=\"T_5831a812_aaa5_11ec_9ed0_228e18620e52row54_col1\" class=\"data row54 col1\" >False</td>\n",
       "            </tr>\n",
       "            <tr>\n",
       "                        <th id=\"T_5831a812_aaa5_11ec_9ed0_228e18620e52level0_row55\" class=\"row_heading level0 row55\" >55</th>\n",
       "                        <td id=\"T_5831a812_aaa5_11ec_9ed0_228e18620e52row55_col0\" class=\"data row55 col0\" >Interaction Threshold</td>\n",
       "                        <td id=\"T_5831a812_aaa5_11ec_9ed0_228e18620e52row55_col1\" class=\"data row55 col1\" >None</td>\n",
       "            </tr>\n",
       "            <tr>\n",
       "                        <th id=\"T_5831a812_aaa5_11ec_9ed0_228e18620e52level0_row56\" class=\"row_heading level0 row56\" >56</th>\n",
       "                        <td id=\"T_5831a812_aaa5_11ec_9ed0_228e18620e52row56_col0\" class=\"data row56 col0\" >Transform Target</td>\n",
       "                        <td id=\"T_5831a812_aaa5_11ec_9ed0_228e18620e52row56_col1\" class=\"data row56 col1\" >False</td>\n",
       "            </tr>\n",
       "            <tr>\n",
       "                        <th id=\"T_5831a812_aaa5_11ec_9ed0_228e18620e52level0_row57\" class=\"row_heading level0 row57\" >57</th>\n",
       "                        <td id=\"T_5831a812_aaa5_11ec_9ed0_228e18620e52row57_col0\" class=\"data row57 col0\" >Transform Target Method</td>\n",
       "                        <td id=\"T_5831a812_aaa5_11ec_9ed0_228e18620e52row57_col1\" class=\"data row57 col1\" >box-cox</td>\n",
       "            </tr>\n",
       "    </tbody></table>"
      ],
      "text/plain": [
       "<pandas.io.formats.style.Styler at 0x7fbe5aee7a58>"
      ]
     },
     "metadata": {},
     "output_type": "display_data"
    }
   ],
   "source": [
    "s = setup(df_pycaret, target='count')"
   ]
  },
  {
   "cell_type": "code",
   "execution_count": 35,
   "metadata": {},
   "outputs": [
    {
     "data": {
      "text/html": [
       "<style  type=\"text/css\" >\n",
       "    #T_6340efa6_aaa5_11ec_9e9c_228e18620e52 th {\n",
       "          text-align: left;\n",
       "    }#T_6340efa6_aaa5_11ec_9e9c_228e18620e52row0_col0,#T_6340efa6_aaa5_11ec_9e9c_228e18620e52row0_col5,#T_6340efa6_aaa5_11ec_9e9c_228e18620e52row0_col6,#T_6340efa6_aaa5_11ec_9e9c_228e18620e52row1_col0,#T_6340efa6_aaa5_11ec_9e9c_228e18620e52row1_col1,#T_6340efa6_aaa5_11ec_9e9c_228e18620e52row1_col2,#T_6340efa6_aaa5_11ec_9e9c_228e18620e52row1_col3,#T_6340efa6_aaa5_11ec_9e9c_228e18620e52row1_col4,#T_6340efa6_aaa5_11ec_9e9c_228e18620e52row1_col5,#T_6340efa6_aaa5_11ec_9e9c_228e18620e52row1_col6,#T_6340efa6_aaa5_11ec_9e9c_228e18620e52row2_col0,#T_6340efa6_aaa5_11ec_9e9c_228e18620e52row2_col1,#T_6340efa6_aaa5_11ec_9e9c_228e18620e52row2_col2,#T_6340efa6_aaa5_11ec_9e9c_228e18620e52row2_col3,#T_6340efa6_aaa5_11ec_9e9c_228e18620e52row2_col4,#T_6340efa6_aaa5_11ec_9e9c_228e18620e52row3_col0,#T_6340efa6_aaa5_11ec_9e9c_228e18620e52row3_col1,#T_6340efa6_aaa5_11ec_9e9c_228e18620e52row3_col2,#T_6340efa6_aaa5_11ec_9e9c_228e18620e52row3_col3,#T_6340efa6_aaa5_11ec_9e9c_228e18620e52row3_col4,#T_6340efa6_aaa5_11ec_9e9c_228e18620e52row3_col5,#T_6340efa6_aaa5_11ec_9e9c_228e18620e52row3_col6,#T_6340efa6_aaa5_11ec_9e9c_228e18620e52row4_col0,#T_6340efa6_aaa5_11ec_9e9c_228e18620e52row4_col1,#T_6340efa6_aaa5_11ec_9e9c_228e18620e52row4_col2,#T_6340efa6_aaa5_11ec_9e9c_228e18620e52row4_col3,#T_6340efa6_aaa5_11ec_9e9c_228e18620e52row4_col4,#T_6340efa6_aaa5_11ec_9e9c_228e18620e52row4_col5,#T_6340efa6_aaa5_11ec_9e9c_228e18620e52row4_col6,#T_6340efa6_aaa5_11ec_9e9c_228e18620e52row5_col0,#T_6340efa6_aaa5_11ec_9e9c_228e18620e52row5_col1,#T_6340efa6_aaa5_11ec_9e9c_228e18620e52row5_col2,#T_6340efa6_aaa5_11ec_9e9c_228e18620e52row5_col3,#T_6340efa6_aaa5_11ec_9e9c_228e18620e52row5_col4,#T_6340efa6_aaa5_11ec_9e9c_228e18620e52row5_col5,#T_6340efa6_aaa5_11ec_9e9c_228e18620e52row5_col6,#T_6340efa6_aaa5_11ec_9e9c_228e18620e52row6_col0,#T_6340efa6_aaa5_11ec_9e9c_228e18620e52row6_col1,#T_6340efa6_aaa5_11ec_9e9c_228e18620e52row6_col2,#T_6340efa6_aaa5_11ec_9e9c_228e18620e52row6_col3,#T_6340efa6_aaa5_11ec_9e9c_228e18620e52row6_col4,#T_6340efa6_aaa5_11ec_9e9c_228e18620e52row6_col5,#T_6340efa6_aaa5_11ec_9e9c_228e18620e52row6_col6,#T_6340efa6_aaa5_11ec_9e9c_228e18620e52row7_col0,#T_6340efa6_aaa5_11ec_9e9c_228e18620e52row7_col1,#T_6340efa6_aaa5_11ec_9e9c_228e18620e52row7_col2,#T_6340efa6_aaa5_11ec_9e9c_228e18620e52row7_col3,#T_6340efa6_aaa5_11ec_9e9c_228e18620e52row7_col4,#T_6340efa6_aaa5_11ec_9e9c_228e18620e52row7_col5,#T_6340efa6_aaa5_11ec_9e9c_228e18620e52row7_col6,#T_6340efa6_aaa5_11ec_9e9c_228e18620e52row8_col0,#T_6340efa6_aaa5_11ec_9e9c_228e18620e52row8_col1,#T_6340efa6_aaa5_11ec_9e9c_228e18620e52row8_col2,#T_6340efa6_aaa5_11ec_9e9c_228e18620e52row8_col3,#T_6340efa6_aaa5_11ec_9e9c_228e18620e52row8_col4,#T_6340efa6_aaa5_11ec_9e9c_228e18620e52row8_col5,#T_6340efa6_aaa5_11ec_9e9c_228e18620e52row8_col6,#T_6340efa6_aaa5_11ec_9e9c_228e18620e52row9_col0,#T_6340efa6_aaa5_11ec_9e9c_228e18620e52row9_col1,#T_6340efa6_aaa5_11ec_9e9c_228e18620e52row9_col2,#T_6340efa6_aaa5_11ec_9e9c_228e18620e52row9_col3,#T_6340efa6_aaa5_11ec_9e9c_228e18620e52row9_col4,#T_6340efa6_aaa5_11ec_9e9c_228e18620e52row9_col5,#T_6340efa6_aaa5_11ec_9e9c_228e18620e52row9_col6,#T_6340efa6_aaa5_11ec_9e9c_228e18620e52row10_col0,#T_6340efa6_aaa5_11ec_9e9c_228e18620e52row10_col1,#T_6340efa6_aaa5_11ec_9e9c_228e18620e52row10_col2,#T_6340efa6_aaa5_11ec_9e9c_228e18620e52row10_col3,#T_6340efa6_aaa5_11ec_9e9c_228e18620e52row10_col4,#T_6340efa6_aaa5_11ec_9e9c_228e18620e52row10_col5,#T_6340efa6_aaa5_11ec_9e9c_228e18620e52row10_col6,#T_6340efa6_aaa5_11ec_9e9c_228e18620e52row11_col0,#T_6340efa6_aaa5_11ec_9e9c_228e18620e52row11_col1,#T_6340efa6_aaa5_11ec_9e9c_228e18620e52row11_col2,#T_6340efa6_aaa5_11ec_9e9c_228e18620e52row11_col3,#T_6340efa6_aaa5_11ec_9e9c_228e18620e52row11_col4,#T_6340efa6_aaa5_11ec_9e9c_228e18620e52row11_col5,#T_6340efa6_aaa5_11ec_9e9c_228e18620e52row11_col6,#T_6340efa6_aaa5_11ec_9e9c_228e18620e52row12_col0,#T_6340efa6_aaa5_11ec_9e9c_228e18620e52row12_col1,#T_6340efa6_aaa5_11ec_9e9c_228e18620e52row12_col2,#T_6340efa6_aaa5_11ec_9e9c_228e18620e52row12_col3,#T_6340efa6_aaa5_11ec_9e9c_228e18620e52row12_col4,#T_6340efa6_aaa5_11ec_9e9c_228e18620e52row12_col5,#T_6340efa6_aaa5_11ec_9e9c_228e18620e52row12_col6,#T_6340efa6_aaa5_11ec_9e9c_228e18620e52row13_col0,#T_6340efa6_aaa5_11ec_9e9c_228e18620e52row13_col1,#T_6340efa6_aaa5_11ec_9e9c_228e18620e52row13_col2,#T_6340efa6_aaa5_11ec_9e9c_228e18620e52row13_col3,#T_6340efa6_aaa5_11ec_9e9c_228e18620e52row13_col4,#T_6340efa6_aaa5_11ec_9e9c_228e18620e52row13_col5,#T_6340efa6_aaa5_11ec_9e9c_228e18620e52row13_col6,#T_6340efa6_aaa5_11ec_9e9c_228e18620e52row14_col0,#T_6340efa6_aaa5_11ec_9e9c_228e18620e52row14_col1,#T_6340efa6_aaa5_11ec_9e9c_228e18620e52row14_col2,#T_6340efa6_aaa5_11ec_9e9c_228e18620e52row14_col3,#T_6340efa6_aaa5_11ec_9e9c_228e18620e52row14_col4,#T_6340efa6_aaa5_11ec_9e9c_228e18620e52row14_col5,#T_6340efa6_aaa5_11ec_9e9c_228e18620e52row14_col6,#T_6340efa6_aaa5_11ec_9e9c_228e18620e52row15_col0,#T_6340efa6_aaa5_11ec_9e9c_228e18620e52row15_col1,#T_6340efa6_aaa5_11ec_9e9c_228e18620e52row15_col2,#T_6340efa6_aaa5_11ec_9e9c_228e18620e52row15_col3,#T_6340efa6_aaa5_11ec_9e9c_228e18620e52row15_col4,#T_6340efa6_aaa5_11ec_9e9c_228e18620e52row15_col5,#T_6340efa6_aaa5_11ec_9e9c_228e18620e52row15_col6,#T_6340efa6_aaa5_11ec_9e9c_228e18620e52row16_col0,#T_6340efa6_aaa5_11ec_9e9c_228e18620e52row16_col1,#T_6340efa6_aaa5_11ec_9e9c_228e18620e52row16_col2,#T_6340efa6_aaa5_11ec_9e9c_228e18620e52row16_col3,#T_6340efa6_aaa5_11ec_9e9c_228e18620e52row16_col4,#T_6340efa6_aaa5_11ec_9e9c_228e18620e52row16_col5,#T_6340efa6_aaa5_11ec_9e9c_228e18620e52row16_col6,#T_6340efa6_aaa5_11ec_9e9c_228e18620e52row17_col0,#T_6340efa6_aaa5_11ec_9e9c_228e18620e52row17_col1,#T_6340efa6_aaa5_11ec_9e9c_228e18620e52row17_col2,#T_6340efa6_aaa5_11ec_9e9c_228e18620e52row17_col3,#T_6340efa6_aaa5_11ec_9e9c_228e18620e52row17_col4,#T_6340efa6_aaa5_11ec_9e9c_228e18620e52row17_col5,#T_6340efa6_aaa5_11ec_9e9c_228e18620e52row17_col6{\n",
       "            text-align:  left;\n",
       "            text-align:  left;\n",
       "        }#T_6340efa6_aaa5_11ec_9e9c_228e18620e52row0_col1,#T_6340efa6_aaa5_11ec_9e9c_228e18620e52row0_col2,#T_6340efa6_aaa5_11ec_9e9c_228e18620e52row0_col3,#T_6340efa6_aaa5_11ec_9e9c_228e18620e52row0_col4,#T_6340efa6_aaa5_11ec_9e9c_228e18620e52row2_col5,#T_6340efa6_aaa5_11ec_9e9c_228e18620e52row2_col6{\n",
       "            text-align:  left;\n",
       "            text-align:  left;\n",
       "            background-color:  yellow;\n",
       "        }#T_6340efa6_aaa5_11ec_9e9c_228e18620e52row0_col7,#T_6340efa6_aaa5_11ec_9e9c_228e18620e52row1_col7,#T_6340efa6_aaa5_11ec_9e9c_228e18620e52row2_col7,#T_6340efa6_aaa5_11ec_9e9c_228e18620e52row3_col7,#T_6340efa6_aaa5_11ec_9e9c_228e18620e52row4_col7,#T_6340efa6_aaa5_11ec_9e9c_228e18620e52row5_col7,#T_6340efa6_aaa5_11ec_9e9c_228e18620e52row6_col7,#T_6340efa6_aaa5_11ec_9e9c_228e18620e52row7_col7,#T_6340efa6_aaa5_11ec_9e9c_228e18620e52row9_col7,#T_6340efa6_aaa5_11ec_9e9c_228e18620e52row10_col7,#T_6340efa6_aaa5_11ec_9e9c_228e18620e52row11_col7,#T_6340efa6_aaa5_11ec_9e9c_228e18620e52row12_col7,#T_6340efa6_aaa5_11ec_9e9c_228e18620e52row13_col7,#T_6340efa6_aaa5_11ec_9e9c_228e18620e52row14_col7,#T_6340efa6_aaa5_11ec_9e9c_228e18620e52row15_col7,#T_6340efa6_aaa5_11ec_9e9c_228e18620e52row16_col7,#T_6340efa6_aaa5_11ec_9e9c_228e18620e52row17_col7{\n",
       "            text-align:  left;\n",
       "            text-align:  left;\n",
       "            background-color:  lightgrey;\n",
       "        }#T_6340efa6_aaa5_11ec_9e9c_228e18620e52row8_col7{\n",
       "            text-align:  left;\n",
       "            text-align:  left;\n",
       "            background-color:  yellow;\n",
       "            background-color:  lightgrey;\n",
       "        }</style><table id=\"T_6340efa6_aaa5_11ec_9e9c_228e18620e52\" ><thead>    <tr>        <th class=\"blank level0\" ></th>        <th class=\"col_heading level0 col0\" >Model</th>        <th class=\"col_heading level0 col1\" >MAE</th>        <th class=\"col_heading level0 col2\" >MSE</th>        <th class=\"col_heading level0 col3\" >RMSE</th>        <th class=\"col_heading level0 col4\" >R2</th>        <th class=\"col_heading level0 col5\" >RMSLE</th>        <th class=\"col_heading level0 col6\" >MAPE</th>        <th class=\"col_heading level0 col7\" >TT (Sec)</th>    </tr></thead><tbody>\n",
       "                <tr>\n",
       "                        <th id=\"T_6340efa6_aaa5_11ec_9e9c_228e18620e52level0_row0\" class=\"row_heading level0 row0\" >lightgbm</th>\n",
       "                        <td id=\"T_6340efa6_aaa5_11ec_9e9c_228e18620e52row0_col0\" class=\"data row0 col0\" >Light Gradient Boosting Machine</td>\n",
       "                        <td id=\"T_6340efa6_aaa5_11ec_9e9c_228e18620e52row0_col1\" class=\"data row0 col1\" >37.3226</td>\n",
       "                        <td id=\"T_6340efa6_aaa5_11ec_9e9c_228e18620e52row0_col2\" class=\"data row0 col2\" >3631.9645</td>\n",
       "                        <td id=\"T_6340efa6_aaa5_11ec_9e9c_228e18620e52row0_col3\" class=\"data row0 col3\" >60.1619</td>\n",
       "                        <td id=\"T_6340efa6_aaa5_11ec_9e9c_228e18620e52row0_col4\" class=\"data row0 col4\" >0.8914</td>\n",
       "                        <td id=\"T_6340efa6_aaa5_11ec_9e9c_228e18620e52row0_col5\" class=\"data row0 col5\" >0.4237</td>\n",
       "                        <td id=\"T_6340efa6_aaa5_11ec_9e9c_228e18620e52row0_col6\" class=\"data row0 col6\" >0.4304</td>\n",
       "                        <td id=\"T_6340efa6_aaa5_11ec_9e9c_228e18620e52row0_col7\" class=\"data row0 col7\" >0.0250</td>\n",
       "            </tr>\n",
       "            <tr>\n",
       "                        <th id=\"T_6340efa6_aaa5_11ec_9e9c_228e18620e52level0_row1\" class=\"row_heading level0 row1\" >rf</th>\n",
       "                        <td id=\"T_6340efa6_aaa5_11ec_9e9c_228e18620e52row1_col0\" class=\"data row1 col0\" >Random Forest Regressor</td>\n",
       "                        <td id=\"T_6340efa6_aaa5_11ec_9e9c_228e18620e52row1_col1\" class=\"data row1 col1\" >39.0732</td>\n",
       "                        <td id=\"T_6340efa6_aaa5_11ec_9e9c_228e18620e52row1_col2\" class=\"data row1 col2\" >4068.1457</td>\n",
       "                        <td id=\"T_6340efa6_aaa5_11ec_9e9c_228e18620e52row1_col3\" class=\"data row1 col3\" >63.7064</td>\n",
       "                        <td id=\"T_6340efa6_aaa5_11ec_9e9c_228e18620e52row1_col4\" class=\"data row1 col4\" >0.8782</td>\n",
       "                        <td id=\"T_6340efa6_aaa5_11ec_9e9c_228e18620e52row1_col5\" class=\"data row1 col5\" >0.3788</td>\n",
       "                        <td id=\"T_6340efa6_aaa5_11ec_9e9c_228e18620e52row1_col6\" class=\"data row1 col6\" >0.3626</td>\n",
       "                        <td id=\"T_6340efa6_aaa5_11ec_9e9c_228e18620e52row1_col7\" class=\"data row1 col7\" >0.4530</td>\n",
       "            </tr>\n",
       "            <tr>\n",
       "                        <th id=\"T_6340efa6_aaa5_11ec_9e9c_228e18620e52level0_row2\" class=\"row_heading level0 row2\" >et</th>\n",
       "                        <td id=\"T_6340efa6_aaa5_11ec_9e9c_228e18620e52row2_col0\" class=\"data row2 col0\" >Extra Trees Regressor</td>\n",
       "                        <td id=\"T_6340efa6_aaa5_11ec_9e9c_228e18620e52row2_col1\" class=\"data row2 col1\" >38.8749</td>\n",
       "                        <td id=\"T_6340efa6_aaa5_11ec_9e9c_228e18620e52row2_col2\" class=\"data row2 col2\" >4157.1843</td>\n",
       "                        <td id=\"T_6340efa6_aaa5_11ec_9e9c_228e18620e52row2_col3\" class=\"data row2 col3\" >64.3996</td>\n",
       "                        <td id=\"T_6340efa6_aaa5_11ec_9e9c_228e18620e52row2_col4\" class=\"data row2 col4\" >0.8755</td>\n",
       "                        <td id=\"T_6340efa6_aaa5_11ec_9e9c_228e18620e52row2_col5\" class=\"data row2 col5\" >0.3732</td>\n",
       "                        <td id=\"T_6340efa6_aaa5_11ec_9e9c_228e18620e52row2_col6\" class=\"data row2 col6\" >0.3553</td>\n",
       "                        <td id=\"T_6340efa6_aaa5_11ec_9e9c_228e18620e52row2_col7\" class=\"data row2 col7\" >0.3470</td>\n",
       "            </tr>\n",
       "            <tr>\n",
       "                        <th id=\"T_6340efa6_aaa5_11ec_9e9c_228e18620e52level0_row3\" class=\"row_heading level0 row3\" >gbr</th>\n",
       "                        <td id=\"T_6340efa6_aaa5_11ec_9e9c_228e18620e52row3_col0\" class=\"data row3 col0\" >Gradient Boosting Regressor</td>\n",
       "                        <td id=\"T_6340efa6_aaa5_11ec_9e9c_228e18620e52row3_col1\" class=\"data row3 col1\" >48.5984</td>\n",
       "                        <td id=\"T_6340efa6_aaa5_11ec_9e9c_228e18620e52row3_col2\" class=\"data row3 col2\" >5887.1744</td>\n",
       "                        <td id=\"T_6340efa6_aaa5_11ec_9e9c_228e18620e52row3_col3\" class=\"data row3 col3\" >76.6378</td>\n",
       "                        <td id=\"T_6340efa6_aaa5_11ec_9e9c_228e18620e52row3_col4\" class=\"data row3 col4\" >0.8242</td>\n",
       "                        <td id=\"T_6340efa6_aaa5_11ec_9e9c_228e18620e52row3_col5\" class=\"data row3 col5\" >0.5996</td>\n",
       "                        <td id=\"T_6340efa6_aaa5_11ec_9e9c_228e18620e52row3_col6\" class=\"data row3 col6\" >0.7708</td>\n",
       "                        <td id=\"T_6340efa6_aaa5_11ec_9e9c_228e18620e52row3_col7\" class=\"data row3 col7\" >0.1410</td>\n",
       "            </tr>\n",
       "            <tr>\n",
       "                        <th id=\"T_6340efa6_aaa5_11ec_9e9c_228e18620e52level0_row4\" class=\"row_heading level0 row4\" >dt</th>\n",
       "                        <td id=\"T_6340efa6_aaa5_11ec_9e9c_228e18620e52row4_col0\" class=\"data row4 col0\" >Decision Tree Regressor</td>\n",
       "                        <td id=\"T_6340efa6_aaa5_11ec_9e9c_228e18620e52row4_col1\" class=\"data row4 col1\" >49.5737</td>\n",
       "                        <td id=\"T_6340efa6_aaa5_11ec_9e9c_228e18620e52row4_col2\" class=\"data row4 col2\" >7653.7396</td>\n",
       "                        <td id=\"T_6340efa6_aaa5_11ec_9e9c_228e18620e52row4_col3\" class=\"data row4 col3\" >87.4019</td>\n",
       "                        <td id=\"T_6340efa6_aaa5_11ec_9e9c_228e18620e52row4_col4\" class=\"data row4 col4\" >0.7707</td>\n",
       "                        <td id=\"T_6340efa6_aaa5_11ec_9e9c_228e18620e52row4_col5\" class=\"data row4 col5\" >0.4921</td>\n",
       "                        <td id=\"T_6340efa6_aaa5_11ec_9e9c_228e18620e52row4_col6\" class=\"data row4 col6\" >0.4231</td>\n",
       "                        <td id=\"T_6340efa6_aaa5_11ec_9e9c_228e18620e52row4_col7\" class=\"data row4 col7\" >0.0130</td>\n",
       "            </tr>\n",
       "            <tr>\n",
       "                        <th id=\"T_6340efa6_aaa5_11ec_9e9c_228e18620e52level0_row5\" class=\"row_heading level0 row5\" >ada</th>\n",
       "                        <td id=\"T_6340efa6_aaa5_11ec_9e9c_228e18620e52row5_col0\" class=\"data row5 col0\" >AdaBoost Regressor</td>\n",
       "                        <td id=\"T_6340efa6_aaa5_11ec_9e9c_228e18620e52row5_col1\" class=\"data row5 col1\" >85.2771</td>\n",
       "                        <td id=\"T_6340efa6_aaa5_11ec_9e9c_228e18620e52row5_col2\" class=\"data row5 col2\" >12232.1025</td>\n",
       "                        <td id=\"T_6340efa6_aaa5_11ec_9e9c_228e18620e52row5_col3\" class=\"data row5 col3\" >110.5619</td>\n",
       "                        <td id=\"T_6340efa6_aaa5_11ec_9e9c_228e18620e52row5_col4\" class=\"data row5 col4\" >0.6337</td>\n",
       "                        <td id=\"T_6340efa6_aaa5_11ec_9e9c_228e18620e52row5_col5\" class=\"data row5 col5\" >1.1428</td>\n",
       "                        <td id=\"T_6340efa6_aaa5_11ec_9e9c_228e18620e52row5_col6\" class=\"data row5 col6\" >2.8237</td>\n",
       "                        <td id=\"T_6340efa6_aaa5_11ec_9e9c_228e18620e52row5_col7\" class=\"data row5 col7\" >0.0780</td>\n",
       "            </tr>\n",
       "            <tr>\n",
       "                        <th id=\"T_6340efa6_aaa5_11ec_9e9c_228e18620e52level0_row6\" class=\"row_heading level0 row6\" >knn</th>\n",
       "                        <td id=\"T_6340efa6_aaa5_11ec_9e9c_228e18620e52row6_col0\" class=\"data row6 col0\" >K Neighbors Regressor</td>\n",
       "                        <td id=\"T_6340efa6_aaa5_11ec_9e9c_228e18620e52row6_col1\" class=\"data row6 col1\" >75.6762</td>\n",
       "                        <td id=\"T_6340efa6_aaa5_11ec_9e9c_228e18620e52row6_col2\" class=\"data row6 col2\" >14390.3241</td>\n",
       "                        <td id=\"T_6340efa6_aaa5_11ec_9e9c_228e18620e52row6_col3\" class=\"data row6 col3\" >119.8847</td>\n",
       "                        <td id=\"T_6340efa6_aaa5_11ec_9e9c_228e18620e52row6_col4\" class=\"data row6 col4\" >0.5692</td>\n",
       "                        <td id=\"T_6340efa6_aaa5_11ec_9e9c_228e18620e52row6_col5\" class=\"data row6 col5\" >0.8803</td>\n",
       "                        <td id=\"T_6340efa6_aaa5_11ec_9e9c_228e18620e52row6_col6\" class=\"data row6 col6\" >1.7325</td>\n",
       "                        <td id=\"T_6340efa6_aaa5_11ec_9e9c_228e18620e52row6_col7\" class=\"data row6 col7\" >0.0260</td>\n",
       "            </tr>\n",
       "            <tr>\n",
       "                        <th id=\"T_6340efa6_aaa5_11ec_9e9c_228e18620e52level0_row7\" class=\"row_heading level0 row7\" >br</th>\n",
       "                        <td id=\"T_6340efa6_aaa5_11ec_9e9c_228e18620e52row7_col0\" class=\"data row7 col0\" >Bayesian Ridge</td>\n",
       "                        <td id=\"T_6340efa6_aaa5_11ec_9e9c_228e18620e52row7_col1\" class=\"data row7 col1\" >95.4420</td>\n",
       "                        <td id=\"T_6340efa6_aaa5_11ec_9e9c_228e18620e52row7_col2\" class=\"data row7 col2\" >19791.2121</td>\n",
       "                        <td id=\"T_6340efa6_aaa5_11ec_9e9c_228e18620e52row7_col3\" class=\"data row7 col3\" >140.6212</td>\n",
       "                        <td id=\"T_6340efa6_aaa5_11ec_9e9c_228e18620e52row7_col4\" class=\"data row7 col4\" >0.4082</td>\n",
       "                        <td id=\"T_6340efa6_aaa5_11ec_9e9c_228e18620e52row7_col5\" class=\"data row7 col5\" >1.1456</td>\n",
       "                        <td id=\"T_6340efa6_aaa5_11ec_9e9c_228e18620e52row7_col6\" class=\"data row7 col6\" >2.9396</td>\n",
       "                        <td id=\"T_6340efa6_aaa5_11ec_9e9c_228e18620e52row7_col7\" class=\"data row7 col7\" >0.0130</td>\n",
       "            </tr>\n",
       "            <tr>\n",
       "                        <th id=\"T_6340efa6_aaa5_11ec_9e9c_228e18620e52level0_row8\" class=\"row_heading level0 row8\" >ridge</th>\n",
       "                        <td id=\"T_6340efa6_aaa5_11ec_9e9c_228e18620e52row8_col0\" class=\"data row8 col0\" >Ridge Regression</td>\n",
       "                        <td id=\"T_6340efa6_aaa5_11ec_9e9c_228e18620e52row8_col1\" class=\"data row8 col1\" >95.4335</td>\n",
       "                        <td id=\"T_6340efa6_aaa5_11ec_9e9c_228e18620e52row8_col2\" class=\"data row8 col2\" >19795.0583</td>\n",
       "                        <td id=\"T_6340efa6_aaa5_11ec_9e9c_228e18620e52row8_col3\" class=\"data row8 col3\" >140.6345</td>\n",
       "                        <td id=\"T_6340efa6_aaa5_11ec_9e9c_228e18620e52row8_col4\" class=\"data row8 col4\" >0.4081</td>\n",
       "                        <td id=\"T_6340efa6_aaa5_11ec_9e9c_228e18620e52row8_col5\" class=\"data row8 col5\" >1.1469</td>\n",
       "                        <td id=\"T_6340efa6_aaa5_11ec_9e9c_228e18620e52row8_col6\" class=\"data row8 col6\" >2.9369</td>\n",
       "                        <td id=\"T_6340efa6_aaa5_11ec_9e9c_228e18620e52row8_col7\" class=\"data row8 col7\" >0.0060</td>\n",
       "            </tr>\n",
       "            <tr>\n",
       "                        <th id=\"T_6340efa6_aaa5_11ec_9e9c_228e18620e52level0_row9\" class=\"row_heading level0 row9\" >lr</th>\n",
       "                        <td id=\"T_6340efa6_aaa5_11ec_9e9c_228e18620e52row9_col0\" class=\"data row9 col0\" >Linear Regression</td>\n",
       "                        <td id=\"T_6340efa6_aaa5_11ec_9e9c_228e18620e52row9_col1\" class=\"data row9 col1\" >95.4338</td>\n",
       "                        <td id=\"T_6340efa6_aaa5_11ec_9e9c_228e18620e52row9_col2\" class=\"data row9 col2\" >19795.0723</td>\n",
       "                        <td id=\"T_6340efa6_aaa5_11ec_9e9c_228e18620e52row9_col3\" class=\"data row9 col3\" >140.6345</td>\n",
       "                        <td id=\"T_6340efa6_aaa5_11ec_9e9c_228e18620e52row9_col4\" class=\"data row9 col4\" >0.4081</td>\n",
       "                        <td id=\"T_6340efa6_aaa5_11ec_9e9c_228e18620e52row9_col5\" class=\"data row9 col5\" >1.1470</td>\n",
       "                        <td id=\"T_6340efa6_aaa5_11ec_9e9c_228e18620e52row9_col6\" class=\"data row9 col6\" >2.9369</td>\n",
       "                        <td id=\"T_6340efa6_aaa5_11ec_9e9c_228e18620e52row9_col7\" class=\"data row9 col7\" >0.3030</td>\n",
       "            </tr>\n",
       "            <tr>\n",
       "                        <th id=\"T_6340efa6_aaa5_11ec_9e9c_228e18620e52level0_row10\" class=\"row_heading level0 row10\" >lasso</th>\n",
       "                        <td id=\"T_6340efa6_aaa5_11ec_9e9c_228e18620e52row10_col0\" class=\"data row10 col0\" >Lasso Regression</td>\n",
       "                        <td id=\"T_6340efa6_aaa5_11ec_9e9c_228e18620e52row10_col1\" class=\"data row10 col1\" >95.4816</td>\n",
       "                        <td id=\"T_6340efa6_aaa5_11ec_9e9c_228e18620e52row10_col2\" class=\"data row10 col2\" >19798.4567</td>\n",
       "                        <td id=\"T_6340efa6_aaa5_11ec_9e9c_228e18620e52row10_col3\" class=\"data row10 col3\" >140.6469</td>\n",
       "                        <td id=\"T_6340efa6_aaa5_11ec_9e9c_228e18620e52row10_col4\" class=\"data row10 col4\" >0.4080</td>\n",
       "                        <td id=\"T_6340efa6_aaa5_11ec_9e9c_228e18620e52row10_col5\" class=\"data row10 col5\" >1.1460</td>\n",
       "                        <td id=\"T_6340efa6_aaa5_11ec_9e9c_228e18620e52row10_col6\" class=\"data row10 col6\" >2.9355</td>\n",
       "                        <td id=\"T_6340efa6_aaa5_11ec_9e9c_228e18620e52row10_col7\" class=\"data row10 col7\" >0.0140</td>\n",
       "            </tr>\n",
       "            <tr>\n",
       "                        <th id=\"T_6340efa6_aaa5_11ec_9e9c_228e18620e52level0_row11\" class=\"row_heading level0 row11\" >en</th>\n",
       "                        <td id=\"T_6340efa6_aaa5_11ec_9e9c_228e18620e52row11_col0\" class=\"data row11 col0\" >Elastic Net</td>\n",
       "                        <td id=\"T_6340efa6_aaa5_11ec_9e9c_228e18620e52row11_col1\" class=\"data row11 col1\" >95.7506</td>\n",
       "                        <td id=\"T_6340efa6_aaa5_11ec_9e9c_228e18620e52row11_col2\" class=\"data row11 col2\" >19807.6640</td>\n",
       "                        <td id=\"T_6340efa6_aaa5_11ec_9e9c_228e18620e52row11_col3\" class=\"data row11 col3\" >140.6811</td>\n",
       "                        <td id=\"T_6340efa6_aaa5_11ec_9e9c_228e18620e52row11_col4\" class=\"data row11 col4\" >0.4076</td>\n",
       "                        <td id=\"T_6340efa6_aaa5_11ec_9e9c_228e18620e52row11_col5\" class=\"data row11 col5\" >1.1515</td>\n",
       "                        <td id=\"T_6340efa6_aaa5_11ec_9e9c_228e18620e52row11_col6\" class=\"data row11 col6\" >2.9767</td>\n",
       "                        <td id=\"T_6340efa6_aaa5_11ec_9e9c_228e18620e52row11_col7\" class=\"data row11 col7\" >0.0140</td>\n",
       "            </tr>\n",
       "            <tr>\n",
       "                        <th id=\"T_6340efa6_aaa5_11ec_9e9c_228e18620e52level0_row12\" class=\"row_heading level0 row12\" >huber</th>\n",
       "                        <td id=\"T_6340efa6_aaa5_11ec_9e9c_228e18620e52row12_col0\" class=\"data row12 col0\" >Huber Regressor</td>\n",
       "                        <td id=\"T_6340efa6_aaa5_11ec_9e9c_228e18620e52row12_col1\" class=\"data row12 col1\" >90.6718</td>\n",
       "                        <td id=\"T_6340efa6_aaa5_11ec_9e9c_228e18620e52row12_col2\" class=\"data row12 col2\" >20938.6583</td>\n",
       "                        <td id=\"T_6340efa6_aaa5_11ec_9e9c_228e18620e52row12_col3\" class=\"data row12 col3\" >144.6140</td>\n",
       "                        <td id=\"T_6340efa6_aaa5_11ec_9e9c_228e18620e52row12_col4\" class=\"data row12 col4\" >0.3746</td>\n",
       "                        <td id=\"T_6340efa6_aaa5_11ec_9e9c_228e18620e52row12_col5\" class=\"data row12 col5\" >1.0508</td>\n",
       "                        <td id=\"T_6340efa6_aaa5_11ec_9e9c_228e18620e52row12_col6\" class=\"data row12 col6\" >2.0890</td>\n",
       "                        <td id=\"T_6340efa6_aaa5_11ec_9e9c_228e18620e52row12_col7\" class=\"data row12 col7\" >0.0250</td>\n",
       "            </tr>\n",
       "            <tr>\n",
       "                        <th id=\"T_6340efa6_aaa5_11ec_9e9c_228e18620e52level0_row13\" class=\"row_heading level0 row13\" >omp</th>\n",
       "                        <td id=\"T_6340efa6_aaa5_11ec_9e9c_228e18620e52row13_col0\" class=\"data row13 col0\" >Orthogonal Matching Pursuit</td>\n",
       "                        <td id=\"T_6340efa6_aaa5_11ec_9e9c_228e18620e52row13_col1\" class=\"data row13 col1\" >114.0247</td>\n",
       "                        <td id=\"T_6340efa6_aaa5_11ec_9e9c_228e18620e52row13_col2\" class=\"data row13 col2\" >25192.1539</td>\n",
       "                        <td id=\"T_6340efa6_aaa5_11ec_9e9c_228e18620e52row13_col3\" class=\"data row13 col3\" >158.6712</td>\n",
       "                        <td id=\"T_6340efa6_aaa5_11ec_9e9c_228e18620e52row13_col4\" class=\"data row13 col4\" >0.2465</td>\n",
       "                        <td id=\"T_6340efa6_aaa5_11ec_9e9c_228e18620e52row13_col5\" class=\"data row13 col5\" >1.4630</td>\n",
       "                        <td id=\"T_6340efa6_aaa5_11ec_9e9c_228e18620e52row13_col6\" class=\"data row13 col6\" >5.6122</td>\n",
       "                        <td id=\"T_6340efa6_aaa5_11ec_9e9c_228e18620e52row13_col7\" class=\"data row13 col7\" >0.0110</td>\n",
       "            </tr>\n",
       "            <tr>\n",
       "                        <th id=\"T_6340efa6_aaa5_11ec_9e9c_228e18620e52level0_row14\" class=\"row_heading level0 row14\" >llar</th>\n",
       "                        <td id=\"T_6340efa6_aaa5_11ec_9e9c_228e18620e52row14_col0\" class=\"data row14 col0\" >Lasso Least Angle Regression</td>\n",
       "                        <td id=\"T_6340efa6_aaa5_11ec_9e9c_228e18620e52row14_col1\" class=\"data row14 col1\" >139.5225</td>\n",
       "                        <td id=\"T_6340efa6_aaa5_11ec_9e9c_228e18620e52row14_col2\" class=\"data row14 col2\" >32040.9993</td>\n",
       "                        <td id=\"T_6340efa6_aaa5_11ec_9e9c_228e18620e52row14_col3\" class=\"data row14 col3\" >178.9113</td>\n",
       "                        <td id=\"T_6340efa6_aaa5_11ec_9e9c_228e18620e52row14_col4\" class=\"data row14 col4\" >0.0430</td>\n",
       "                        <td id=\"T_6340efa6_aaa5_11ec_9e9c_228e18620e52row14_col5\" class=\"data row14 col5\" >1.8107</td>\n",
       "                        <td id=\"T_6340efa6_aaa5_11ec_9e9c_228e18620e52row14_col6\" class=\"data row14 col6\" >9.0169</td>\n",
       "                        <td id=\"T_6340efa6_aaa5_11ec_9e9c_228e18620e52row14_col7\" class=\"data row14 col7\" >0.0080</td>\n",
       "            </tr>\n",
       "            <tr>\n",
       "                        <th id=\"T_6340efa6_aaa5_11ec_9e9c_228e18620e52level0_row15\" class=\"row_heading level0 row15\" >dummy</th>\n",
       "                        <td id=\"T_6340efa6_aaa5_11ec_9e9c_228e18620e52row15_col0\" class=\"data row15 col0\" >Dummy Regressor</td>\n",
       "                        <td id=\"T_6340efa6_aaa5_11ec_9e9c_228e18620e52row15_col1\" class=\"data row15 col1\" >143.3800</td>\n",
       "                        <td id=\"T_6340efa6_aaa5_11ec_9e9c_228e18620e52row15_col2\" class=\"data row15 col2\" >33515.1194</td>\n",
       "                        <td id=\"T_6340efa6_aaa5_11ec_9e9c_228e18620e52row15_col3\" class=\"data row15 col3\" >182.9872</td>\n",
       "                        <td id=\"T_6340efa6_aaa5_11ec_9e9c_228e18620e52row15_col4\" class=\"data row15 col4\" >-0.0012</td>\n",
       "                        <td id=\"T_6340efa6_aaa5_11ec_9e9c_228e18620e52row15_col5\" class=\"data row15 col5\" >1.8361</td>\n",
       "                        <td id=\"T_6340efa6_aaa5_11ec_9e9c_228e18620e52row15_col6\" class=\"data row15 col6\" >9.3751</td>\n",
       "                        <td id=\"T_6340efa6_aaa5_11ec_9e9c_228e18620e52row15_col7\" class=\"data row15 col7\" >0.0110</td>\n",
       "            </tr>\n",
       "            <tr>\n",
       "                        <th id=\"T_6340efa6_aaa5_11ec_9e9c_228e18620e52level0_row16\" class=\"row_heading level0 row16\" >par</th>\n",
       "                        <td id=\"T_6340efa6_aaa5_11ec_9e9c_228e18620e52row16_col0\" class=\"data row16 col0\" >Passive Aggressive Regressor</td>\n",
       "                        <td id=\"T_6340efa6_aaa5_11ec_9e9c_228e18620e52row16_col1\" class=\"data row16 col1\" >142.1182</td>\n",
       "                        <td id=\"T_6340efa6_aaa5_11ec_9e9c_228e18620e52row16_col2\" class=\"data row16 col2\" >36828.9407</td>\n",
       "                        <td id=\"T_6340efa6_aaa5_11ec_9e9c_228e18620e52row16_col3\" class=\"data row16 col3\" >184.9142</td>\n",
       "                        <td id=\"T_6340efa6_aaa5_11ec_9e9c_228e18620e52row16_col4\" class=\"data row16 col4\" >-0.1199</td>\n",
       "                        <td id=\"T_6340efa6_aaa5_11ec_9e9c_228e18620e52row16_col5\" class=\"data row16 col5\" >1.4699</td>\n",
       "                        <td id=\"T_6340efa6_aaa5_11ec_9e9c_228e18620e52row16_col6\" class=\"data row16 col6\" >5.8917</td>\n",
       "                        <td id=\"T_6340efa6_aaa5_11ec_9e9c_228e18620e52row16_col7\" class=\"data row16 col7\" >0.0090</td>\n",
       "            </tr>\n",
       "            <tr>\n",
       "                        <th id=\"T_6340efa6_aaa5_11ec_9e9c_228e18620e52level0_row17\" class=\"row_heading level0 row17\" >lar</th>\n",
       "                        <td id=\"T_6340efa6_aaa5_11ec_9e9c_228e18620e52row17_col0\" class=\"data row17 col0\" >Least Angle Regression</td>\n",
       "                        <td id=\"T_6340efa6_aaa5_11ec_9e9c_228e18620e52row17_col1\" class=\"data row17 col1\" >217.5991</td>\n",
       "                        <td id=\"T_6340efa6_aaa5_11ec_9e9c_228e18620e52row17_col2\" class=\"data row17 col2\" >205752.7046</td>\n",
       "                        <td id=\"T_6340efa6_aaa5_11ec_9e9c_228e18620e52row17_col3\" class=\"data row17 col3\" >307.7870</td>\n",
       "                        <td id=\"T_6340efa6_aaa5_11ec_9e9c_228e18620e52row17_col4\" class=\"data row17 col4\" >-5.6650</td>\n",
       "                        <td id=\"T_6340efa6_aaa5_11ec_9e9c_228e18620e52row17_col5\" class=\"data row17 col5\" >1.3790</td>\n",
       "                        <td id=\"T_6340efa6_aaa5_11ec_9e9c_228e18620e52row17_col6\" class=\"data row17 col6\" >9.2683</td>\n",
       "                        <td id=\"T_6340efa6_aaa5_11ec_9e9c_228e18620e52row17_col7\" class=\"data row17 col7\" >0.0100</td>\n",
       "            </tr>\n",
       "    </tbody></table>"
      ],
      "text/plain": [
       "<pandas.io.formats.style.Styler at 0x7fbe5a84dc50>"
      ]
     },
     "metadata": {},
     "output_type": "display_data"
    }
   ],
   "source": [
    "best = compare_models()"
   ]
  },
  {
   "cell_type": "code",
   "execution_count": 36,
   "metadata": {},
   "outputs": [
    {
     "data": {
      "text/html": [
       "<div>\n",
       "<style scoped>\n",
       "    .dataframe tbody tr th:only-of-type {\n",
       "        vertical-align: middle;\n",
       "    }\n",
       "\n",
       "    .dataframe tbody tr th {\n",
       "        vertical-align: top;\n",
       "    }\n",
       "\n",
       "    .dataframe thead th {\n",
       "        text-align: right;\n",
       "    }\n",
       "</style>\n",
       "<table border=\"1\" class=\"dataframe\">\n",
       "  <thead>\n",
       "    <tr style=\"text-align: right;\">\n",
       "      <th></th>\n",
       "      <th>Parameters</th>\n",
       "    </tr>\n",
       "  </thead>\n",
       "  <tbody>\n",
       "    <tr>\n",
       "      <th>boosting_type</th>\n",
       "      <td>gbdt</td>\n",
       "    </tr>\n",
       "    <tr>\n",
       "      <th>class_weight</th>\n",
       "      <td>None</td>\n",
       "    </tr>\n",
       "    <tr>\n",
       "      <th>colsample_bytree</th>\n",
       "      <td>1.0</td>\n",
       "    </tr>\n",
       "    <tr>\n",
       "      <th>importance_type</th>\n",
       "      <td>split</td>\n",
       "    </tr>\n",
       "    <tr>\n",
       "      <th>learning_rate</th>\n",
       "      <td>0.1</td>\n",
       "    </tr>\n",
       "    <tr>\n",
       "      <th>max_depth</th>\n",
       "      <td>-1</td>\n",
       "    </tr>\n",
       "    <tr>\n",
       "      <th>min_child_samples</th>\n",
       "      <td>20</td>\n",
       "    </tr>\n",
       "    <tr>\n",
       "      <th>min_child_weight</th>\n",
       "      <td>0.001</td>\n",
       "    </tr>\n",
       "    <tr>\n",
       "      <th>min_split_gain</th>\n",
       "      <td>0.0</td>\n",
       "    </tr>\n",
       "    <tr>\n",
       "      <th>n_estimators</th>\n",
       "      <td>100</td>\n",
       "    </tr>\n",
       "    <tr>\n",
       "      <th>n_jobs</th>\n",
       "      <td>-1</td>\n",
       "    </tr>\n",
       "    <tr>\n",
       "      <th>num_leaves</th>\n",
       "      <td>31</td>\n",
       "    </tr>\n",
       "    <tr>\n",
       "      <th>objective</th>\n",
       "      <td>None</td>\n",
       "    </tr>\n",
       "    <tr>\n",
       "      <th>random_state</th>\n",
       "      <td>3006</td>\n",
       "    </tr>\n",
       "    <tr>\n",
       "      <th>reg_alpha</th>\n",
       "      <td>0.0</td>\n",
       "    </tr>\n",
       "    <tr>\n",
       "      <th>reg_lambda</th>\n",
       "      <td>0.0</td>\n",
       "    </tr>\n",
       "    <tr>\n",
       "      <th>silent</th>\n",
       "      <td>True</td>\n",
       "    </tr>\n",
       "    <tr>\n",
       "      <th>subsample</th>\n",
       "      <td>1.0</td>\n",
       "    </tr>\n",
       "    <tr>\n",
       "      <th>subsample_for_bin</th>\n",
       "      <td>200000</td>\n",
       "    </tr>\n",
       "    <tr>\n",
       "      <th>subsample_freq</th>\n",
       "      <td>0</td>\n",
       "    </tr>\n",
       "  </tbody>\n",
       "</table>\n",
       "</div>"
      ],
      "text/plain": [
       "                  Parameters\n",
       "boosting_type           gbdt\n",
       "class_weight            None\n",
       "colsample_bytree         1.0\n",
       "importance_type        split\n",
       "learning_rate            0.1\n",
       "max_depth                 -1\n",
       "min_child_samples         20\n",
       "min_child_weight       0.001\n",
       "min_split_gain           0.0\n",
       "n_estimators             100\n",
       "n_jobs                    -1\n",
       "num_leaves                31\n",
       "objective               None\n",
       "random_state            3006\n",
       "reg_alpha                0.0\n",
       "reg_lambda               0.0\n",
       "silent                  True\n",
       "subsample                1.0\n",
       "subsample_for_bin     200000\n",
       "subsample_freq             0"
      ]
     },
     "metadata": {},
     "output_type": "display_data"
    }
   ],
   "source": [
    "evaluate_model(best)"
   ]
  },
  {
   "cell_type": "code",
   "execution_count": 37,
   "metadata": {},
   "outputs": [
    {
     "data": {
      "text/html": [
       "<style  type=\"text/css\" >\n",
       "</style><table id=\"T_6373ed0c_aaa5_11ec_b0e1_228e18620e52\" ><thead>    <tr>        <th class=\"blank level0\" ></th>        <th class=\"col_heading level0 col0\" >Model</th>        <th class=\"col_heading level0 col1\" >MAE</th>        <th class=\"col_heading level0 col2\" >MSE</th>        <th class=\"col_heading level0 col3\" >RMSE</th>        <th class=\"col_heading level0 col4\" >R2</th>        <th class=\"col_heading level0 col5\" >RMSLE</th>        <th class=\"col_heading level0 col6\" >MAPE</th>    </tr></thead><tbody>\n",
       "                <tr>\n",
       "                        <th id=\"T_6373ed0c_aaa5_11ec_b0e1_228e18620e52level0_row0\" class=\"row_heading level0 row0\" >0</th>\n",
       "                        <td id=\"T_6373ed0c_aaa5_11ec_b0e1_228e18620e52row0_col0\" class=\"data row0 col0\" >Light Gradient Boosting Machine</td>\n",
       "                        <td id=\"T_6373ed0c_aaa5_11ec_b0e1_228e18620e52row0_col1\" class=\"data row0 col1\" >32.0853</td>\n",
       "                        <td id=\"T_6373ed0c_aaa5_11ec_b0e1_228e18620e52row0_col2\" class=\"data row0 col2\" >2616.5082</td>\n",
       "                        <td id=\"T_6373ed0c_aaa5_11ec_b0e1_228e18620e52row0_col3\" class=\"data row0 col3\" >51.1518</td>\n",
       "                        <td id=\"T_6373ed0c_aaa5_11ec_b0e1_228e18620e52row0_col4\" class=\"data row0 col4\" >0.9207</td>\n",
       "                        <td id=\"T_6373ed0c_aaa5_11ec_b0e1_228e18620e52row0_col5\" class=\"data row0 col5\" >0.3897</td>\n",
       "                        <td id=\"T_6373ed0c_aaa5_11ec_b0e1_228e18620e52row0_col6\" class=\"data row0 col6\" >0.3854</td>\n",
       "            </tr>\n",
       "    </tbody></table>"
      ],
      "text/plain": [
       "<pandas.io.formats.style.Styler at 0x7fbe39466940>"
      ]
     },
     "metadata": {},
     "output_type": "display_data"
    }
   ],
   "source": [
    "predictions = predict_model(best, data= df_pycaret)"
   ]
  },
  {
   "cell_type": "code",
   "execution_count": 38,
   "metadata": {},
   "outputs": [
    {
     "name": "stdout",
     "output_type": "stream",
     "text": [
      "Transformation Pipeline and Model Successfully Saved\n"
     ]
    },
    {
     "data": {
      "text/plain": [
       "(Pipeline(memory=None,\n",
       "          steps=[('dtypes',\n",
       "                  DataTypes_Auto_infer(categorical_features=[],\n",
       "                                       display_types=True, features_todrop=[],\n",
       "                                       id_columns=[], ml_usecase='regression',\n",
       "                                       numerical_features=[], target='count',\n",
       "                                       time_features=[])),\n",
       "                 ('imputer',\n",
       "                  Simple_Imputer(categorical_strategy='not_available',\n",
       "                                 fill_value_categorical=None,\n",
       "                                 fill_value_numerical=None,\n",
       "                                 numeric_strategy='...\n",
       "                  LGBMRegressor(boosting_type='gbdt', class_weight=None,\n",
       "                                colsample_bytree=1.0, importance_type='split',\n",
       "                                learning_rate=0.1, max_depth=-1,\n",
       "                                min_child_samples=20, min_child_weight=0.001,\n",
       "                                min_split_gain=0.0, n_estimators=100, n_jobs=-1,\n",
       "                                num_leaves=31, objective=None, random_state=3006,\n",
       "                                reg_alpha=0.0, reg_lambda=0.0, silent=True,\n",
       "                                subsample=1.0, subsample_for_bin=200000,\n",
       "                                subsample_freq=0)]],\n",
       "          verbose=False),\n",
       " 'my_best_model.pkl')"
      ]
     },
     "execution_count": 38,
     "metadata": {},
     "output_type": "execute_result"
    }
   ],
   "source": [
    "save_model(best, 'my_best_model')"
   ]
  },
  {
   "cell_type": "code",
   "execution_count": 39,
   "metadata": {},
   "outputs": [],
   "source": [
    "from lightgbm import LGBMRegressor"
   ]
  },
  {
   "cell_type": "code",
   "execution_count": 40,
   "metadata": {},
   "outputs": [
    {
     "data": {
      "text/plain": [
       "0.8961834818659841"
      ]
     },
     "execution_count": 40,
     "metadata": {},
     "output_type": "execute_result"
    }
   ],
   "source": [
    "#Model: Random Forest\n",
    "lgbm = LGBMRegressor(boosting_type='gbdt', class_weight=None,\n",
    "                    colsample_bytree=1.0, importance_type='split',\n",
    "                    learning_rate=0.1, max_depth=-1,\n",
    "                    min_child_samples=20, min_child_weight=0.001,\n",
    "                    min_split_gain=0.0, n_estimators=100, n_jobs=-1,\n",
    "                    num_leaves=31, objective=None, random_state=5388,\n",
    "                    reg_alpha=0.0, reg_lambda=0.0, silent='warn',\n",
    "                    subsample=1.0, subsample_for_bin=200000,\n",
    "                    subsample_freq=0)\n",
    "\n",
    "#Features et pipelines\n",
    "scaled_features = ['temp', 'atemp', 'humidity', 'windspeed', 'hours', 'HI', 'months'] \n",
    "scaled_pipeline = make_pipeline(StandardScaler())\n",
    "encoded_features = ['season','weather','workingday', 'holiday', 'week_days']\n",
    "encoded_pipeline = make_pipeline(OneHotEncoder())\n",
    "\n",
    "\n",
    "#preprocessing et main pipeline\n",
    "preprocessing = make_column_transformer((scaled_pipeline, scaled_features),(encoded_pipeline, encoded_features))\n",
    "model = make_pipeline(preprocessing, lgbm)\n",
    "\n",
    "#fit et score\n",
    "model.fit(X_train, y_train)\n",
    "model.score(X_test, y_test)"
   ]
  }
 ],
 "metadata": {
  "interpreter": {
   "hash": "916dbcbb3f70747c44a77c7bcd40155683ae19c65e1c03b4aa3499c5328201f1"
  },
  "kernelspec": {
   "display_name": "Python 3.8.10 64-bit",
   "language": "python",
   "name": "python3"
  },
  "language_info": {
   "codemirror_mode": {
    "name": "ipython",
    "version": 3
   },
   "file_extension": ".py",
   "mimetype": "text/x-python",
   "name": "python",
   "nbconvert_exporter": "python",
   "pygments_lexer": "ipython3",
   "version": "3.6.13"
  },
  "orig_nbformat": 4
 },
 "nbformat": 4,
 "nbformat_minor": 2
}
