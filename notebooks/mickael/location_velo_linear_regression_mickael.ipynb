{
 "cells": [
  {
   "cell_type": "code",
   "execution_count": 1,
   "metadata": {},
   "outputs": [],
   "source": [
    "import pandas as pd\n",
    "import numpy as np\n",
    "import seaborn as sns\n",
    "import matplotlib.pyplot as plt\n",
    "import plotly.express as px\n",
    "\n",
    "import statsmodels.api as sm\n",
    "import statsmodels.formula.api as smf\n",
    "from statsmodels.compat import lzip\n",
    "from statsmodels.stats.diagnostic import het_breuschpagan\n",
    "from scipy.stats import t, shapiro\n",
    "from statsmodels.stats.outliers_influence import variance_inflation_factor\n",
    "\n",
    "from sklearn.preprocessing import StandardScaler, RobustScaler, MinMaxScaler, PolynomialFeatures, OneHotEncoder, LabelEncoder\n",
    "from sklearn.pipeline import make_pipeline\n",
    "from sklearn.compose import make_column_transformer\n",
    "from sklearn.linear_model import LinearRegression\n",
    "from sklearn.ensemble import RandomForestRegressor\n",
    "from sklearn.svm import SVR\n",
    "from sklearn.model_selection import train_test_split, cross_val_score\n",
    "from sklearn.metrics import r2_score, mean_squared_error"
   ]
  },
  {
   "cell_type": "code",
   "execution_count": 206,
   "metadata": {},
   "outputs": [],
   "source": [
    "df_train_modify = pd.read_csv('../../csv/train_modifie.csv')\n",
    "df_test_modify = pd.read_csv('../../csv/test_modifie.csv')"
   ]
  },
  {
   "cell_type": "code",
   "execution_count": 180,
   "metadata": {},
   "outputs": [],
   "source": [
    "df_train = df_train_modify.drop(['day_length'], axis=1)\n",
    "df_test = df_test_modify.drop(['day_length'], axis=1)"
   ]
  },
  {
   "cell_type": "code",
   "execution_count": 192,
   "metadata": {},
   "outputs": [],
   "source": [
    "X_train = df_train.drop(['registered', 'casual'], axis=1)\n",
    "y_train_registered = df_train['registered']\n",
    "y_train_casual = df_train['casual']"
   ]
  },
  {
   "cell_type": "code",
   "execution_count": 193,
   "metadata": {},
   "outputs": [],
   "source": [
    "X_test = df_test.drop(['registered', 'casual'], axis=1)\n",
    "y_test_registered = df_test['registered']\n",
    "y_test_casual = df_test['casual']"
   ]
  },
  {
   "cell_type": "markdown",
   "metadata": {},
   "source": [
    "# Preprocessing"
   ]
  },
  {
   "cell_type": "code",
   "execution_count": 183,
   "metadata": {},
   "outputs": [],
   "source": [
    "#Features et pipelines\n",
    "scaled_features = ['temp', 'atemp', 'windspeed', 'humidity','years'] \n",
    "scaled_pipeline = make_pipeline(StandardScaler(), PolynomialFeatures(degree=2))\n",
    "encoded_features = ['season','weather', 'week_days', 'months', 'hours']\n",
    "encoded_pipeline = make_pipeline(OneHotEncoder(handle_unknown='ignore'))\n",
    "\n",
    "#preprocessing et main pipeline\n",
    "preprocessor = make_column_transformer((scaled_pipeline, scaled_features),(encoded_pipeline, encoded_features), remainder='passthrough')"
   ]
  },
  {
   "cell_type": "code",
   "execution_count": 184,
   "metadata": {},
   "outputs": [],
   "source": [
    "X_test_new = preprocessor.fit_transform(X_test)\n",
    "X_test_new_df = pd.DataFrame(X_test_new)\n",
    "\n",
    "features_name = {}\n",
    "for i in range(X_test_new.shape[1]):\n",
    "    features_name[i] = preprocessor.get_feature_names_out()[i].replace(\" \",\"\").replace(\"^\",\"_\").replace('pipeline-1__','').replace('pipeline-2__','')\n",
    "X_test_new_df = X_test_new_df.rename(columns=features_name)\n",
    "\n",
    "X_train_new = preprocessor.fit_transform(X_train)\n",
    "X_train_new_df = pd.DataFrame(X_train_new)\n",
    "\n",
    "features_name = {}\n",
    "for i in range(X_train_new.shape[1]):\n",
    "    # features_name[i] = poly_features.get_feature_names_out()[i].replace(\" \",\"\").replace(\"^\",\"_\")\n",
    "    features_name[i] = preprocessor.get_feature_names_out()[i].replace(\" \",\"\").replace(\"^\",\"_\").replace('pipeline-1__','').replace('pipeline-2__','')\n",
    "X_train_new_df = X_train_new_df.rename(columns=features_name)\n",
    "df_new_registered = X_train_new_df.join(y_train_registered)\n",
    "df_new_casual = X_train_new_df.join(y_train_casual)"
   ]
  },
  {
   "cell_type": "code",
   "execution_count": 185,
   "metadata": {},
   "outputs": [],
   "source": [
    "formula = 'registered ~ '\n",
    "max = X_train_new.shape[1]\n",
    "for i in range(0,max):\n",
    "    if i != max-1:\n",
    "        formula += preprocessor.get_feature_names_out()[i] + ' + '\n",
    "    if i == max-1:\n",
    "        formula += preprocessor.get_feature_names_out()[i]\n",
    "# formula = formula.replace(\" \",\"\").replace(\"^\",\"_\")\n",
    "formula = formula.replace(\" \",\"\").replace(\"^\",\"_\").replace('pipeline-1__','').replace('pipeline-2__','')"
   ]
  },
  {
   "cell_type": "code",
   "execution_count": 186,
   "metadata": {},
   "outputs": [
    {
     "name": "stdout",
     "output_type": "stream",
     "text": [
      "                            OLS Regression Results                            \n",
      "==============================================================================\n",
      "Dep. Variable:             registered   R-squared:                       0.707\n",
      "Model:                            OLS   Adj. R-squared:                  0.705\n",
      "Method:                 Least Squares   F-statistic:                     338.8\n",
      "Date:                Sun, 03 Apr 2022   Prob (F-statistic):               0.00\n",
      "Time:                        22:29:09   Log-Likelihood:                -51927.\n",
      "No. Observations:                9039   AIC:                         1.040e+05\n",
      "Df Residuals:                    8974   BIC:                         1.044e+05\n",
      "Df Model:                          64                                         \n",
      "Covariance Type:            nonrobust                                         \n",
      "=========================================================================================\n",
      "                            coef    std err          t      P>|t|      [0.025      0.975]\n",
      "-----------------------------------------------------------------------------------------\n",
      "Intercept                21.0421      6.981      3.014      0.003       7.357      34.727\n",
      "temp                      6.5948     10.105      0.653      0.514     -13.213      26.403\n",
      "atemp                    12.1440      9.647      1.259      0.208      -6.766      31.053\n",
      "windspeed                -1.3336      1.160     -1.150      0.250      -3.607       0.940\n",
      "humidity                -11.8945      1.201     -9.905      0.000     -14.248      -9.541\n",
      "years                    22.4127      2.597      8.632      0.000      17.323      27.503\n",
      "temp_2                   29.6316     42.092      0.704      0.481     -52.879     112.142\n",
      "tempatemp               -88.8199     85.115     -1.044      0.297    -255.664      78.024\n",
      "tempwindspeed             6.7894      6.829      0.994      0.320      -6.597      20.176\n",
      "temphumidity            -14.1095      7.368     -1.915      0.056     -28.553       0.334\n",
      "tempyears               -12.5598      7.304     -1.720      0.086     -26.877       1.757\n",
      "atemp_2                  56.9234     43.282      1.315      0.188     -27.918     141.765\n",
      "atempwindspeed           -3.3518      6.946     -0.483      0.629     -16.968      10.264\n",
      "atemphumidity             2.1597      7.479      0.289      0.773     -12.501      16.820\n",
      "atempyears               16.7689      7.268      2.307      0.021       2.521      31.016\n",
      "windspeed_2              -2.2156      0.629     -3.524      0.000      -3.448      -0.983\n",
      "windspeedhumidity        -2.1869      0.930     -2.352      0.019      -4.009      -0.364\n",
      "windspeedyears            3.1956      0.912      3.504      0.000       1.408       4.984\n",
      "humidity_2               -5.4828      0.875     -6.265      0.000      -7.198      -3.767\n",
      "humidityyears            -7.3879      0.924     -7.992      0.000      -9.200      -5.576\n",
      "years_2                  30.1772      5.981      5.046      0.000      18.454      41.901\n",
      "season_1                  6.2676      2.107      2.975      0.003       2.137      10.398\n",
      "season_2                  9.2988      2.836      3.279      0.001       3.739      14.858\n",
      "season_3                 23.9379      2.349     10.193      0.000      19.334      28.542\n",
      "season_4                -18.4621      2.602     -7.096      0.000     -23.562     -13.362\n",
      "weather_1                55.4304     17.393      3.187      0.001      21.336      89.525\n",
      "weather_2                51.0697     17.393      2.936      0.003      16.976      85.163\n",
      "weather_3                10.1798     17.491      0.582      0.561     -24.107      44.466\n",
      "weather_4               -95.6379     58.878     -1.624      0.104    -211.051      19.776\n",
      "week_days_1              -0.6350      2.018     -0.315      0.753      -4.591       3.321\n",
      "week_days_2               7.7108      2.133      3.614      0.000       3.529      11.893\n",
      "week_days_3               6.0448      2.104      2.873      0.004       1.921      10.169\n",
      "week_days_4              11.0531      2.102      5.259      0.000       6.933      15.173\n",
      "week_days_5               5.2789      2.074      2.545      0.011       1.213       9.345\n",
      "week_days_6               0.9050      2.802      0.323      0.747      -4.588       6.398\n",
      "week_days_7              -9.3157      2.787     -3.343      0.001     -14.778      -3.853\n",
      "months_1                -15.6041      2.566     -6.082      0.000     -20.633     -10.575\n",
      "months_2                 -3.7504      2.348     -1.597      0.110      -8.354       0.853\n",
      "months_3                  0.8923      2.301      0.388      0.698      -3.619       5.403\n",
      "months_4                -17.9041      2.555     -7.009      0.000     -22.912     -12.897\n",
      "months_5                 13.7287      2.233      6.149      0.000       9.352      18.105\n",
      "months_6                 10.4430      2.635      3.964      0.000       5.278      15.608\n",
      "months_7                -11.2807      2.717     -4.152      0.000     -16.607      -5.955\n",
      "months_8                  3.6589      2.537      1.442      0.149      -1.315       8.633\n",
      "months_9                 16.9206      3.107      5.446      0.000      10.831      23.011\n",
      "months_10                 9.6989      3.179      3.051      0.002       3.468      15.930\n",
      "months_11                 6.2738      3.055      2.054      0.040       0.286      12.262\n",
      "months_12                 7.9652      3.253      2.449      0.014       1.589      14.342\n",
      "hours_0                 -71.6005      4.375    -16.366      0.000     -80.176     -63.025\n",
      "hours_1                 -84.4901      4.388    -19.254      0.000     -93.092     -75.888\n",
      "hours_2                 -92.3375      4.430    -20.842      0.000    -101.022     -83.653\n",
      "hours_3                -100.6766      4.519    -22.279      0.000    -109.535     -91.818\n",
      "hours_4                -101.7486      4.494    -22.641      0.000    -110.558     -92.939\n",
      "hours_5                 -88.9675      4.459    -19.953      0.000     -97.708     -80.227\n",
      "hours_6                 -48.6951      4.082    -11.930      0.000     -56.696     -40.694\n",
      "hours_7                  54.7244      3.927     13.935      0.000      47.026      62.423\n",
      "hours_8                 167.0170      4.033     41.410      0.000     159.111     174.923\n",
      "hours_9                  17.7314      4.312      4.112      0.000       9.279      26.184\n",
      "hours_10                -45.3843      4.300    -10.554      0.000     -53.814     -36.955\n",
      "hours_11                -31.7102      4.315     -7.349      0.000     -40.168     -23.252\n",
      "hours_12                 -2.0051      4.341     -0.462      0.644     -10.515       6.505\n",
      "hours_13                 -8.7767      4.381     -2.003      0.045     -17.365      -0.188\n",
      "hours_14                -25.9916      4.416     -5.886      0.000     -34.648     -17.336\n",
      "hours_15                -17.5333      4.432     -3.957      0.000     -26.220      -8.847\n",
      "hours_16                 40.4072      4.420      9.142      0.000      31.743      49.072\n",
      "hours_17                188.8868      4.391     43.022      0.000     180.280     197.493\n",
      "hours_18                175.0548      4.197     41.708      0.000     166.827     183.282\n",
      "hours_19                 93.5446      3.893     24.029      0.000      85.913     101.176\n",
      "hours_20                 40.2569      3.874     10.392      0.000      32.663      47.850\n",
      "hours_21                 18.0436      4.349      4.149      0.000       9.519      26.568\n",
      "hours_22                -10.9083      4.350     -2.508      0.012     -19.436      -2.381\n",
      "hours_23                -43.7992      4.358    -10.051      0.000     -52.341     -35.257\n",
      "remainder__holiday        4.7425      4.108      1.154      0.248      -3.310      12.795\n",
      "remainder__workingday    24.7103      2.224     11.112      0.000      20.351      29.069\n",
      "remainder__sunrisen      45.2761      3.952     11.456      0.000      37.529      53.023\n",
      "==============================================================================\n",
      "Omnibus:                      595.571   Durbin-Watson:                   0.650\n",
      "Prob(Omnibus):                  0.000   Jarque-Bera (JB):             1914.491\n",
      "Skew:                           0.306   Prob(JB):                         0.00\n",
      "Kurtosis:                       5.170   Cond. No.                     2.58e+16\n",
      "==============================================================================\n",
      "\n",
      "Notes:\n",
      "[1] Standard Errors assume that the covariance matrix of the errors is correctly specified.\n",
      "[2] The smallest eigenvalue is 1.48e-28. This might indicate that there are\n",
      "strong multicollinearity problems or that the design matrix is singular.\n"
     ]
    }
   ],
   "source": [
    "ols_model = smf.ols(formula, data=df_new_registered)\n",
    "# ols_model = sm.OLS(y_train,X_train_new)\n",
    "ols_res = ols_model.fit()\n",
    "print(ols_res.summary())"
   ]
  },
  {
   "cell_type": "code",
   "execution_count": 196,
   "metadata": {},
   "outputs": [
    {
     "data": {
      "text/plain": [
       "0.6421169720732637"
      ]
     },
     "execution_count": 196,
     "metadata": {},
     "output_type": "execute_result"
    }
   ],
   "source": [
    "lg = LinearRegression()\n",
    "model_registered = make_pipeline(preprocessor, lg)\n",
    "model_registered.fit(X_train,y_train_registered)\n",
    "y_pred_registered = model_registered.predict(X_test)\n",
    "model_registered.score(X_test,y_test_registered)"
   ]
  },
  {
   "cell_type": "code",
   "execution_count": 197,
   "metadata": {},
   "outputs": [],
   "source": [
    "import pickle\n",
    "  \n",
    "with open('../../app/model_registered_linear.pkl', 'wb') as file:\n",
    "    pickle.dump(model_registered, file)"
   ]
  },
  {
   "cell_type": "code",
   "execution_count": 198,
   "metadata": {},
   "outputs": [
    {
     "data": {
      "text/plain": [
       "0.6327017599692109"
      ]
     },
     "execution_count": 198,
     "metadata": {},
     "output_type": "execute_result"
    }
   ],
   "source": [
    "lg = LinearRegression()\n",
    "model_casual = make_pipeline(preprocessor, lg)\n",
    "model_casual.fit(X_train,y_train_casual)\n",
    "y_pred_casual = model_casual.predict(X_test)\n",
    "model_casual.score(X_test,y_test_casual)"
   ]
  },
  {
   "cell_type": "code",
   "execution_count": 199,
   "metadata": {},
   "outputs": [],
   "source": [
    "import pickle\n",
    "  \n",
    "with open('../../app/model_casual_linear.pkl', 'wb') as file:\n",
    "    pickle.dump(model_casual, file)"
   ]
  },
  {
   "cell_type": "code",
   "execution_count": 191,
   "metadata": {},
   "outputs": [],
   "source": [
    "y_pred_registered = pd.DataFrame(y_pred_registered)\n",
    "y_pred_registered = y_pred_registered.rename(columns={0:'y_pred_registered'})\n",
    "y_pred_casual = pd.DataFrame(y_pred_casual)\n",
    "y_pred_casual = y_pred_casual.rename(columns={0:'y_pred_casual'})"
   ]
  },
  {
   "cell_type": "code",
   "execution_count": 168,
   "metadata": {},
   "outputs": [
    {
     "data": {
      "text/html": [
       "<div>\n",
       "<style scoped>\n",
       "    .dataframe tbody tr th:only-of-type {\n",
       "        vertical-align: middle;\n",
       "    }\n",
       "\n",
       "    .dataframe tbody tr th {\n",
       "        vertical-align: top;\n",
       "    }\n",
       "\n",
       "    .dataframe thead th {\n",
       "        text-align: right;\n",
       "    }\n",
       "</style>\n",
       "<table border=\"1\" class=\"dataframe\">\n",
       "  <thead>\n",
       "    <tr style=\"text-align: right;\">\n",
       "      <th></th>\n",
       "      <th>y_pred_registered</th>\n",
       "    </tr>\n",
       "  </thead>\n",
       "  <tbody>\n",
       "    <tr>\n",
       "      <th>0</th>\n",
       "      <td>119.306641</td>\n",
       "    </tr>\n",
       "    <tr>\n",
       "      <th>1</th>\n",
       "      <td>96.892578</td>\n",
       "    </tr>\n",
       "    <tr>\n",
       "      <th>2</th>\n",
       "      <td>86.755859</td>\n",
       "    </tr>\n",
       "    <tr>\n",
       "      <th>3</th>\n",
       "      <td>74.805664</td>\n",
       "    </tr>\n",
       "    <tr>\n",
       "      <th>4</th>\n",
       "      <td>65.058594</td>\n",
       "    </tr>\n",
       "    <tr>\n",
       "      <th>...</th>\n",
       "      <td>...</td>\n",
       "    </tr>\n",
       "    <tr>\n",
       "      <th>1818</th>\n",
       "      <td>295.989258</td>\n",
       "    </tr>\n",
       "    <tr>\n",
       "      <th>1819</th>\n",
       "      <td>236.444336</td>\n",
       "    </tr>\n",
       "    <tr>\n",
       "      <th>1820</th>\n",
       "      <td>208.774414</td>\n",
       "    </tr>\n",
       "    <tr>\n",
       "      <th>1821</th>\n",
       "      <td>180.485352</td>\n",
       "    </tr>\n",
       "    <tr>\n",
       "      <th>1822</th>\n",
       "      <td>143.346680</td>\n",
       "    </tr>\n",
       "  </tbody>\n",
       "</table>\n",
       "<p>1823 rows × 1 columns</p>\n",
       "</div>"
      ],
      "text/plain": [
       "      y_pred_registered\n",
       "0            119.306641\n",
       "1             96.892578\n",
       "2             86.755859\n",
       "3             74.805664\n",
       "4             65.058594\n",
       "...                 ...\n",
       "1818         295.989258\n",
       "1819         236.444336\n",
       "1820         208.774414\n",
       "1821         180.485352\n",
       "1822         143.346680\n",
       "\n",
       "[1823 rows x 1 columns]"
      ]
     },
     "execution_count": 168,
     "metadata": {},
     "output_type": "execute_result"
    }
   ],
   "source": [
    "y_pred_registered"
   ]
  },
  {
   "cell_type": "code",
   "execution_count": 169,
   "metadata": {},
   "outputs": [
    {
     "data": {
      "text/plain": [
       "<AxesSubplot:xlabel='hours', ylabel='y_pred_registered'>"
      ]
     },
     "execution_count": 169,
     "metadata": {},
     "output_type": "execute_result"
    },
    {
     "data": {
      "image/png": "[encoded data removed]",
      "text/plain": [
       "<Figure size 432x288 with 1 Axes>"
      ]
     },
     "metadata": {
      "needs_background": "light"
     },
     "output_type": "display_data"
    }
   ],
   "source": [
    "sns.barplot(x='hours',y='y_pred_registered',data=X_test.join(y_pred_registered))"
   ]
  },
  {
   "cell_type": "code",
   "execution_count": 170,
   "metadata": {},
   "outputs": [
    {
     "data": {
      "text/plain": [
       "<AxesSubplot:xlabel='hours', ylabel='y_pred_casual'>"
      ]
     },
     "execution_count": 170,
     "metadata": {},
     "output_type": "execute_result"
    },
    {
     "data": {
      "image/png": "[encoded data removed]",
      "text/plain": [
       "<Figure size 432x288 with 1 Axes>"
      ]
     },
     "metadata": {
      "needs_background": "light"
     },
     "output_type": "display_data"
    }
   ],
   "source": [
    "sns.barplot(x='hours',y='y_pred_casual',data=X_test.join(y_pred_casual))"
   ]
  },
  {
   "cell_type": "code",
   "execution_count": 21,
   "metadata": {},
   "outputs": [
    {
     "name": "stdout",
     "output_type": "stream",
     "text": [
      "La variable week_days_6 de p-value 0.765 n'est pas significative. On la supprime.\n",
      "La variable atemphumidity de p-value 0.723 n'est pas significative. On la supprime.\n",
      "La variable weather_3 de p-value 0.645 n'est pas significative. On la supprime.\n",
      "La variable temp_2 de p-value 0.511 n'est pas significative. On la supprime.\n",
      "La variable temp de p-value 0.491 n'est pas significative. On la supprime.\n",
      "La variable windspeed de p-value 0.493 n'est pas significative. On la supprime.\n",
      "La variable week_days_1 de p-value 0.432 n'est pas significative. On la supprime.\n",
      "La variable hours_14 de p-value 0.334 n'est pas significative. On la supprime.\n",
      "La variable hours_21 de p-value 0.785 n'est pas significative. On la supprime.\n",
      "La variable hours_11 de p-value 0.294 n'est pas significative. On la supprime.\n",
      "La variable months_3 de p-value 0.271 n'est pas significative. On la supprime.\n",
      "La variable weather_4 de p-value 0.216 n'est pas significative. On la supprime.\n",
      "La variable workingday_0 de p-value 0.182 n'est pas significative. On la supprime.\n",
      "La variable atempwindspeed de p-value 0.168 n'est pas significative. On la supprime.\n",
      "La variable tempyears de p-value 0.099 n'est pas significative. On la supprime.\n",
      "La variable months_12 de p-value 0.085 n'est pas significative. On la supprime.\n",
      "La variable months_11 de p-value 0.938 n'est pas significative. On la supprime.\n",
      "La variable months_10 de p-value 0.335 n'est pas significative. On la supprime.\n",
      "La variable months_2 de p-value 0.075 n'est pas significative. On la supprime.\n",
      "La variable months_8 de p-value 0.065 n'est pas significative. On la supprime.\n",
      "La variable week_days_5 de p-value 0.056 n'est pas significative. On la supprime.\n",
      "La variable week_days_3 de p-value 0.177 n'est pas significative. On la supprime.\n",
      "La variable week_days_2 de p-value 0.119 n'est pas significative. On la supprime.\n"
     ]
    }
   ],
   "source": [
    "pvalue = 2\n",
    "index = ''\n",
    "features_to_delete = []\n",
    "while True:\n",
    "    formula = formula.replace('+' + index + '+', '+')\n",
    "    ols_model = smf.ols(formula, data=df_new_registered)\n",
    "    ols_res = ols_model.fit()\n",
    "    pvalues = ols_res.pvalues[1:]\n",
    "    index = pvalues[pvalues == pvalues.max()].index[0]\n",
    "    pvalue = pvalues[pvalues == pvalues.max()].values[0]\n",
    "    if (pvalue > 0.05) & (index != 'intercept'):\n",
    "        print('La variable ' + index + ' de p-value ' + '{:01.3f}'.format(pvalue) + ' n\\'est pas significative. On la supprime.')\n",
    "        features_to_delete.append(index)\n",
    "    else:\n",
    "        break\n",
    "\n",
    "features_list = list(features_name.values())\n",
    "for i in range(len(features_to_delete)):\n",
    "    j = features_list.index(features_to_delete[i])\n",
    "    X_train_new_df = X_train_new_df.drop(features_name[j], axis=1)\n",
    "    if features_name[j] in X_test_new_df.columns:\n",
    "        X_test_new_df = X_test_new_df.drop(features_name[j], axis=1)\n",
    "df_new_registered = X_train_new_df.join(y_train_registered)"
   ]
  },
  {
   "cell_type": "code",
   "execution_count": 22,
   "metadata": {},
   "outputs": [
    {
     "name": "stdout",
     "output_type": "stream",
     "text": [
      "                            OLS Regression Results                            \n",
      "==============================================================================\n",
      "Dep. Variable:             registered   R-squared:                       0.702\n",
      "Model:                            OLS   Adj. R-squared:                  0.701\n",
      "Method:                 Least Squares   F-statistic:                     441.9\n",
      "Date:                Sun, 03 Apr 2022   Prob (F-statistic):               0.00\n",
      "Time:                        21:48:41   Log-Likelihood:                -52003.\n",
      "No. Observations:                9039   AIC:                         1.041e+05\n",
      "Df Residuals:                    8990   BIC:                         1.045e+05\n",
      "Df Model:                          48                                         \n",
      "Covariance Type:            nonrobust                                         \n",
      "=====================================================================================\n",
      "                        coef    std err          t      P>|t|      [0.025      0.975]\n",
      "-------------------------------------------------------------------------------------\n",
      "Intercept            29.4858      1.968     14.983      0.000      25.628      33.343\n",
      "atemp                19.7510      1.913     10.325      0.000      16.001      23.501\n",
      "humidity            -11.5406      1.146    -10.072      0.000     -13.787      -9.294\n",
      "years                19.2931      1.095     17.623      0.000      17.147      21.439\n",
      "tempatemp           -28.6322      8.016     -3.572      0.000     -44.345     -12.919\n",
      "tempwindspeed         2.3316      1.015      2.297      0.022       0.342       4.322\n",
      "temphumidity        -11.6391      1.120    -10.392      0.000     -13.835      -9.444\n",
      "atemp_2              25.7142      7.578      3.393      0.001      10.860      40.568\n",
      "atempyears            4.5687      0.841      5.433      0.000       2.920       6.217\n",
      "windspeed_2          -2.3279      0.555     -4.197      0.000      -3.415      -1.241\n",
      "windspeedhumidity    -2.2367      0.901     -2.482      0.013      -4.003      -0.470\n",
      "windspeedyears        3.0363      0.883      3.438      0.001       1.305       4.767\n",
      "humidity_2           -5.0922      0.858     -5.933      0.000      -6.775      -3.410\n",
      "humidityyears        -7.2731      0.922     -7.888      0.000      -9.080      -5.466\n",
      "years_2              37.3495      1.684     22.174      0.000      34.048      40.651\n",
      "season_1              8.1217      1.269      6.402      0.000       5.635      10.608\n",
      "season_2             15.2363      3.337      4.566      0.000       8.695      21.778\n",
      "season_3             27.4562      2.174     12.627      0.000      23.194      31.718\n",
      "season_4            -21.3283      2.371     -8.996      0.000     -25.976     -16.681\n",
      "weather_1            46.1205      3.521     13.098      0.000      39.218      53.023\n",
      "weather_2            41.5639      3.512     11.834      0.000      34.679      48.449\n",
      "workingday_1         28.6608      2.389     11.995      0.000      23.977      33.345\n",
      "holiday_0            12.1655      2.526      4.817      0.000       7.215      17.116\n",
      "holiday_1            17.3203      3.271      5.295      0.000      10.909      23.732\n",
      "week_days_4           6.4781      2.394      2.706      0.007       1.785      11.172\n",
      "week_days_7         -10.3531      3.000     -3.451      0.001     -16.235      -4.472\n",
      "months_1            -15.0323      3.394     -4.429      0.000     -21.686      -8.378\n",
      "months_4            -19.3007      2.429     -7.947      0.000     -24.061     -14.540\n",
      "months_5             14.5948      2.165      6.742      0.000      10.352      18.838\n",
      "months_6             12.8277      2.457      5.222      0.000       8.012      17.643\n",
      "months_7            -12.8777      3.667     -3.512      0.000     -20.066      -5.689\n",
      "months_9             11.1243      4.850      2.294      0.022       1.618      20.631\n",
      "hours_0             -88.3841      4.627    -19.100      0.000     -97.455     -79.313\n",
      "hours_1            -101.0527      4.648    -21.742      0.000    -110.163     -91.942\n",
      "hours_2            -108.8938      4.697    -23.182      0.000    -118.102     -99.686\n",
      "hours_3            -117.3255      4.790    -24.494      0.000    -126.715    -107.936\n",
      "hours_4            -118.4781      4.774    -24.817      0.000    -127.836    -109.120\n",
      "hours_5            -105.4830      4.743    -22.240      0.000    -114.780     -96.186\n",
      "hours_6             -53.3845      4.734    -11.276      0.000     -62.665     -44.104\n",
      "hours_7              63.1869      4.695     13.459      0.000      53.984      72.389\n",
      "hours_8             185.9786      4.649     40.005      0.000     176.866     195.092\n",
      "hours_9              46.4911      4.597     10.114      0.000      37.480      55.502\n",
      "hours_10            -16.8170      4.560     -3.688      0.000     -25.757      -7.877\n",
      "hours_12             26.3873      4.543      5.808      0.000      17.481      35.293\n",
      "hours_13             19.3538      4.556      4.248      0.000      10.422      28.285\n",
      "hours_15             10.7086      4.583      2.337      0.019       1.725      19.692\n",
      "hours_16             68.5287      4.577     14.973      0.000      59.557      77.500\n",
      "hours_17            217.1648      4.564     47.580      0.000     208.218     226.112\n",
      "hours_18            198.9203      4.548     43.737      0.000     190.005     207.836\n",
      "hours_19            105.9312      4.541     23.325      0.000      97.029     114.833\n",
      "hours_20             41.0012      4.553      9.006      0.000      32.077      49.926\n",
      "hours_22            -27.7939      4.583     -6.064      0.000     -36.778     -18.810\n",
      "hours_23            -60.6450      4.600    -13.184      0.000     -69.662     -51.628\n",
      "==============================================================================\n",
      "Omnibus:                      613.021   Durbin-Watson:                   0.632\n",
      "Prob(Omnibus):                  0.000   Jarque-Bera (JB):             1806.308\n",
      "Skew:                           0.350   Prob(JB):                         0.00\n",
      "Kurtosis:                       5.075   Cond. No.                     1.16e+16\n",
      "==============================================================================\n",
      "\n",
      "Notes:\n",
      "[1] Standard Errors assume that the covariance matrix of the errors is correctly specified.\n",
      "[2] The smallest eigenvalue is 6.62e-28. This might indicate that there are\n",
      "strong multicollinearity problems or that the design matrix is singular.\n"
     ]
    }
   ],
   "source": [
    "ols_model = smf.ols(formula, data=df_new_registered)\n",
    "# ols_model = sm.OLS(y_train,X_train_new)\n",
    "ols_res = ols_model.fit()\n",
    "print(ols_res.summary())"
   ]
  },
  {
   "cell_type": "markdown",
   "metadata": {},
   "source": [
    "### Calcul des leviers de la matrice de projection : données atypiques sur les variables explicatives"
   ]
  },
  {
   "cell_type": "code",
   "execution_count": null,
   "metadata": {},
   "outputs": [],
   "source": [
    "alpha = 0.05 # On pose un seuil de significativité à 5%\n",
    "n = df_new_registered.shape[0] # Nombre d'observations\n",
    "p = df_new_registered.shape[1] # Nombre de features"
   ]
  },
  {
   "cell_type": "code",
   "execution_count": null,
   "metadata": {},
   "outputs": [],
   "source": [
    "analyses = pd.DataFrame({'obs':np.arange(1, n+1)})"
   ]
  },
  {
   "cell_type": "code",
   "execution_count": null,
   "metadata": {},
   "outputs": [],
   "source": [
    "analyses['levier'] = ols_res.get_influence().hat_matrix_diag\n",
    "seuil_levier = 2*p/n"
   ]
  },
  {
   "cell_type": "code",
   "execution_count": null,
   "metadata": {},
   "outputs": [
    {
     "data": {
      "image/png": "[encoded data removed]",
      "text/plain": [
       "<Figure size 1440x576 with 1 Axes>"
      ]
     },
     "metadata": {},
     "output_type": "display_data"
    }
   ],
   "source": [
    "plt.figure(figsize=(20,8))\n",
    "plt.bar(analyses['obs'], analyses['levier'])\n",
    "plt.xticks(np.arange(0, n+1, step=1000))\n",
    "plt.xlabel('Observation',fontsize=18)\n",
    "plt.ylabel('Leviers',fontsize=18)\n",
    "plt.plot([0, n+1], [seuil_levier, seuil_levier], color='r')\n",
    "plt.show()"
   ]
  },
  {
   "cell_type": "markdown",
   "metadata": {},
   "source": [
    "### Calcul des résidus studentisés internes : données atypiques sur la variable cible"
   ]
  },
  {
   "cell_type": "code",
   "execution_count": null,
   "metadata": {},
   "outputs": [],
   "source": [
    "analyses['rstudent'] = ols_res.get_influence().resid_studentized_internal\n",
    "seuil_rstudent = t.ppf(1-alpha/2,n-p-1)"
   ]
  },
  {
   "cell_type": "code",
   "execution_count": null,
   "metadata": {},
   "outputs": [
    {
     "data": {
      "image/png": "[encoded data removed]",
      "text/plain": [
       "<Figure size 1440x576 with 1 Axes>"
      ]
     },
     "metadata": {},
     "output_type": "display_data"
    }
   ],
   "source": [
    "plt.figure(figsize=(20,8))\n",
    "plt.bar(analyses['obs'], analyses['rstudent'])\n",
    "plt.xticks(np.arange(0, n+1, step=5000))\n",
    "plt.xlabel('Observation',fontsize=18)\n",
    "plt.ylabel('Résidus studentisés',fontsize=18)\n",
    "plt.ylim([-5,5])\n",
    "plt.plot([0, n+1], [seuil_rstudent, seuil_rstudent], color='r')\n",
    "plt.plot([0, n+1], [-seuil_rstudent, -seuil_rstudent], color='r')\n",
    "plt.show()"
   ]
  },
  {
   "cell_type": "markdown",
   "metadata": {},
   "source": [
    "### Calcul de la distance de Cook : données influentes"
   ]
  },
  {
   "cell_type": "code",
   "execution_count": null,
   "metadata": {},
   "outputs": [],
   "source": [
    "dcooks = pd.DataFrame(ols_res.get_influence().cooks_distance[0],columns=['d_cooks'])\n",
    "analyses['dcooks'] = dcooks['d_cooks']\n",
    "seuil_dcook = 4/(n-p)"
   ]
  },
  {
   "cell_type": "code",
   "execution_count": null,
   "metadata": {},
   "outputs": [
    {
     "data": {
      "image/png": "[encoded data removed]",
      "text/plain": [
       "<Figure size 1440x576 with 1 Axes>"
      ]
     },
     "metadata": {},
     "output_type": "display_data"
    }
   ],
   "source": [
    "plt.figure(figsize=(20,8))\n",
    "plt.bar(analyses['obs'], analyses['dcooks'])\n",
    "plt.xticks(np.arange(0, n+1, step=5000))\n",
    "plt.xlabel('Observations',fontsize=18)\n",
    "plt.ylabel('Distances de Cook',fontsize=18)\n",
    "plt.ylim([0,0.002])\n",
    "plt.plot([0, n+1], [seuil_dcook, seuil_dcook], color='r')\n",
    "plt.show()"
   ]
  },
  {
   "cell_type": "markdown",
   "metadata": {},
   "source": [
    "### Données atypiques et influentes"
   ]
  },
  {
   "cell_type": "code",
   "execution_count": null,
   "metadata": {},
   "outputs": [],
   "source": [
    "atypiques_et_influents = analyses.loc[(analyses['levier'] > seuil_levier) &\n",
    "                                      (analyses['rstudent'] > seuil_rstudent) &\n",
    "                                      (analyses['dcooks'] > seuil_dcook), :]\n",
    "atypiques_et_influents_df = df_new_registered.iloc[atypiques_et_influents.index.to_numpy()]"
   ]
  },
  {
   "cell_type": "code",
   "execution_count": null,
   "metadata": {},
   "outputs": [],
   "source": [
    "a = list(atypiques_et_influents_df.index)"
   ]
  },
  {
   "cell_type": "code",
   "execution_count": null,
   "metadata": {},
   "outputs": [],
   "source": [
    "outliers = df_train.loc[a]"
   ]
  },
  {
   "cell_type": "code",
   "execution_count": null,
   "metadata": {},
   "outputs": [],
   "source": [
    "df_no_outliers = df_train.drop(a)"
   ]
  },
  {
   "cell_type": "code",
   "execution_count": null,
   "metadata": {},
   "outputs": [
    {
     "data": {
      "text/plain": [
       "<AxesSubplot:xlabel='atemp', ylabel='temp'>"
      ]
     },
     "metadata": {},
     "output_type": "display_data"
    },
    {
     "data": {
      "image/png": "[encoded data removed]",
      "text/plain": [
       "<Figure size 432x288 with 1 Axes>"
      ]
     },
     "metadata": {},
     "output_type": "display_data"
    }
   ],
   "source": [
    "col = 'atemp'\n",
    "sns.scatterplot(x=col,y='temp',data=df_no_outliers)\n",
    "sns.scatterplot(x=col,y='temp',data=outliers)"
   ]
  },
  {
   "cell_type": "markdown",
   "metadata": {},
   "source": [
    "### Suppression des données atypiques et influentes"
   ]
  },
  {
   "cell_type": "code",
   "execution_count": null,
   "metadata": {},
   "outputs": [],
   "source": [
    "for row in atypiques_et_influents_df.index:\n",
    "    df_new = df_new_registered.drop(row)\n",
    "    X_train_new_df = X_train_new_df.drop(row)\n",
    "    y_train_registered = y_train_registered.drop(row)"
   ]
  },
  {
   "cell_type": "code",
   "execution_count": null,
   "metadata": {},
   "outputs": [
    {
     "name": "stdout",
     "output_type": "stream",
     "text": [
      "                            OLS Regression Results                            \n",
      "==============================================================================\n",
      "Dep. Variable:             registered   R-squared:                       0.651\n",
      "Model:                            OLS   Adj. R-squared:                  0.649\n",
      "Method:                 Least Squares   F-statistic:                     341.4\n",
      "Date:                Wed, 23 Mar 2022   Prob (F-statistic):               0.00\n",
      "Time:                        16:52:11   Log-Likelihood:                -52721.\n",
      "No. Observations:                9038   AIC:                         1.055e+05\n",
      "Df Residuals:                    8988   BIC:                         1.059e+05\n",
      "Df Model:                          49                                         \n",
      "Covariance Type:            nonrobust                                         \n",
      "=======================================================================================\n",
      "                          coef    std err          t      P>|t|      [0.025      0.975]\n",
      "---------------------------------------------------------------------------------------\n",
      "Intercept              49.2725      2.832     17.401      0.000      43.722      54.823\n",
      "temp                   50.8415      2.115     24.038      0.000      46.696      54.987\n",
      "humidity              -18.0904      1.265    -14.298      0.000     -20.571     -15.610\n",
      "temp_2                -55.8609      9.455     -5.908      0.000     -74.395     -37.326\n",
      "tempatemp              48.2929      9.339      5.171      0.000      29.986      66.600\n",
      "tempwindspeed           6.2465      1.178      5.302      0.000       3.937       8.556\n",
      "temphumidity          -17.3342      1.233    -14.056      0.000     -19.752     -14.917\n",
      "windspeed_2            -3.3421      0.743     -4.496      0.000      -4.799      -1.885\n",
      "windspeedhumidity      -4.4741      0.992     -4.508      0.000      -6.419      -2.529\n",
      "humidity_2             -6.2189      0.922     -6.743      0.000      -8.027      -4.411\n",
      "temp_2atemp            -7.6341      0.842     -9.068      0.000      -9.284      -5.984\n",
      "tempatempwindspeed    -22.2278      7.614     -2.919      0.004     -37.154      -7.302\n",
      "tempwindspeed_2        -1.7229      0.736     -2.341      0.019      -3.166      -0.280\n",
      "atemp_2windspeed       19.5751      7.346      2.665      0.008       5.176      33.975\n",
      "windspeedhumidity_2    -2.7642      0.661     -4.180      0.000      -4.061      -1.468\n",
      "season_1               11.2520      2.626      4.285      0.000       6.105      16.400\n",
      "season_3                9.8779      3.323      2.973      0.003       3.364      16.392\n",
      "weather_1              39.4805      3.834     10.298      0.000      31.965      46.996\n",
      "weather_2              35.6696      3.815      9.349      0.000      28.191      43.148\n",
      "workingday_0           14.6334      1.969      7.432      0.000      10.774      18.493\n",
      "workingday_1           34.6391      2.411     14.366      0.000      29.912      39.366\n",
      "holiday_0              22.6566      2.600      8.713      0.000      17.559      27.754\n",
      "holiday_1              26.6159      3.902      6.821      0.000      18.967      34.265\n",
      "week_days_2             9.4701      3.400      2.785      0.005       2.805      16.135\n",
      "week_days_3            10.1281      3.383      2.994      0.003       3.496      16.760\n",
      "week_days_4            14.3040      3.371      4.243      0.000       7.696      20.912\n",
      "week_days_5             7.6488      3.358      2.278      0.023       1.066      14.231\n",
      "week_days_7            -8.0403      3.250     -2.474      0.013     -14.411      -1.669\n",
      "months_1               -8.7524      3.661     -2.391      0.017     -15.929      -1.576\n",
      "months_5               16.2009      3.437      4.713      0.000       9.463      22.939\n",
      "months_8                9.1057      3.481      2.616      0.009       2.283      15.928\n",
      "months_12              13.5650      4.939      2.747      0.006       3.884      23.246\n",
      "hours_0               -85.0722      4.876    -17.446      0.000     -94.631     -75.514\n",
      "hours_1               -98.1722      4.897    -20.048      0.000    -107.771     -88.573\n",
      "hours_2              -104.5392      4.946    -21.135      0.000    -114.235     -94.843\n",
      "hours_3              -111.9934      5.043    -22.206      0.000    -121.879    -102.107\n",
      "hours_4              -112.1380      5.017    -22.351      0.000    -121.973    -102.303\n",
      "hours_5               -99.7924      4.988    -20.007      0.000    -109.570     -90.015\n",
      "hours_6               -48.1675      4.974     -9.683      0.000     -57.918     -38.417\n",
      "hours_7                67.6013      4.942     13.679      0.000      57.914      77.289\n",
      "hours_8               188.3861      4.897     38.473      0.000     178.788     197.985\n",
      "hours_9                47.5849      4.841      9.830      0.000      38.095      57.074\n",
      "hours_10              -17.4325      4.798     -3.633      0.000     -26.839      -8.026\n",
      "hours_12               23.8428      4.764      5.004      0.000      14.504      33.182\n",
      "hours_13               15.5007      4.768      3.251      0.001       6.154      24.848\n",
      "hours_16               64.0861      4.785     13.394      0.000      54.707      73.465\n",
      "hours_17              213.8179      4.778     44.749      0.000     204.452     223.184\n",
      "hours_18              195.9450      4.765     41.118      0.000     186.604     205.286\n",
      "hours_19              104.3385      4.772     21.865      0.000      94.984     113.693\n",
      "hours_20               40.7601      4.788      8.514      0.000      31.375      50.145\n",
      "hours_22              -26.2724      4.827     -5.443      0.000     -35.734     -16.811\n",
      "hours_23              -58.6052      4.845    -12.095      0.000     -68.103     -49.107\n",
      "==============================================================================\n",
      "Omnibus:                     1053.903   Durbin-Watson:                   0.541\n",
      "Prob(Omnibus):                  0.000   Jarque-Bera (JB):             2877.530\n",
      "Skew:                           0.647   Prob(JB):                         0.00\n",
      "Kurtosis:                       5.443   Cond. No.                     2.69e+15\n",
      "==============================================================================\n",
      "\n",
      "Notes:\n",
      "[1] Standard Errors assume that the covariance matrix of the errors is correctly specified.\n",
      "[2] The smallest eigenvalue is 1.32e-26. This might indicate that there are\n",
      "strong multicollinearity problems or that the design matrix is singular.\n"
     ]
    }
   ],
   "source": [
    "ols_model = smf.ols(formula, data=df_new)\n",
    "# ols_model = sm.OLS(y_train,X_train_new)\n",
    "ols_res = ols_model.fit()\n",
    "print(ols_res.summary())"
   ]
  }
 ],
 "metadata": {
  "interpreter": {
   "hash": "a4cc5ee3c947b0b2a63d6883ad81518e39249fafcf5464e6304ea0291cc4de25"
  },
  "kernelspec": {
   "display_name": "Python 3.9.7 ('mv')",
   "language": "python",
   "name": "python3"
  },
  "language_info": {
   "codemirror_mode": {
    "name": "ipython",
    "version": 3
   },
   "file_extension": ".py",
   "mimetype": "text/x-python",
   "name": "python",
   "nbconvert_exporter": "python",
   "pygments_lexer": "ipython3",
   "version": "3.9.7"
  },
  "orig_nbformat": 4
 },
 "nbformat": 4,
 "nbformat_minor": 2
}
