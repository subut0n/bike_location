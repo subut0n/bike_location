{
 "cells": [
  {
   "cell_type": "code",
   "execution_count": 285,
   "metadata": {},
   "outputs": [],
   "source": [
    "import pandas as pd \n",
    "import numpy as np\n",
    "import seaborn as sns\n",
    "import matplotlib.pyplot as plt\n",
    "import plotly.express as px\n",
    "\n",
    "import statsmodels.api as sm\n",
    "import statsmodels.formula.api as smf\n",
    "from statsmodels.compat import lzip\n",
    "from statsmodels.stats.diagnostic import het_breuschpagan\n",
    "from scipy.stats import t, shapiro\n",
    "from statsmodels.stats.outliers_influence import variance_inflation_factor\n",
    "\n",
    "from sklearn.preprocessing import StandardScaler, RobustScaler, MinMaxScaler, PolynomialFeatures, OneHotEncoder, LabelEncoder\n",
    "from sklearn.pipeline import make_pipeline\n",
    "from sklearn.compose import make_column_transformer\n",
    "from sklearn.linear_model import LinearRegression\n",
    "from sklearn.ensemble import RandomForestRegressor\n",
    "from sklearn.svm import SVR\n",
    "from sklearn.model_selection import train_test_split, cross_val_score\n",
    "from sklearn.metrics import r2_score, mean_squared_error"
   ]
  },
  {
   "cell_type": "code",
   "execution_count": 362,
   "metadata": {},
   "outputs": [],
   "source": [
    "df_train_modify = pd.read_csv('../../csv/train_modifie_mickael.csv')\n",
    "df_test_modify = pd.read_csv('../../csv/test_modifie_mickael.csv')"
   ]
  },
  {
   "cell_type": "code",
   "execution_count": 363,
   "metadata": {},
   "outputs": [],
   "source": [
    "df_train = df_train_modify.drop(['Unnamed: 0', 'count'], axis=1)\n",
    "df_test = df_test_modify.drop(['Unnamed: 0', 'count'], axis=1)"
   ]
  },
  {
   "cell_type": "code",
   "execution_count": 288,
   "metadata": {},
   "outputs": [],
   "source": [
    "X_train = df_train.drop(['registered', 'casual'], axis=1)\n",
    "y_train_registered = df_train['registered']\n",
    "y_train_casual = df_train['casual']"
   ]
  },
  {
   "cell_type": "code",
   "execution_count": 289,
   "metadata": {},
   "outputs": [],
   "source": [
    "X_test = df_test.drop(['registered', 'casual'], axis=1)\n",
    "y_test_registered = df_test['registered']\n",
    "y_test_casual = df_test['casual']"
   ]
  },
  {
   "cell_type": "markdown",
   "metadata": {},
   "source": [
    "# Preprocessing"
   ]
  },
  {
   "cell_type": "code",
   "execution_count": 292,
   "metadata": {},
   "outputs": [],
   "source": [
    "#Features et pipelines\n",
    "scaled_features = ['temp', 'atemp', 'windspeed', 'humidity'] \n",
    "scaled_pipeline = make_pipeline(StandardScaler(), PolynomialFeatures(degree=3))\n",
    "encoded_features = ['season','weather','workingday', 'holiday', 'week_days', 'months', 'hours']\n",
    "encoded_pipeline = make_pipeline(OneHotEncoder())\n",
    "\n",
    "#preprocessing et main pipeline\n",
    "preprocessor = make_column_transformer((scaled_pipeline, scaled_features),(encoded_pipeline, encoded_features))"
   ]
  },
  {
   "cell_type": "code",
   "execution_count": 293,
   "metadata": {},
   "outputs": [],
   "source": [
    "X_test_new = preprocessor.fit_transform(X_test)\n",
    "X_test_new_df = pd.DataFrame(X_test_new)\n",
    "\n",
    "features_name = {}\n",
    "for i in range(X_test_new.shape[1]):\n",
    "    features_name[i] = preprocessor.get_feature_names_out()[i].replace(\" \",\"\").replace(\"^\",\"_\").replace('pipeline-1__','').replace('pipeline-2__','')\n",
    "X_test_new_df = X_test_new_df.rename(columns=features_name)\n",
    "\n",
    "X_train_new = preprocessor.fit_transform(X_train)\n",
    "X_train_new_df = pd.DataFrame(X_train_new)\n",
    "\n",
    "features_name = {}\n",
    "for i in range(X_train_new.shape[1]):\n",
    "    # features_name[i] = poly_features.get_feature_names_out()[i].replace(\" \",\"\").replace(\"^\",\"_\")\n",
    "    features_name[i] = preprocessor.get_feature_names_out()[i].replace(\" \",\"\").replace(\"^\",\"_\").replace('pipeline-1__','').replace('pipeline-2__','')\n",
    "X_train_new_df = X_train_new_df.rename(columns=features_name)\n",
    "df_new_registered = X_train_new_df.join(y_train_registered)\n",
    "df_new_casual = X_train_new_df.join(y_train_casual)"
   ]
  },
  {
   "cell_type": "code",
   "execution_count": 294,
   "metadata": {},
   "outputs": [],
   "source": [
    "formula = 'registered ~ '\n",
    "max = X_train_new.shape[1]\n",
    "for i in range(0,max):\n",
    "    if i != max-1:\n",
    "        formula += preprocessor.get_feature_names_out()[i] + ' + '\n",
    "    if i == max-1:\n",
    "        formula += preprocessor.get_feature_names_out()[i]\n",
    "# formula = formula.replace(\" \",\"\").replace(\"^\",\"_\")\n",
    "formula = formula.replace(\" \",\"\").replace(\"^\",\"_\").replace('pipeline-1__','').replace('pipeline-2__','')"
   ]
  },
  {
   "cell_type": "code",
   "execution_count": 295,
   "metadata": {},
   "outputs": [
    {
     "name": "stdout",
     "output_type": "stream",
     "text": [
      "                            OLS Regression Results                            \n",
      "==============================================================================\n",
      "Dep. Variable:             registered   R-squared:                       0.653\n",
      "Model:                            OLS   Adj. R-squared:                  0.650\n",
      "Method:                 Least Squares   F-statistic:                     216.5\n",
      "Date:                Wed, 23 Mar 2022   Prob (F-statistic):               0.00\n",
      "Time:                        17:04:14   Log-Likelihood:                -52853.\n",
      "No. Observations:                9063   AIC:                         1.059e+05\n",
      "Df Residuals:                    8984   BIC:                         1.064e+05\n",
      "Df Model:                          78                                         \n",
      "Covariance Type:            nonrobust                                         \n",
      "==========================================================================================\n",
      "                             coef    std err          t      P>|t|      [0.025      0.975]\n",
      "------------------------------------------------------------------------------------------\n",
      "Intercept                 42.0723      7.534      5.584      0.000      27.304      56.840\n",
      "temp                      34.0199     18.651      1.824      0.068      -2.540      70.580\n",
      "atemp                     13.8566     18.031      0.769      0.442     -21.487      49.201\n",
      "windspeed                 -1.8215      2.030     -0.897      0.370      -5.801       2.158\n",
      "humidity                 -22.7673      2.451     -9.289      0.000     -27.572     -17.963\n",
      "temp_2                  -130.1886     43.445     -2.997      0.003    -215.350     -45.027\n",
      "tempatemp                201.2252     83.245      2.417      0.016      38.045     364.405\n",
      "tempwindspeed              5.6516      9.665      0.585      0.559     -13.294      24.597\n",
      "temphumidity             -24.3109     10.269     -2.367      0.018     -44.440      -4.182\n",
      "atemp_2                  -77.4881     41.005     -1.890      0.059    -157.868       2.891\n",
      "atempwindspeed            -1.2066      9.808     -0.123      0.902     -20.432      18.019\n",
      "atemphumidity              7.3187     10.478      0.699      0.485     -13.220      27.857\n",
      "windspeed_2               -3.9705      1.081     -3.672      0.000      -6.090      -1.851\n",
      "windspeedhumidity         -3.8132      1.273     -2.995      0.003      -6.309      -1.318\n",
      "humidity_2                -4.1742      1.096     -3.810      0.000      -6.322      -2.026\n",
      "temp_3                    18.3400     27.060      0.678      0.498     -34.704      71.384\n",
      "temp_2atemp             -110.6343     55.508     -1.993      0.046    -219.442      -1.826\n",
      "temp_2windspeed          -10.8256      8.862     -1.222      0.222     -28.197       6.546\n",
      "temp_2humidity            16.3088     15.333      1.064      0.288     -13.748      46.366\n",
      "tempatemp_2              148.7829     58.777      2.531      0.011      33.566     264.000\n",
      "tempatempwindspeed        -1.4151     12.542     -0.113      0.910     -26.001      23.170\n",
      "tempatemphumidity        -25.6144     26.425     -0.969      0.332     -77.413      26.184\n",
      "tempwindspeed_2           -8.5362      4.646     -1.837      0.066     -17.644       0.572\n",
      "tempwindspeedhumidity     -7.1528      7.281     -0.982      0.326     -21.426       7.120\n",
      "temphumidity_2             8.1917      7.740      1.058      0.290      -6.980      23.364\n",
      "atemp_3                  -63.7058     28.981     -2.198      0.028    -120.516      -6.896\n",
      "atemp_2windspeed          11.1427      7.043      1.582      0.114      -2.664      24.949\n",
      "atemp_2humidity           11.9135     13.486      0.883      0.377     -14.522      38.349\n",
      "atempwindspeed_2           6.9286      4.532      1.529      0.126      -1.954      15.812\n",
      "atempwindspeedhumidity     7.4082      7.422      0.998      0.318      -7.140      21.957\n",
      "atemphumidity_2           -4.7614      7.698     -0.619      0.536     -19.851      10.328\n",
      "windspeed_3                0.3871      0.380      1.020      0.308      -0.357       1.131\n",
      "windspeed_2humidity        0.1660      0.700      0.237      0.813      -1.206       1.538\n",
      "windspeedhumidity_2       -2.4198      0.959     -2.523      0.012      -4.300      -0.540\n",
      "humidity_3                 1.1694      0.650      1.798      0.072      -0.106       2.444\n",
      "season_1                  17.3869      2.258      7.699      0.000      12.960      21.814\n",
      "season_2                   6.3957      3.131      2.043      0.041       0.258      12.533\n",
      "season_3                  15.2590      2.552      5.980      0.000      10.257      20.261\n",
      "season_4                   3.0308      2.741      1.106      0.269      -2.343       8.404\n",
      "weather_1                 51.6664     19.001      2.719      0.007      14.421      88.912\n",
      "weather_2                 48.5166     19.000      2.554      0.011      11.273      85.761\n",
      "weather_3                 13.1474     19.113      0.688      0.492     -24.319      50.614\n",
      "weather_4                -71.2580     64.234     -1.109      0.267    -197.171      54.655\n",
      "workingday_0              12.4907      4.377      2.854      0.004       3.912      21.070\n",
      "workingday_1              29.5817      3.359      8.806      0.000      22.997      36.166\n",
      "holiday_0                 19.5812      4.552      4.301      0.000      10.657      28.505\n",
      "holiday_1                 22.4911      4.281      5.254      0.000      14.100      30.882\n",
      "week_days_1                2.5397      2.475      1.026      0.305      -2.312       7.392\n",
      "week_days_2               11.7161      2.604      4.499      0.000       6.611      16.821\n",
      "week_days_3               11.9836      2.574      4.656      0.000       6.938      17.029\n",
      "week_days_4               16.6964      2.566      6.507      0.000      11.666      21.727\n",
      "week_days_5                9.1369      2.547      3.587      0.000       4.144      14.130\n",
      "week_days_6               -1.2367      1.938     -0.638      0.523      -5.036       2.562\n",
      "week_days_7               -8.7637      1.924     -4.554      0.000     -12.536      -4.992\n",
      "months_1                  -6.1626      2.780     -2.217      0.027     -11.612      -0.713\n",
      "months_2                   1.9807      2.561      0.773      0.439      -3.040       7.001\n",
      "months_3                   7.2127      2.526      2.856      0.004       2.262      12.163\n",
      "months_4                  -4.0859      2.808     -1.455      0.146      -9.590       1.418\n",
      "months_5                  16.8041      2.479      6.779      0.000      11.945      21.663\n",
      "months_6                   4.6687      2.911      1.604      0.109      -1.037      10.374\n",
      "months_7                   0.8146      2.963      0.275      0.783      -4.994       6.623\n",
      "months_8                  10.2491      2.811      3.646      0.000       4.738      15.760\n",
      "months_9                  -4.6680      3.334     -1.400      0.162     -11.203       1.867\n",
      "months_10                 -2.7233      3.520     -0.774      0.439      -9.623       4.177\n",
      "months_11                  4.9131      3.349      1.467      0.142      -1.652      11.478\n",
      "months_12                 13.0691      3.607      3.623      0.000       5.998      20.140\n",
      "hours_0                  -92.0103      4.221    -21.799      0.000    -100.284     -83.736\n",
      "hours_1                 -105.0859      4.242    -24.774      0.000    -113.401     -96.771\n",
      "hours_2                 -111.4748      4.291    -25.978      0.000    -119.886    -103.063\n",
      "hours_3                 -119.2786      4.393    -27.151      0.000    -127.890    -110.667\n",
      "hours_4                 -119.3543      4.368    -27.327      0.000    -127.916    -110.793\n",
      "hours_5                 -106.7036      4.337    -24.605      0.000    -115.205     -98.203\n",
      "hours_6                  -55.0573      4.316    -12.756      0.000     -63.518     -46.596\n",
      "hours_7                   61.1281      4.283     14.273      0.000      52.733      69.524\n",
      "hours_8                  182.5398      4.242     43.033      0.000     174.225     190.855\n",
      "hours_9                   41.4252      4.205      9.851      0.000      33.182      49.668\n",
      "hours_10                 -23.8738      4.196     -5.689      0.000     -32.100     -15.648\n",
      "hours_11                 -10.9909      4.220     -2.605      0.009     -19.263      -2.719\n",
      "hours_12                  17.1524      4.255      4.031      0.000       8.811      25.494\n",
      "hours_13                   8.9349      4.300      2.078      0.038       0.506      17.364\n",
      "hours_14                  -9.2026      4.335     -2.123      0.034     -17.701      -0.705\n",
      "hours_15                  -0.2027      4.353     -0.047      0.963      -8.735       8.330\n",
      "hours_16                  57.8513      4.341     13.327      0.000      49.342      66.361\n",
      "hours_17                 207.6590      4.308     48.204      0.000     199.215     216.104\n",
      "hours_18                 189.7893      4.250     44.652      0.000     181.457     198.121\n",
      "hours_19                  98.0869      4.217     23.258      0.000      89.820     106.354\n",
      "hours_20                  34.3064      4.194      8.180      0.000      26.086      42.527\n",
      "hours_21                  -5.3692      4.188     -1.282      0.200     -13.579       2.841\n",
      "hours_22                 -32.8804      4.192     -7.844      0.000     -41.097     -24.664\n",
      "hours_23                 -65.3166      4.201    -15.549      0.000     -73.551     -57.082\n",
      "==============================================================================\n",
      "Omnibus:                     1043.873   Durbin-Watson:                   0.541\n",
      "Prob(Omnibus):                  0.000   Jarque-Bera (JB):             2857.887\n",
      "Skew:                           0.639   Prob(JB):                         0.00\n",
      "Kurtosis:                       5.436   Cond. No.                     3.76e+16\n",
      "==============================================================================\n",
      "\n",
      "Notes:\n",
      "[1] Standard Errors assume that the covariance matrix of the errors is correctly specified.\n",
      "[2] The smallest eigenvalue is 2.56e-28. This might indicate that there are\n",
      "strong multicollinearity problems or that the design matrix is singular.\n"
     ]
    }
   ],
   "source": [
    "ols_model = smf.ols(formula, data=df_new_registered)\n",
    "# ols_model = sm.OLS(y_train,X_train_new)\n",
    "ols_res = ols_model.fit()\n",
    "print(ols_res.summary())"
   ]
  },
  {
   "cell_type": "code",
   "execution_count": 296,
   "metadata": {},
   "outputs": [
    {
     "name": "stdout",
     "output_type": "stream",
     "text": [
      "La variable hours_15 de p-value 0.963 n'est pas significative. On la supprime.\n",
      "La variable tempatempwindspeed de p-value 0.910 n'est pas significative. On la supprime.\n",
      "La variable atempwindspeed de p-value 0.831 n'est pas significative. On la supprime.\n",
      "La variable windspeed_2humidity de p-value 0.802 n'est pas significative. On la supprime.\n",
      "La variable months_7 de p-value 0.778 n'est pas significative. On la supprime.\n",
      "La variable week_days_6 de p-value 0.520 n'est pas significative. On la supprime.\n",
      "La variable atemphumidity_2 de p-value 0.496 n'est pas significative. On la supprime.\n",
      "La variable atemp de p-value 0.546 n'est pas significative. On la supprime.\n",
      "La variable weather_3 de p-value 0.487 n'est pas significative. On la supprime.\n",
      "La variable months_10 de p-value 0.493 n'est pas significative. On la supprime.\n",
      "La variable atemphumidity de p-value 0.453 n'est pas significative. On la supprime.\n",
      "La variable atemp_2humidity de p-value 0.448 n'est pas significative. On la supprime.\n",
      "La variable tempatemphumidity de p-value 0.864 n'est pas significative. On la supprime.\n",
      "La variable temp_3 de p-value 0.618 n'est pas significative. On la supprime.\n",
      "La variable hours_21 de p-value 0.409 n'est pas significative. On la supprime.\n",
      "La variable windspeed_3 de p-value 0.370 n'est pas significative. On la supprime.\n",
      "La variable windspeed de p-value 0.455 n'est pas significative. On la supprime.\n",
      "La variable weather_4 de p-value 0.312 n'est pas significative. On la supprime.\n",
      "La variable months_2 de p-value 0.302 n'est pas significative. On la supprime.\n",
      "La variable months_9 de p-value 0.283 n'est pas significative. On la supprime.\n",
      "La variable months_3 de p-value 0.251 n'est pas significative. On la supprime.\n",
      "La variable months_4 de p-value 0.241 n'est pas significative. On la supprime.\n",
      "La variable tempwindspeedhumidity de p-value 0.223 n'est pas significative. On la supprime.\n",
      "La variable atempwindspeedhumidity de p-value 0.431 n'est pas significative. On la supprime.\n",
      "La variable atempwindspeed_2 de p-value 0.413 n'est pas significative. On la supprime.\n",
      "La variable temp_2humidity de p-value 0.278 n'est pas significative. On la supprime.\n",
      "La variable hours_14 de p-value 0.193 n'est pas significative. On la supprime.\n",
      "La variable hours_11 de p-value 0.213 n'est pas significative. On la supprime.\n",
      "La variable week_days_1 de p-value 0.180 n'est pas significative. On la supprime.\n",
      "La variable humidity_3 de p-value 0.163 n'est pas significative. On la supprime.\n",
      "La variable months_6 de p-value 0.174 n'est pas significative. On la supprime.\n",
      "La variable season_2 de p-value 0.312 n'est pas significative. On la supprime.\n",
      "La variable atemp_2 de p-value 0.114 n'est pas significative. On la supprime.\n",
      "La variable temphumidity_2 de p-value 0.079 n'est pas significative. On la supprime.\n",
      "La variable months_11 de p-value 0.083 n'est pas significative. On la supprime.\n",
      "La variable season_4 de p-value 0.097 n'est pas significative. On la supprime.\n",
      "La variable atemp_3 de p-value 0.055 n'est pas significative. On la supprime.\n",
      "La variable tempwindspeed_2 de p-value 0.078 n'est pas significative. On la supprime.\n"
     ]
    }
   ],
   "source": [
    "pvalue = 2\n",
    "index = ''\n",
    "features_to_delete = []\n",
    "while True:\n",
    "    formula = formula.replace('+' + index + '+', '+')\n",
    "    ols_model = smf.ols(formula, data=df_new_registered)\n",
    "    ols_res = ols_model.fit()\n",
    "    pvalues = ols_res.pvalues[1:]\n",
    "    index = pvalues[pvalues == pvalues.max()].index[0]\n",
    "    pvalue = pvalues[pvalues == pvalues.max()].values[0]\n",
    "    if (pvalue > 0.05) & (index != 'intercept'):\n",
    "        print('La variable ' + index + ' de p-value ' + '{:01.3f}'.format(pvalue) + ' n\\'est pas significative. On la supprime.')\n",
    "        features_to_delete.append(index)\n",
    "    else:\n",
    "        break\n",
    "\n",
    "features_list = list(features_name.values())\n",
    "for i in range(len(features_to_delete)):\n",
    "    j = features_list.index(features_to_delete[i])\n",
    "    X_train_new_df = X_train_new_df.drop(features_name[j], axis=1)\n",
    "    if features_name[j] in X_test_new_df.columns:\n",
    "        X_test_new_df = X_test_new_df.drop(features_name[j], axis=1)\n",
    "df_new_registered = X_train_new_df.join(y_train_registered)"
   ]
  },
  {
   "cell_type": "code",
   "execution_count": 280,
   "metadata": {},
   "outputs": [
    {
     "name": "stdout",
     "output_type": "stream",
     "text": [
      "                            OLS Regression Results                            \n",
      "==============================================================================\n",
      "Dep. Variable:             registered   R-squared:                       0.658\n",
      "Model:                            OLS   Adj. R-squared:                  0.654\n",
      "Method:                 Least Squares   F-statistic:                     162.5\n",
      "Date:                Wed, 23 Mar 2022   Prob (F-statistic):               0.00\n",
      "Time:                        16:54:47   Log-Likelihood:                -52624.\n",
      "No. Observations:                9039   AIC:                         1.055e+05\n",
      "Df Residuals:                    8932   BIC:                         1.062e+05\n",
      "Df Model:                         106                                         \n",
      "Covariance Type:            nonrobust                                         \n",
      "==================================================================================================\n",
      "                                     coef    std err          t      P>|t|      [0.025      0.975]\n",
      "--------------------------------------------------------------------------------------------------\n",
      "Intercept                         43.7860      2.953     14.826      0.000      37.997      49.575\n",
      "temp                              39.7749      2.703     14.716      0.000      34.477      45.073\n",
      "tempwindspeed                     35.8153     12.425      2.883      0.004      11.459      60.171\n",
      "atemp_2                            8.0536      2.610      3.086      0.002       2.938      13.170\n",
      "atempwindspeed                   -32.9966     12.290     -2.685      0.007     -57.088      -8.905\n",
      "atemphumidity                    -23.0126      2.208    -10.424      0.000     -27.340     -18.685\n",
      "windspeed_2                       -3.5700      0.763     -4.681      0.000      -5.065      -2.075\n",
      "windspeedhumidity                 -6.5251      1.761     -3.706      0.000      -9.977      -3.073\n",
      "humidity_2                        17.7888      4.615      3.855      0.000       8.743      26.835\n",
      "tempatemphumidity                -18.1647      4.843     -3.751      0.000     -27.658      -8.671\n",
      "temphumidity_2                   -10.3598      4.283     -2.419      0.016     -18.756      -1.964\n",
      "humidity_3                       -12.2775      1.962     -6.257      0.000     -16.124      -8.431\n",
      "temp_2windspeedhumidity         -297.8528    109.315     -2.725      0.006    -512.135     -83.571\n",
      "temp_2humidity_2                -381.0238     93.718     -4.066      0.000    -564.733    -197.315\n",
      "tempatempwindspeedhumidity       646.9444    215.757      2.998      0.003     224.012    1069.877\n",
      "tempatemphumidity_2              771.6330    193.945      3.979      0.000     391.456    1151.810\n",
      "atemp_2windspeedhumidity        -338.7810    105.237     -3.219      0.001    -545.069    -132.493\n",
      "atemp_2humidity_2               -406.0383     99.294     -4.089      0.000    -600.677    -211.399\n",
      "humidity_4                        -8.0096      1.971     -4.064      0.000     -11.873      -4.147\n",
      "temp_5                           -79.1793     22.830     -3.468      0.001    -123.930     -34.428\n",
      "temp_4humidity                  -242.8889     55.045     -4.413      0.000    -350.789    -134.989\n",
      "temp_3atemp_2                    211.4182     60.234      3.510      0.000      93.346     329.491\n",
      "temp_3atemphumidity              347.8740     78.062      4.456      0.000     194.854     500.894\n",
      "temp_3windspeed_2                -22.4705      5.149     -4.364      0.000     -32.563     -12.378\n",
      "temp_2atemp_3                   -133.2478     37.721     -3.532      0.000    -207.189     -59.306\n",
      "temp_2atempwindspeed_2            21.2516      4.855      4.378      0.000      11.736      30.768\n",
      "temp_2atemphumidity_2             11.7734      2.912      4.043      0.000       6.065      17.482\n",
      "temp_2humidity_3                  50.9364      8.722      5.840      0.000      33.840      68.033\n",
      "tempatemp_3humidity              -97.2349     23.886     -4.071      0.000    -144.057     -50.412\n",
      "tempatemphumidity_3              -47.2456      8.854     -5.336      0.000     -64.602     -29.889\n",
      "tempwindspeed_3humidity           -2.6448      0.837     -3.162      0.002      -4.285      -1.005\n",
      "tempwindspeedhumidity_3            3.8353      1.254      3.060      0.002       1.378       6.292\n",
      "temphumidity_4                     2.7203      1.199      2.269      0.023       0.370       5.070\n",
      "humidity_5                         1.6038      0.538      2.983      0.003       0.550       2.658\n",
      "temp_5atemp                     5345.5812   1600.865      3.339      0.001    2207.518    8483.644\n",
      "temp_5windspeed                -2024.0230    616.005     -3.286      0.001   -3231.535    -816.511\n",
      "temp_5humidity                  1998.9419    547.098      3.654      0.000     926.504    3071.380\n",
      "temp_4atemp_2                  -2.038e+04   6234.151     -3.269      0.001   -3.26e+04   -8162.170\n",
      "temp_4atempwindspeed            5861.0691   1944.548      3.014      0.003    2049.309    9672.829\n",
      "temp_4atemphumidity            -6087.0072   1641.128     -3.709      0.000   -9303.995   -2870.019\n",
      "temp_4windspeedhumidity         -986.6887    214.956     -4.590      0.000   -1408.052    -565.325\n",
      "temp_4humidity_2                2977.5182    780.134      3.817      0.000    1448.277    4506.760\n",
      "temp_3atemp_3                   2.901e+04   9093.141      3.190      0.001    1.12e+04    4.68e+04\n",
      "temp_3atemp_2windspeed         -5071.7412   1845.340     -2.748      0.006   -8689.032   -1454.450\n",
      "temp_3atemp_2humidity           6168.6784   1637.809      3.766      0.000    2958.196    9379.161\n",
      "temp_3atempwindspeedhumidity    2389.5944    516.058      4.630      0.000    1378.002    3401.187\n",
      "temp_3atemphumidity_2          -1.226e+04   3303.372     -3.713      0.000   -1.87e+04   -5789.395\n",
      "temp_3windspeed_2humidity         -2.5114      0.815     -3.081      0.002      -4.109      -0.913\n",
      "temp_3humidity_3                -588.4680    148.647     -3.959      0.000    -879.849    -297.087\n",
      "temp_2atemp_4                  -1.826e+04   5887.334     -3.102      0.002   -2.98e+04   -6720.431\n",
      "temp_2atemp_3humidity          -2076.5331    543.730     -3.819      0.000   -3142.368   -1010.698\n",
      "temp_2atemp_2windspeedhumidity -1621.0786    349.830     -4.634      0.000   -2306.826    -935.331\n",
      "temp_2atemp_2humidity_2         1.886e+04   5275.195      3.576      0.000    8522.051    2.92e+04\n",
      "temp_2atempwindspeedhumidity_2   114.4661     50.934      2.247      0.025      14.624     214.308\n",
      "temp_2atemphumidity_3           1900.1936    478.634      3.970      0.000     961.961    2838.426\n",
      "temp_2windspeedhumidity_3        121.9091     35.333      3.450      0.001      52.649     191.170\n",
      "temp_2humidity_4                   4.7193      1.145      4.121      0.000       2.475       6.964\n",
      "tempatemp_5                     4291.1361   1427.517      3.006      0.003    1492.876    7089.397\n",
      "tempatemp_4windspeed            1889.4960    835.369      2.262      0.024     251.981    3527.011\n",
      "tempatemp_3humidity_2          -1.283e+04   3750.597     -3.422      0.001   -2.02e+04   -5482.083\n",
      "tempatemp_2windspeedhumidity_2  -217.8654    100.767     -2.162      0.031    -415.393     -20.338\n",
      "tempatemp_2humidity_3          -2015.8105    512.013     -3.937      0.000   -3019.474   -1012.147\n",
      "tempatempwindspeedhumidity_3    -240.4485     71.647     -3.356      0.001    -380.893    -100.004\n",
      "tempwindspeed_4humidity            0.6677      0.186      3.598      0.000       0.304       1.032\n",
      "atemp_5windspeed                -653.8406    318.727     -2.051      0.040   -1278.619     -29.062\n",
      "atemp_4windspeedhumidity         215.0079     49.073      4.381      0.000     118.814     311.201\n",
      "atemp_4humidity_2               3264.3951    999.208      3.267      0.001    1305.718    5223.072\n",
      "atemp_3windspeedhumidity_2       100.5935     49.641      2.026      0.043       3.286     197.901\n",
      "atemp_3humidity_3                702.0526    181.720      3.863      0.000     345.839    1058.266\n",
      "atemp_2windspeedhumidity_3       120.5579     36.015      3.347      0.001      49.960     191.156\n",
      "windspeedhumidity_5                0.2516      0.095      2.652      0.008       0.066       0.438\n",
      "humidity_6                         0.8012      0.256      3.127      0.002       0.299       1.303\n",
      "season_1                          18.0238      3.413      5.282      0.000      11.335      24.713\n",
      "season_3                          10.5268      3.392      3.104      0.002       3.878      17.175\n",
      "weather_1                         37.5317      3.875      9.686      0.000      29.936      45.127\n",
      "weather_2                         33.8569      3.847      8.802      0.000      26.317      41.397\n",
      "workingday_0                      10.0040      1.964      5.093      0.000       6.154      13.854\n",
      "workingday_1                      33.7820      2.150     15.713      0.000      29.568      37.996\n",
      "holiday_0                         18.3556      2.661      6.899      0.000      13.140      23.571\n",
      "holiday_1                         25.4304      3.916      6.494      0.000      17.754      33.107\n",
      "week_days_2                        6.4277      2.923      2.199      0.028       0.698      12.157\n",
      "week_days_3                        6.6326      2.912      2.278      0.023       0.925      12.340\n",
      "week_days_4                       12.2722      2.888      4.249      0.000       6.611      17.934\n",
      "week_days_7                       -7.9659      3.254     -2.448      0.014     -14.345      -1.587\n",
      "months_1                         -10.0802      3.732     -2.701      0.007     -17.396      -2.765\n",
      "months_4                         -12.7999      4.361     -2.935      0.003     -21.349      -4.251\n",
      "months_5                          12.2455      4.089      2.995      0.003       4.230      20.261\n",
      "months_8                           8.5132      3.600      2.365      0.018       1.456      15.571\n",
      "months_12                         12.0447      5.005      2.406      0.016       2.233      21.857\n",
      "hours_0                          -85.0454      4.857    -17.509      0.000     -94.567     -75.524\n",
      "hours_1                          -97.8626      4.880    -20.054      0.000    -107.428     -88.297\n",
      "hours_2                         -103.6688      4.931    -21.025      0.000    -113.334     -94.003\n",
      "hours_3                         -111.4490      5.027    -22.169      0.000    -121.303    -101.594\n",
      "hours_4                         -112.3349      5.007    -22.434      0.000    -122.151    -102.519\n",
      "hours_5                          -99.7467      4.970    -20.071      0.000    -109.488     -90.005\n",
      "hours_6                          -48.4103      4.956     -9.767      0.000     -58.126     -38.694\n",
      "hours_7                           68.0851      4.931     13.808      0.000      58.420      77.751\n",
      "hours_8                          189.4886      4.882     38.818      0.000     179.920     199.057\n",
      "hours_9                           47.9315      4.826      9.932      0.000      38.471      57.392\n",
      "hours_10                         -16.8729      4.782     -3.529      0.000     -26.247      -7.499\n",
      "hours_12                          23.5109      4.735      4.965      0.000      14.229      32.793\n",
      "hours_13                          15.6819      4.744      3.305      0.001       6.382      24.982\n",
      "hours_16                          62.7984      4.767     13.175      0.000      53.455      72.142\n",
      "hours_17                         212.7010      4.758     44.702      0.000     203.374     222.028\n",
      "hours_18                         195.6120      4.741     41.260      0.000     186.319     204.905\n",
      "hours_19                         105.9233      4.750     22.301      0.000      96.613     115.234\n",
      "hours_20                          40.5632      4.763      8.516      0.000      31.226      49.900\n",
      "hours_22                         -26.3947      4.809     -5.489      0.000     -35.821     -16.968\n",
      "hours_23                         -59.0188      4.832    -12.215      0.000     -68.490     -49.548\n",
      "==============================================================================\n",
      "Omnibus:                      997.333   Durbin-Watson:                   0.558\n",
      "Prob(Omnibus):                  0.000   Jarque-Bera (JB):             2777.630\n",
      "Skew:                           0.609   Prob(JB):                         0.00\n",
      "Kurtosis:                       5.428   Cond. No.                     1.48e+17\n",
      "==============================================================================\n",
      "\n",
      "Notes:\n",
      "[1] Standard Errors assume that the covariance matrix of the errors is correctly specified.\n",
      "[2] The smallest eigenvalue is 1.15e-27. This might indicate that there are\n",
      "strong multicollinearity problems or that the design matrix is singular.\n"
     ]
    }
   ],
   "source": [
    "ols_model = smf.ols(formula, data=df_new_registered)\n",
    "# ols_model = sm.OLS(y_train,X_train_new)\n",
    "ols_res = ols_model.fit()\n",
    "print(ols_res.summary())"
   ]
  },
  {
   "cell_type": "markdown",
   "metadata": {},
   "source": [
    "### Calcul des leviers de la matrice de projection : données atypiques sur les variables explicatives"
   ]
  },
  {
   "cell_type": "code",
   "execution_count": 344,
   "metadata": {},
   "outputs": [],
   "source": [
    "alpha = 0.05 # On pose un seuil de significativité à 5%\n",
    "n = df_new_registered.shape[0] # Nombre d'observations\n",
    "p = df_new_registered.shape[1] # Nombre de features"
   ]
  },
  {
   "cell_type": "code",
   "execution_count": 345,
   "metadata": {},
   "outputs": [],
   "source": [
    "analyses = pd.DataFrame({'obs':np.arange(1, n+1)})"
   ]
  },
  {
   "cell_type": "code",
   "execution_count": 346,
   "metadata": {},
   "outputs": [],
   "source": [
    "analyses['levier'] = ols_res.get_influence().hat_matrix_diag\n",
    "seuil_levier = 2*p/n"
   ]
  },
  {
   "cell_type": "code",
   "execution_count": 182,
   "metadata": {},
   "outputs": [
    {
     "data": {
      "image/png": "[encoded data removed]",
      "text/plain": [
       "<Figure size 1440x576 with 1 Axes>"
      ]
     },
     "metadata": {
      "needs_background": "light"
     },
     "output_type": "display_data"
    }
   ],
   "source": [
    "plt.figure(figsize=(20,8))\n",
    "plt.bar(analyses['obs'], analyses['levier'])\n",
    "plt.xticks(np.arange(0, n+1, step=1000))\n",
    "plt.xlabel('Observation',fontsize=18)\n",
    "plt.ylabel('Leviers',fontsize=18)\n",
    "plt.plot([0, n+1], [seuil_levier, seuil_levier], color='r')\n",
    "plt.show()"
   ]
  },
  {
   "cell_type": "markdown",
   "metadata": {},
   "source": [
    "### Calcul des résidus studentisés internes : données atypiques sur la variable cible"
   ]
  },
  {
   "cell_type": "code",
   "execution_count": 347,
   "metadata": {},
   "outputs": [],
   "source": [
    "analyses['rstudent'] = ols_res.get_influence().resid_studentized_internal\n",
    "seuil_rstudent = t.ppf(1-alpha/2,n-p-1)"
   ]
  },
  {
   "cell_type": "code",
   "execution_count": 184,
   "metadata": {},
   "outputs": [
    {
     "data": {
      "image/png": "[encoded data removed]",
      "text/plain": [
       "<Figure size 1440x576 with 1 Axes>"
      ]
     },
     "metadata": {
      "needs_background": "light"
     },
     "output_type": "display_data"
    }
   ],
   "source": [
    "plt.figure(figsize=(20,8))\n",
    "plt.bar(analyses['obs'], analyses['rstudent'])\n",
    "plt.xticks(np.arange(0, n+1, step=5000))\n",
    "plt.xlabel('Observation',fontsize=18)\n",
    "plt.ylabel('Résidus studentisés',fontsize=18)\n",
    "plt.ylim([-5,5])\n",
    "plt.plot([0, n+1], [seuil_rstudent, seuil_rstudent], color='r')\n",
    "plt.plot([0, n+1], [-seuil_rstudent, -seuil_rstudent], color='r')\n",
    "plt.show()"
   ]
  },
  {
   "cell_type": "markdown",
   "metadata": {},
   "source": [
    "### Calcul de la distance de Cook : données influentes"
   ]
  },
  {
   "cell_type": "code",
   "execution_count": 355,
   "metadata": {},
   "outputs": [],
   "source": [
    "dcooks = pd.DataFrame(ols_res.get_influence().cooks_distance[0],columns=['d_cooks'])\n",
    "analyses['dcooks'] = dcooks['d_cooks']\n",
    "seuil_dcook = 4/(n-p)"
   ]
  },
  {
   "cell_type": "code",
   "execution_count": 186,
   "metadata": {},
   "outputs": [
    {
     "data": {
      "image/png": "[encoded data removed]",
      "text/plain": [
       "<Figure size 1440x576 with 1 Axes>"
      ]
     },
     "metadata": {
      "needs_background": "light"
     },
     "output_type": "display_data"
    }
   ],
   "source": [
    "plt.figure(figsize=(20,8))\n",
    "plt.bar(analyses['obs'], analyses['dcooks'])\n",
    "plt.xticks(np.arange(0, n+1, step=5000))\n",
    "plt.xlabel('Observations',fontsize=18)\n",
    "plt.ylabel('Distances de Cook',fontsize=18)\n",
    "plt.ylim([0,0.002])\n",
    "plt.plot([0, n+1], [seuil_dcook, seuil_dcook], color='r')\n",
    "plt.show()"
   ]
  },
  {
   "cell_type": "markdown",
   "metadata": {},
   "source": [
    "### Données atypiques et influentes"
   ]
  },
  {
   "cell_type": "code",
   "execution_count": 356,
   "metadata": {},
   "outputs": [],
   "source": [
    "atypiques_et_influents = analyses.loc[(analyses['levier'] > seuil_levier) &\n",
    "                                      (analyses['rstudent'] > seuil_rstudent) &\n",
    "                                      (analyses['dcooks'] > seuil_dcook), :]\n",
    "atypiques_et_influents_df = df_new_registered.iloc[atypiques_et_influents.index.to_numpy()]"
   ]
  },
  {
   "cell_type": "code",
   "execution_count": 357,
   "metadata": {},
   "outputs": [],
   "source": [
    "a = list(atypiques_et_influents_df.index)"
   ]
  },
  {
   "cell_type": "code",
   "execution_count": 359,
   "metadata": {},
   "outputs": [],
   "source": [
    "outliers = df_train.loc[a]"
   ]
  },
  {
   "cell_type": "code",
   "execution_count": 360,
   "metadata": {},
   "outputs": [],
   "source": [
    "df_no_outliers = df_train.drop(a)"
   ]
  },
  {
   "cell_type": "code",
   "execution_count": 361,
   "metadata": {},
   "outputs": [
    {
     "data": {
      "text/plain": [
       "<AxesSubplot:xlabel='atemp', ylabel='temp'>"
      ]
     },
     "execution_count": 361,
     "metadata": {},
     "output_type": "execute_result"
    },
    {
     "data": {
      "image/png": "[encoded data removed]",
      "text/plain": [
       "<Figure size 432x288 with 1 Axes>"
      ]
     },
     "metadata": {
      "needs_background": "light"
     },
     "output_type": "display_data"
    }
   ],
   "source": [
    "col = 'atemp'\n",
    "sns.scatterplot(x=col,y='temp',data=df_no_outliers)\n",
    "sns.scatterplot(x=col,y='temp',data=outliers)"
   ]
  },
  {
   "cell_type": "markdown",
   "metadata": {},
   "source": [
    "### Suppression des données atypiques et influentes"
   ]
  },
  {
   "cell_type": "code",
   "execution_count": 261,
   "metadata": {},
   "outputs": [],
   "source": [
    "for row in atypiques_et_influents_df.index:\n",
    "    df_new = df_new_registered.drop(row)\n",
    "    X_train_new_df = X_train_new_df.drop(row)\n",
    "    y_train_registered = y_train_registered.drop(row)"
   ]
  },
  {
   "cell_type": "code",
   "execution_count": 262,
   "metadata": {},
   "outputs": [
    {
     "name": "stdout",
     "output_type": "stream",
     "text": [
      "                            OLS Regression Results                            \n",
      "==============================================================================\n",
      "Dep. Variable:             registered   R-squared:                       0.651\n",
      "Model:                            OLS   Adj. R-squared:                  0.649\n",
      "Method:                 Least Squares   F-statistic:                     341.4\n",
      "Date:                Wed, 23 Mar 2022   Prob (F-statistic):               0.00\n",
      "Time:                        16:52:11   Log-Likelihood:                -52721.\n",
      "No. Observations:                9038   AIC:                         1.055e+05\n",
      "Df Residuals:                    8988   BIC:                         1.059e+05\n",
      "Df Model:                          49                                         \n",
      "Covariance Type:            nonrobust                                         \n",
      "=======================================================================================\n",
      "                          coef    std err          t      P>|t|      [0.025      0.975]\n",
      "---------------------------------------------------------------------------------------\n",
      "Intercept              49.2725      2.832     17.401      0.000      43.722      54.823\n",
      "temp                   50.8415      2.115     24.038      0.000      46.696      54.987\n",
      "humidity              -18.0904      1.265    -14.298      0.000     -20.571     -15.610\n",
      "temp_2                -55.8609      9.455     -5.908      0.000     -74.395     -37.326\n",
      "tempatemp              48.2929      9.339      5.171      0.000      29.986      66.600\n",
      "tempwindspeed           6.2465      1.178      5.302      0.000       3.937       8.556\n",
      "temphumidity          -17.3342      1.233    -14.056      0.000     -19.752     -14.917\n",
      "windspeed_2            -3.3421      0.743     -4.496      0.000      -4.799      -1.885\n",
      "windspeedhumidity      -4.4741      0.992     -4.508      0.000      -6.419      -2.529\n",
      "humidity_2             -6.2189      0.922     -6.743      0.000      -8.027      -4.411\n",
      "temp_2atemp            -7.6341      0.842     -9.068      0.000      -9.284      -5.984\n",
      "tempatempwindspeed    -22.2278      7.614     -2.919      0.004     -37.154      -7.302\n",
      "tempwindspeed_2        -1.7229      0.736     -2.341      0.019      -3.166      -0.280\n",
      "atemp_2windspeed       19.5751      7.346      2.665      0.008       5.176      33.975\n",
      "windspeedhumidity_2    -2.7642      0.661     -4.180      0.000      -4.061      -1.468\n",
      "season_1               11.2520      2.626      4.285      0.000       6.105      16.400\n",
      "season_3                9.8779      3.323      2.973      0.003       3.364      16.392\n",
      "weather_1              39.4805      3.834     10.298      0.000      31.965      46.996\n",
      "weather_2              35.6696      3.815      9.349      0.000      28.191      43.148\n",
      "workingday_0           14.6334      1.969      7.432      0.000      10.774      18.493\n",
      "workingday_1           34.6391      2.411     14.366      0.000      29.912      39.366\n",
      "holiday_0              22.6566      2.600      8.713      0.000      17.559      27.754\n",
      "holiday_1              26.6159      3.902      6.821      0.000      18.967      34.265\n",
      "week_days_2             9.4701      3.400      2.785      0.005       2.805      16.135\n",
      "week_days_3            10.1281      3.383      2.994      0.003       3.496      16.760\n",
      "week_days_4            14.3040      3.371      4.243      0.000       7.696      20.912\n",
      "week_days_5             7.6488      3.358      2.278      0.023       1.066      14.231\n",
      "week_days_7            -8.0403      3.250     -2.474      0.013     -14.411      -1.669\n",
      "months_1               -8.7524      3.661     -2.391      0.017     -15.929      -1.576\n",
      "months_5               16.2009      3.437      4.713      0.000       9.463      22.939\n",
      "months_8                9.1057      3.481      2.616      0.009       2.283      15.928\n",
      "months_12              13.5650      4.939      2.747      0.006       3.884      23.246\n",
      "hours_0               -85.0722      4.876    -17.446      0.000     -94.631     -75.514\n",
      "hours_1               -98.1722      4.897    -20.048      0.000    -107.771     -88.573\n",
      "hours_2              -104.5392      4.946    -21.135      0.000    -114.235     -94.843\n",
      "hours_3              -111.9934      5.043    -22.206      0.000    -121.879    -102.107\n",
      "hours_4              -112.1380      5.017    -22.351      0.000    -121.973    -102.303\n",
      "hours_5               -99.7924      4.988    -20.007      0.000    -109.570     -90.015\n",
      "hours_6               -48.1675      4.974     -9.683      0.000     -57.918     -38.417\n",
      "hours_7                67.6013      4.942     13.679      0.000      57.914      77.289\n",
      "hours_8               188.3861      4.897     38.473      0.000     178.788     197.985\n",
      "hours_9                47.5849      4.841      9.830      0.000      38.095      57.074\n",
      "hours_10              -17.4325      4.798     -3.633      0.000     -26.839      -8.026\n",
      "hours_12               23.8428      4.764      5.004      0.000      14.504      33.182\n",
      "hours_13               15.5007      4.768      3.251      0.001       6.154      24.848\n",
      "hours_16               64.0861      4.785     13.394      0.000      54.707      73.465\n",
      "hours_17              213.8179      4.778     44.749      0.000     204.452     223.184\n",
      "hours_18              195.9450      4.765     41.118      0.000     186.604     205.286\n",
      "hours_19              104.3385      4.772     21.865      0.000      94.984     113.693\n",
      "hours_20               40.7601      4.788      8.514      0.000      31.375      50.145\n",
      "hours_22              -26.2724      4.827     -5.443      0.000     -35.734     -16.811\n",
      "hours_23              -58.6052      4.845    -12.095      0.000     -68.103     -49.107\n",
      "==============================================================================\n",
      "Omnibus:                     1053.903   Durbin-Watson:                   0.541\n",
      "Prob(Omnibus):                  0.000   Jarque-Bera (JB):             2877.530\n",
      "Skew:                           0.647   Prob(JB):                         0.00\n",
      "Kurtosis:                       5.443   Cond. No.                     2.69e+15\n",
      "==============================================================================\n",
      "\n",
      "Notes:\n",
      "[1] Standard Errors assume that the covariance matrix of the errors is correctly specified.\n",
      "[2] The smallest eigenvalue is 1.32e-26. This might indicate that there are\n",
      "strong multicollinearity problems or that the design matrix is singular.\n"
     ]
    }
   ],
   "source": [
    "ols_model = smf.ols(formula, data=df_new)\n",
    "# ols_model = sm.OLS(y_train,X_train_new)\n",
    "ols_res = ols_model.fit()\n",
    "print(ols_res.summary())"
   ]
  }
 ],
 "metadata": {
  "interpreter": {
   "hash": "a4cc5ee3c947b0b2a63d6883ad81518e39249fafcf5464e6304ea0291cc4de25"
  },
  "kernelspec": {
   "display_name": "Python 3.9.7 ('mv')",
   "language": "python",
   "name": "python3"
  },
  "language_info": {
   "codemirror_mode": {
    "name": "ipython",
    "version": 3
   },
   "file_extension": ".py",
   "mimetype": "text/x-python",
   "name": "python",
   "nbconvert_exporter": "python",
   "pygments_lexer": "ipython3",
   "version": "3.9.7"
  },
  "orig_nbformat": 4
 },
 "nbformat": 4,
 "nbformat_minor": 2
}
