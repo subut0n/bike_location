{
 "cells": [
  {
   "cell_type": "code",
   "execution_count": 315,
   "metadata": {},
   "outputs": [],
   "source": [
    "import pandas as pd \n",
    "import numpy as np\n",
    "import seaborn as sns\n",
    "import matplotlib.pyplot as plt\n",
    "\n",
    "from sklearn.preprocessing import StandardScaler, OneHotEncoder\n",
    "from sklearn.pipeline import make_pipeline\n",
    "from sklearn.compose import make_column_transformer\n",
    "from sklearn.model_selection import cross_validate, train_test_split, learning_curve\n",
    "from sklearn.metrics import mean_squared_error\n",
    "\n",
    "from xgboost import XGBRegressor"
   ]
  },
  {
   "cell_type": "code",
   "execution_count": 316,
   "metadata": {},
   "outputs": [],
   "source": [
    "from sklearn.metrics import mean_squared_error, mean_absolute_error, median_absolute_error\n",
    "\n",
    "def adjustedR2(r2,n,k):\n",
    "    return r2-(k-1)/(n-k)*(1-r2)\n",
    "\n",
    "def metrics_scores(y, y_pred):\n",
    "    print('MSE test : ' + str(mean_squared_error(y, y_pred)))\n",
    "    print('RMSE test : ' + str(np.sqrt(mean_squared_error(y, y_pred))))\n",
    "    print('MAE test : ' + str(mean_absolute_error(y, y_pred)))\n",
    "    print('MdAE test : ' + str(median_absolute_error(y, y_pred)))\n",
    "\n",
    "def metrics_scores_train(y, y_pred):\n",
    "    print('MSE train : ' + str(mean_squared_error(y, y_pred)))\n",
    "    print('RMSE train : ' + str(np.sqrt(mean_squared_error(y, y_pred))))\n",
    "    print('MAE train : ' + str(mean_absolute_error(y, y_pred)))\n",
    "    print('MdAE testraint : ' + str(median_absolute_error(y, y_pred)))"
   ]
  },
  {
   "cell_type": "markdown",
   "metadata": {},
   "source": [
    "# Fit registered"
   ]
  },
  {
   "cell_type": "code",
   "execution_count": 195,
   "metadata": {},
   "outputs": [],
   "source": [
    "df_train_modify = pd.read_csv('../../csv/train_modifie.csv')\n",
    "df_test_modify = pd.read_csv('../../csv/test_modifie.csv')\n",
    "\n",
    "df_train = df_train_modify.drop(['day_length'], axis=1)\n",
    "df_test = df_test_modify.drop(['day_length'], axis=1)"
   ]
  },
  {
   "cell_type": "code",
   "execution_count": 196,
   "metadata": {},
   "outputs": [],
   "source": [
    "X_train = df_train.drop(['registered', 'casual'], axis=1)\n",
    "y_train_registered = df_train['registered']\n",
    "y_train_casual = df_train['casual']\n",
    "\n",
    "X_test = df_test.drop(['registered', 'casual'], axis=1)\n",
    "y_test_registered = df_test['registered']\n",
    "y_test_casual = df_test['casual']"
   ]
  },
  {
   "cell_type": "code",
   "execution_count": 197,
   "metadata": {},
   "outputs": [],
   "source": [
    "X_train, _, y_train_registered, _ = train_test_split(X_train, y_train_registered, test_size=0.00001)"
   ]
  },
  {
   "cell_type": "code",
   "execution_count": 198,
   "metadata": {},
   "outputs": [],
   "source": [
    "encoded_features = ['season', 'weather', 'week_days', 'months']\n",
    "encoded_pipeline = make_pipeline(OneHotEncoder())\n",
    "\n",
    "scaled_features = ['temp', 'atemp', 'windspeed', 'humidity', 'hours','years']#, 'day_length'\n",
    "scaled_pipeline = make_pipeline(StandardScaler())\n",
    "\n",
    "preprocessor = make_column_transformer((encoded_pipeline, encoded_features), (scaled_pipeline, scaled_features), remainder=\"passthrough\")\n",
    "xgb = XGBRegressor(n_estimators=125, max_depth=7, subsample=0.8, learning_rate=0.1,\n",
    "                   colsample_bytree=0.9, colsample_bylevel=1, colsample_bynode=1, gamma=0)\n",
    "\n",
    "model_registered = make_pipeline(preprocessor, xgb)"
   ]
  },
  {
   "cell_type": "code",
   "execution_count": null,
   "metadata": {},
   "outputs": [],
   "source": [
    "metrics = ['r2','neg_mean_squared_error', 'neg_root_mean_squared_error', 'neg_mean_absolute_error',\n",
    "        'neg_median_absolute_error']#, 'neg_mean_squared_log_error'\n",
    "scores = cross_validate(model_registered,X_train,y_train_registered,cv=5,scoring=metrics)\n",
    "\n",
    "print(scores['test_r2'])\n",
    "r2 = (scores['test_r2']).mean()\n",
    "r2_adj = adjustedR2(r2,X_train.shape[0],X_train.shape[1])\n",
    "mse = (-scores['test_neg_mean_squared_error']).mean()\n",
    "rmse = (-scores['test_neg_root_mean_squared_error']).mean()\n",
    "mae = (-scores['test_neg_mean_absolute_error']).mean()\n",
    "mdae = (-scores['test_neg_median_absolute_error']).mean()\n",
    "\n",
    "print('r2 : ' + str(r2))\n",
    "print('r2 adj. : ' + str(r2_adj))\n",
    "print('MSE : ' + str(mse))\n",
    "print('RMSE : ' + str(rmse))\n",
    "print('MAE : ' + str(mae))\n",
    "print('MdAE : ' + str(mdae))"
   ]
  },
  {
   "cell_type": "code",
   "execution_count": 200,
   "metadata": {},
   "outputs": [
    {
     "data": {
      "text/plain": [
       "0.8625456775900576"
      ]
     },
     "execution_count": 200,
     "metadata": {},
     "output_type": "execute_result"
    }
   ],
   "source": [
    "model_registered.fit(X_train,y_train_registered)\n",
    "model_registered.predict(X_test)\n",
    "model_registered.score(X_test,y_test_registered)"
   ]
  },
  {
   "cell_type": "markdown",
   "metadata": {},
   "source": [
    "# Fit casual"
   ]
  },
  {
   "cell_type": "code",
   "execution_count": 267,
   "metadata": {},
   "outputs": [],
   "source": [
    "df_train_modify = pd.read_csv('../../csv/train_modifie.csv')\n",
    "df_test_modify = pd.read_csv('../../csv/test_modifie.csv')\n",
    "\n",
    "df_train = df_train_modify.drop(['day_length'], axis=1)\n",
    "df_test = df_test_modify.drop(['day_length'], axis=1)"
   ]
  },
  {
   "cell_type": "code",
   "execution_count": 268,
   "metadata": {},
   "outputs": [],
   "source": [
    "X_train = df_train.drop(['registered', 'casual'], axis=1)\n",
    "y_train_registered = df_train['registered']\n",
    "y_train_casual = df_train['casual']\n",
    "\n",
    "X_test = df_test.drop(['registered', 'casual'], axis=1)\n",
    "y_test_registered = df_test['registered']\n",
    "y_test_casual = df_test['casual']"
   ]
  },
  {
   "cell_type": "code",
   "execution_count": 269,
   "metadata": {},
   "outputs": [],
   "source": [
    "X_train, _, y_train_casual, _ = train_test_split(X_train, y_train_casual, test_size=0.00001)"
   ]
  },
  {
   "cell_type": "code",
   "execution_count": 270,
   "metadata": {},
   "outputs": [],
   "source": [
    "encoded_features = ['season', 'weather', 'week_days', 'months']\n",
    "encoded_pipeline = make_pipeline(OneHotEncoder())\n",
    "\n",
    "scaled_features = ['temp', 'atemp', 'windspeed', 'humidity', 'hours','years']#, 'day_length'\n",
    "scaled_pipeline = make_pipeline(StandardScaler())\n",
    "\n",
    "preprocessor = make_column_transformer((encoded_pipeline, encoded_features), (scaled_pipeline, scaled_features), remainder=\"passthrough\")\n",
    "xgb = XGBRegressor(n_estimators=140, max_depth=7, subsample=0.9, learning_rate=0.1,\n",
    "          colsample_bytree=0.9, colsample_bylevel=0.8, colsample_bynode=0.9, gamma=0.1)\n",
    "\n",
    "model_casual = make_pipeline(preprocessor, xgb)"
   ]
  },
  {
   "cell_type": "code",
   "execution_count": null,
   "metadata": {},
   "outputs": [],
   "source": [
    "metrics = ['r2','neg_mean_squared_error', 'neg_root_mean_squared_error', 'neg_mean_absolute_error',\n",
    "        'neg_median_absolute_error']#, 'neg_mean_squared_log_error'\n",
    "scores = cross_validate(model_casual,X_train,y_train_casual,cv=5,scoring=metrics)\n",
    "\n",
    "print(scores['test_r2'])\n",
    "r2 = (scores['test_r2']).mean()\n",
    "r2_adj = adjustedR2(r2,X_train.shape[0],X_train.shape[1])\n",
    "mse = (-scores['test_neg_mean_squared_error']).mean()\n",
    "rmse = (-scores['test_neg_root_mean_squared_error']).mean()\n",
    "mae = (-scores['test_neg_mean_absolute_error']).mean()\n",
    "mdae = (-scores['test_neg_median_absolute_error']).mean()\n",
    "\n",
    "print('r2 : ' + str(r2))\n",
    "print('r2 adj. : ' + str(r2_adj))\n",
    "print('MSE : ' + str(mse))\n",
    "print('RMSE : ' + str(rmse))\n",
    "print('MAE : ' + str(mae))\n",
    "print('MdAE : ' + str(mdae))"
   ]
  },
  {
   "cell_type": "code",
   "execution_count": 272,
   "metadata": {},
   "outputs": [
    {
     "data": {
      "text/plain": [
       "0.867591826300233"
      ]
     },
     "execution_count": 272,
     "metadata": {},
     "output_type": "execute_result"
    }
   ],
   "source": [
    "model_casual.fit(X_train,y_train_casual)\n",
    "model_casual.predict(X_test)\n",
    "model_casual.score(X_test,y_test_casual)"
   ]
  },
  {
   "cell_type": "markdown",
   "metadata": {},
   "source": [
    "# Fit casual (en séparant le onehotencodage)"
   ]
  },
  {
   "cell_type": "code",
   "execution_count": 277,
   "metadata": {},
   "outputs": [],
   "source": [
    "df_train_modify = pd.read_csv('../../csv/train_modifie.csv')\n",
    "df_test_modify = pd.read_csv('../../csv/test_modifie.csv')\n",
    "\n",
    "df_train = df_train_modify.drop(['day_length'], axis=1)\n",
    "df_test = df_test_modify.drop(['day_length'], axis=1)"
   ]
  },
  {
   "cell_type": "code",
   "execution_count": 278,
   "metadata": {},
   "outputs": [],
   "source": [
    "X_train = df_train.drop(['registered', 'casual'], axis=1)\n",
    "y_train_registered = df_train['registered']\n",
    "y_train_casual = df_train['casual']\n",
    "\n",
    "X_test = df_test.drop(['registered', 'casual'], axis=1)\n",
    "y_test_registered = df_test['registered']\n",
    "y_test_casual = df_test['casual']"
   ]
  },
  {
   "cell_type": "code",
   "execution_count": 279,
   "metadata": {},
   "outputs": [],
   "source": [
    "X_train, _, y_train_casual, _ = train_test_split(X_train, y_train_casual, test_size=0.00001)"
   ]
  },
  {
   "cell_type": "code",
   "execution_count": 280,
   "metadata": {},
   "outputs": [],
   "source": [
    "encoded_features = ['season', 'weather', 'week_days', 'months']\n",
    "ohe = make_column_transformer((OneHotEncoder(),encoded_features), remainder='passthrough')\n",
    "ohe.fit(X_train)\n",
    "X_train_ohe = ohe.transform(X_train)\n",
    "X_train = pd.DataFrame(X_train_ohe)\n",
    "\n",
    "X_test_ohe = ohe.transform(X_test)\n",
    "X_test = pd.DataFrame(X_test_ohe)\n",
    "\n",
    "\n",
    "features_name = {}\n",
    "for i in range(X_train.shape[1]):\n",
    "    features_name[i] = ohe.get_feature_names_out()[i].replace(\"onehotencoder__\",\"\").replace(\"remainder__\",\"\")\n",
    "X_train = X_train.rename(columns=features_name)\n",
    "X_test = X_test.rename(columns=features_name)\n",
    "\n",
    "\n",
    "scaled_features = ['temp', 'atemp', 'windspeed', 'humidity', 'hours','years']#, 'day_length'\n",
    "scaled_pipeline = make_pipeline(StandardScaler())\n",
    "\n",
    "preprocessor = make_column_transformer((scaled_pipeline, scaled_features), remainder=\"passthrough\")\n",
    "xgb = XGBRegressor(n_estimators=140, max_depth=7, subsample=0.9, learning_rate=0.1,\n",
    "          colsample_bytree=0.9, colsample_bylevel=0.8, colsample_bynode=0.9, gamma=0.1)\n",
    "model_casual = make_pipeline(preprocessor, xgb)"
   ]
  },
  {
   "cell_type": "code",
   "execution_count": null,
   "metadata": {},
   "outputs": [],
   "source": [
    "metrics = ['r2','neg_mean_squared_error', 'neg_root_mean_squared_error', 'neg_mean_absolute_error',\n",
    "        'neg_median_absolute_error']#, 'neg_mean_squared_log_error'\n",
    "scores = cross_validate(model_casual,X_train,y_train_casual,cv=5,scoring=metrics)\n",
    "\n",
    "print(scores['test_r2'])\n",
    "r2 = (scores['test_r2']).mean()\n",
    "r2_adj = adjustedR2(r2,X_train.shape[0],X_train.shape[1])\n",
    "mse = (-scores['test_neg_mean_squared_error']).mean()\n",
    "rmse = (-scores['test_neg_root_mean_squared_error']).mean()\n",
    "mae = (-scores['test_neg_mean_absolute_error']).mean()\n",
    "mdae = (-scores['test_neg_median_absolute_error']).mean()\n",
    "\n",
    "print('r2 : ' + str(r2))\n",
    "print('r2 adj. : ' + str(r2_adj))\n",
    "print('MSE : ' + str(mse))\n",
    "print('RMSE : ' + str(rmse))\n",
    "print('MAE : ' + str(mae))\n",
    "print('MdAE : ' + str(mdae))"
   ]
  },
  {
   "cell_type": "code",
   "execution_count": 282,
   "metadata": {},
   "outputs": [
    {
     "data": {
      "text/plain": [
       "0.8661104126058362"
      ]
     },
     "execution_count": 282,
     "metadata": {},
     "output_type": "execute_result"
    }
   ],
   "source": [
    "model_casual.fit(X_train,y_train_casual)\n",
    "model_casual.predict(X_test)\n",
    "model_casual.score(X_test,y_test_casual)"
   ]
  },
  {
   "cell_type": "markdown",
   "metadata": {},
   "source": [
    "# Fonctions pour charger données API et les mettre en forme"
   ]
  },
  {
   "cell_type": "code",
   "execution_count": 307,
   "metadata": {},
   "outputs": [],
   "source": [
    "from datetime import datetime\n",
    "import json\n",
    "import requests\n",
    "\n",
    "api_key = '162a9846bb68bd69f226b05f204e6404'\n",
    "lat = 50.62925\n",
    "long = 3.057256\n",
    "\n",
    "def load_dataAPI(lat, long, api_key):\n",
    "     url = 'https://api.openweathermap.org/data/2.5/onecall?lat={}&lon={}&appid={}'.format(lat, long, api_key)\n",
    "     req = requests.get(url)\n",
    "     req = req.content.decode(\"utf-8\")\n",
    "     return json.loads(req)\n",
    "\n",
    "def get_48h_data(dataAPI, feature_names):\n",
    "    dataAPI = [dataAPI[i] for i in range(len(dataAPI))]\n",
    "    data = []\n",
    "    for dict in dataAPI:\n",
    "        data.append(data_formatting(dict, feature_names))\n",
    "    return f'{data}'\n",
    "\n",
    "def get_encoded_features_name(data, features_to_encode):\n",
    "    data = data.drop(['casual', 'registered'], axis=1)\n",
    "    ohe = make_column_transformer((OneHotEncoder(), features_to_encode), remainder='passthrough')\n",
    "    ohe.fit(data)\n",
    "    data_ohe = ohe.transform(data)\n",
    "    data = pd.DataFrame(data_ohe)\n",
    "    # On récupère le nom des colonnes après avoir OneHotEncodé\n",
    "    features_name = {}\n",
    "    for i in range(data.shape[1]):\n",
    "        features_name[i] = ohe.get_feature_names_out()[i].replace(\"onehotencoder__\",\"\").replace(\"remainder__\",\"\")\n",
    "    data = data.rename(columns=features_name)\n",
    "    return data.columns\n",
    "\n",
    "def data_formatting(data_1h_API, feature_names):\n",
    "    # keys correspond aux clés du dataset après onehotencodage\n",
    "\n",
    "    # On extrait les données nécessaires pour la prédiction\n",
    "    timestamp = data_1h_API['dt']\n",
    "    data_1h_API['dt'] = datetime.fromtimestamp(data_1h_API['dt'])\n",
    "    data_1h_API['weather'] = data_1h_API['weather'][0]['id']\n",
    "\n",
    "    # Reformatage des données issues de l'API en une forme qui nous convient\n",
    "    keys = ['dt', 'temp', 'feels_like', 'humidity', 'wind_speed', 'weather']\n",
    "    new_keys = ['dt', 'temp', 'atemp', 'humidity', 'windspeed', 'weather']\n",
    "    data = {}\n",
    "    for key, new_key in zip(keys, new_keys):\n",
    "        data[new_key] = data_1h_API[key]\n",
    "    data['temp'] = round(data['temp'] - 273.15, 2)\n",
    "    data['atemp'] = round(data['atemp'] - 273.15, 2)\n",
    "\n",
    "    # Création d'un dictionnaire avec les clés correspondant aux noms des features utilisées\n",
    "    # lors de la modélisation donc encodées.\n",
    "    data_1h_dict = {}\n",
    "    for name in feature_names:\n",
    "        data_1h_dict[name] = 0\n",
    "\n",
    "    for key in data.keys():\n",
    "        data_1h_dict[key] = data[key]\n",
    "\n",
    "    data_1h_dict = get_weather(data_1h_dict)\n",
    "\n",
    "    data_1h_dict['hours'] = data_1h_dict['dt'].hour\n",
    "    data_1h_dict['years'] = data_1h_dict['dt'].year\n",
    "    data_1h_dict = get_months(data_1h_dict)\n",
    "    data_1h_dict, weekday = get_week_day(data_1h_dict, timestamp)\n",
    "\n",
    "    data_1h_dict = get_season(data_1h_dict)\n",
    "    data_1h_dict = get_workingday(data_1h_dict, weekday)\n",
    "    data_1h_dict['dt'] = data_1h_dict['dt'].strftime(\"%A, %Y-%m-%d, %H:%M:%S\")\n",
    "\n",
    "    return data_1h_dict\n",
    "\n",
    "def feels_like_temperature(temp,humidity):\n",
    "    # Heat index (indice de chaleur) ; en degré celsius\n",
    "    c1 = -8.78469475556\n",
    "    c2 = 1.61139411\n",
    "    c3 = 2.33854883889\n",
    "    c4 = -0.14611605\n",
    "    c5 = -0.012308094\n",
    "    c6 = -0.0164248277778\n",
    "    c7 = 2.211732e-3\n",
    "    c8 = 7.2546e-4\n",
    "    c9 = 3.582e-6\n",
    "    T = temp\n",
    "    R = humidity\n",
    "    if (humidity > 40) & (temp > 27):\n",
    "        return c1 + c2*T + c3*R + c4*T*R + c5*pow(T,2) + c6*pow(R,2) + c7*pow(T,2)*R + c8*T*pow(R,2) + c9*pow(T,2)*pow(R,2)\n",
    "    else:\n",
    "        return temp\n",
    "\n",
    "def get_weather(data_1h_dict):\n",
    "    weather_1 = [800, 801, 802]\n",
    "    weather_2 = [701, 711, 721, 803, 804]\n",
    "    weather_3 = [200, 201, 300, 301, 310, 500, 501, 520,\n",
    "                 600, 601, 611, 612, 615, 620, 731, 741, 751]\n",
    "    weather_4 = [202, 210, 211, 212, 221, 230, 231, 232,\n",
    "                 301, 302, 311, 312, 313, 314, 321, 502,\n",
    "                 503, 504, 511, 520, 521, 522, 531, 602,\n",
    "                 613, 616, 621, 622, 761, 762, 771, 781]\n",
    "    weathers = [weather_1, weather_2, weather_3, weather_4]\n",
    "    weather_labels = ['weather_1', 'weather_2', 'weather_3', 'weather_4']\n",
    "    for i, weather in enumerate(weathers):\n",
    "        if data_1h_dict['weather'] in weather:\n",
    "            data_1h_dict[weather_labels[i]] = 1\n",
    "    data_1h_dict.pop('weather')\n",
    "    return data_1h_dict\n",
    "\n",
    "def get_season(data_1h_dict):\n",
    "    seasons = ['06-21', '09-21', '12-21']\n",
    "    for i, season in enumerate(seasons):\n",
    "        if (data_1h_dict['dt'].strftime('%m-%d') < '03-21'):\n",
    "            data_1h_dict['season_4'] = 1\n",
    "            return data_1h_dict\n",
    "        if ((data_1h_dict['dt'].strftime('%m-%d') < season) & (data_1h_dict['dt'].strftime('%m-%d') >= '03-21')):\n",
    "            data_1h_dict['season_' + str(i+1)] = 1\n",
    "            return data_1h_dict\n",
    "\n",
    "def get_months(data_1h_dict):\n",
    "    month = data_1h_dict['dt'].month\n",
    "    month_label = 'months_' + str(month)\n",
    "    data_1h_dict[month_label] = 1\n",
    "    return data_1h_dict\n",
    "\n",
    "def get_week_day(data_1h_dict, timestamp):\n",
    "    weekday = datetime.fromtimestamp(timestamp).weekday()+1\n",
    "    weekday_label = 'week_days_' + str(weekday)\n",
    "    data_1h_dict[weekday_label] = 1\n",
    "    return data_1h_dict, weekday\n",
    "\n",
    "def get_workingday(data_1h_dict, weekday):\n",
    "    if (weekday >= 6):\n",
    "        data_1h_dict['workingday'] = 0\n",
    "    else:\n",
    "        data_1h_dict['workingday'] = 1\n",
    "    return data_1h_dict\n"
   ]
  },
  {
   "cell_type": "markdown",
   "metadata": {},
   "source": [
    "# Fit des données de l'API"
   ]
  },
  {
   "cell_type": "code",
   "execution_count": 379,
   "metadata": {},
   "outputs": [],
   "source": [
    "df_train_modify = pd.read_csv('../../csv/train_modifie.csv')\n",
    "df_train = df_train_modify.drop(['day_length'], axis=1)"
   ]
  },
  {
   "cell_type": "code",
   "execution_count": 380,
   "metadata": {},
   "outputs": [
    {
     "data": {
      "text/html": [
       "<div>\n",
       "<style scoped>\n",
       "    .dataframe tbody tr th:only-of-type {\n",
       "        vertical-align: middle;\n",
       "    }\n",
       "\n",
       "    .dataframe tbody tr th {\n",
       "        vertical-align: top;\n",
       "    }\n",
       "\n",
       "    .dataframe thead th {\n",
       "        text-align: right;\n",
       "    }\n",
       "</style>\n",
       "<table border=\"1\" class=\"dataframe\">\n",
       "  <thead>\n",
       "    <tr style=\"text-align: right;\">\n",
       "      <th></th>\n",
       "      <th>season</th>\n",
       "      <th>holiday</th>\n",
       "      <th>workingday</th>\n",
       "      <th>weather</th>\n",
       "      <th>temp</th>\n",
       "      <th>atemp</th>\n",
       "      <th>humidity</th>\n",
       "      <th>windspeed</th>\n",
       "      <th>casual</th>\n",
       "      <th>registered</th>\n",
       "      <th>day_light</th>\n",
       "      <th>months</th>\n",
       "      <th>hours</th>\n",
       "      <th>years</th>\n",
       "      <th>week_days</th>\n",
       "    </tr>\n",
       "  </thead>\n",
       "  <tbody>\n",
       "    <tr>\n",
       "      <th>0</th>\n",
       "      <td>4</td>\n",
       "      <td>0</td>\n",
       "      <td>0</td>\n",
       "      <td>1</td>\n",
       "      <td>9.84</td>\n",
       "      <td>14.395</td>\n",
       "      <td>81</td>\n",
       "      <td>0.0</td>\n",
       "      <td>3</td>\n",
       "      <td>13</td>\n",
       "      <td>0</td>\n",
       "      <td>1</td>\n",
       "      <td>0</td>\n",
       "      <td>2011</td>\n",
       "      <td>6</td>\n",
       "    </tr>\n",
       "    <tr>\n",
       "      <th>1</th>\n",
       "      <td>4</td>\n",
       "      <td>0</td>\n",
       "      <td>0</td>\n",
       "      <td>1</td>\n",
       "      <td>9.02</td>\n",
       "      <td>13.635</td>\n",
       "      <td>80</td>\n",
       "      <td>0.0</td>\n",
       "      <td>8</td>\n",
       "      <td>32</td>\n",
       "      <td>0</td>\n",
       "      <td>1</td>\n",
       "      <td>1</td>\n",
       "      <td>2011</td>\n",
       "      <td>6</td>\n",
       "    </tr>\n",
       "    <tr>\n",
       "      <th>2</th>\n",
       "      <td>4</td>\n",
       "      <td>0</td>\n",
       "      <td>0</td>\n",
       "      <td>1</td>\n",
       "      <td>9.02</td>\n",
       "      <td>13.635</td>\n",
       "      <td>80</td>\n",
       "      <td>0.0</td>\n",
       "      <td>5</td>\n",
       "      <td>27</td>\n",
       "      <td>0</td>\n",
       "      <td>1</td>\n",
       "      <td>2</td>\n",
       "      <td>2011</td>\n",
       "      <td>6</td>\n",
       "    </tr>\n",
       "    <tr>\n",
       "      <th>3</th>\n",
       "      <td>4</td>\n",
       "      <td>0</td>\n",
       "      <td>0</td>\n",
       "      <td>1</td>\n",
       "      <td>9.84</td>\n",
       "      <td>14.395</td>\n",
       "      <td>75</td>\n",
       "      <td>0.0</td>\n",
       "      <td>3</td>\n",
       "      <td>10</td>\n",
       "      <td>0</td>\n",
       "      <td>1</td>\n",
       "      <td>3</td>\n",
       "      <td>2011</td>\n",
       "      <td>6</td>\n",
       "    </tr>\n",
       "    <tr>\n",
       "      <th>4</th>\n",
       "      <td>4</td>\n",
       "      <td>0</td>\n",
       "      <td>0</td>\n",
       "      <td>1</td>\n",
       "      <td>9.84</td>\n",
       "      <td>14.395</td>\n",
       "      <td>75</td>\n",
       "      <td>0.0</td>\n",
       "      <td>0</td>\n",
       "      <td>1</td>\n",
       "      <td>0</td>\n",
       "      <td>1</td>\n",
       "      <td>4</td>\n",
       "      <td>2011</td>\n",
       "      <td>6</td>\n",
       "    </tr>\n",
       "  </tbody>\n",
       "</table>\n",
       "</div>"
      ],
      "text/plain": [
       "   season  holiday  workingday  weather  temp   atemp  humidity  windspeed  \\\n",
       "0       4        0           0        1  9.84  14.395        81        0.0   \n",
       "1       4        0           0        1  9.02  13.635        80        0.0   \n",
       "2       4        0           0        1  9.02  13.635        80        0.0   \n",
       "3       4        0           0        1  9.84  14.395        75        0.0   \n",
       "4       4        0           0        1  9.84  14.395        75        0.0   \n",
       "\n",
       "   casual  registered  day_light  months  hours  years  week_days  \n",
       "0       3          13          0       1      0   2011          6  \n",
       "1       8          32          0       1      1   2011          6  \n",
       "2       5          27          0       1      2   2011          6  \n",
       "3       3          10          0       1      3   2011          6  \n",
       "4       0           1          0       1      4   2011          6  "
      ]
     },
     "execution_count": 380,
     "metadata": {},
     "output_type": "execute_result"
    }
   ],
   "source": [
    "df_train.head()"
   ]
  },
  {
   "cell_type": "code",
   "execution_count": 381,
   "metadata": {},
   "outputs": [],
   "source": [
    "X_train = df_train.drop(['registered', 'casual'], axis=1)\n",
    "y_train_registered = df_train['registered']\n",
    "y_train_casual = df_train['casual']"
   ]
  },
  {
   "cell_type": "markdown",
   "metadata": {},
   "source": [
    "#### On sépare l'étape de onehot encodage de la normalisation"
   ]
  },
  {
   "cell_type": "code",
   "execution_count": 378,
   "metadata": {},
   "outputs": [],
   "source": [
    "# X = np.array([[1, 2], [3, 4], [1, 2], [3, 4], [1, 2], [3, 4]])\n",
    "# y = np.array([1, 2, 3, 4, 5, 6])\n",
    "# tscv = TimeSeriesSplit()\n",
    "# print(tscv)\n",
    "\n",
    "# for train_index, test_index in tscv.split(X):\n",
    "#     print(\"TRAIN:\", train_index, \"TEST:\", test_index)\n",
    "#     X_trai, X_tes = X[train_index], X[test_index]\n",
    "#     y_trai, y_tes = y[train_index], y[test_index]\n",
    "# for train_index, test_index in tscv.split(X):\n",
    "#     print(\"TRAIN:\", X[train_index], \"TEST:\", X[test_index])\n"
   ]
  },
  {
   "cell_type": "code",
   "execution_count": 382,
   "metadata": {},
   "outputs": [],
   "source": [
    "encoded_features = ['season', 'weather', 'week_days', 'months']\n",
    "ohe = make_column_transformer((OneHotEncoder(),encoded_features), remainder='passthrough')\n",
    "ohe.fit(X_train)\n",
    "X_train_ohe = ohe.transform(X_train)\n",
    "X_train = pd.DataFrame(X_train_ohe)\n",
    "\n",
    "features_name = {}\n",
    "for i in range(X_train.shape[1]):\n",
    "    features_name[i] = ohe.get_feature_names_out()[i].replace(\"onehotencoder__\",\"\").replace(\"remainder__\",\"\")\n",
    "X_train = X_train.rename(columns=features_name)\n",
    "\n",
    "\n",
    "\n",
    "scaled_features = ['temp', 'atemp', 'windspeed', 'humidity', 'hours','years']#, 'day_length'\n",
    "scaled_pipeline = make_pipeline(StandardScaler())\n",
    "\n",
    "preprocessor = make_column_transformer((scaled_pipeline, scaled_features), remainder=\"passthrough\")\n",
    "xgb = XGBRegressor(n_estimators=140, max_depth=7, subsample=0.9, learning_rate=0.1,\n",
    "                   colsample_bytree=0.9, colsample_bylevel=0.8, colsample_bynode=0.9, gamma=0.1)\n",
    "model_casual = make_pipeline(preprocessor, xgb)"
   ]
  },
  {
   "cell_type": "code",
   "execution_count": 384,
   "metadata": {},
   "outputs": [],
   "source": [
    "results = model_casual.fit(X_train,y_train_casual)"
   ]
  },
  {
   "cell_type": "code",
   "execution_count": 385,
   "metadata": {},
   "outputs": [],
   "source": [
    "features_to_encode = ['season', 'weather', 'week_days', 'months']\n",
    "feature_names = get_encoded_features_name(df_train, features_to_encode)\n",
    "dataAPI = dataAPI = load_dataAPI(lat, long, api_key)\n",
    "\n",
    "data = get_48h_data(dataAPI['hourly'], feature_names)"
   ]
  },
  {
   "cell_type": "code",
   "execution_count": 386,
   "metadata": {},
   "outputs": [
    {
     "data": {
      "text/plain": [
       "\"[{'season_1': 1, 'season_2': 0, 'season_3': 0, 'season_4': 0, 'weather_1': 0, 'weather_2': 2, 'weather_3': 0, 'weather_4': 0, 'week_days_1': 1, 'week_days_2': 0, 'week_days_3': 0, 'week_days_4': 0, 'week_days_5': 0, 'week_days_6': 0, 'week_days_7': 0, 'months_1': 0, 'months_2': 0, 'months_3': 0, 'months_4': 1, 'months_5': 0, 'months_6': 0, 'months_7': 0, 'months_8': 0, 'months_9': 0, 'months_10': 0, 'months_11': 0, 'months_12': 0, 'holiday': 0, 'workingday': 1, 'temp': 7.38, 'atemp': 2.85, 'humidity': 80, 'windspeed': 9.54, 'day_light': 0, 'hours': 15, 'years': 2022, 'dt': 'Monday, 2022-04-04, 15:00:00'}, {'season_1': 1, 'season_2': 0, 'season_3': 0, 'season_4': 0, 'weather_1': 0, 'weather_2': 2, 'weather_3': 0, 'weather_4': 0, 'week_days_1': 1, 'week_days_2': 0, 'week_days_3': 0, 'week_days_4': 0, 'week_days_5': 0, 'week_days_6': 0, 'week_days_7': 0, 'months_1': 0, 'months_2': 0, 'months_3': 0, 'months_4': 1, 'months_5': 0, 'months_6': 0, 'months_7': 0, 'months_8': 0, 'months_9': 0, 'months_10': 0, 'months_11': 0, 'months_12': 0, 'holiday': 0, 'workingday': 1, 'temp': 7.63, 'atemp': 3.21, 'humidity': 77, 'windspeed': 9.44, 'day_light': 0, 'hours': 16, 'years': 2022, 'dt': 'Monday, 2022-04-04, 16:00:00'}, {'season_1': 1, 'season_2': 0, 'season_3': 0, 'season_4': 0, 'weather_1': 0, 'weather_2': 2, 'weather_3': 0, 'weather_4': 0, 'week_days_1': 1, 'week_days_2': 0, 'week_days_3': 0, 'week_days_4': 0, 'week_days_5': 0, 'week_days_6': 0, 'week_days_7': 0, 'months_1': 0, 'months_2': 0, 'months_3': 0, 'months_4': 1, 'months_5': 0, 'months_6': 0, 'months_7': 0, 'months_8': 0, 'months_9': 0, 'months_10': 0, 'months_11': 0, 'months_12': 0, 'holiday': 0, 'workingday': 1, 'temp': 7.59, 'atemp': 3.3, 'humidity': 80, 'windspeed': 8.89, 'day_light': 0, 'hours': 17, 'years': 2022, 'dt': 'Monday, 2022-04-04, 17:00:00'}, {'season_1': 1, 'season_2': 0, 'season_3': 0, 'season_4': 0, 'weather_1': 0, 'weather_2': 2, 'weather_3': 0, 'weather_4': 0, 'week_days_1': 1, 'week_days_2': 0, 'week_days_3': 0, 'week_days_4': 0, 'week_days_5': 0, 'week_days_6': 0, 'week_days_7': 0, 'months_1': 0, 'months_2': 0, 'months_3': 0, 'months_4': 1, 'months_5': 0, 'months_6': 0, 'months_7': 0, 'months_8': 0, 'months_9': 0, 'months_10': 0, 'months_11': 0, 'months_12': 0, 'holiday': 0, 'workingday': 1, 'temp': 7.67, 'atemp': 3.62, 'humidity': 84, 'windspeed': 8.08, 'day_light': 0, 'hours': 18, 'years': 2022, 'dt': 'Monday, 2022-04-04, 18:00:00'}, {'season_1': 1, 'season_2': 0, 'season_3': 0, 'season_4': 0, 'weather_1': 0, 'weather_2': 2, 'weather_3': 0, 'weather_4': 0, 'week_days_1': 1, 'week_days_2': 0, 'week_days_3': 0, 'week_days_4': 0, 'week_days_5': 0, 'week_days_6': 0, 'week_days_7': 0, 'months_1': 0, 'months_2': 0, 'months_3': 0, 'months_4': 1, 'months_5': 0, 'months_6': 0, 'months_7': 0, 'months_8': 0, 'months_9': 0, 'months_10': 0, 'months_11': 0, 'months_12': 0, 'holiday': 0, 'workingday': 1, 'temp': 8.01, 'atemp': 4.24, 'humidity': 89, 'windspeed': 7.48, 'day_light': 0, 'hours': 19, 'years': 2022, 'dt': 'Monday, 2022-04-04, 19:00:00'}, {'season_1': 1, 'season_2': 0, 'season_3': 0, 'season_4': 0, 'weather_1': 0, 'weather_2': 2, 'weather_3': 0, 'weather_4': 0, 'week_days_1': 1, 'week_days_2': 0, 'week_days_3': 0, 'week_days_4': 0, 'week_days_5': 0, 'week_days_6': 0, 'week_days_7': 0, 'months_1': 0, 'months_2': 0, 'months_3': 0, 'months_4': 1, 'months_5': 0, 'months_6': 0, 'months_7': 0, 'months_8': 0, 'months_9': 0, 'months_10': 0, 'months_11': 0, 'months_12': 0, 'holiday': 0, 'workingday': 1, 'temp': 8.56, 'atemp': 5.15, 'humidity': 93, 'windspeed': 6.81, 'day_light': 0, 'hours': 20, 'years': 2022, 'dt': 'Monday, 2022-04-04, 20:00:00'}, {'season_1': 1, 'season_2': 0, 'season_3': 0, 'season_4': 0, 'weather_1': 0, 'weather_2': 2, 'weather_3': 0, 'weather_4': 0, 'week_days_1': 1, 'week_days_2': 0, 'week_days_3': 0, 'week_days_4': 0, 'week_days_5': 0, 'week_days_6': 0, 'week_days_7': 0, 'months_1': 0, 'months_2': 0, 'months_3': 0, 'months_4': 1, 'months_5': 0, 'months_6': 0, 'months_7': 0, 'months_8': 0, 'months_9': 0, 'months_10': 0, 'months_11': 0, 'months_12': 0, 'holiday': 0, 'workingday': 1, 'temp': 9.1, 'atemp': 5.96, 'humidity': 97, 'windspeed': 6.42, 'day_light': 0, 'hours': 21, 'years': 2022, 'dt': 'Monday, 2022-04-04, 21:00:00'}, {'season_1': 1, 'season_2': 0, 'season_3': 0, 'season_4': 0, 'weather_1': 0, 'weather_2': 2, 'weather_3': 0, 'weather_4': 0, 'week_days_1': 1, 'week_days_2': 0, 'week_days_3': 0, 'week_days_4': 0, 'week_days_5': 0, 'week_days_6': 0, 'week_days_7': 0, 'months_1': 0, 'months_2': 0, 'months_3': 0, 'months_4': 1, 'months_5': 0, 'months_6': 0, 'months_7': 0, 'months_8': 0, 'months_9': 0, 'months_10': 0, 'months_11': 0, 'months_12': 0, 'holiday': 0, 'workingday': 1, 'temp': 9.37, 'atemp': 6.27, 'humidity': 97, 'windspeed': 6.54, 'day_light': 0, 'hours': 22, 'years': 2022, 'dt': 'Monday, 2022-04-04, 22:00:00'}, {'season_1': 1, 'season_2': 0, 'season_3': 0, 'season_4': 0, 'weather_1': 0, 'weather_2': 2, 'weather_3': 0, 'weather_4': 0, 'week_days_1': 1, 'week_days_2': 0, 'week_days_3': 0, 'week_days_4': 0, 'week_days_5': 0, 'week_days_6': 0, 'week_days_7': 0, 'months_1': 0, 'months_2': 0, 'months_3': 0, 'months_4': 1, 'months_5': 0, 'months_6': 0, 'months_7': 0, 'months_8': 0, 'months_9': 0, 'months_10': 0, 'months_11': 0, 'months_12': 0, 'holiday': 0, 'workingday': 1, 'temp': 9.66, 'atemp': 6.61, 'humidity': 96, 'windspeed': 6.63, 'day_light': 0, 'hours': 23, 'years': 2022, 'dt': 'Monday, 2022-04-04, 23:00:00'}, {'season_1': 1, 'season_2': 0, 'season_3': 0, 'season_4': 0, 'weather_1': 0, 'weather_2': 2, 'weather_3': 0, 'weather_4': 0, 'week_days_1': 0, 'week_days_2': 1, 'week_days_3': 0, 'week_days_4': 0, 'week_days_5': 0, 'week_days_6': 0, 'week_days_7': 0, 'months_1': 0, 'months_2': 0, 'months_3': 0, 'months_4': 1, 'months_5': 0, 'months_6': 0, 'months_7': 0, 'months_8': 0, 'months_9': 0, 'months_10': 0, 'months_11': 0, 'months_12': 0, 'holiday': 0, 'workingday': 1, 'temp': 9.95, 'atemp': 6.97, 'humidity': 95, 'windspeed': 6.67, 'day_light': 0, 'hours': 0, 'years': 2022, 'dt': 'Tuesday, 2022-04-05, 00:00:00'}, {'season_1': 1, 'season_2': 0, 'season_3': 0, 'season_4': 0, 'weather_1': 0, 'weather_2': 2, 'weather_3': 0, 'weather_4': 0, 'week_days_1': 0, 'week_days_2': 1, 'week_days_3': 0, 'week_days_4': 0, 'week_days_5': 0, 'week_days_6': 0, 'week_days_7': 0, 'months_1': 0, 'months_2': 0, 'months_3': 0, 'months_4': 1, 'months_5': 0, 'months_6': 0, 'months_7': 0, 'months_8': 0, 'months_9': 0, 'months_10': 0, 'months_11': 0, 'months_12': 0, 'holiday': 0, 'workingday': 1, 'temp': 10.07, 'atemp': 9.59, 'humidity': 94, 'windspeed': 6.58, 'day_light': 0, 'hours': 1, 'years': 2022, 'dt': 'Tuesday, 2022-04-05, 01:00:00'}, {'season_1': 1, 'season_2': 0, 'season_3': 0, 'season_4': 0, 'weather_1': 0, 'weather_2': 2, 'weather_3': 0, 'weather_4': 0, 'week_days_1': 0, 'week_days_2': 1, 'week_days_3': 0, 'week_days_4': 0, 'week_days_5': 0, 'week_days_6': 0, 'week_days_7': 0, 'months_1': 0, 'months_2': 0, 'months_3': 0, 'months_4': 1, 'months_5': 0, 'months_6': 0, 'months_7': 0, 'months_8': 0, 'months_9': 0, 'months_10': 0, 'months_11': 0, 'months_12': 0, 'holiday': 0, 'workingday': 1, 'temp': 10.08, 'atemp': 9.6, 'humidity': 94, 'windspeed': 6.36, 'day_light': 0, 'hours': 2, 'years': 2022, 'dt': 'Tuesday, 2022-04-05, 02:00:00'}, {'season_1': 1, 'season_2': 0, 'season_3': 0, 'season_4': 0, 'weather_1': 0, 'weather_2': 0, 'weather_3': 3, 'weather_4': 0, 'week_days_1': 0, 'week_days_2': 1, 'week_days_3': 0, 'week_days_4': 0, 'week_days_5': 0, 'week_days_6': 0, 'week_days_7': 0, 'months_1': 0, 'months_2': 0, 'months_3': 0, 'months_4': 1, 'months_5': 0, 'months_6': 0, 'months_7': 0, 'months_8': 0, 'months_9': 0, 'months_10': 0, 'months_11': 0, 'months_12': 0, 'holiday': 0, 'workingday': 1, 'temp': 9.96, 'atemp': 7.2, 'humidity': 95, 'windspeed': 5.97, 'day_light': 0, 'hours': 3, 'years': 2022, 'dt': 'Tuesday, 2022-04-05, 03:00:00'}, {'season_1': 1, 'season_2': 0, 'season_3': 0, 'season_4': 0, 'weather_1': 0, 'weather_2': 0, 'weather_3': 3, 'weather_4': 0, 'week_days_1': 0, 'week_days_2': 1, 'week_days_3': 0, 'week_days_4': 0, 'week_days_5': 0, 'week_days_6': 0, 'week_days_7': 0, 'months_1': 0, 'months_2': 0, 'months_3': 0, 'months_4': 1, 'months_5': 0, 'months_6': 0, 'months_7': 0, 'months_8': 0, 'months_9': 0, 'months_10': 0, 'months_11': 0, 'months_12': 0, 'holiday': 0, 'workingday': 1, 'temp': 9.99, 'atemp': 7.24, 'humidity': 95, 'windspeed': 5.98, 'day_light': 0, 'hours': 4, 'years': 2022, 'dt': 'Tuesday, 2022-04-05, 04:00:00'}, {'season_1': 1, 'season_2': 0, 'season_3': 0, 'season_4': 0, 'weather_1': 0, 'weather_2': 0, 'weather_3': 3, 'weather_4': 0, 'week_days_1': 0, 'week_days_2': 1, 'week_days_3': 0, 'week_days_4': 0, 'week_days_5': 0, 'week_days_6': 0, 'week_days_7': 0, 'months_1': 0, 'months_2': 0, 'months_3': 0, 'months_4': 1, 'months_5': 0, 'months_6': 0, 'months_7': 0, 'months_8': 0, 'months_9': 0, 'months_10': 0, 'months_11': 0, 'months_12': 0, 'holiday': 0, 'workingday': 1, 'temp': 9.79, 'atemp': 7.0, 'humidity': 94, 'windspeed': 5.93, 'day_light': 0, 'hours': 5, 'years': 2022, 'dt': 'Tuesday, 2022-04-05, 05:00:00'}, {'season_1': 1, 'season_2': 0, 'season_3': 0, 'season_4': 0, 'weather_1': 0, 'weather_2': 2, 'weather_3': 0, 'weather_4': 0, 'week_days_1': 0, 'week_days_2': 1, 'week_days_3': 0, 'week_days_4': 0, 'week_days_5': 0, 'week_days_6': 0, 'week_days_7': 0, 'months_1': 0, 'months_2': 0, 'months_3': 0, 'months_4': 1, 'months_5': 0, 'months_6': 0, 'months_7': 0, 'months_8': 0, 'months_9': 0, 'months_10': 0, 'months_11': 0, 'months_12': 0, 'holiday': 0, 'workingday': 1, 'temp': 9.68, 'atemp': 6.95, 'humidity': 94, 'windspeed': 5.67, 'day_light': 0, 'hours': 6, 'years': 2022, 'dt': 'Tuesday, 2022-04-05, 06:00:00'}, {'season_1': 1, 'season_2': 0, 'season_3': 0, 'season_4': 0, 'weather_1': 0, 'weather_2': 0, 'weather_3': 3, 'weather_4': 0, 'week_days_1': 0, 'week_days_2': 1, 'week_days_3': 0, 'week_days_4': 0, 'week_days_5': 0, 'week_days_6': 0, 'week_days_7': 0, 'months_1': 0, 'months_2': 0, 'months_3': 0, 'months_4': 1, 'months_5': 0, 'months_6': 0, 'months_7': 0, 'months_8': 0, 'months_9': 0, 'months_10': 0, 'months_11': 0, 'months_12': 0, 'holiday': 0, 'workingday': 1, 'temp': 9.6, 'atemp': 6.95, 'humidity': 95, 'windspeed': 5.37, 'day_light': 0, 'hours': 7, 'years': 2022, 'dt': 'Tuesday, 2022-04-05, 07:00:00'}, {'season_1': 1, 'season_2': 0, 'season_3': 0, 'season_4': 0, 'weather_1': 0, 'weather_2': 0, 'weather_3': 3, 'weather_4': 0, 'week_days_1': 0, 'week_days_2': 1, 'week_days_3': 0, 'week_days_4': 0, 'week_days_5': 0, 'week_days_6': 0, 'week_days_7': 0, 'months_1': 0, 'months_2': 0, 'months_3': 0, 'months_4': 1, 'months_5': 0, 'months_6': 0, 'months_7': 0, 'months_8': 0, 'months_9': 0, 'months_10': 0, 'months_11': 0, 'months_12': 0, 'holiday': 0, 'workingday': 1, 'temp': 9.62, 'atemp': 6.99, 'humidity': 95, 'windspeed': 5.33, 'day_light': 0, 'hours': 8, 'years': 2022, 'dt': 'Tuesday, 2022-04-05, 08:00:00'}, {'season_1': 1, 'season_2': 0, 'season_3': 0, 'season_4': 0, 'weather_1': 0, 'weather_2': 2, 'weather_3': 0, 'weather_4': 0, 'week_days_1': 0, 'week_days_2': 1, 'week_days_3': 0, 'week_days_4': 0, 'week_days_5': 0, 'week_days_6': 0, 'week_days_7': 0, 'months_1': 0, 'months_2': 0, 'months_3': 0, 'months_4': 1, 'months_5': 0, 'months_6': 0, 'months_7': 0, 'months_8': 0, 'months_9': 0, 'months_10': 0, 'months_11': 0, 'months_12': 0, 'holiday': 0, 'workingday': 1, 'temp': 9.66, 'atemp': 7.13, 'humidity': 95, 'windspeed': 5.08, 'day_light': 0, 'hours': 9, 'years': 2022, 'dt': 'Tuesday, 2022-04-05, 09:00:00'}, {'season_1': 1, 'season_2': 0, 'season_3': 0, 'season_4': 0, 'weather_1': 0, 'weather_2': 0, 'weather_3': 3, 'weather_4': 0, 'week_days_1': 0, 'week_days_2': 1, 'week_days_3': 0, 'week_days_4': 0, 'week_days_5': 0, 'week_days_6': 0, 'week_days_7': 0, 'months_1': 0, 'months_2': 0, 'months_3': 0, 'months_4': 1, 'months_5': 0, 'months_6': 0, 'months_7': 0, 'months_8': 0, 'months_9': 0, 'months_10': 0, 'months_11': 0, 'months_12': 0, 'holiday': 0, 'workingday': 1, 'temp': 9.73, 'atemp': 7.32, 'humidity': 94, 'windspeed': 4.82, 'day_light': 0, 'hours': 10, 'years': 2022, 'dt': 'Tuesday, 2022-04-05, 10:00:00'}, {'season_1': 1, 'season_2': 0, 'season_3': 0, 'season_4': 0, 'weather_1': 0, 'weather_2': 0, 'weather_3': 3, 'weather_4': 0, 'week_days_1': 0, 'week_days_2': 1, 'week_days_3': 0, 'week_days_4': 0, 'week_days_5': 0, 'week_days_6': 0, 'week_days_7': 0, 'months_1': 0, 'months_2': 0, 'months_3': 0, 'months_4': 1, 'months_5': 0, 'months_6': 0, 'months_7': 0, 'months_8': 0, 'months_9': 0, 'months_10': 0, 'months_11': 0, 'months_12': 0, 'holiday': 0, 'workingday': 1, 'temp': 9.82, 'atemp': 7.37, 'humidity': 94, 'windspeed': 4.98, 'day_light': 0, 'hours': 11, 'years': 2022, 'dt': 'Tuesday, 2022-04-05, 11:00:00'}, {'season_1': 1, 'season_2': 0, 'season_3': 0, 'season_4': 0, 'weather_1': 0, 'weather_2': 0, 'weather_3': 3, 'weather_4': 0, 'week_days_1': 0, 'week_days_2': 1, 'week_days_3': 0, 'week_days_4': 0, 'week_days_5': 0, 'week_days_6': 0, 'week_days_7': 0, 'months_1': 0, 'months_2': 0, 'months_3': 0, 'months_4': 1, 'months_5': 0, 'months_6': 0, 'months_7': 0, 'months_8': 0, 'months_9': 0, 'months_10': 0, 'months_11': 0, 'months_12': 0, 'holiday': 0, 'workingday': 1, 'temp': 10.06, 'atemp': 9.55, 'humidity': 93, 'windspeed': 5.16, 'day_light': 0, 'hours': 12, 'years': 2022, 'dt': 'Tuesday, 2022-04-05, 12:00:00'}, {'season_1': 1, 'season_2': 0, 'season_3': 0, 'season_4': 0, 'weather_1': 0, 'weather_2': 2, 'weather_3': 0, 'weather_4': 0, 'week_days_1': 0, 'week_days_2': 1, 'week_days_3': 0, 'week_days_4': 0, 'week_days_5': 0, 'week_days_6': 0, 'week_days_7': 0, 'months_1': 0, 'months_2': 0, 'months_3': 0, 'months_4': 1, 'months_5': 0, 'months_6': 0, 'months_7': 0, 'months_8': 0, 'months_9': 0, 'months_10': 0, 'months_11': 0, 'months_12': 0, 'holiday': 0, 'workingday': 1, 'temp': 10.55, 'atemp': 10.01, 'humidity': 90, 'windspeed': 5.19, 'day_light': 0, 'hours': 13, 'years': 2022, 'dt': 'Tuesday, 2022-04-05, 13:00:00'}, {'season_1': 1, 'season_2': 0, 'season_3': 0, 'season_4': 0, 'weather_1': 0, 'weather_2': 2, 'weather_3': 0, 'weather_4': 0, 'week_days_1': 0, 'week_days_2': 1, 'week_days_3': 0, 'week_days_4': 0, 'week_days_5': 0, 'week_days_6': 0, 'week_days_7': 0, 'months_1': 0, 'months_2': 0, 'months_3': 0, 'months_4': 1, 'months_5': 0, 'months_6': 0, 'months_7': 0, 'months_8': 0, 'months_9': 0, 'months_10': 0, 'months_11': 0, 'months_12': 0, 'holiday': 0, 'workingday': 1, 'temp': 11.98, 'atemp': 11.4, 'humidity': 83, 'windspeed': 5.3, 'day_light': 0, 'hours': 14, 'years': 2022, 'dt': 'Tuesday, 2022-04-05, 14:00:00'}, {'season_1': 1, 'season_2': 0, 'season_3': 0, 'season_4': 0, 'weather_1': 0, 'weather_2': 2, 'weather_3': 0, 'weather_4': 0, 'week_days_1': 0, 'week_days_2': 1, 'week_days_3': 0, 'week_days_4': 0, 'week_days_5': 0, 'week_days_6': 0, 'week_days_7': 0, 'months_1': 0, 'months_2': 0, 'months_3': 0, 'months_4': 1, 'months_5': 0, 'months_6': 0, 'months_7': 0, 'months_8': 0, 'months_9': 0, 'months_10': 0, 'months_11': 0, 'months_12': 0, 'holiday': 0, 'workingday': 1, 'temp': 14.16, 'atemp': 13.49, 'humidity': 71, 'windspeed': 6.89, 'day_light': 0, 'hours': 15, 'years': 2022, 'dt': 'Tuesday, 2022-04-05, 15:00:00'}, {'season_1': 1, 'season_2': 0, 'season_3': 0, 'season_4': 0, 'weather_1': 0, 'weather_2': 2, 'weather_3': 0, 'weather_4': 0, 'week_days_1': 0, 'week_days_2': 1, 'week_days_3': 0, 'week_days_4': 0, 'week_days_5': 0, 'week_days_6': 0, 'week_days_7': 0, 'months_1': 0, 'months_2': 0, 'months_3': 0, 'months_4': 1, 'months_5': 0, 'months_6': 0, 'months_7': 0, 'months_8': 0, 'months_9': 0, 'months_10': 0, 'months_11': 0, 'months_12': 0, 'holiday': 0, 'workingday': 1, 'temp': 13.94, 'atemp': 13.27, 'humidity': 72, 'windspeed': 6.94, 'day_light': 0, 'hours': 16, 'years': 2022, 'dt': 'Tuesday, 2022-04-05, 16:00:00'}, {'season_1': 1, 'season_2': 0, 'season_3': 0, 'season_4': 0, 'weather_1': 0, 'weather_2': 2, 'weather_3': 0, 'weather_4': 0, 'week_days_1': 0, 'week_days_2': 1, 'week_days_3': 0, 'week_days_4': 0, 'week_days_5': 0, 'week_days_6': 0, 'week_days_7': 0, 'months_1': 0, 'months_2': 0, 'months_3': 0, 'months_4': 1, 'months_5': 0, 'months_6': 0, 'months_7': 0, 'months_8': 0, 'months_9': 0, 'months_10': 0, 'months_11': 0, 'months_12': 0, 'holiday': 0, 'workingday': 1, 'temp': 12.99, 'atemp': 12.3, 'humidity': 75, 'windspeed': 6.54, 'day_light': 0, 'hours': 17, 'years': 2022, 'dt': 'Tuesday, 2022-04-05, 17:00:00'}, {'season_1': 1, 'season_2': 0, 'season_3': 0, 'season_4': 0, 'weather_1': 0, 'weather_2': 2, 'weather_3': 0, 'weather_4': 0, 'week_days_1': 0, 'week_days_2': 1, 'week_days_3': 0, 'week_days_4': 0, 'week_days_5': 0, 'week_days_6': 0, 'week_days_7': 0, 'months_1': 0, 'months_2': 0, 'months_3': 0, 'months_4': 1, 'months_5': 0, 'months_6': 0, 'months_7': 0, 'months_8': 0, 'months_9': 0, 'months_10': 0, 'months_11': 0, 'months_12': 0, 'holiday': 0, 'workingday': 1, 'temp': 12.17, 'atemp': 11.37, 'humidity': 74, 'windspeed': 6.88, 'day_light': 0, 'hours': 18, 'years': 2022, 'dt': 'Tuesday, 2022-04-05, 18:00:00'}, {'season_1': 1, 'season_2': 0, 'season_3': 0, 'season_4': 0, 'weather_1': 0, 'weather_2': 2, 'weather_3': 0, 'weather_4': 0, 'week_days_1': 0, 'week_days_2': 1, 'week_days_3': 0, 'week_days_4': 0, 'week_days_5': 0, 'week_days_6': 0, 'week_days_7': 0, 'months_1': 0, 'months_2': 0, 'months_3': 0, 'months_4': 1, 'months_5': 0, 'months_6': 0, 'months_7': 0, 'months_8': 0, 'months_9': 0, 'months_10': 0, 'months_11': 0, 'months_12': 0, 'holiday': 0, 'workingday': 1, 'temp': 11.09, 'atemp': 10.24, 'humidity': 76, 'windspeed': 6.12, 'day_light': 0, 'hours': 19, 'years': 2022, 'dt': 'Tuesday, 2022-04-05, 19:00:00'}, {'season_1': 1, 'season_2': 0, 'season_3': 0, 'season_4': 0, 'weather_1': 0, 'weather_2': 2, 'weather_3': 0, 'weather_4': 0, 'week_days_1': 0, 'week_days_2': 1, 'week_days_3': 0, 'week_days_4': 0, 'week_days_5': 0, 'week_days_6': 0, 'week_days_7': 0, 'months_1': 0, 'months_2': 0, 'months_3': 0, 'months_4': 1, 'months_5': 0, 'months_6': 0, 'months_7': 0, 'months_8': 0, 'months_9': 0, 'months_10': 0, 'months_11': 0, 'months_12': 0, 'holiday': 0, 'workingday': 1, 'temp': 10.05, 'atemp': 9.2, 'humidity': 80, 'windspeed': 6.1, 'day_light': 0, 'hours': 20, 'years': 2022, 'dt': 'Tuesday, 2022-04-05, 20:00:00'}, {'season_1': 1, 'season_2': 0, 'season_3': 0, 'season_4': 0, 'weather_1': 0, 'weather_2': 2, 'weather_3': 0, 'weather_4': 0, 'week_days_1': 0, 'week_days_2': 1, 'week_days_3': 0, 'week_days_4': 0, 'week_days_5': 0, 'week_days_6': 0, 'week_days_7': 0, 'months_1': 0, 'months_2': 0, 'months_3': 0, 'months_4': 1, 'months_5': 0, 'months_6': 0, 'months_7': 0, 'months_8': 0, 'months_9': 0, 'months_10': 0, 'months_11': 0, 'months_12': 0, 'holiday': 0, 'workingday': 1, 'temp': 9.04, 'atemp': 6.02, 'humidity': 85, 'windspeed': 6, 'day_light': 0, 'hours': 21, 'years': 2022, 'dt': 'Tuesday, 2022-04-05, 21:00:00'}, {'season_1': 1, 'season_2': 0, 'season_3': 0, 'season_4': 0, 'weather_1': 0, 'weather_2': 2, 'weather_3': 0, 'weather_4': 0, 'week_days_1': 0, 'week_days_2': 1, 'week_days_3': 0, 'week_days_4': 0, 'week_days_5': 0, 'week_days_6': 0, 'week_days_7': 0, 'months_1': 0, 'months_2': 0, 'months_3': 0, 'months_4': 1, 'months_5': 0, 'months_6': 0, 'months_7': 0, 'months_8': 0, 'months_9': 0, 'months_10': 0, 'months_11': 0, 'months_12': 0, 'holiday': 0, 'workingday': 1, 'temp': 8.51, 'atemp': 5.37, 'humidity': 89, 'windspeed': 5.95, 'day_light': 0, 'hours': 22, 'years': 2022, 'dt': 'Tuesday, 2022-04-05, 22:00:00'}, {'season_1': 1, 'season_2': 0, 'season_3': 0, 'season_4': 0, 'weather_1': 0, 'weather_2': 2, 'weather_3': 0, 'weather_4': 0, 'week_days_1': 0, 'week_days_2': 1, 'week_days_3': 0, 'week_days_4': 0, 'week_days_5': 0, 'week_days_6': 0, 'week_days_7': 0, 'months_1': 0, 'months_2': 0, 'months_3': 0, 'months_4': 1, 'months_5': 0, 'months_6': 0, 'months_7': 0, 'months_8': 0, 'months_9': 0, 'months_10': 0, 'months_11': 0, 'months_12': 0, 'holiday': 0, 'workingday': 1, 'temp': 8.17, 'atemp': 4.9, 'humidity': 91, 'windspeed': 6.05, 'day_light': 0, 'hours': 23, 'years': 2022, 'dt': 'Tuesday, 2022-04-05, 23:00:00'}, {'season_1': 1, 'season_2': 0, 'season_3': 0, 'season_4': 0, 'weather_1': 0, 'weather_2': 2, 'weather_3': 0, 'weather_4': 0, 'week_days_1': 0, 'week_days_2': 0, 'week_days_3': 1, 'week_days_4': 0, 'week_days_5': 0, 'week_days_6': 0, 'week_days_7': 0, 'months_1': 0, 'months_2': 0, 'months_3': 0, 'months_4': 1, 'months_5': 0, 'months_6': 0, 'months_7': 0, 'months_8': 0, 'months_9': 0, 'months_10': 0, 'months_11': 0, 'months_12': 0, 'holiday': 0, 'workingday': 1, 'temp': 8.16, 'atemp': 4.84, 'humidity': 91, 'windspeed': 6.2, 'day_light': 0, 'hours': 0, 'years': 2022, 'dt': 'Wednesday, 2022-04-06, 00:00:00'}, {'season_1': 1, 'season_2': 0, 'season_3': 0, 'season_4': 0, 'weather_1': 0, 'weather_2': 2, 'weather_3': 0, 'weather_4': 0, 'week_days_1': 0, 'week_days_2': 0, 'week_days_3': 1, 'week_days_4': 0, 'week_days_5': 0, 'week_days_6': 0, 'week_days_7': 0, 'months_1': 0, 'months_2': 0, 'months_3': 0, 'months_4': 1, 'months_5': 0, 'months_6': 0, 'months_7': 0, 'months_8': 0, 'months_9': 0, 'months_10': 0, 'months_11': 0, 'months_12': 0, 'holiday': 0, 'workingday': 1, 'temp': 8.68, 'atemp': 5.41, 'humidity': 86, 'windspeed': 6.46, 'day_light': 0, 'hours': 1, 'years': 2022, 'dt': 'Wednesday, 2022-04-06, 01:00:00'}, {'season_1': 1, 'season_2': 0, 'season_3': 0, 'season_4': 0, 'weather_1': 0, 'weather_2': 2, 'weather_3': 0, 'weather_4': 0, 'week_days_1': 0, 'week_days_2': 0, 'week_days_3': 1, 'week_days_4': 0, 'week_days_5': 0, 'week_days_6': 0, 'week_days_7': 0, 'months_1': 0, 'months_2': 0, 'months_3': 0, 'months_4': 1, 'months_5': 0, 'months_6': 0, 'months_7': 0, 'months_8': 0, 'months_9': 0, 'months_10': 0, 'months_11': 0, 'months_12': 0, 'holiday': 0, 'workingday': 1, 'temp': 9.04, 'atemp': 5.72, 'humidity': 80, 'windspeed': 6.95, 'day_light': 0, 'hours': 2, 'years': 2022, 'dt': 'Wednesday, 2022-04-06, 02:00:00'}, {'season_1': 1, 'season_2': 0, 'season_3': 0, 'season_4': 0, 'weather_1': 0, 'weather_2': 2, 'weather_3': 0, 'weather_4': 0, 'week_days_1': 0, 'week_days_2': 0, 'week_days_3': 1, 'week_days_4': 0, 'week_days_5': 0, 'week_days_6': 0, 'week_days_7': 0, 'months_1': 0, 'months_2': 0, 'months_3': 0, 'months_4': 1, 'months_5': 0, 'months_6': 0, 'months_7': 0, 'months_8': 0, 'months_9': 0, 'months_10': 0, 'months_11': 0, 'months_12': 0, 'holiday': 0, 'workingday': 1, 'temp': 8.71, 'atemp': 5.23, 'humidity': 76, 'windspeed': 7.16, 'day_light': 0, 'hours': 3, 'years': 2022, 'dt': 'Wednesday, 2022-04-06, 03:00:00'}, {'season_1': 1, 'season_2': 0, 'season_3': 0, 'season_4': 0, 'weather_1': 0, 'weather_2': 2, 'weather_3': 0, 'weather_4': 0, 'week_days_1': 0, 'week_days_2': 0, 'week_days_3': 1, 'week_days_4': 0, 'week_days_5': 0, 'week_days_6': 0, 'week_days_7': 0, 'months_1': 0, 'months_2': 0, 'months_3': 0, 'months_4': 1, 'months_5': 0, 'months_6': 0, 'months_7': 0, 'months_8': 0, 'months_9': 0, 'months_10': 0, 'months_11': 0, 'months_12': 0, 'holiday': 0, 'workingday': 1, 'temp': 9.24, 'atemp': 5.63, 'humidity': 67, 'windspeed': 8.21, 'day_light': 0, 'hours': 4, 'years': 2022, 'dt': 'Wednesday, 2022-04-06, 04:00:00'}, {'season_1': 1, 'season_2': 0, 'season_3': 0, 'season_4': 0, 'weather_1': 0, 'weather_2': 2, 'weather_3': 0, 'weather_4': 0, 'week_days_1': 0, 'week_days_2': 0, 'week_days_3': 1, 'week_days_4': 0, 'week_days_5': 0, 'week_days_6': 0, 'week_days_7': 0, 'months_1': 0, 'months_2': 0, 'months_3': 0, 'months_4': 1, 'months_5': 0, 'months_6': 0, 'months_7': 0, 'months_8': 0, 'months_9': 0, 'months_10': 0, 'months_11': 0, 'months_12': 0, 'holiday': 0, 'workingday': 1, 'temp': 9.42, 'atemp': 5.77, 'humidity': 64, 'windspeed': 8.6, 'day_light': 0, 'hours': 5, 'years': 2022, 'dt': 'Wednesday, 2022-04-06, 05:00:00'}, {'season_1': 1, 'season_2': 0, 'season_3': 0, 'season_4': 0, 'weather_1': 0, 'weather_2': 2, 'weather_3': 0, 'weather_4': 0, 'week_days_1': 0, 'week_days_2': 0, 'week_days_3': 1, 'week_days_4': 0, 'week_days_5': 0, 'week_days_6': 0, 'week_days_7': 0, 'months_1': 0, 'months_2': 0, 'months_3': 0, 'months_4': 1, 'months_5': 0, 'months_6': 0, 'months_7': 0, 'months_8': 0, 'months_9': 0, 'months_10': 0, 'months_11': 0, 'months_12': 0, 'holiday': 0, 'workingday': 1, 'temp': 9.31, 'atemp': 5.94, 'humidity': 66, 'windspeed': 7.4, 'day_light': 0, 'hours': 6, 'years': 2022, 'dt': 'Wednesday, 2022-04-06, 06:00:00'}, {'season_1': 1, 'season_2': 0, 'season_3': 0, 'season_4': 0, 'weather_1': 0, 'weather_2': 2, 'weather_3': 0, 'weather_4': 0, 'week_days_1': 0, 'week_days_2': 0, 'week_days_3': 1, 'week_days_4': 0, 'week_days_5': 0, 'week_days_6': 0, 'week_days_7': 0, 'months_1': 0, 'months_2': 0, 'months_3': 0, 'months_4': 1, 'months_5': 0, 'months_6': 0, 'months_7': 0, 'months_8': 0, 'months_9': 0, 'months_10': 0, 'months_11': 0, 'months_12': 0, 'holiday': 0, 'workingday': 1, 'temp': 9.31, 'atemp': 5.87, 'humidity': 68, 'windspeed': 7.63, 'day_light': 0, 'hours': 7, 'years': 2022, 'dt': 'Wednesday, 2022-04-06, 07:00:00'}, {'season_1': 1, 'season_2': 0, 'season_3': 0, 'season_4': 0, 'weather_1': 0, 'weather_2': 2, 'weather_3': 0, 'weather_4': 0, 'week_days_1': 0, 'week_days_2': 0, 'week_days_3': 1, 'week_days_4': 0, 'week_days_5': 0, 'week_days_6': 0, 'week_days_7': 0, 'months_1': 0, 'months_2': 0, 'months_3': 0, 'months_4': 1, 'months_5': 0, 'months_6': 0, 'months_7': 0, 'months_8': 0, 'months_9': 0, 'months_10': 0, 'months_11': 0, 'months_12': 0, 'holiday': 0, 'workingday': 1, 'temp': 9.35, 'atemp': 5.92, 'humidity': 70, 'windspeed': 7.65, 'day_light': 0, 'hours': 8, 'years': 2022, 'dt': 'Wednesday, 2022-04-06, 08:00:00'}, {'season_1': 1, 'season_2': 0, 'season_3': 0, 'season_4': 0, 'weather_1': 0, 'weather_2': 2, 'weather_3': 0, 'weather_4': 0, 'week_days_1': 0, 'week_days_2': 0, 'week_days_3': 1, 'week_days_4': 0, 'week_days_5': 0, 'week_days_6': 0, 'week_days_7': 0, 'months_1': 0, 'months_2': 0, 'months_3': 0, 'months_4': 1, 'months_5': 0, 'months_6': 0, 'months_7': 0, 'months_8': 0, 'months_9': 0, 'months_10': 0, 'months_11': 0, 'months_12': 0, 'holiday': 0, 'workingday': 1, 'temp': 9.5, 'atemp': 6.05, 'humidity': 72, 'windspeed': 7.89, 'day_light': 0, 'hours': 9, 'years': 2022, 'dt': 'Wednesday, 2022-04-06, 09:00:00'}, {'season_1': 1, 'season_2': 0, 'season_3': 0, 'season_4': 0, 'weather_1': 0, 'weather_2': 2, 'weather_3': 0, 'weather_4': 0, 'week_days_1': 0, 'week_days_2': 0, 'week_days_3': 1, 'week_days_4': 0, 'week_days_5': 0, 'week_days_6': 0, 'week_days_7': 0, 'months_1': 0, 'months_2': 0, 'months_3': 0, 'months_4': 1, 'months_5': 0, 'months_6': 0, 'months_7': 0, 'months_8': 0, 'months_9': 0, 'months_10': 0, 'months_11': 0, 'months_12': 0, 'holiday': 0, 'workingday': 1, 'temp': 9.66, 'atemp': 6.18, 'humidity': 74, 'windspeed': 8.2, 'day_light': 0, 'hours': 10, 'years': 2022, 'dt': 'Wednesday, 2022-04-06, 10:00:00'}, {'season_1': 1, 'season_2': 0, 'season_3': 0, 'season_4': 0, 'weather_1': 0, 'weather_2': 2, 'weather_3': 0, 'weather_4': 0, 'week_days_1': 0, 'week_days_2': 0, 'week_days_3': 1, 'week_days_4': 0, 'week_days_5': 0, 'week_days_6': 0, 'week_days_7': 0, 'months_1': 0, 'months_2': 0, 'months_3': 0, 'months_4': 1, 'months_5': 0, 'months_6': 0, 'months_7': 0, 'months_8': 0, 'months_9': 0, 'months_10': 0, 'months_11': 0, 'months_12': 0, 'holiday': 0, 'workingday': 1, 'temp': 9.94, 'atemp': 6.51, 'humidity': 75, 'windspeed': 8.33, 'day_light': 0, 'hours': 11, 'years': 2022, 'dt': 'Wednesday, 2022-04-06, 11:00:00'}, {'season_1': 1, 'season_2': 0, 'season_3': 0, 'season_4': 0, 'weather_1': 0, 'weather_2': 2, 'weather_3': 0, 'weather_4': 0, 'week_days_1': 0, 'week_days_2': 0, 'week_days_3': 1, 'week_days_4': 0, 'week_days_5': 0, 'week_days_6': 0, 'week_days_7': 0, 'months_1': 0, 'months_2': 0, 'months_3': 0, 'months_4': 1, 'months_5': 0, 'months_6': 0, 'months_7': 0, 'months_8': 0, 'months_9': 0, 'months_10': 0, 'months_11': 0, 'months_12': 0, 'holiday': 0, 'workingday': 1, 'temp': 10.26, 'atemp': 9.38, 'humidity': 78, 'windspeed': 8.69, 'day_light': 0, 'hours': 12, 'years': 2022, 'dt': 'Wednesday, 2022-04-06, 12:00:00'}, {'season_1': 1, 'season_2': 0, 'season_3': 0, 'season_4': 0, 'weather_1': 0, 'weather_2': 0, 'weather_3': 3, 'weather_4': 0, 'week_days_1': 0, 'week_days_2': 0, 'week_days_3': 1, 'week_days_4': 0, 'week_days_5': 0, 'week_days_6': 0, 'week_days_7': 0, 'months_1': 0, 'months_2': 0, 'months_3': 0, 'months_4': 1, 'months_5': 0, 'months_6': 0, 'months_7': 0, 'months_8': 0, 'months_9': 0, 'months_10': 0, 'months_11': 0, 'months_12': 0, 'holiday': 0, 'workingday': 1, 'temp': 10.76, 'atemp': 9.9, 'humidity': 77, 'windspeed': 9, 'day_light': 0, 'hours': 13, 'years': 2022, 'dt': 'Wednesday, 2022-04-06, 13:00:00'}, {'season_1': 1, 'season_2': 0, 'season_3': 0, 'season_4': 0, 'weather_1': 0, 'weather_2': 0, 'weather_3': 3, 'weather_4': 0, 'week_days_1': 0, 'week_days_2': 0, 'week_days_3': 1, 'week_days_4': 0, 'week_days_5': 0, 'week_days_6': 0, 'week_days_7': 0, 'months_1': 0, 'months_2': 0, 'months_3': 0, 'months_4': 1, 'months_5': 0, 'months_6': 0, 'months_7': 0, 'months_8': 0, 'months_9': 0, 'months_10': 0, 'months_11': 0, 'months_12': 0, 'holiday': 0, 'workingday': 1, 'temp': 11.16, 'atemp': 10.32, 'humidity': 76, 'windspeed': 9.34, 'day_light': 0, 'hours': 14, 'years': 2022, 'dt': 'Wednesday, 2022-04-06, 14:00:00'}]\""
      ]
     },
     "execution_count": 386,
     "metadata": {},
     "output_type": "execute_result"
    }
   ],
   "source": [
    "data"
   ]
  },
  {
   "cell_type": "code",
   "execution_count": 352,
   "metadata": {},
   "outputs": [],
   "source": [
    "data = pd.DataFrame(eval(data))\n",
    "pred_casual = list(model_casual.predict(data))\n",
    "\n",
    "pred_casual = pd.DataFrame(pred_casual)\n",
    "pred_casual = pred_casual.rename(columns={0: 'prediction'})\n",
    "data = data['hours'].reset_index()"
   ]
  },
  {
   "cell_type": "code",
   "execution_count": 353,
   "metadata": {},
   "outputs": [
    {
     "data": {
      "text/plain": [
       "<AxesSubplot:xlabel='index', ylabel='prediction'>"
      ]
     },
     "execution_count": 353,
     "metadata": {},
     "output_type": "execute_result"
    },
    {
     "data": {
      "image/png": "[encoded data removed]",
      "text/plain": [
       "<Figure size 864x576 with 1 Axes>"
      ]
     },
     "metadata": {
      "needs_background": "light"
     },
     "output_type": "display_data"
    }
   ],
   "source": [
    "plt.figure(figsize=(12,8))\n",
    "sns.barplot(x='index',y='prediction',data=data[['index']].join(pred_casual))"
   ]
  },
  {
   "cell_type": "code",
   "execution_count": null,
   "metadata": {},
   "outputs": [],
   "source": []
  },
  {
   "cell_type": "code",
   "execution_count": null,
   "metadata": {},
   "outputs": [],
   "source": []
  }
 ],
 "metadata": {
  "interpreter": {
   "hash": "a4cc5ee3c947b0b2a63d6883ad81518e39249fafcf5464e6304ea0291cc4de25"
  },
  "kernelspec": {
   "display_name": "Python 3.9.7 ('mv')",
   "language": "python",
   "name": "python3"
  },
  "language_info": {
   "codemirror_mode": {
    "name": "ipython",
    "version": 3
   },
   "file_extension": ".py",
   "mimetype": "text/x-python",
   "name": "python",
   "nbconvert_exporter": "python",
   "pygments_lexer": "ipython3",
   "version": "3.9.7"
  },
  "orig_nbformat": 4
 },
 "nbformat": 4,
 "nbformat_minor": 2
}
