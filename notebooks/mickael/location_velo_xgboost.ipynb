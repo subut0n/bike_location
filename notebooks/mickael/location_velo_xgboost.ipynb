{
 "cells": [
  {
   "cell_type": "code",
   "execution_count": 3,
   "metadata": {},
   "outputs": [],
   "source": [
    "import pandas as pd \n",
    "import numpy as np\n",
    "import seaborn as sns\n",
    "import matplotlib.pyplot as plt\n",
    "import plotly.express as px\n",
    "\n",
    "from sklearn.preprocessing import StandardScaler, RobustScaler, OneHotEncoder\n",
    "from sklearn.pipeline import make_pipeline\n",
    "from sklearn.compose import make_column_transformer\n",
    "from sklearn.model_selection import learning_curve\n",
    "from sklearn.model_selection import cross_validate\n",
    "from sklearn.ensemble import RandomForestRegressor\n",
    "from sklearn.model_selection import train_test_split, cross_val_score\n",
    "from sklearn.metrics import r2_score, mean_squared_error\n",
    "from sklearn.model_selection import GridSearchCV\n",
    "from sklearn.inspection import permutation_importance\n",
    "import scipy.sparse\n",
    "\n",
    "from xgboost import XGBRegressor\n",
    "\n",
    "import mlflow\n",
    "import mlflow.sklearn\n",
    "from urllib.parse import urlparse"
   ]
  },
  {
   "cell_type": "code",
   "execution_count": null,
   "metadata": {},
   "outputs": [],
   "source": [
    "# experiment_id = mlflow.create_experiment(\"xgboost_projet_appli_ia\")"
   ]
  },
  {
   "cell_type": "code",
   "execution_count": 36,
   "metadata": {},
   "outputs": [],
   "source": [
    "df_train_modify = pd.read_csv('../../csv/train_modifie.csv')\n",
    "df_test_modify = pd.read_csv('../../csv/test_modifie.csv')\n",
    "\n",
    "df_train = df_train_modify.drop(['day_length', 'day_light'], axis=1)\n",
    "df_test = df_test_modify.drop(['day_length', 'day_light'], axis=1)"
   ]
  },
  {
   "cell_type": "code",
   "execution_count": 37,
   "metadata": {},
   "outputs": [],
   "source": [
    "X_train = df_train.drop(['registered', 'casual'], axis=1)\n",
    "y_train_registered = df_train['registered']\n",
    "y_train_casual = df_train['casual']\n",
    "\n",
    "X_test = df_test.drop(['registered', 'casual'], axis=1)\n",
    "y_test_registered = df_test['registered']\n",
    "y_test_casual = df_test['casual']"
   ]
  },
  {
   "cell_type": "code",
   "execution_count": 38,
   "metadata": {},
   "outputs": [],
   "source": [
    "X_train_registered, _, y_train_registered, _ = train_test_split(X_train, y_train_registered, test_size=0.00001)\n",
    "X_train_casual, _, y_train_casual, _ = train_test_split(X_train, y_train_casual, test_size=0.00001)"
   ]
  },
  {
   "cell_type": "markdown",
   "metadata": {},
   "source": [
    "# Preprocessing"
   ]
  },
  {
   "cell_type": "code",
   "execution_count": 39,
   "metadata": {},
   "outputs": [],
   "source": [
    "from sklearn.metrics import mean_squared_error, mean_absolute_error, median_absolute_error\n",
    "\n",
    "def adjustedR2(r2,n,k):\n",
    "    return r2-(k-1)/(n-k)*(1-r2)\n",
    "\n",
    "def metrics_scores(y, y_pred):\n",
    "    print('MSE test : ' + str(mean_squared_error(y, y_pred)))\n",
    "    print('RMSE test : ' + str(np.sqrt(mean_squared_error(y, y_pred))))\n",
    "    print('MAE test : ' + str(mean_absolute_error(y, y_pred)))\n",
    "    print('MdAE test : ' + str(median_absolute_error(y, y_pred)))\n",
    "\n",
    "def metrics_scores_train(y, y_pred):\n",
    "    print('MSE train : ' + str(mean_squared_error(y, y_pred)))\n",
    "    print('RMSE train : ' + str(np.sqrt(mean_squared_error(y, y_pred))))\n",
    "    print('MAE train : ' + str(mean_absolute_error(y, y_pred)))\n",
    "    print('MdAE testraint : ' + str(median_absolute_error(y, y_pred)))"
   ]
  },
  {
   "cell_type": "code",
   "execution_count": 40,
   "metadata": {},
   "outputs": [],
   "source": [
    "# On encode indépendamment de la normalisation car les données récupérées de l'API ne contiennent pas\n",
    "# toutes les modalités de chaque variable catégorielle. Il en résulte que si l'on donne à prédire ce jeu\n",
    "# de données à un modèle dont la pipeline contient un onehotencoder, il sortira dans le cas des données\n",
    "# de l'API une cardinalité moindre pour les variables catégorielles que la cardinalité obtenue à l'entraînement.\n",
    "# Une exception sera alors lancé par Python et le programme plantera...\n",
    "\n",
    "encoded_features = ['season', 'weather', 'week_days', 'months']\n",
    "ohe = make_column_transformer((OneHotEncoder(sparse=False),encoded_features), remainder='passthrough')\n",
    "ohe.fit(X_train_registered)\n",
    "X_train_ohe = ohe.transform(X_train_registered)\n",
    "X_train_registered = pd.DataFrame(X_train_ohe)\n",
    "\n",
    "ohe.fit(X_train_casual)\n",
    "X_train_ohe = ohe.transform(X_train_casual)\n",
    "X_train_casual = pd.DataFrame(X_train_ohe)\n",
    "\n",
    "X_test_ohe = ohe.transform(X_test)\n",
    "X_test = pd.DataFrame(X_test_ohe)"
   ]
  },
  {
   "cell_type": "code",
   "execution_count": 41,
   "metadata": {},
   "outputs": [],
   "source": [
    "features_name = {}\n",
    "for i in range(X_train_registered.shape[1]):\n",
    "    features_name[i] = ohe.get_feature_names_out()[i].replace(\"onehotencoder__\",\"\").replace(\"remainder__\",\"\")\n",
    "X_train_registered = X_train_registered.rename(columns=features_name)\n",
    "X_train_casual = X_train_casual.rename(columns=features_name)\n",
    "X_test = X_test.rename(columns=features_name)"
   ]
  },
  {
   "cell_type": "code",
   "execution_count": 42,
   "metadata": {},
   "outputs": [],
   "source": [
    "#Features et pipelines\n",
    "scaled_features = ['temp', 'atemp', 'windspeed', 'humidity', 'years','hours']#, 'day_length'\n",
    "scaled_pipeline = make_pipeline(StandardScaler())\n",
    "\n",
    "#preprocessing et main pipeline\n",
    "n_estimators = 125\n",
    "max_depth = 7\n",
    "subsample = 0.8\n",
    "learning_rate = 0.1\n",
    "colsample_bytree = 0.9\n",
    "colsample_bylevel = 1\n",
    "colsample_bynode = 1\n",
    "gamma = 0\n",
    "\n",
    "preprocessor = make_column_transformer((scaled_pipeline, scaled_features), remainder=\"passthrough\")\n",
    "xgb = XGBRegressor(n_estimators=n_estimators, max_depth=max_depth, subsample=subsample, learning_rate=learning_rate,\n",
    "                   colsample_bytree=colsample_bytree, colsample_bylevel=colsample_bylevel,\n",
    "                   colsample_bynode=colsample_bynode, gamma=gamma)\n",
    "model_registered = make_pipeline(preprocessor, xgb)"
   ]
  },
  {
   "cell_type": "markdown",
   "metadata": {},
   "source": [
    "{'xgbregressor__colsample_bylevel': 1,\n",
    " 'xgbregressor__colsample_bynode': 1,\n",
    " 'xgbregressor__colsample_bytree': 0.9,\n",
    " 'xgbregressor__gamma': 0.0,\n",
    " 'xgbregressor__learning_rate': 0.1,\n",
    " 'xgbregressor__max_depth': 8,\n",
    " 'xgbregressor__n_estimators': 195,\n",
    " 'xgbregressor__subsample': 0.8}"
   ]
  },
  {
   "cell_type": "markdown",
   "metadata": {},
   "source": [
    "## Modélisation registered"
   ]
  },
  {
   "cell_type": "code",
   "execution_count": null,
   "metadata": {},
   "outputs": [],
   "source": [
    "parameters = {'xgbregressor__n_estimators': np.arange(190,201,5),\n",
    "              'xgbregressor__max_depth': [8],\n",
    "              'xgbregressor__learning_rate':[0.1],\n",
    "              'xgbregressor__subsample': [0.8,0.9,1],\n",
    "              'xgbregressor__colsample_bytree': [0.7,0.8,0.9],\n",
    "              'xgbregressor__colsample_bylevel': [0.8,0.9,1],\n",
    "              'xgbregressor__colsample_bynode': [0.8,0.9,1],\n",
    "              'xgbregressor__gamma': np.arange(0,0.2,0.1)}\n",
    "\n",
    "grid = GridSearchCV(model_registered, parameters,cv=5)\n",
    "grid.fit(X_train_registered, y_train_registered)"
   ]
  },
  {
   "cell_type": "code",
   "execution_count": null,
   "metadata": {},
   "outputs": [],
   "source": [
    "grid.best_params_"
   ]
  },
  {
   "cell_type": "code",
   "execution_count": 43,
   "metadata": {},
   "outputs": [
    {
     "name": "stdout",
     "output_type": "stream",
     "text": [
      "[0.96223899 0.95414269 0.96169658 0.94673038 0.94154512]\n",
      "r2 : 0.9532707504715141\n",
      "r2 adj. : 0.9530942765757051\n",
      "MSE : 907.7111608725002\n",
      "RMSE : 30.051871442708535\n",
      "MAE : 18.18159538496055\n",
      "MdAE : 10.668287181854248\n",
      "------------------------------------------------\n"
     ]
    }
   ],
   "source": [
    "# mlflow.sklearn.autolog()\n",
    "\n",
    "# with mlflow.start_run(experiment_id = 1):\n",
    "\n",
    "metrics = ['r2','neg_mean_squared_error', 'neg_root_mean_squared_error', 'neg_mean_absolute_error',\n",
    "        'neg_median_absolute_error']#, 'neg_mean_squared_log_error'\n",
    "scores = cross_validate(model_registered,X_train_registered,y_train_registered,cv=5,scoring=metrics)\n",
    "\n",
    "print(scores['test_r2'])\n",
    "r2 = np.nanmean(scores['test_r2'])\n",
    "r2_adj = adjustedR2(r2,X_train_registered.shape[0],X_train_registered.shape[1])\n",
    "mse = np.nanmean(-scores['test_neg_mean_squared_error'])\n",
    "rmse = np.nanmean(-scores['test_neg_root_mean_squared_error'])\n",
    "mae = np.nanmean(-scores['test_neg_mean_absolute_error'])\n",
    "mdae = np.nanmean(-scores['test_neg_median_absolute_error'])\n",
    "print('r2 : ' + str(r2))\n",
    "print('r2 adj. : ' + str(r2_adj))\n",
    "print('MSE : ' + str(mse))\n",
    "print('RMSE : ' + str(rmse))\n",
    "print('MAE : ' + str(mae))\n",
    "print('MdAE : ' + str(mdae))\n",
    "print('------------------------------------------------')\n",
    "        # \"\"\" Valeurs par défaut : \n",
    "        # - n_estimators = 1\n",
    "        # - max_depth = 6\n",
    "        # - learning_rate = 0.3\n",
    "        # - gamma = 0\n",
    "        # - subsample = 1\n",
    "        # - colsample_bytree,  colsample_bylevel, colsample_bynode = 1\n",
    "        # \"\"\"\n",
    "        # mlflow.log_param(\"registered n_estimators\", n_estimators)\n",
    "        # mlflow.log_param(\"registered max_depth\", max_depth)\n",
    "        # mlflow.log_param(\"registered learning_rate\", learning_rate)\n",
    "        # mlflow.log_param(\"registered gamma\", gamma)\n",
    "        # mlflow.log_param(\"registered subsample\", subsample)\n",
    "        # mlflow.log_param(\"registered colsample_bylevel\", colsample_bylevel)\n",
    "        # mlflow.log_param(\"registered colsample_bynode\", colsample_bynode)\n",
    "        # mlflow.log_param(\"registered colsample_bytree\", colsample_bytree)\n",
    "\n",
    "        # mlflow.log_metric(\"registered r2\", r2)\n",
    "        # mlflow.log_metric(\"registered r2 adj.\", r2_adj)\n",
    "        # mlflow.log_metric(\"registered MSE\", mse)\n",
    "        # mlflow.log_metric(\"registered RMSE\", rmse)\n",
    "        # mlflow.log_metric(\"registered MAE\", mae) \n",
    "        # mlflow.log_metric(\"registered MdAE\", mdae) "
   ]
  },
  {
   "cell_type": "code",
   "execution_count": null,
   "metadata": {},
   "outputs": [],
   "source": [
    "N, train_score, val_score = learning_curve(model_registered, X_train_registered, y_train_registered, train_sizes=np.linspace(0.1,1,20))"
   ]
  },
  {
   "cell_type": "code",
   "execution_count": null,
   "metadata": {},
   "outputs": [
    {
     "data": {
      "text/plain": [
       "<matplotlib.legend.Legend at 0x2394f989e50>"
      ]
     },
     "metadata": {},
     "output_type": "display_data"
    },
    {
     "data": {
      "image/png": "[encoded data removed]",
      "text/plain": [
       "<Figure size 720x576 with 1 Axes>"
      ]
     },
     "metadata": {},
     "output_type": "display_data"
    }
   ],
   "source": [
    "plt.figure(figsize=(10,8))\n",
    "plt.plot(N,train_score.mean(axis=1),lw=3,label='entraînement')\n",
    "plt.plot(N,np.nanmean(val_score,axis=1),lw=3,label='validation')\n",
    "plt.title('Learning Curve',fontsize=24)\n",
    "plt.xlabel('Taille de l\\'échantillon d\\'entraînement',fontsize=18)\n",
    "plt.ylabel('Coefficient de détermination R2',fontsize=18)\n",
    "plt.legend(fontsize=14)"
   ]
  },
  {
   "cell_type": "code",
   "execution_count": 44,
   "metadata": {},
   "outputs": [
    {
     "data": {
      "text/plain": [
       "0.8758280786191748"
      ]
     },
     "execution_count": 44,
     "metadata": {},
     "output_type": "execute_result"
    }
   ],
   "source": [
    "model_registered.fit(X_train_registered,y_train_registered)\n",
    "pred_registered = model_registered.predict(X_test)\n",
    "model_registered.score(X_test,y_test_registered)"
   ]
  },
  {
   "cell_type": "code",
   "execution_count": 47,
   "metadata": {},
   "outputs": [
    {
     "name": "stdout",
     "output_type": "stream",
     "text": [
      "hours    : 1.421 +/- 0.016\n",
      "workingday : 0.277 +/- 0.008\n",
      "years    : 0.204 +/- 0.004\n",
      "temp     : 0.043 +/- 0.001\n",
      "season_4 : 0.038 +/- 0.001\n",
      "humidity : 0.038 +/- 0.001\n",
      "atemp    : 0.036 +/- 0.001\n",
      "weather_3 : 0.019 +/- 0.001\n",
      "week_days_7 : 0.008 +/- 0.000\n",
      "months_4 : 0.007 +/- 0.000\n",
      "windspeed : 0.007 +/- 0.000\n",
      "week_days_5 : 0.007 +/- 0.000\n"
     ]
    }
   ],
   "source": [
    "from sklearn.inspection import permutation_importance\n",
    "r = permutation_importance(model_registered, X_train_registered, y_train_registered,\n",
    "                           n_repeats=30)\n",
    "\n",
    "for i in r.importances_mean.argsort()[::-1]:\n",
    "    if r.importances_mean[i] > 5e-3:\n",
    "        print(f\"{X_train_registered.columns[i]:<8} : \"\n",
    "              f\"{r.importances_mean[i]:.3f}\"\n",
    "              f\" +/- {r.importances_std[i]:.3f}\")"
   ]
  },
  {
   "cell_type": "code",
   "execution_count": 106,
   "metadata": {},
   "outputs": [],
   "source": [
    "import pickle\n",
    "  \n",
    "with open('../../app/model_registered.pkl', 'wb') as file:\n",
    "    pickle.dump(model_registered, file)"
   ]
  },
  {
   "cell_type": "markdown",
   "metadata": {},
   "source": [
    "## Modélisation casual"
   ]
  },
  {
   "cell_type": "code",
   "execution_count": 25,
   "metadata": {},
   "outputs": [],
   "source": [
    "df_train_modify = pd.read_csv('../../csv/train_modifie.csv')\n",
    "df_test_modify = pd.read_csv('../../csv/test_modifie.csv')\n",
    "\n",
    "df_train = df_train_modify.drop(['day_length', 'day_light'], axis=1)\n",
    "df_test = df_test_modify.drop(['day_length', 'day_light'], axis=1)"
   ]
  },
  {
   "cell_type": "code",
   "execution_count": 26,
   "metadata": {},
   "outputs": [],
   "source": [
    "X_train = df_train.drop(['registered', 'casual'], axis=1)\n",
    "y_train_casual = df_train['casual']\n",
    "\n",
    "X_test = df_test.drop(['registered', 'casual'], axis=1)\n",
    "y_test_casual = df_test['casual']"
   ]
  },
  {
   "cell_type": "code",
   "execution_count": 27,
   "metadata": {},
   "outputs": [],
   "source": [
    "X_train_casual, _, y_train_casual, _ = train_test_split(X_train, y_train_casual, test_size=0.00001)"
   ]
  },
  {
   "cell_type": "code",
   "execution_count": 28,
   "metadata": {},
   "outputs": [],
   "source": [
    "# On encode indépendamment de la normalisation car les données récupérées de l'API ne contiennent pas\n",
    "# toutes les modalités de chaque variable catégorielle. Il en résulte que si l'on donne à prédire ce jeu\n",
    "# de données à un modèle dont la pipeline contient un onehotencoder, il sortira dans le cas des données\n",
    "# de l'API une cardinalité moindre pour les variables catégorielles que la cardinalité obtenue à l'entraînement.\n",
    "# Une exception sera alors lancé par Python et le programme plantera...\n",
    "\n",
    "encoded_features = ['season', 'weather', 'week_days', 'months']\n",
    "ohe = make_column_transformer((OneHotEncoder(sparse=False),encoded_features), remainder='passthrough')\n",
    "ohe.fit(X_train_casual)\n",
    "X_train_ohe = ohe.transform(X_train_casual)\n",
    "X_train_casual = pd.DataFrame(X_train_ohe)\n",
    "\n",
    "X_test_ohe = ohe.transform(X_test)\n",
    "X_test = pd.DataFrame(X_test_ohe)"
   ]
  },
  {
   "cell_type": "code",
   "execution_count": 29,
   "metadata": {},
   "outputs": [],
   "source": [
    "features_name = {}\n",
    "for i in range(X_train_casual.shape[1]):\n",
    "    features_name[i] = ohe.get_feature_names_out()[i].replace(\"onehotencoder__\",\"\").replace(\"remainder__\",\"\")\n",
    "X_train_casual = X_train_casual.rename(columns=features_name)\n",
    "X_test = X_test.rename(columns=features_name)"
   ]
  },
  {
   "cell_type": "code",
   "execution_count": 30,
   "metadata": {},
   "outputs": [],
   "source": [
    "#Features et pipelines\n",
    "scaled_features = ['temp', 'atemp', 'windspeed', 'humidity', 'hours', 'years']#, 'day_length'\n",
    "scaled_pipeline = make_pipeline(StandardScaler())\n",
    "\n",
    "n_estimators = 140\n",
    "max_depth = 7\n",
    "subsample = 0.9\n",
    "learning_rate = 0.1\n",
    "colsample_bytree = 0.9\n",
    "colsample_bylevel = 0.8\n",
    "colsample_bynode = 0.9\n",
    "gamma = 0.1\n",
    "\n",
    "preprocessor = make_column_transformer((scaled_pipeline, scaled_features), remainder=\"passthrough\")\n",
    "xgb = XGBRegressor(n_estimators=n_estimators, max_depth=max_depth, subsample=subsample, learning_rate=learning_rate,\n",
    "          colsample_bytree=colsample_bytree, colsample_bylevel=colsample_bylevel, colsample_bynode=colsample_bynode,\n",
    "          gamma=gamma)\n",
    "model_casual = make_pipeline(preprocessor, xgb)"
   ]
  },
  {
   "cell_type": "markdown",
   "metadata": {},
   "source": [
    "{'xgbregressor__colsample_bylevel': 0.8,\n",
    " 'xgbregressor__colsample_bynode': 0.9,\n",
    " 'xgbregressor__colsample_bytree': 0.9,\n",
    " 'xgbregressor__gamma': 0.1,\n",
    " 'xgbregressor__learning_rate': 0.1,\n",
    " 'xgbregressor__max_depth': 8,\n",
    " 'xgbregressor__n_estimators': 140,\n",
    " 'xgbregressor__subsample': 0.9}"
   ]
  },
  {
   "cell_type": "code",
   "execution_count": null,
   "metadata": {},
   "outputs": [],
   "source": [
    "parameters = {'xgbregressor__n_estimators': np.arange(135,146,5),\n",
    "              'xgbregressor__max_depth': np.arange(7,9,1),\n",
    "              'xgbregressor__learning_rate':[0.1],\n",
    "              'xgbregressor__subsample': [0.8,0.9,1],\n",
    "              'xgbregressor__colsample_bytree': [0.8,0.9,1],\n",
    "              'xgbregressor__colsample_bylevel': [0.8,0.9,1],\n",
    "              'xgbregressor__colsample_bynode': [0.8,0.9,1],\n",
    "              'xgbregressor__gamma': [0,0.1,0.2]}\n",
    "\n",
    "grid = GridSearchCV(model_casual, parameters,cv=5)\n",
    "grid.fit(X_train_casual, y_train_casual)"
   ]
  },
  {
   "cell_type": "code",
   "execution_count": null,
   "metadata": {},
   "outputs": [],
   "source": [
    "grid.best_params_"
   ]
  },
  {
   "cell_type": "code",
   "execution_count": 31,
   "metadata": {},
   "outputs": [
    {
     "name": "stdout",
     "output_type": "stream",
     "text": [
      "[0.932364   0.92140392 0.93842983 0.93242739 0.92489385]\n",
      "r2 : 0.9299038002135649\n",
      "r2 adj. : 0.9296390805875804\n",
      "MSE : 166.8966721798283\n",
      "RMSE : 12.909876745021796\n",
      "MAE : 7.738048939970507\n",
      "MdAE : 4.042283630371093\n"
     ]
    }
   ],
   "source": [
    "# with mlflow.start_run(experiment_id = 1):\n",
    "\n",
    "metrics = ['r2','neg_mean_squared_error', 'neg_root_mean_squared_error', 'neg_mean_absolute_error','neg_median_absolute_error']\n",
    "scores = cross_validate(model_casual,X_train_casual,y_train_casual,cv=5,scoring=metrics)\n",
    "\n",
    "print(scores['test_r2'])\n",
    "r2 = scores['test_r2'].mean()\n",
    "print('r2 : ' + str(r2))\n",
    "print('r2 adj. : ' + str(adjustedR2(r2,X_train_casual.shape[0],X_train_casual.shape[1])))\n",
    "print('MSE : ' + str((-scores['test_neg_mean_squared_error']).mean()))\n",
    "print('RMSE : ' + str((-scores['test_neg_root_mean_squared_error']).mean()))\n",
    "print('MAE : ' + str((-scores['test_neg_mean_absolute_error']).mean()))\n",
    "print('MdAE : ' + str((-scores['test_neg_median_absolute_error']).mean()))\n",
    "\n",
    "    # \"\"\" Valeurs par défaut : \n",
    "    #     - n_estimators = 1\n",
    "    #     - max_depth = 6\n",
    "    #     - learning_rate = 0.3\n",
    "    #     - gamma = 0\n",
    "    #     - subsample = 1\n",
    "    #     - colsample_bytree,  colsample_bylevel, colsample_bynode = 1\n",
    "    # \"\"\"\n",
    "    # mlflow.log_param(\"casual n_estimators\", n_estimators)\n",
    "    # mlflow.log_param(\"casual max_depth\", max_depth)\n",
    "    # mlflow.log_param(\"casual learning_rate\", learning_rate)\n",
    "    # mlflow.log_param(\"casual gamma\", gamma)\n",
    "    # mlflow.log_param(\"casual subsample\", subsample)\n",
    "    # mlflow.log_param(\"casual colsample_bylevel\", colsample_bylevel)\n",
    "    # mlflow.log_param(\"casual colsample_bynode\", colsample_bynode)\n",
    "    # mlflow.log_param(\"casual colsample_bytree\", colsample_bytree)\n",
    "\n",
    "    # mlflow.log_metric(\"casual r2\", r2)\n",
    "    # mlflow.log_metric(\"casual r2 adj.\", r2_adj)\n",
    "    # mlflow.log_metric(\"casual MSE\", mse)\n",
    "    # mlflow.log_metric(\"casual RMSE\", rmse)\n",
    "    # mlflow.log_metric(\"casual MAE\", mae) \n",
    "    # mlflow.log_metric(\"casual MdAE\", mdae) "
   ]
  },
  {
   "cell_type": "code",
   "execution_count": null,
   "metadata": {},
   "outputs": [],
   "source": [
    "N, train_score, val_score = learning_curve(model_casual, X_train_casual, y_train_casual, train_sizes=np.linspace(0.1,1,20))"
   ]
  },
  {
   "cell_type": "code",
   "execution_count": null,
   "metadata": {},
   "outputs": [
    {
     "data": {
      "text/plain": [
       "<matplotlib.legend.Legend at 0x23950fe9190>"
      ]
     },
     "metadata": {},
     "output_type": "display_data"
    },
    {
     "data": {
      "image/png": "[encoded data removed]",
      "text/plain": [
       "<Figure size 720x576 with 1 Axes>"
      ]
     },
     "metadata": {},
     "output_type": "display_data"
    }
   ],
   "source": [
    "plt.figure(figsize=(10,8))\n",
    "plt.plot(N,train_score.mean(axis=1),lw=3,label='entraînement')\n",
    "plt.plot(N,np.nanmean(val_score,axis=1),lw=3,label='validation')\n",
    "plt.title('Learning Curve',fontsize=24)\n",
    "plt.xlabel('Taille de l\\'échantillon d\\'entraînement',fontsize=18)\n",
    "plt.ylabel('Coefficient de détermination R2',fontsize=18)\n",
    "plt.legend(fontsize=14)"
   ]
  },
  {
   "cell_type": "code",
   "execution_count": 32,
   "metadata": {},
   "outputs": [
    {
     "data": {
      "text/plain": [
       "0.8737147725058916"
      ]
     },
     "execution_count": 32,
     "metadata": {},
     "output_type": "execute_result"
    }
   ],
   "source": [
    "model_casual.fit(X_train_casual,y_train_casual)\n",
    "pred_casual = model_casual.predict(X_test)\n",
    "model_casual.score(X_test,y_test_casual)"
   ]
  },
  {
   "cell_type": "code",
   "execution_count": 46,
   "metadata": {},
   "outputs": [
    {
     "name": "stdout",
     "output_type": "stream",
     "text": [
      "hours    : 0.866 +/- 0.015\n",
      "workingday : 0.338 +/- 0.009\n",
      "atemp    : 0.136 +/- 0.004\n",
      "temp     : 0.134 +/- 0.004\n",
      "years    : 0.086 +/- 0.004\n",
      "humidity : 0.070 +/- 0.002\n",
      "week_days_6 : 0.054 +/- 0.002\n",
      "week_days_7 : 0.021 +/- 0.001\n",
      "windspeed : 0.013 +/- 0.000\n",
      "week_days_5 : 0.012 +/- 0.001\n",
      "months_4 : 0.011 +/- 0.001\n",
      "season_1 : 0.010 +/- 0.001\n",
      "months_1 : 0.007 +/- 0.001\n",
      "season_4 : 0.007 +/- 0.000\n",
      "weather_1 : 0.006 +/- 0.000\n"
     ]
    }
   ],
   "source": [
    "from sklearn.inspection import permutation_importance\n",
    "r = permutation_importance(model_casual, X_train_casual, y_train_casual,\n",
    "                           n_repeats=30)\n",
    "\n",
    "for i in r.importances_mean.argsort()[::-1]:\n",
    "    if r.importances_mean[i] > 5e-3:\n",
    "        print(f\"{X_train_casual.columns[i]:<8} : \"\n",
    "              f\"{r.importances_mean[i]:.3f}\"\n",
    "              f\" +/- {r.importances_std[i]:.3f}\")"
   ]
  },
  {
   "cell_type": "code",
   "execution_count": 120,
   "metadata": {},
   "outputs": [],
   "source": [
    "import pickle\n",
    "  \n",
    "with open('../../app/model_casual.pkl', 'wb') as file:\n",
    "    pickle.dump(model_casual, file)"
   ]
  },
  {
   "cell_type": "code",
   "execution_count": null,
   "metadata": {},
   "outputs": [],
   "source": []
  }
 ],
 "metadata": {
  "interpreter": {
   "hash": "a4cc5ee3c947b0b2a63d6883ad81518e39249fafcf5464e6304ea0291cc4de25"
  },
  "kernelspec": {
   "display_name": "Python 3.9.7 ('mv')",
   "language": "python",
   "name": "python3"
  },
  "language_info": {
   "codemirror_mode": {
    "name": "ipython",
    "version": 3
   },
   "file_extension": ".py",
   "mimetype": "text/x-python",
   "name": "python",
   "nbconvert_exporter": "python",
   "pygments_lexer": "ipython3",
   "version": "3.9.7"
  },
  "orig_nbformat": 4
 },
 "nbformat": 4,
 "nbformat_minor": 2
}
