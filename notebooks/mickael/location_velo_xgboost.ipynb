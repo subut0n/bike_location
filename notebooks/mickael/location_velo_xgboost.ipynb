{
 "cells": [
  {
   "cell_type": "code",
   "execution_count": 272,
   "metadata": {},
   "outputs": [],
   "source": [
    "import pandas as pd \n",
    "import numpy as np\n",
    "import seaborn as sns\n",
    "import matplotlib.pyplot as plt\n",
    "import plotly.express as px\n",
    "\n",
    "from sklearn.preprocessing import StandardScaler, RobustScaler, OneHotEncoder\n",
    "from sklearn.pipeline import make_pipeline\n",
    "from sklearn.compose import make_column_transformer\n",
    "from sklearn.model_selection import learning_curve\n",
    "from sklearn.model_selection import cross_validate\n",
    "from sklearn.ensemble import RandomForestRegressor\n",
    "from sklearn.model_selection import train_test_split, cross_val_score\n",
    "from sklearn.metrics import r2_score, mean_squared_error\n",
    "from sklearn.model_selection import GridSearchCV\n",
    "\n",
    "from xgboost import XGBRegressor\n",
    "\n",
    "import mlflow\n",
    "import mlflow.sklearn\n",
    "from urllib.parse import urlparse"
   ]
  },
  {
   "cell_type": "code",
   "execution_count": 226,
   "metadata": {},
   "outputs": [],
   "source": [
    "# experiment_id = mlflow.create_experiment(\"xgboost_projet_appli_ia\")"
   ]
  },
  {
   "cell_type": "code",
   "execution_count": 273,
   "metadata": {},
   "outputs": [],
   "source": [
    "df_train_modify = pd.read_csv('../../csv/train_modifie_mickael.csv')\n",
    "df_test_modify = pd.read_csv('../../csv/test_modifie_mickael.csv')\n",
    "\n",
    "df_train = df_train_modify.drop(['Unnamed: 0', 'count','HI'], axis=1)\n",
    "df_test = df_test_modify.drop(['Unnamed: 0', 'count','HI'], axis=1)\n",
    "\n",
    "# Il FAUT éliminer ce point de données sans quoi impossible d'encoder cette variable et de réaliser une cross-validation ou un grid search cv\n",
    "# df_train = df_train[df_train['weather'] != 4]"
   ]
  },
  {
   "cell_type": "code",
   "execution_count": 271,
   "metadata": {},
   "outputs": [],
   "source": [
    "X_train = df_train.drop(['registered', 'casual'], axis=1)\n",
    "y_train_registered = df_train['registered']\n",
    "y_train_casual = df_train['casual']\n",
    "\n",
    "X_test = df_test.drop(['registered', 'casual'], axis=1)\n",
    "y_test_registered = df_test['registered']\n",
    "y_test_casual = df_test['casual']"
   ]
  },
  {
   "cell_type": "code",
   "execution_count": 267,
   "metadata": {},
   "outputs": [],
   "source": [
    "X_train, test, y_train_registered, test2 = train_test_split(X_train, y_train_registered, test_size=0.001)\n",
    "# X_train, X_test, y_train_casual, y_test_casual = train_test_split(X_train, y_train_casual, test_size=0.2)"
   ]
  },
  {
   "cell_type": "markdown",
   "metadata": {},
   "source": [
    "# Preprocessing"
   ]
  },
  {
   "cell_type": "code",
   "execution_count": 241,
   "metadata": {},
   "outputs": [],
   "source": [
    "from sklearn.metrics import mean_squared_error, mean_absolute_error, median_absolute_error\n",
    "\n",
    "def adjustedR2(r2,n,k):\n",
    "    return r2-(k-1)/(n-k)*(1-r2)\n",
    "\n",
    "def metrics_scores(y, y_pred):\n",
    "    print('MSE test : ' + str(mean_squared_error(y, y_pred)))\n",
    "    print('RMSE test : ' + str(np.sqrt(mean_squared_error(y, y_pred))))\n",
    "    print('MAE test : ' + str(mean_absolute_error(y, y_pred)))\n",
    "    print('MdAE test : ' + str(median_absolute_error(y, y_pred)))\n",
    "\n",
    "def metrics_scores_train(y, y_pred):\n",
    "    print('MSE train : ' + str(mean_squared_error(y, y_pred)))\n",
    "    print('RMSE train : ' + str(np.sqrt(mean_squared_error(y, y_pred))))\n",
    "    print('MAE train : ' + str(mean_absolute_error(y, y_pred)))\n",
    "    print('MdAE testraint : ' + str(median_absolute_error(y, y_pred)))"
   ]
  },
  {
   "cell_type": "code",
   "execution_count": 216,
   "metadata": {},
   "outputs": [],
   "source": [
    "encoded_features = ['season', 'weather', 'week_days', 'months', 'years']\n",
    "ohe = make_column_transformer((OneHotEncoder(),encoded_features), remainder='passthrough')\n",
    "ohe.fit(X_train)\n",
    "X_train_ohe = ohe.transform(X_train)\n",
    "X_train = pd.DataFrame(X_train_ohe)\n",
    "\n",
    "X_test_ohe = ohe.transform(X_test)\n",
    "X_test = pd.DataFrame(X_test_ohe)"
   ]
  },
  {
   "cell_type": "code",
   "execution_count": 217,
   "metadata": {},
   "outputs": [],
   "source": [
    "features_name = {}\n",
    "for i in range(X_train.shape[1]):\n",
    "    features_name[i] = ohe.get_feature_names_out()[i].replace(\"onehotencoder__\",\"\").replace(\"remainder__\",\"\")\n",
    "X_train = X_train.rename(columns=features_name)\n",
    "X_test = X_test.rename(columns=features_name)"
   ]
  },
  {
   "cell_type": "code",
   "execution_count": 242,
   "metadata": {},
   "outputs": [],
   "source": [
    "#Features et pipelines\n",
    "scaled_features = ['temp', 'atemp', 'windspeed', 'humidity', 'hours']#\n",
    "scaled_pipeline = make_pipeline(StandardScaler())\n",
    "\n",
    "#preprocessing et main pipeline\n",
    "params = {'n_estimators': 105, 'max_depth': 8, 'subsample': 0.8, 'learning_rate': 0.1,\n",
    "          'colsample_bytree':0.5, 'colsample_bylevel': 0.5, 'colsample_bynode': 0.4,\n",
    "          'gamma': 0}\n",
    "preprocessor = make_column_transformer((scaled_pipeline, scaled_features), remainder=\"passthrough\")\n",
    "xgb = XGBRegressor(n_estimators=80, max_depth=6, subsample=0.8, learning_rate=0.1, max_depth=10, learning_rate=0.15)\n",
    "model = make_pipeline(preprocessor, xgb)"
   ]
  },
  {
   "cell_type": "markdown",
   "metadata": {},
   "source": [
    "{'xgbregressor__colsample_bylevel': 0.5,\n",
    " 'xgbregressor__colsample_bynode': 0.4,\n",
    " 'xgbregressor__colsample_bytree': 0.5,\n",
    " 'xgbregressor__gamma': 0,\n",
    " 'xgbregressor__learning_rate': 0.1,\n",
    " 'xgbregressor__max_depth': 8,\n",
    " 'xgbregressor__n_estimators': 105,\n",
    " 'xgbregressor__subsample': 0.9}"
   ]
  },
  {
   "cell_type": "markdown",
   "metadata": {},
   "source": [
    "## Modélisation registered"
   ]
  },
  {
   "cell_type": "code",
   "execution_count": null,
   "metadata": {},
   "outputs": [],
   "source": [
    "parameters = {'xgbregressor__n_estimators': np.arange(95,106,5),\n",
    "              'xgbregressor__max_depth': np.arange(6,9,1),\n",
    "              'xgbregressor__learning_rate':[0.1],\n",
    "              'xgbregressor__subsample': [0.9],\n",
    "              'xgbregressor__colsample_bytree': np.arange(0.4,0.6,0.1),\n",
    "              'xgbregressor__colsample_bylevel': np.arange(0.4,0.6,0.1),\n",
    "              'xgbregressor__colsample_bynode': np.arange(0.1,0.5,0.1),\n",
    "              'xgbregressor__gamma': np.arange(0,10,5)}\n",
    "\n",
    "grid = GridSearchCV(model, parameters,cv=5)\n",
    "grid.fit(X_train, y_train_registered)"
   ]
  },
  {
   "cell_type": "code",
   "execution_count": 224,
   "metadata": {},
   "outputs": [
    {
     "data": {
      "text/plain": [
       "{'xgbregressor__colsample_bylevel': 0.5,\n",
       " 'xgbregressor__colsample_bynode': 0.4,\n",
       " 'xgbregressor__colsample_bytree': 0.5,\n",
       " 'xgbregressor__gamma': 0,\n",
       " 'xgbregressor__learning_rate': 0.1,\n",
       " 'xgbregressor__max_depth': 8,\n",
       " 'xgbregressor__n_estimators': 105,\n",
       " 'xgbregressor__subsample': 0.9}"
      ]
     },
     "execution_count": 224,
     "metadata": {},
     "output_type": "execute_result"
    }
   ],
   "source": [
    "grid.best_params_"
   ]
  },
  {
   "cell_type": "code",
   "execution_count": 268,
   "metadata": {},
   "outputs": [
    {
     "name": "stderr",
     "output_type": "stream",
     "text": [
      "C:\\Anaconda\\envs\\mv\\lib\\site-packages\\xgboost\\data.py:262: FutureWarning: pandas.Int64Index is deprecated and will be removed from pandas in a future version. Use pandas.Index with the appropriate dtype instead.\n",
      "  elif isinstance(data.columns, (pd.Int64Index, pd.RangeIndex)):\n",
      "C:\\Anaconda\\envs\\mv\\lib\\site-packages\\xgboost\\data.py:262: FutureWarning: pandas.Int64Index is deprecated and will be removed from pandas in a future version. Use pandas.Index with the appropriate dtype instead.\n",
      "  elif isinstance(data.columns, (pd.Int64Index, pd.RangeIndex)):\n",
      "C:\\Anaconda\\envs\\mv\\lib\\site-packages\\xgboost\\data.py:262: FutureWarning: pandas.Int64Index is deprecated and will be removed from pandas in a future version. Use pandas.Index with the appropriate dtype instead.\n",
      "  elif isinstance(data.columns, (pd.Int64Index, pd.RangeIndex)):\n",
      "C:\\Anaconda\\envs\\mv\\lib\\site-packages\\xgboost\\data.py:262: FutureWarning: pandas.Int64Index is deprecated and will be removed from pandas in a future version. Use pandas.Index with the appropriate dtype instead.\n",
      "  elif isinstance(data.columns, (pd.Int64Index, pd.RangeIndex)):\n",
      "C:\\Anaconda\\envs\\mv\\lib\\site-packages\\xgboost\\data.py:262: FutureWarning: pandas.Int64Index is deprecated and will be removed from pandas in a future version. Use pandas.Index with the appropriate dtype instead.\n",
      "  elif isinstance(data.columns, (pd.Int64Index, pd.RangeIndex)):\n"
     ]
    },
    {
     "name": "stdout",
     "output_type": "stream",
     "text": [
      "[0.92284956 0.91337951 0.92478844 0.92178838 0.9201005 ]\n"
     ]
    }
   ],
   "source": [
    "# mlflow.sklearn.autolog()\n",
    "\n",
    "with mlflow.start_run(experiment_id = 1):\n",
    "\n",
    "        metrics = ['r2','neg_mean_squared_error', 'neg_root_mean_squared_error', 'neg_mean_absolute_error',\n",
    "                'neg_median_absolute_error']#, 'neg_mean_squared_log_error'\n",
    "        scores = cross_validate(xgb,X_train,y_train_registered,cv=5,scoring=metrics)\n",
    "\n",
    "        print(scores['test_score'])\n",
    "        r2 = np.nanmean(scores['test_r2'])\n",
    "        r2_adj = adjustedR2(r2,X_train.shape[0],X_train.shape[1])\n",
    "        mse = np.nanmean(-scores['test_neg_mean_squared_error'])\n",
    "        rmse = np.nanmean(-scores['test_neg_root_mean_squared_error'])\n",
    "        mae = np.nanmean(-scores['test_neg_mean_absolute_error'])\n",
    "        mdae = np.nanmean(-scores['test_neg_median_absolute_error'])\n",
    "        print('r2 : ' + str(r2))\n",
    "        print('r2 adj. : ' + str(r2_adj))\n",
    "        print('MSE : ' + str(mse))\n",
    "        print('RMSE : ' + str(rmse))\n",
    "        print('MAE : ' + str(mae))\n",
    "        print('MdAE : ' + str(mdae))\n",
    "        print('------------------------------------------------')\n",
    "        \"\"\" Valeurs par défaut : \n",
    "        - n_estimators = 1\n",
    "        - max_depth = 6\n",
    "        - learning_rate = 0.3\n",
    "        - gamma = 0\n",
    "        - subsample = 1\n",
    "        - colsample_bytree,  colsample_bylevel, colsample_bynode = 1\n",
    "        \"\"\"\n",
    "        mlflow.log_param(\"registered n_estimators\", 1)\n",
    "        mlflow.log_param(\"registered max_depth\", 6)\n",
    "        mlflow.log_param(\"registered learning_rate\", 0.3)\n",
    "        mlflow.log_param(\"registered gamma\", 0)\n",
    "        mlflow.log_param(\"registered subsample\", 1)\n",
    "        mlflow.log_param(\"registered colsample_bylevel\", 1)\n",
    "        mlflow.log_param(\"registered colsample_bynode\", 1)\n",
    "        mlflow.log_param(\"registered colsample_bytree\", 1)\n",
    "\n",
    "        mlflow.log_metric(\"registered r2\", r2)\n",
    "        mlflow.log_metric(\"registered r2 adj.\", r2_adj)\n",
    "        mlflow.log_metric(\"registered MSE\", mse)\n",
    "        mlflow.log_metric(\"registered RMSE\", rmse)\n",
    "        mlflow.log_metric(\"registered MAE\", mae) \n",
    "        mlflow.log_metric(\"registered MdAE\", mdae) \n",
    "\n",
    "        # r2 = model.score(X_test, y_test_registered)\n",
    "        # y_pred_registered = model.predict(X_test)\n",
    "        # print('r2 : ' + str(r2))\n",
    "        # print('r2 adj. : ' + str(adjustedR2(r2,X_train.shape[0],X_train.shape[1])))\n",
    "        # metrics_scores(y_test_registered,y_pred_registered)"
   ]
  },
  {
   "cell_type": "code",
   "execution_count": 194,
   "metadata": {},
   "outputs": [],
   "source": [
    "N, train_score, val_score = learning_curve(model, X_train, y_train_registered, train_sizes=np.linspace(0.1,1,20))"
   ]
  },
  {
   "cell_type": "code",
   "execution_count": 195,
   "metadata": {},
   "outputs": [
    {
     "data": {
      "text/plain": [
       "<matplotlib.legend.Legend at 0x272965f0eb0>"
      ]
     },
     "execution_count": 195,
     "metadata": {},
     "output_type": "execute_result"
    },
    {
     "data": {
      "image/png": "[encoded data removed]",
      "text/plain": [
       "<Figure size 720x576 with 1 Axes>"
      ]
     },
     "metadata": {
      "needs_background": "light"
     },
     "output_type": "display_data"
    }
   ],
   "source": [
    "plt.figure(figsize=(10,8))\n",
    "plt.plot(N,train_score.mean(axis=1),lw=3,label='entraînement')\n",
    "plt.plot(N,np.nanmean(val_score,axis=1),lw=3,label='validation')\n",
    "plt.title('Learning Curve',fontsize=24)\n",
    "plt.xlabel('Taille de l\\'échantillon d\\'entraînement',fontsize=18)\n",
    "plt.ylabel('Coefficient de détermination R2',fontsize=18)\n",
    "plt.legend(fontsize=14)"
   ]
  },
  {
   "cell_type": "markdown",
   "metadata": {},
   "source": [
    "## Modélisation casual"
   ]
  },
  {
   "cell_type": "code",
   "execution_count": null,
   "metadata": {},
   "outputs": [
    {
     "name": "stdout",
     "output_type": "stream",
     "text": [
      "[0.86848475 0.85967982 0.88080898 0.87786016 0.86088723]\n",
      "r2 : 0.8695441897084155\n",
      "r2 adj. : 0.8693182139414112\n",
      "MSE : 2565.041673844508\n",
      "RMSE : 50.60357054145378\n",
      "MAE : 32.817744156003606\n",
      "MdAE : 18.732975006103516\n"
     ]
    }
   ],
   "source": [
    "with mlflow.start_run(experiment_id = 1):\n",
    "\n",
    "    metrics = ['r2','neg_mean_squared_error', 'neg_root_mean_squared_error', 'neg_mean_absolute_error','neg_median_absolute_error']\n",
    "    scores = cross_validate(model,X_train,y_train_casual,cv=5,scoring=metrics)\n",
    "\n",
    "    print(scores['test_r2'])\n",
    "    r2 = np.nanmean(scores['test_r2'])\n",
    "    print('r2 : ' + str(r2))\n",
    "    print('r2 adj. : ' + str(adjustedR2(r2,X_train.shape[0],X_train.shape[1])))\n",
    "    print('MSE : ' + str(np.nanmean(-scores['test_neg_mean_squared_error'])))\n",
    "    print('RMSE : ' + str(np.nanmean(-scores['test_neg_root_mean_squared_error'])))\n",
    "    print('MAE : ' + str(np.nanmean(-scores['test_neg_mean_absolute_error'])))\n",
    "    print('MdAE : ' + str(np.nanmean(-scores['test_neg_median_absolute_error'])))\n",
    "    # print('------------------------------------------------')\n",
    "    \"\"\" Valeurs par défaut : \n",
    "        - n_estimators = 1\n",
    "        - max_depth = 6\n",
    "        - learning_rate = 0.3\n",
    "        - gamma = 0\n",
    "        - subsample = 1\n",
    "        - colsample_bytree,  colsample_bylevel, colsample_bynode = 1\n",
    "    \"\"\"\n",
    "    mlflow.log_param(\"casual n_estimators\", 1)\n",
    "    mlflow.log_param(\"casual max_depth\", 6)\n",
    "    mlflow.log_param(\"casual learning_rate\", 0.3)\n",
    "    mlflow.log_param(\"casual gamma\", 0)\n",
    "    mlflow.log_param(\"casual subsample\", 1)\n",
    "    mlflow.log_param(\"casual colsample_bylevel\", 1)\n",
    "    mlflow.log_param(\"casual colsample_bynode\", 1)\n",
    "    mlflow.log_param(\"casual colsample_bytree\", 1)\n",
    "\n",
    "    mlflow.log_metric(\"casual r2\", r2)\n",
    "    mlflow.log_metric(\"casual r2 adj.\", r2_adj)\n",
    "    mlflow.log_metric(\"casual MSE\", mse)\n",
    "    mlflow.log_metric(\"casual RMSE\", rmse)\n",
    "    mlflow.log_metric(\"casual MAE\", mae) \n",
    "    mlflow.log_metric(\"casual MdAE\", mdae) \n",
    "\n",
    "    # r2 = model.score(X_test, y_test_casual)\n",
    "\n",
    "    # print('r2 : ' + str(r2))\n",
    "    # print('r2 adj. : ' + str(adjustedR2(r2,X_train.shape[0],X_train.shape[1])))\n",
    "    # metrics_scores(y_test_casual,y_pred_casual)\n",
    "    # residus_test = y_pred-y_train_casual\n",
    "    # y_pred_casual = model.predict(X_test)"
   ]
  }
 ],
 "metadata": {
  "interpreter": {
   "hash": "a4cc5ee3c947b0b2a63d6883ad81518e39249fafcf5464e6304ea0291cc4de25"
  },
  "kernelspec": {
   "display_name": "Python 3.9.7 ('mv')",
   "language": "python",
   "name": "python3"
  },
  "language_info": {
   "codemirror_mode": {
    "name": "ipython",
    "version": 3
   },
   "file_extension": ".py",
   "mimetype": "text/x-python",
   "name": "python",
   "nbconvert_exporter": "python",
   "pygments_lexer": "ipython3",
   "version": "3.9.7"
  },
  "orig_nbformat": 4
 },
 "nbformat": 4,
 "nbformat_minor": 2
}
