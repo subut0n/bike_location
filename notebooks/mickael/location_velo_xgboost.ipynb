{
 "cells": [
  {
   "cell_type": "code",
   "execution_count": 1,
   "metadata": {},
   "outputs": [],
   "source": [
    "import pandas as pd \n",
    "import numpy as np\n",
    "import seaborn as sns\n",
    "import matplotlib.pyplot as plt\n",
    "import plotly.express as px\n",
    "\n",
    "from sklearn.preprocessing import StandardScaler, RobustScaler, OneHotEncoder\n",
    "from sklearn.pipeline import make_pipeline\n",
    "from sklearn.compose import make_column_transformer\n",
    "from sklearn.model_selection import learning_curve\n",
    "from sklearn.model_selection import cross_validate\n",
    "from sklearn.ensemble import RandomForestRegressor\n",
    "from sklearn.model_selection import train_test_split, cross_val_score\n",
    "from sklearn.metrics import r2_score, mean_squared_error\n",
    "from sklearn.model_selection import GridSearchCV\n",
    "\n",
    "from xgboost import XGBRegressor\n",
    "\n",
    "import mlflow\n",
    "import mlflow.sklearn\n",
    "from urllib.parse import urlparse"
   ]
  },
  {
   "cell_type": "code",
   "execution_count": 226,
   "metadata": {},
   "outputs": [],
   "source": [
    "# experiment_id = mlflow.create_experiment(\"xgboost_projet_appli_ia\")"
   ]
  },
  {
   "cell_type": "code",
   "execution_count": 147,
   "metadata": {},
   "outputs": [],
   "source": [
    "df_train_modify = pd.read_csv('../../csv/train_modifie.csv')\n",
    "df_test_modify = pd.read_csv('../../csv/test_modifie.csv')"
   ]
  },
  {
   "cell_type": "code",
   "execution_count": 148,
   "metadata": {},
   "outputs": [],
   "source": [
    "df_train = df_train_modify.drop(['day_length'], axis=1)\n",
    "df_test = df_test_modify.drop(['day_length'], axis=1)"
   ]
  },
  {
   "cell_type": "code",
   "execution_count": 143,
   "metadata": {},
   "outputs": [],
   "source": [
    "X_train = df_train.drop(['registered', 'casual'], axis=1)\n",
    "y_train_registered = df_train['registered']\n",
    "y_train_casual = df_train['casual']\n",
    "\n",
    "X_test = df_test.drop(['registered', 'casual'], axis=1)\n",
    "y_test_registered = df_test['registered']\n",
    "y_test_casual = df_test['casual']"
   ]
  },
  {
   "cell_type": "code",
   "execution_count": 125,
   "metadata": {},
   "outputs": [],
   "source": [
    "X_train_registered, _, y_train_registered, _ = train_test_split(X_train, y_train_registered, test_size=0.00001)\n",
    "X_train_casual, _, y_train_casual, _ = train_test_split(X_train, y_train_casual, test_size=0.00001, random_state=42)"
   ]
  },
  {
   "cell_type": "markdown",
   "metadata": {},
   "source": [
    "# Preprocessing"
   ]
  },
  {
   "cell_type": "code",
   "execution_count": 126,
   "metadata": {},
   "outputs": [],
   "source": [
    "from sklearn.metrics import mean_squared_error, mean_absolute_error, median_absolute_error\n",
    "\n",
    "def adjustedR2(r2,n,k):\n",
    "    return r2-(k-1)/(n-k)*(1-r2)\n",
    "\n",
    "def metrics_scores(y, y_pred):\n",
    "    print('MSE test : ' + str(mean_squared_error(y, y_pred)))\n",
    "    print('RMSE test : ' + str(np.sqrt(mean_squared_error(y, y_pred))))\n",
    "    print('MAE test : ' + str(mean_absolute_error(y, y_pred)))\n",
    "    print('MdAE test : ' + str(median_absolute_error(y, y_pred)))\n",
    "\n",
    "def metrics_scores_train(y, y_pred):\n",
    "    print('MSE train : ' + str(mean_squared_error(y, y_pred)))\n",
    "    print('RMSE train : ' + str(np.sqrt(mean_squared_error(y, y_pred))))\n",
    "    print('MAE train : ' + str(mean_absolute_error(y, y_pred)))\n",
    "    print('MdAE testraint : ' + str(median_absolute_error(y, y_pred)))"
   ]
  },
  {
   "cell_type": "code",
   "execution_count": 127,
   "metadata": {},
   "outputs": [],
   "source": [
    "encoded_features = ['season', 'weather', 'week_days', 'months']\n",
    "ohe = make_column_transformer((OneHotEncoder(),encoded_features), remainder='passthrough')\n",
    "ohe.fit(X_train_registered)\n",
    "X_train_ohe = ohe.transform(X_train_registered)\n",
    "X_train_registered = pd.DataFrame(X_train_ohe)\n",
    "\n",
    "ohe.fit(X_train_casual)\n",
    "X_train_ohe = ohe.transform(X_train_casual)\n",
    "X_train_casual = pd.DataFrame(X_train_ohe)\n",
    "\n",
    "X_test_ohe = ohe.transform(X_test)\n",
    "X_test = pd.DataFrame(X_test_ohe)"
   ]
  },
  {
   "cell_type": "code",
   "execution_count": 128,
   "metadata": {},
   "outputs": [],
   "source": [
    "features_name = {}\n",
    "for i in range(X_train_registered.shape[1]):\n",
    "    features_name[i] = ohe.get_feature_names_out()[i].replace(\"onehotencoder__\",\"\").replace(\"remainder__\",\"\")\n",
    "X_train_registered = X_train_registered.rename(columns=features_name)\n",
    "X_train_casual = X_train_casual.rename(columns=features_name)\n",
    "X_test = X_test.rename(columns=features_name)"
   ]
  },
  {
   "cell_type": "code",
   "execution_count": 129,
   "metadata": {},
   "outputs": [],
   "source": [
    "#Features et pipelines\n",
    "scaled_features = ['temp', 'atemp', 'windspeed', 'humidity', 'hours']#, 'day_length'\n",
    "scaled_pipeline = make_pipeline(StandardScaler())\n",
    "\n",
    "#preprocessing et main pipeline\n",
    "params = {'n_estimators': 195, 'max_depth': 8, 'subsample': 0.8, 'learning_rate': 0.1,\n",
    "          'colsample_bytree':0.9, 'colsample_bylevel': 1, 'colsample_bynode': 1,\n",
    "          'gamma': 0}\n",
    "preprocessor = make_column_transformer((scaled_pipeline, scaled_features), remainder=\"passthrough\")\n",
    "xgb = XGBRegressor(n_estimators=125, max_depth=7, subsample=0.8, learning_rate=0.1,\n",
    "                   colsample_bytree=0.9, colsample_bylevel=1, colsample_bynode=1,\n",
    "                   gamma=0)\n",
    "model_registered = make_pipeline(preprocessor, xgb)"
   ]
  },
  {
   "cell_type": "markdown",
   "metadata": {},
   "source": [
    "{'xgbregressor__colsample_bylevel': 1,\n",
    " 'xgbregressor__colsample_bynode': 1,\n",
    " 'xgbregressor__colsample_bytree': 0.9,\n",
    " 'xgbregressor__gamma': 0.0,\n",
    " 'xgbregressor__learning_rate': 0.1,\n",
    " 'xgbregressor__max_depth': 8,\n",
    " 'xgbregressor__n_estimators': 195,\n",
    " 'xgbregressor__subsample': 0.8}"
   ]
  },
  {
   "cell_type": "markdown",
   "metadata": {},
   "source": [
    "## Modélisation registered"
   ]
  },
  {
   "cell_type": "code",
   "execution_count": 11,
   "metadata": {},
   "outputs": [
    {
     "data": {
      "text/plain": [
       "GridSearchCV(cv=5,\n",
       "             estimator=Pipeline(steps=[('columntransformer',\n",
       "                                        ColumnTransformer(remainder='passthrough',\n",
       "                                                          transformers=[('pipeline',\n",
       "                                                                         Pipeline(steps=[('standardscaler',\n",
       "                                                                                          StandardScaler())]),\n",
       "                                                                         ['temp',\n",
       "                                                                          'atemp',\n",
       "                                                                          'windspeed',\n",
       "                                                                          'humidity',\n",
       "                                                                          'hours'])])),\n",
       "                                       ('xgbregressor',\n",
       "                                        XGBRegressor(base_score=None,\n",
       "                                                     booster=None,\n",
       "                                                     colsample_bylevel=None,\n",
       "                                                     colsample_bynode=None,\n",
       "                                                     colsampl...\n",
       "                                                     verbosity=None))]),\n",
       "             param_grid={'xgbregressor__colsample_bylevel': [0.8, 0.9, 1],\n",
       "                         'xgbregressor__colsample_bynode': [0.8, 0.9, 1],\n",
       "                         'xgbregressor__colsample_bytree': [0.7, 0.8, 0.9],\n",
       "                         'xgbregressor__gamma': array([0. , 0.1]),\n",
       "                         'xgbregressor__learning_rate': [0.1],\n",
       "                         'xgbregressor__max_depth': [8],\n",
       "                         'xgbregressor__n_estimators': array([190, 195, 200]),\n",
       "                         'xgbregressor__subsample': [0.8, 0.9, 1]})"
      ]
     },
     "execution_count": 11,
     "metadata": {},
     "output_type": "execute_result"
    }
   ],
   "source": [
    "parameters = {'xgbregressor__n_estimators': np.arange(190,201,5),\n",
    "              'xgbregressor__max_depth': [8],\n",
    "              'xgbregressor__learning_rate':[0.1],\n",
    "              'xgbregressor__subsample': [0.8,0.9,1],\n",
    "              'xgbregressor__colsample_bytree': [0.7,0.8,0.9],\n",
    "              'xgbregressor__colsample_bylevel': [0.8,0.9,1],\n",
    "              'xgbregressor__colsample_bynode': [0.8,0.9,1],\n",
    "              'xgbregressor__gamma': np.arange(0,0.2,0.1)}\n",
    "\n",
    "grid = GridSearchCV(model_registered, parameters,cv=5)\n",
    "grid.fit(X_train_registered, y_train_registered)"
   ]
  },
  {
   "cell_type": "code",
   "execution_count": 12,
   "metadata": {},
   "outputs": [
    {
     "data": {
      "text/plain": [
       "{'xgbregressor__colsample_bylevel': 1,\n",
       " 'xgbregressor__colsample_bynode': 1,\n",
       " 'xgbregressor__colsample_bytree': 0.9,\n",
       " 'xgbregressor__gamma': 0.0,\n",
       " 'xgbregressor__learning_rate': 0.1,\n",
       " 'xgbregressor__max_depth': 8,\n",
       " 'xgbregressor__n_estimators': 195,\n",
       " 'xgbregressor__subsample': 0.8}"
      ]
     },
     "execution_count": 12,
     "metadata": {},
     "output_type": "execute_result"
    }
   ],
   "source": [
    "grid.best_params_"
   ]
  },
  {
   "cell_type": "code",
   "execution_count": 130,
   "metadata": {},
   "outputs": [
    {
     "name": "stdout",
     "output_type": "stream",
     "text": [
      "[0.96033458 0.95470639 0.95170195 0.95331553 0.95440534]\n",
      "r2 : 0.9548927567136907\n",
      "r2 adj. : 0.954722408355173\n",
      "MSE : 880.2444217925006\n",
      "RMSE : 29.6542710732829\n",
      "MAE : 18.026780767607054\n",
      "MdAE : 10.528183937072754\n",
      "------------------------------------------------\n"
     ]
    },
    {
     "data": {
      "text/plain": [
       "' Valeurs par défaut : \\n- n_estimators = 1\\n- max_depth = 6\\n- learning_rate = 0.3\\n- gamma = 0\\n- subsample = 1\\n- colsample_bytree,  colsample_bylevel, colsample_bynode = 1\\n'"
      ]
     },
     "execution_count": 130,
     "metadata": {},
     "output_type": "execute_result"
    }
   ],
   "source": [
    "# mlflow.sklearn.autolog()\n",
    "\n",
    "# with mlflow.start_run(experiment_id = 1):\n",
    "\n",
    "metrics = ['r2','neg_mean_squared_error', 'neg_root_mean_squared_error', 'neg_mean_absolute_error',\n",
    "        'neg_median_absolute_error']#, 'neg_mean_squared_log_error'\n",
    "scores = cross_validate(model_registered,X_train_registered,y_train_registered,cv=5,scoring=metrics)\n",
    "\n",
    "print(scores['test_r2'])\n",
    "r2 = np.nanmean(scores['test_r2'])\n",
    "r2_adj = adjustedR2(r2,X_train_registered.shape[0],X_train_registered.shape[1])\n",
    "mse = np.nanmean(-scores['test_neg_mean_squared_error'])\n",
    "rmse = np.nanmean(-scores['test_neg_root_mean_squared_error'])\n",
    "mae = np.nanmean(-scores['test_neg_mean_absolute_error'])\n",
    "mdae = np.nanmean(-scores['test_neg_median_absolute_error'])\n",
    "print('r2 : ' + str(r2))\n",
    "print('r2 adj. : ' + str(r2_adj))\n",
    "print('MSE : ' + str(mse))\n",
    "print('RMSE : ' + str(rmse))\n",
    "print('MAE : ' + str(mae))\n",
    "print('MdAE : ' + str(mdae))\n",
    "print('------------------------------------------------')\n",
    "\"\"\" Valeurs par défaut : \n",
    "- n_estimators = 1\n",
    "- max_depth = 6\n",
    "- learning_rate = 0.3\n",
    "- gamma = 0\n",
    "- subsample = 1\n",
    "- colsample_bytree,  colsample_bylevel, colsample_bynode = 1\n",
    "\"\"\"\n",
    "        # mlflow.log_param(\"registered n_estimators\", 1)\n",
    "        # mlflow.log_param(\"registered max_depth\", 6)\n",
    "        # mlflow.log_param(\"registered learning_rate\", 0.3)\n",
    "        # mlflow.log_param(\"registered gamma\", 0)\n",
    "        # mlflow.log_param(\"registered subsample\", 1)\n",
    "        # mlflow.log_param(\"registered colsample_bylevel\", 1)\n",
    "        # mlflow.log_param(\"registered colsample_bynode\", 1)\n",
    "        # mlflow.log_param(\"registered colsample_bytree\", 1)\n",
    "\n",
    "        # mlflow.log_metric(\"registered r2\", r2)\n",
    "        # mlflow.log_metric(\"registered r2 adj.\", r2_adj)\n",
    "        # mlflow.log_metric(\"registered MSE\", mse)\n",
    "        # mlflow.log_metric(\"registered RMSE\", rmse)\n",
    "        # mlflow.log_metric(\"registered MAE\", mae) \n",
    "        # mlflow.log_metric(\"registered MdAE\", mdae) \n",
    "\n",
    "        # r2 = model.score(X_test, y_test_registered)\n",
    "        # y_pred_registered = model.predict(X_test)\n",
    "        # print('r2 : ' + str(r2))\n",
    "        # print('r2 adj. : ' + str(adjustedR2(r2,X_train.shape[0],X_train.shape[1])))\n",
    "        # metrics_scores(y_test_registered,y_pred_registered)"
   ]
  },
  {
   "cell_type": "code",
   "execution_count": 102,
   "metadata": {},
   "outputs": [],
   "source": [
    "N, train_score, val_score = learning_curve(model_registered, X_train_registered, y_train_registered, train_sizes=np.linspace(0.1,1,20))"
   ]
  },
  {
   "cell_type": "code",
   "execution_count": 105,
   "metadata": {},
   "outputs": [
    {
     "data": {
      "text/plain": [
       "<matplotlib.legend.Legend at 0x13000408910>"
      ]
     },
     "execution_count": 105,
     "metadata": {},
     "output_type": "execute_result"
    },
    {
     "data": {
      "image/png": "[encoded data removed]",
      "text/plain": [
       "<Figure size 720x576 with 1 Axes>"
      ]
     },
     "metadata": {
      "needs_background": "light"
     },
     "output_type": "display_data"
    }
   ],
   "source": [
    "plt.figure(figsize=(10,8))\n",
    "plt.plot(N,train_score.mean(axis=1),lw=3,label='entraînement')\n",
    "plt.plot(N,np.nanmean(val_score,axis=1),lw=3,label='validation')\n",
    "plt.title('Learning Curve',fontsize=24)\n",
    "plt.xlabel('Taille de l\\'échantillon d\\'entraînement',fontsize=18)\n",
    "plt.ylabel('Coefficient de détermination R2',fontsize=18)\n",
    "plt.legend(fontsize=14)"
   ]
  },
  {
   "cell_type": "code",
   "execution_count": 131,
   "metadata": {},
   "outputs": [
    {
     "data": {
      "text/plain": [
       "0.863209531391531"
      ]
     },
     "execution_count": 131,
     "metadata": {},
     "output_type": "execute_result"
    }
   ],
   "source": [
    "model_registered.fit(X_train_registered,y_train_registered)\n",
    "model_registered.predict(X_test)\n",
    "model_registered.score(X_test,y_test_registered)"
   ]
  },
  {
   "cell_type": "code",
   "execution_count": 120,
   "metadata": {},
   "outputs": [],
   "source": [
    "import pickle\n",
    "  \n",
    "with open('../../app/model_registered.pkl', 'wb') as file:\n",
    "    pickle.dump(model_registered, file)"
   ]
  },
  {
   "cell_type": "markdown",
   "metadata": {},
   "source": [
    "## Modélisation casual"
   ]
  },
  {
   "cell_type": "code",
   "execution_count": 132,
   "metadata": {},
   "outputs": [],
   "source": [
    "#Features et pipelines\n",
    "scaled_features = ['temp', 'atemp', 'windspeed', 'humidity', 'hours']#, 'day_length'\n",
    "scaled_pipeline = make_pipeline(StandardScaler())\n",
    "\n",
    "#preprocessing et main pipeline\n",
    "params = {'n_estimators': 105, 'max_depth': 8, 'subsample': 0.8, 'learning_rate': 0.1,\n",
    "          'colsample_bytree':0.5, 'colsample_bylevel': 0.5, 'colsample_bynode': 0.4,\n",
    "          'gamma': 0}\n",
    "preprocessor = make_column_transformer((scaled_pipeline, scaled_features), remainder=\"passthrough\")\n",
    "xgb = XGBRegressor(n_estimators=140, max_depth=7, subsample=0.9, learning_rate=0.1,\n",
    "          colsample_bytree=0.9, colsample_bylevel=0.8, colsample_bynode=0.9,\n",
    "          gamma=0.1)\n",
    "model_casual = make_pipeline(preprocessor, xgb)"
   ]
  },
  {
   "cell_type": "markdown",
   "metadata": {},
   "source": [
    "{'xgbregressor__colsample_bylevel': 0.8,\n",
    " 'xgbregressor__colsample_bynode': 0.9,\n",
    " 'xgbregressor__colsample_bytree': 0.9,\n",
    " 'xgbregressor__gamma': 0.1,\n",
    " 'xgbregressor__learning_rate': 0.1,\n",
    " 'xgbregressor__max_depth': 8,\n",
    " 'xgbregressor__n_estimators': 140,\n",
    " 'xgbregressor__subsample': 0.9}"
   ]
  },
  {
   "cell_type": "code",
   "execution_count": 36,
   "metadata": {},
   "outputs": [
    {
     "data": {
      "text/plain": [
       "GridSearchCV(cv=5,\n",
       "             estimator=Pipeline(steps=[('columntransformer',\n",
       "                                        ColumnTransformer(remainder='passthrough',\n",
       "                                                          transformers=[('pipeline',\n",
       "                                                                         Pipeline(steps=[('standardscaler',\n",
       "                                                                                          StandardScaler())]),\n",
       "                                                                         ['temp',\n",
       "                                                                          'atemp',\n",
       "                                                                          'windspeed',\n",
       "                                                                          'humidity',\n",
       "                                                                          'hours'])])),\n",
       "                                       ('xgbregressor',\n",
       "                                        XGBRegressor(base_score=None,\n",
       "                                                     booster=None,\n",
       "                                                     colsample_bylevel=None,\n",
       "                                                     colsample_bynode=None,\n",
       "                                                     colsampl...\n",
       "                                                     verbosity=None))]),\n",
       "             param_grid={'xgbregressor__colsample_bylevel': [0.8, 0.9, 1],\n",
       "                         'xgbregressor__colsample_bynode': [0.8, 0.9, 1],\n",
       "                         'xgbregressor__colsample_bytree': [0.8, 0.9, 1],\n",
       "                         'xgbregressor__gamma': [0, 0.1, 0.2],\n",
       "                         'xgbregressor__learning_rate': [0.1],\n",
       "                         'xgbregressor__max_depth': array([7, 8]),\n",
       "                         'xgbregressor__n_estimators': array([135, 140, 145]),\n",
       "                         'xgbregressor__subsample': [0.8, 0.9, 1]})"
      ]
     },
     "execution_count": 36,
     "metadata": {},
     "output_type": "execute_result"
    }
   ],
   "source": [
    "parameters = {'xgbregressor__n_estimators': np.arange(135,146,5),\n",
    "              'xgbregressor__max_depth': np.arange(7,9,1),\n",
    "              'xgbregressor__learning_rate':[0.1],\n",
    "              'xgbregressor__subsample': [0.8,0.9,1],\n",
    "              'xgbregressor__colsample_bytree': [0.8,0.9,1],\n",
    "              'xgbregressor__colsample_bylevel': [0.8,0.9,1],\n",
    "              'xgbregressor__colsample_bynode': [0.8,0.9,1],\n",
    "              'xgbregressor__gamma': [0,0.1,0.2]}\n",
    "\n",
    "grid = GridSearchCV(model_casual, parameters,cv=5)\n",
    "grid.fit(X_train_casual, y_train_casual)"
   ]
  },
  {
   "cell_type": "code",
   "execution_count": 38,
   "metadata": {},
   "outputs": [
    {
     "data": {
      "text/plain": [
       "{'xgbregressor__colsample_bylevel': 0.8,\n",
       " 'xgbregressor__colsample_bynode': 0.9,\n",
       " 'xgbregressor__colsample_bytree': 0.9,\n",
       " 'xgbregressor__gamma': 0.1,\n",
       " 'xgbregressor__learning_rate': 0.1,\n",
       " 'xgbregressor__max_depth': 8,\n",
       " 'xgbregressor__n_estimators': 140,\n",
       " 'xgbregressor__subsample': 0.9}"
      ]
     },
     "execution_count": 38,
     "metadata": {},
     "output_type": "execute_result"
    }
   ],
   "source": [
    "grid.best_params_"
   ]
  },
  {
   "cell_type": "code",
   "execution_count": 133,
   "metadata": {},
   "outputs": [
    {
     "name": "stdout",
     "output_type": "stream",
     "text": [
      "[0.92704647 0.92470129 0.92959744 0.93682794 0.93799724]\n",
      "r2 : 0.9312340760730059\n",
      "r2 adj. : 0.9309743802589975\n",
      "MSE : 164.24306865110398\n",
      "RMSE : 12.797688103904111\n",
      "MAE : 7.689968435797953\n",
      "MdAE : 3.9621209569275377\n"
     ]
    },
    {
     "data": {
      "text/plain": [
       "' Valeurs par défaut : \\n    - n_estimators = 1\\n    - max_depth = 6\\n    - learning_rate = 0.3\\n    - gamma = 0\\n    - subsample = 1\\n    - colsample_bytree,  colsample_bylevel, colsample_bynode = 1\\n'"
      ]
     },
     "execution_count": 133,
     "metadata": {},
     "output_type": "execute_result"
    }
   ],
   "source": [
    "# with mlflow.start_run(experiment_id = 1):\n",
    "\n",
    "metrics = ['r2','neg_mean_squared_error', 'neg_root_mean_squared_error', 'neg_mean_absolute_error','neg_median_absolute_error']\n",
    "scores = cross_validate(model_casual,X_train_casual,y_train_casual,cv=5,scoring=metrics)\n",
    "\n",
    "print(scores['test_r2'])\n",
    "r2 = np.nanmean(scores['test_r2'])\n",
    "print('r2 : ' + str(r2))\n",
    "print('r2 adj. : ' + str(adjustedR2(r2,X_train_casual.shape[0],X_train_casual.shape[1])))\n",
    "print('MSE : ' + str(np.nanmean(-scores['test_neg_mean_squared_error'])))\n",
    "print('RMSE : ' + str(np.nanmean(-scores['test_neg_root_mean_squared_error'])))\n",
    "print('MAE : ' + str(np.nanmean(-scores['test_neg_mean_absolute_error'])))\n",
    "print('MdAE : ' + str(np.nanmean(-scores['test_neg_median_absolute_error'])))\n",
    "# print('------------------------------------------------')\n",
    "\"\"\" Valeurs par défaut : \n",
    "    - n_estimators = 1\n",
    "    - max_depth = 6\n",
    "    - learning_rate = 0.3\n",
    "    - gamma = 0\n",
    "    - subsample = 1\n",
    "    - colsample_bytree,  colsample_bylevel, colsample_bynode = 1\n",
    "\"\"\"\n",
    "    # mlflow.log_param(\"casual n_estimators\", 1)\n",
    "    # mlflow.log_param(\"casual max_depth\", 6)\n",
    "    # mlflow.log_param(\"casual learning_rate\", 0.3)\n",
    "    # mlflow.log_param(\"casual gamma\", 0)\n",
    "    # mlflow.log_param(\"casual subsample\", 1)\n",
    "    # mlflow.log_param(\"casual colsample_bylevel\", 1)\n",
    "    # mlflow.log_param(\"casual colsample_bynode\", 1)\n",
    "    # mlflow.log_param(\"casual colsample_bytree\", 1)\n",
    "\n",
    "    # mlflow.log_metric(\"casual r2\", r2)\n",
    "    # mlflow.log_metric(\"casual r2 adj.\", r2_adj)\n",
    "    # mlflow.log_metric(\"casual MSE\", mse)\n",
    "    # mlflow.log_metric(\"casual RMSE\", rmse)\n",
    "    # mlflow.log_metric(\"casual MAE\", mae) \n",
    "    # mlflow.log_metric(\"casual MdAE\", mdae) \n",
    "\n",
    "    # r2 = model.score(X_test, y_test_casual)\n",
    "\n",
    "    # print('r2 : ' + str(r2))\n",
    "    # print('r2 adj. : ' + str(adjustedR2(r2,X_train.shape[0],X_train.shape[1])))\n",
    "    # metrics_scores(y_test_casual,y_pred_casual)\n",
    "    # residus_test = y_pred-y_train_casual\n",
    "    # y_pred_casual = model.predict(X_test)"
   ]
  },
  {
   "cell_type": "code",
   "execution_count": 113,
   "metadata": {},
   "outputs": [],
   "source": [
    "N, train_score, val_score = learning_curve(model_casual, X_train_casual, y_train_casual, train_sizes=np.linspace(0.1,1,20))"
   ]
  },
  {
   "cell_type": "code",
   "execution_count": 114,
   "metadata": {},
   "outputs": [
    {
     "data": {
      "text/plain": [
       "<matplotlib.legend.Legend at 0x130002fe5e0>"
      ]
     },
     "execution_count": 114,
     "metadata": {},
     "output_type": "execute_result"
    },
    {
     "data": {
      "image/png": "[encoded data removed]",
      "text/plain": [
       "<Figure size 720x576 with 1 Axes>"
      ]
     },
     "metadata": {
      "needs_background": "light"
     },
     "output_type": "display_data"
    }
   ],
   "source": [
    "plt.figure(figsize=(10,8))\n",
    "plt.plot(N,train_score.mean(axis=1),lw=3,label='entraînement')\n",
    "plt.plot(N,np.nanmean(val_score,axis=1),lw=3,label='validation')\n",
    "plt.title('Learning Curve',fontsize=24)\n",
    "plt.xlabel('Taille de l\\'échantillon d\\'entraînement',fontsize=18)\n",
    "plt.ylabel('Coefficient de détermination R2',fontsize=18)\n",
    "plt.legend(fontsize=14)"
   ]
  },
  {
   "cell_type": "code",
   "execution_count": 134,
   "metadata": {},
   "outputs": [
    {
     "data": {
      "text/plain": [
       "0.8695830812618919"
      ]
     },
     "execution_count": 134,
     "metadata": {},
     "output_type": "execute_result"
    }
   ],
   "source": [
    "model_casual.fit(X_train_casual,y_train_casual)\n",
    "model_casual.predict(X_test)\n",
    "model_casual.score(X_test,y_test_casual)"
   ]
  },
  {
   "cell_type": "code",
   "execution_count": 116,
   "metadata": {},
   "outputs": [],
   "source": [
    "import pickle\n",
    "  \n",
    "with open('../../app/model_casual.pkl', 'wb') as file:\n",
    "    pickle.dump(model_casual, file)"
   ]
  },
  {
   "cell_type": "code",
   "execution_count": 899,
   "metadata": {},
   "outputs": [
    {
     "data": {
      "text/html": [
       "<div>\n",
       "<style scoped>\n",
       "    .dataframe tbody tr th:only-of-type {\n",
       "        vertical-align: middle;\n",
       "    }\n",
       "\n",
       "    .dataframe tbody tr th {\n",
       "        vertical-align: top;\n",
       "    }\n",
       "\n",
       "    .dataframe thead th {\n",
       "        text-align: right;\n",
       "    }\n",
       "</style>\n",
       "<table border=\"1\" class=\"dataframe\">\n",
       "  <thead>\n",
       "    <tr style=\"text-align: right;\">\n",
       "      <th></th>\n",
       "      <th>season</th>\n",
       "      <th>holiday</th>\n",
       "      <th>workingday</th>\n",
       "      <th>weather</th>\n",
       "      <th>temp</th>\n",
       "      <th>atemp</th>\n",
       "      <th>humidity</th>\n",
       "      <th>windspeed</th>\n",
       "      <th>casual</th>\n",
       "      <th>registered</th>\n",
       "      <th>day_length</th>\n",
       "      <th>months</th>\n",
       "      <th>hours</th>\n",
       "      <th>years</th>\n",
       "      <th>week_days</th>\n",
       "    </tr>\n",
       "  </thead>\n",
       "  <tbody>\n",
       "    <tr>\n",
       "      <th>0</th>\n",
       "      <td>4</td>\n",
       "      <td>0</td>\n",
       "      <td>0</td>\n",
       "      <td>1</td>\n",
       "      <td>9.84</td>\n",
       "      <td>14.395</td>\n",
       "      <td>81</td>\n",
       "      <td>0.0000</td>\n",
       "      <td>3</td>\n",
       "      <td>13</td>\n",
       "      <td>34377.0</td>\n",
       "      <td>1</td>\n",
       "      <td>0</td>\n",
       "      <td>2011</td>\n",
       "      <td>6</td>\n",
       "    </tr>\n",
       "    <tr>\n",
       "      <th>1</th>\n",
       "      <td>4</td>\n",
       "      <td>0</td>\n",
       "      <td>0</td>\n",
       "      <td>1</td>\n",
       "      <td>9.02</td>\n",
       "      <td>13.635</td>\n",
       "      <td>80</td>\n",
       "      <td>0.0000</td>\n",
       "      <td>8</td>\n",
       "      <td>32</td>\n",
       "      <td>34377.0</td>\n",
       "      <td>1</td>\n",
       "      <td>1</td>\n",
       "      <td>2011</td>\n",
       "      <td>6</td>\n",
       "    </tr>\n",
       "    <tr>\n",
       "      <th>2</th>\n",
       "      <td>4</td>\n",
       "      <td>0</td>\n",
       "      <td>0</td>\n",
       "      <td>1</td>\n",
       "      <td>9.02</td>\n",
       "      <td>13.635</td>\n",
       "      <td>80</td>\n",
       "      <td>0.0000</td>\n",
       "      <td>5</td>\n",
       "      <td>27</td>\n",
       "      <td>34377.0</td>\n",
       "      <td>1</td>\n",
       "      <td>2</td>\n",
       "      <td>2011</td>\n",
       "      <td>6</td>\n",
       "    </tr>\n",
       "    <tr>\n",
       "      <th>3</th>\n",
       "      <td>4</td>\n",
       "      <td>0</td>\n",
       "      <td>0</td>\n",
       "      <td>1</td>\n",
       "      <td>9.84</td>\n",
       "      <td>14.395</td>\n",
       "      <td>75</td>\n",
       "      <td>0.0000</td>\n",
       "      <td>3</td>\n",
       "      <td>10</td>\n",
       "      <td>34377.0</td>\n",
       "      <td>1</td>\n",
       "      <td>3</td>\n",
       "      <td>2011</td>\n",
       "      <td>6</td>\n",
       "    </tr>\n",
       "    <tr>\n",
       "      <th>4</th>\n",
       "      <td>4</td>\n",
       "      <td>0</td>\n",
       "      <td>0</td>\n",
       "      <td>1</td>\n",
       "      <td>9.84</td>\n",
       "      <td>14.395</td>\n",
       "      <td>75</td>\n",
       "      <td>0.0000</td>\n",
       "      <td>0</td>\n",
       "      <td>1</td>\n",
       "      <td>34377.0</td>\n",
       "      <td>1</td>\n",
       "      <td>4</td>\n",
       "      <td>2011</td>\n",
       "      <td>6</td>\n",
       "    </tr>\n",
       "    <tr>\n",
       "      <th>...</th>\n",
       "      <td>...</td>\n",
       "      <td>...</td>\n",
       "      <td>...</td>\n",
       "      <td>...</td>\n",
       "      <td>...</td>\n",
       "      <td>...</td>\n",
       "      <td>...</td>\n",
       "      <td>...</td>\n",
       "      <td>...</td>\n",
       "      <td>...</td>\n",
       "      <td>...</td>\n",
       "      <td>...</td>\n",
       "      <td>...</td>\n",
       "      <td>...</td>\n",
       "      <td>...</td>\n",
       "    </tr>\n",
       "    <tr>\n",
       "      <th>9034</th>\n",
       "      <td>2</td>\n",
       "      <td>0</td>\n",
       "      <td>0</td>\n",
       "      <td>2</td>\n",
       "      <td>26.24</td>\n",
       "      <td>30.305</td>\n",
       "      <td>73</td>\n",
       "      <td>8.9981</td>\n",
       "      <td>72</td>\n",
       "      <td>269</td>\n",
       "      <td>48944.0</td>\n",
       "      <td>8</td>\n",
       "      <td>19</td>\n",
       "      <td>2012</td>\n",
       "      <td>7</td>\n",
       "    </tr>\n",
       "    <tr>\n",
       "      <th>9035</th>\n",
       "      <td>2</td>\n",
       "      <td>0</td>\n",
       "      <td>0</td>\n",
       "      <td>2</td>\n",
       "      <td>26.24</td>\n",
       "      <td>30.305</td>\n",
       "      <td>73</td>\n",
       "      <td>12.9980</td>\n",
       "      <td>61</td>\n",
       "      <td>213</td>\n",
       "      <td>48944.0</td>\n",
       "      <td>8</td>\n",
       "      <td>20</td>\n",
       "      <td>2012</td>\n",
       "      <td>7</td>\n",
       "    </tr>\n",
       "    <tr>\n",
       "      <th>9036</th>\n",
       "      <td>2</td>\n",
       "      <td>0</td>\n",
       "      <td>0</td>\n",
       "      <td>3</td>\n",
       "      <td>25.42</td>\n",
       "      <td>29.545</td>\n",
       "      <td>78</td>\n",
       "      <td>6.0032</td>\n",
       "      <td>36</td>\n",
       "      <td>154</td>\n",
       "      <td>48944.0</td>\n",
       "      <td>8</td>\n",
       "      <td>21</td>\n",
       "      <td>2012</td>\n",
       "      <td>7</td>\n",
       "    </tr>\n",
       "    <tr>\n",
       "      <th>9037</th>\n",
       "      <td>2</td>\n",
       "      <td>0</td>\n",
       "      <td>0</td>\n",
       "      <td>2</td>\n",
       "      <td>25.42</td>\n",
       "      <td>29.545</td>\n",
       "      <td>78</td>\n",
       "      <td>11.0014</td>\n",
       "      <td>6</td>\n",
       "      <td>50</td>\n",
       "      <td>48944.0</td>\n",
       "      <td>8</td>\n",
       "      <td>22</td>\n",
       "      <td>2012</td>\n",
       "      <td>7</td>\n",
       "    </tr>\n",
       "    <tr>\n",
       "      <th>9038</th>\n",
       "      <td>2</td>\n",
       "      <td>0</td>\n",
       "      <td>0</td>\n",
       "      <td>2</td>\n",
       "      <td>25.42</td>\n",
       "      <td>29.545</td>\n",
       "      <td>73</td>\n",
       "      <td>0.0000</td>\n",
       "      <td>7</td>\n",
       "      <td>39</td>\n",
       "      <td>48944.0</td>\n",
       "      <td>8</td>\n",
       "      <td>23</td>\n",
       "      <td>2012</td>\n",
       "      <td>7</td>\n",
       "    </tr>\n",
       "  </tbody>\n",
       "</table>\n",
       "<p>9039 rows × 15 columns</p>\n",
       "</div>"
      ],
      "text/plain": [
       "      season  holiday  workingday  weather   temp   atemp  humidity  \\\n",
       "0          4        0           0        1   9.84  14.395        81   \n",
       "1          4        0           0        1   9.02  13.635        80   \n",
       "2          4        0           0        1   9.02  13.635        80   \n",
       "3          4        0           0        1   9.84  14.395        75   \n",
       "4          4        0           0        1   9.84  14.395        75   \n",
       "...      ...      ...         ...      ...    ...     ...       ...   \n",
       "9034       2        0           0        2  26.24  30.305        73   \n",
       "9035       2        0           0        2  26.24  30.305        73   \n",
       "9036       2        0           0        3  25.42  29.545        78   \n",
       "9037       2        0           0        2  25.42  29.545        78   \n",
       "9038       2        0           0        2  25.42  29.545        73   \n",
       "\n",
       "      windspeed  casual  registered  day_length  months  hours  years  \\\n",
       "0        0.0000       3          13     34377.0       1      0   2011   \n",
       "1        0.0000       8          32     34377.0       1      1   2011   \n",
       "2        0.0000       5          27     34377.0       1      2   2011   \n",
       "3        0.0000       3          10     34377.0       1      3   2011   \n",
       "4        0.0000       0           1     34377.0       1      4   2011   \n",
       "...         ...     ...         ...         ...     ...    ...    ...   \n",
       "9034     8.9981      72         269     48944.0       8     19   2012   \n",
       "9035    12.9980      61         213     48944.0       8     20   2012   \n",
       "9036     6.0032      36         154     48944.0       8     21   2012   \n",
       "9037    11.0014       6          50     48944.0       8     22   2012   \n",
       "9038     0.0000       7          39     48944.0       8     23   2012   \n",
       "\n",
       "      week_days  \n",
       "0             6  \n",
       "1             6  \n",
       "2             6  \n",
       "3             6  \n",
       "4             6  \n",
       "...         ...  \n",
       "9034          7  \n",
       "9035          7  \n",
       "9036          7  \n",
       "9037          7  \n",
       "9038          7  \n",
       "\n",
       "[9039 rows x 15 columns]"
      ]
     },
     "execution_count": 899,
     "metadata": {},
     "output_type": "execute_result"
    }
   ],
   "source": [
    "df_train"
   ]
  },
  {
   "cell_type": "code",
   "execution_count": null,
   "metadata": {},
   "outputs": [],
   "source": []
  }
 ],
 "metadata": {
  "interpreter": {
   "hash": "a4cc5ee3c947b0b2a63d6883ad81518e39249fafcf5464e6304ea0291cc4de25"
  },
  "kernelspec": {
   "display_name": "Python 3.9.7 ('mv')",
   "language": "python",
   "name": "python3"
  },
  "language_info": {
   "codemirror_mode": {
    "name": "ipython",
    "version": 3
   },
   "file_extension": ".py",
   "mimetype": "text/x-python",
   "name": "python",
   "nbconvert_exporter": "python",
   "pygments_lexer": "ipython3",
   "version": "3.9.7"
  },
  "orig_nbformat": 4
 },
 "nbformat": 4,
 "nbformat_minor": 2
}
