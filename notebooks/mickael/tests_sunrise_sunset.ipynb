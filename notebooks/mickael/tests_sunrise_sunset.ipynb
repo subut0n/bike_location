{
 "cells": [
  {
   "cell_type": "code",
   "execution_count": 28,
   "metadata": {},
   "outputs": [],
   "source": [
    "from datetime import datetime\n",
    "import pandas as pd\n",
    "from dateutil.relativedelta import relativedelta  \n",
    "import requests\n",
    "day_length = 3600*24\n",
    "timestamp_01_01_2011 = 1293836400\n",
    "dates = []\n",
    "for i in range(365):\n",
    "    dates.append(datetime.fromtimestamp(timestamp_01_01_2011+day_length*i).strftime(\"%Y-%m-%d\"))"
   ]
  },
  {
   "cell_type": "code",
   "execution_count": null,
   "metadata": {},
   "outputs": [],
   "source": [
    "lat = 38.895\n",
    "long = -77.0366\n",
    "date = '2022-01-01'\n",
    "dict_data = []\n",
    "# for date in dates:\n",
    "url = 'https://api.sunrise-sunset.org/json?lat={}&lng={}&date={}'.format(lat,long,date)\n",
    "req = requests.get(url)\n",
    "req = req.content.decode(\"utf-8\")\n",
    "# eval(req)\n",
    "# dict_data.append(req)\n"
   ]
  },
  {
   "cell_type": "code",
   "execution_count": null,
   "metadata": {},
   "outputs": [],
   "source": [
    "f = open(\"C:\\\\Users\\\\micka\\\\Documents\\\\Espace_perso\\\\Études\\\\Formation\\\\Machine_learning \\\n",
    "            \\\\location_velo\\\\bike_location\\\\notebooks\\\\mickael\\\\sunrise_sunset.txt\")\n",
    "text = f.read()\n",
    "f.close()\n",
    "print(text)"
   ]
  },
  {
   "cell_type": "code",
   "execution_count": 23,
   "metadata": {},
   "outputs": [],
   "source": [
    "sunrise_sunset_data = eval(text)\n",
    "sunrise_sunset_dict_list = []\n",
    "for i in range(len(sunrise_sunset_data)):\n",
    "    sunrise_sunset_dict_list.append(sunrise_sunset_data[i]['results'])"
   ]
  },
  {
   "cell_type": "code",
   "execution_count": 25,
   "metadata": {},
   "outputs": [
    {
     "data": {
      "text/plain": [
       "'12:25:12 PM'"
      ]
     },
     "execution_count": 25,
     "metadata": {},
     "output_type": "execute_result"
    }
   ],
   "source": [
    "sunrise_sunset_dict_list[0]['sunrise']"
   ]
  },
  {
   "cell_type": "code",
   "execution_count": 102,
   "metadata": {},
   "outputs": [],
   "source": [
    "def sunrise_sunset_dict(sunrise_sunset_dict_list,j):\n",
    "    sunrise_sunset_dict = {'date': 0, 'sunrise': 0, 'sunset': 0}\n",
    "    for i in range(len(sunrise_sunset_dict_list)):\n",
    "        sunrise_sunset_dict['date'] = dates[j]\n",
    "        sunrise_sunset_dict['sunrise'] = (pd.to_datetime(sunrise_sunset_dict_list[j]['sunrise']) - relativedelta(hours = 4)).strftime('%H:%M:%S')\n",
    "        sunrise_sunset_dict['sunset'] = (pd.to_datetime(sunrise_sunset_dict_list[j]['sunset']) - relativedelta(hours = 4)).strftime('%H:%M:%S')\n",
    "    return sunrise_sunset_dict\n",
    "\n",
    "sunrise_sunset = [sunrise_sunset_dict(sunrise_sunset_dict_list,i) for i in range(len(sunrise_sunset_dict_list))]\n"
   ]
  },
  {
   "cell_type": "code",
   "execution_count": 117,
   "metadata": {},
   "outputs": [
    {
     "data": {
      "text/plain": [
       "Timestamp('2022-04-01 20:00:27')"
      ]
     },
     "execution_count": 117,
     "metadata": {},
     "output_type": "execute_result"
    }
   ],
   "source": [
    "pd.to_datetime(sunrise_sunset_dict_list[5]['sunset']) - relativedelta(hours = 2, minutes=2)"
   ]
  },
  {
   "cell_type": "code",
   "execution_count": 118,
   "metadata": {},
   "outputs": [],
   "source": [
    "with open('C:\\\\Users\\\\micka\\\\Documents\\\\Espace_perso\\\\Études\\\\Formation\\\\Machine_learning \\\n",
    "             \\\\location_velo\\\\bike_location\\\\notebooks\\\\mickael\\\\sunrise_sunset_modifie.txt','w') as file:\n",
    "    file.write(str(sunrise_sunset))"
   ]
  }
 ],
 "metadata": {
  "interpreter": {
   "hash": "a4cc5ee3c947b0b2a63d6883ad81518e39249fafcf5464e6304ea0291cc4de25"
  },
  "kernelspec": {
   "display_name": "Python 3.9.7 ('mv')",
   "language": "python",
   "name": "python3"
  },
  "language_info": {
   "codemirror_mode": {
    "name": "ipython",
    "version": 3
   },
   "file_extension": ".py",
   "mimetype": "text/x-python",
   "name": "python",
   "nbconvert_exporter": "python",
   "pygments_lexer": "ipython3",
   "version": "3.9.7"
  },
  "orig_nbformat": 4
 },
 "nbformat": 4,
 "nbformat_minor": 2
}
